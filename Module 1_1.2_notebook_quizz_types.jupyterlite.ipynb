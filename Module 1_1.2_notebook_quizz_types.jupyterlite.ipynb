{
  "metadata": {
    "kernelspec": {
      "name": "python",
      "display_name": "Pyolite",
      "language": "python"
    },
    "language_info": {
      "codemirror_mode": {
        "name": "python",
        "version": 3
      },
      "file_extension": ".py",
      "mimetype": "text/x-python",
      "name": "python",
      "nbconvert_exporter": "python",
      "pygments_lexer": "ipython3",
      "version": "3.8"
    }
  },
  "nbformat_minor": 4,
  "nbformat": 4,
  "cells": [
    {
      "cell_type": "markdown",
      "source": "<h3> EJERCICIOS DEL QUIZZ QUE HICE</h3>\n",
      "metadata": {}
    },
    {
      "cell_type": "markdown",
      "source": "Find the type of the following using the <code>type</code> command:\n",
      "metadata": {}
    },
    {
      "cell_type": "code",
      "source": "\"Hello World\"",
      "metadata": {
        "trusted": true
      },
      "execution_count": null,
      "outputs": []
    },
    {
      "cell_type": "code",
      "source": "type (\"Hello World\")",
      "metadata": {
        "trusted": true
      },
      "execution_count": 1,
      "outputs": [
        {
          "execution_count": 1,
          "output_type": "execute_result",
          "data": {
            "text/plain": "str"
          },
          "metadata": {}
        }
      ]
    },
    {
      "cell_type": "markdown",
      "source": "<h3>Type Casting</h3> \n",
      "metadata": {}
    },
    {
      "cell_type": "markdown",
      "source": "Find the type of the following using the <code>type</code> command:\n",
      "metadata": {}
    },
    {
      "cell_type": "code",
      "source": "\"1.1\"\ntype (\"1.1\")",
      "metadata": {
        "trusted": true
      },
      "execution_count": 4,
      "outputs": [
        {
          "execution_count": 4,
          "output_type": "execute_result",
          "data": {
            "text/plain": "str"
          },
          "metadata": {}
        }
      ]
    },
    {
      "cell_type": "markdown",
      "source": "<h3>Is a Number Always a Number?\n</h3> \n",
      "metadata": {}
    },
    {
      "cell_type": "markdown",
      "source": "Cast the following to an <code>int</code> and then to a <code>bool</code>:\n",
      "metadata": {}
    },
    {
      "cell_type": "code",
      "source": "\"1\"\nprint(int(\"1\"))\nprint(bool(\"1\"))",
      "metadata": {
        "trusted": true
      },
      "execution_count": 5,
      "outputs": [
        {
          "name": "stdout",
          "text": "1\nTrue\n",
          "output_type": "stream"
        }
      ]
    }
  ]
}