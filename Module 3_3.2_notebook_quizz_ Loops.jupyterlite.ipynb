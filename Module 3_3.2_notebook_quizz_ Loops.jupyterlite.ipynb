{
  "metadata": {
    "kernelspec": {
      "name": "python",
      "display_name": "Pyolite",
      "language": "python"
    },
    "language_info": {
      "codemirror_mode": {
        "name": "python",
        "version": 3
      },
      "file_extension": ".py",
      "mimetype": "text/x-python",
      "name": "python",
      "nbconvert_exporter": "python",
      "pygments_lexer": "ipython3",
      "version": "3.8"
    }
  },
  "nbformat_minor": 4,
  "nbformat": 4,
  "cells": [
    {
      "cell_type": "markdown",
      "source": "<h3>LOS QUIZZES Y EJERCICIOS LOS HICE EN LAB DEL CURSO IBM</h3>\n\n<h3>For Loops </h3> \n",
      "metadata": {}
    },
    {
      "cell_type": "markdown",
      "source": "Use loops to print out the elements in the list <code>A</code>:\n",
      "metadata": {}
    },
    {
      "cell_type": "code",
      "source": "A=[3,4,5]\n",
      "metadata": {
        "trusted": true
      },
      "execution_count": 7,
      "outputs": []
    },
    {
      "cell_type": "code",
      "source": "for a in A:\n    print (a)",
      "metadata": {
        "trusted": true
      },
      "execution_count": 8,
      "outputs": [
        {
          "name": "stdout",
          "text": "3\n4\n5\n",
          "output_type": "stream"
        }
      ]
    },
    {
      "cell_type": "markdown",
      "source": "<h3>While Loops</h3> \n",
      "metadata": {}
    },
    {
      "cell_type": "markdown",
      "source": "Find the value of <code> x </code> that will print out the sequence <code> 1,2,..,10 </code>:\n",
      "metadata": {}
    },
    {
      "cell_type": "code",
      "source": "x=\ny=1\nwhile(y != x):\n    print(y)\n    y=y+1",
      "metadata": {
        "trusted": true
      },
      "execution_count": null,
      "outputs": []
    },
    {
      "cell_type": "code",
      "source": "x=11\ny=1\nwhile (y!= x):\n    print (y)\n    y=y+1\n    ",
      "metadata": {
        "trusted": true
      },
      "execution_count": 5,
      "outputs": [
        {
          "name": "stdout",
          "text": "1\n2\n3\n4\n5\n6\n7\n8\n9\n10\n",
          "output_type": "stream"
        }
      ]
    }
  ]
}