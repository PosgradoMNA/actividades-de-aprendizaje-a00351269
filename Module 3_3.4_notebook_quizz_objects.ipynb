{
  "metadata": {
    "kernelspec": {
      "name": "python",
      "display_name": "Pyolite",
      "language": "python"
    },
    "language_info": {
      "codemirror_mode": {
        "name": "python",
        "version": 3
      },
      "file_extension": ".py",
      "mimetype": "text/x-python",
      "name": "python",
      "nbconvert_exporter": "python",
      "pygments_lexer": "ipython3",
      "version": "3.8"
    }
  },
  "nbformat_minor": 4,
  "nbformat": 4,
  "cells": [
    {
      "cell_type": "markdown",
      "source": "<h3>LOS QUIZZES Y EJERCICIOS LOS HICE EN LAB DEL CURSO IBM</h3>\n\nYou will need the class Car for the next exercises. The class Car has four data attributes: make, model, colour and number of owners (owner_number). The method <code> car_info() </code>  prints out the data attributes and the method <code>sell()</code> increments the number of owners by 1.\n",
      "metadata": {}
    },
    {
      "cell_type": "code",
      "source": "class Car(object):\n    def __init__(self,make,model,color):\n        self.make=make;\n        self.model=model;\n        self.color=color;\n        self.owner_number=0 \n    def car_info(self):\n        print(\"make: \",self.make)\n        print(\"model:\", self.model)\n        print(\"color:\",self.color)\n        print(\"number of owners:\",self.owner_number)\n    def sell(self):\n        self.owner_number=self.owner_number+1",
      "metadata": {
        "trusted": true
      },
      "execution_count": 1,
      "outputs": []
    },
    {
      "cell_type": "markdown",
      "source": "<h3> Create a Car Object </h3>\n",
      "metadata": {}
    },
    {
      "cell_type": "markdown",
      "source": "Create a <code> Car </code> object \"my_car\" with the given data attributes:\n",
      "metadata": {}
    },
    {
      "cell_type": "code",
      "source": "make=\"BMW\"\nmodel=\"M3\"\ncolor=\"red\"\n\n",
      "metadata": {
        "trusted": true
      },
      "execution_count": 2,
      "outputs": []
    },
    {
      "cell_type": "code",
      "source": "my_car = Car(\"BMW\",\"M3\",\"red\")\nmy_car.car_info()\n\n",
      "metadata": {
        "trusted": true
      },
      "execution_count": 3,
      "outputs": [
        {
          "name": "stdout",
          "text": "make:  BMW\nmodel: M3\ncolor: red\nnumber of owners: 0\n",
          "output_type": "stream"
        }
      ]
    },
    {
      "cell_type": "markdown",
      "source": "<h3> Data Attributes </h3>\n",
      "metadata": {}
    },
    {
      "cell_type": "markdown",
      "source": "Use the method `car_info()` to print out the data attributes.\n",
      "metadata": {}
    },
    {
      "cell_type": "code",
      "source": "my_car.car_info()",
      "metadata": {
        "trusted": true
      },
      "execution_count": 9,
      "outputs": [
        {
          "name": "stdout",
          "text": "make:  BMW\nmodel: M3\ncolor: red\nnumber of owners: 0\n",
          "output_type": "stream"
        }
      ]
    },
    {
      "cell_type": "markdown",
      "source": "<h3> Methods  </h3>\n",
      "metadata": {}
    },
    {
      "cell_type": "markdown",
      "source": "Call the method <code> sell() </code> in the loop, then call the method <code> car_info()</code> again\n",
      "metadata": {}
    },
    {
      "cell_type": "code",
      "source": "for i in range(5):\n    my_car.sell()\nmy_car.car_info()\n\n    \n",
      "metadata": {
        "trusted": true
      },
      "execution_count": 4,
      "outputs": [
        {
          "name": "stdout",
          "text": "make:  BMW\nmodel: M3\ncolor: red\nnumber of owners: 5\n",
          "output_type": "stream"
        }
      ]
    }
  ]
}