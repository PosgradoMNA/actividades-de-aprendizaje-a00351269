{
  "nbformat": 4,
  "nbformat_minor": 0,
  "metadata": {
    "kernelspec": {
      "display_name": "Python 3",
      "language": "python",
      "name": "python3"
    },
    "language_info": {
      "codemirror_mode": {
        "name": "ipython",
        "version": 3
      },
      "file_extension": ".py",
      "mimetype": "text/x-python",
      "name": "python",
      "nbconvert_exporter": "python",
      "pygments_lexer": "ipython3",
      "version": "3.7.7"
    },
    "colab": {
      "provenance": [],
      "include_colab_link": true
    },
    "accelerator": "GPU"
  },
  "cells": [
    {
      "cell_type": "markdown",
      "metadata": {
        "id": "view-in-github",
        "colab_type": "text"
      },
      "source": [
        "<a href=\"https://colab.research.google.com/github/PosgradoMNA/actividades-de-aprendizaje-a00351269/blob/main/Actividad_Semanal--7_Regresiones.ipynb\" target=\"_parent\"><img src=\"https://colab.research.google.com/assets/colab-badge.svg\" alt=\"Open In Colab\"/></a>"
      ]
    },
    {
      "cell_type": "code",
      "metadata": {
        "id": "HMp_I4Y6VQwN"
      },
      "source": [
        "import numpy as np\n",
        "import matplotlib.pyplot as plt\n",
        "import pandas as pd\n",
        "import seaborn as sns\n",
        "from sklearn.linear_model import LinearRegression\n",
        "from sklearn.model_selection import train_test_split\n",
        "from sklearn import metrics\n",
        "from sklearn.metrics import r2_score\n",
        "from sklearn.metrics import mean_squared_error\n",
        "from sklearn.metrics import mean_absolute_error\n",
        "from sklearn.metrics import mean_absolute_percentage_error\n",
        "from sklearn.preprocessing import PolynomialFeatures\n",
        "from sklearn.linear_model import Ridge\n",
        "from sklearn.linear_model import Lasso\n",
        "from sklearn.model_selection import GridSearchCV\n",
        "from sklearn.model_selection import RepeatedKFold\n",
        "\n",
        "\n",
        "# to make this notebook's output stable across runs\n",
        "np.random.seed(42)"
      ],
      "execution_count": null,
      "outputs": []
    },
    {
      "cell_type": "markdown",
      "metadata": {
        "id": "nTKFj4x9LMXm"
      },
      "source": [
        "\n",
        "\n",
        "#Ejercicio 1. Costo en la industria de manufactura. \n",
        "##Ahora realizaremos los ejercicios de regresión utilizando una parte para entrenar y otra para evaluar.\n",
        "\n",
        "\n",
        "###1.- Divide los datos del costo de manufactura. \n",
        "\n",
        "###Utiliza la función train_test_split (viene el ejemplo al final del notebook)\n",
        "\n",
        "2.- Regresion Lineal.\n",
        "\n",
        "Realiza la regresión lineal: modelo generado (ecuación), su visualización, sus errores y r cuadrada.\n",
        "\n",
        "\n",
        "3.- Regresión Polinomial.\n",
        "\n",
        "Realiza la  regresión polinomial completa, tu modelo generado (ecuación), su visualización, sus errores y r cuadrada.\n",
        "\n",
        "\n",
        "4.- Realiza la regresión con Ridge y Lasso. Incluye la ecuación de tu modelo, visualización , errores y r cuadrada.\n",
        "\n",
        "\n",
        "5.- Finalmente grafica :\n",
        "MAE (de los cuatro métodos)\n",
        "R2 (de los cuatro métodos)\n",
        "\n",
        "6.- Explica tus resultados, que método conviene más a la empresa, ¿por que?, ¿que porcentajes de entrenamiento y evaluación?, ¿que error tienes?, ¿es bueno?, ¿cómo lo sabes?\n",
        "\n",
        "\n",
        "\n"
      ]
    },
    {
      "cell_type": "code",
      "metadata": {
        "colab": {
          "base_uri": "https://localhost:8080/",
          "height": 363
        },
        "id": "oTnErQOkL3oa",
        "outputId": "71746d85-3647-4893-c6b5-0ca4cb0737d1"
      },
      "source": [
        "import pandas as pd\n",
        "df = pd.read_csv('https://raw.githubusercontent.com/marypazrf/bdd/main/EconomiesOfScale.csv')# leemos a un dataframe la informacion\n",
        "df.sample(10)"
      ],
      "execution_count": null,
      "outputs": [
        {
          "output_type": "execute_result",
          "data": {
            "text/plain": [
              "     Number of Units  Manufacturing Cost\n",
              "434         4.235860           41.403990\n",
              "47          2.218826           61.093235\n",
              "97          2.763321           63.478275\n",
              "397         4.126858           50.108522\n",
              "575         4.688092           48.512880\n",
              "739         5.289438           37.255202\n",
              "828         5.641296           26.648139\n",
              "706         5.193377           35.236973\n",
              "316         3.865207           41.125125\n",
              "72          2.575527           53.388272"
            ],
            "text/html": [
              "\n",
              "  <div id=\"df-e5ba471a-a363-4f74-8947-36cea2de559c\">\n",
              "    <div class=\"colab-df-container\">\n",
              "      <div>\n",
              "<style scoped>\n",
              "    .dataframe tbody tr th:only-of-type {\n",
              "        vertical-align: middle;\n",
              "    }\n",
              "\n",
              "    .dataframe tbody tr th {\n",
              "        vertical-align: top;\n",
              "    }\n",
              "\n",
              "    .dataframe thead th {\n",
              "        text-align: right;\n",
              "    }\n",
              "</style>\n",
              "<table border=\"1\" class=\"dataframe\">\n",
              "  <thead>\n",
              "    <tr style=\"text-align: right;\">\n",
              "      <th></th>\n",
              "      <th>Number of Units</th>\n",
              "      <th>Manufacturing Cost</th>\n",
              "    </tr>\n",
              "  </thead>\n",
              "  <tbody>\n",
              "    <tr>\n",
              "      <th>434</th>\n",
              "      <td>4.235860</td>\n",
              "      <td>41.403990</td>\n",
              "    </tr>\n",
              "    <tr>\n",
              "      <th>47</th>\n",
              "      <td>2.218826</td>\n",
              "      <td>61.093235</td>\n",
              "    </tr>\n",
              "    <tr>\n",
              "      <th>97</th>\n",
              "      <td>2.763321</td>\n",
              "      <td>63.478275</td>\n",
              "    </tr>\n",
              "    <tr>\n",
              "      <th>397</th>\n",
              "      <td>4.126858</td>\n",
              "      <td>50.108522</td>\n",
              "    </tr>\n",
              "    <tr>\n",
              "      <th>575</th>\n",
              "      <td>4.688092</td>\n",
              "      <td>48.512880</td>\n",
              "    </tr>\n",
              "    <tr>\n",
              "      <th>739</th>\n",
              "      <td>5.289438</td>\n",
              "      <td>37.255202</td>\n",
              "    </tr>\n",
              "    <tr>\n",
              "      <th>828</th>\n",
              "      <td>5.641296</td>\n",
              "      <td>26.648139</td>\n",
              "    </tr>\n",
              "    <tr>\n",
              "      <th>706</th>\n",
              "      <td>5.193377</td>\n",
              "      <td>35.236973</td>\n",
              "    </tr>\n",
              "    <tr>\n",
              "      <th>316</th>\n",
              "      <td>3.865207</td>\n",
              "      <td>41.125125</td>\n",
              "    </tr>\n",
              "    <tr>\n",
              "      <th>72</th>\n",
              "      <td>2.575527</td>\n",
              "      <td>53.388272</td>\n",
              "    </tr>\n",
              "  </tbody>\n",
              "</table>\n",
              "</div>\n",
              "      <button class=\"colab-df-convert\" onclick=\"convertToInteractive('df-e5ba471a-a363-4f74-8947-36cea2de559c')\"\n",
              "              title=\"Convert this dataframe to an interactive table.\"\n",
              "              style=\"display:none;\">\n",
              "        \n",
              "  <svg xmlns=\"http://www.w3.org/2000/svg\" height=\"24px\"viewBox=\"0 0 24 24\"\n",
              "       width=\"24px\">\n",
              "    <path d=\"M0 0h24v24H0V0z\" fill=\"none\"/>\n",
              "    <path d=\"M18.56 5.44l.94 2.06.94-2.06 2.06-.94-2.06-.94-.94-2.06-.94 2.06-2.06.94zm-11 1L8.5 8.5l.94-2.06 2.06-.94-2.06-.94L8.5 2.5l-.94 2.06-2.06.94zm10 10l.94 2.06.94-2.06 2.06-.94-2.06-.94-.94-2.06-.94 2.06-2.06.94z\"/><path d=\"M17.41 7.96l-1.37-1.37c-.4-.4-.92-.59-1.43-.59-.52 0-1.04.2-1.43.59L10.3 9.45l-7.72 7.72c-.78.78-.78 2.05 0 2.83L4 21.41c.39.39.9.59 1.41.59.51 0 1.02-.2 1.41-.59l7.78-7.78 2.81-2.81c.8-.78.8-2.07 0-2.86zM5.41 20L4 18.59l7.72-7.72 1.47 1.35L5.41 20z\"/>\n",
              "  </svg>\n",
              "      </button>\n",
              "      \n",
              "  <style>\n",
              "    .colab-df-container {\n",
              "      display:flex;\n",
              "      flex-wrap:wrap;\n",
              "      gap: 12px;\n",
              "    }\n",
              "\n",
              "    .colab-df-convert {\n",
              "      background-color: #E8F0FE;\n",
              "      border: none;\n",
              "      border-radius: 50%;\n",
              "      cursor: pointer;\n",
              "      display: none;\n",
              "      fill: #1967D2;\n",
              "      height: 32px;\n",
              "      padding: 0 0 0 0;\n",
              "      width: 32px;\n",
              "    }\n",
              "\n",
              "    .colab-df-convert:hover {\n",
              "      background-color: #E2EBFA;\n",
              "      box-shadow: 0px 1px 2px rgba(60, 64, 67, 0.3), 0px 1px 3px 1px rgba(60, 64, 67, 0.15);\n",
              "      fill: #174EA6;\n",
              "    }\n",
              "\n",
              "    [theme=dark] .colab-df-convert {\n",
              "      background-color: #3B4455;\n",
              "      fill: #D2E3FC;\n",
              "    }\n",
              "\n",
              "    [theme=dark] .colab-df-convert:hover {\n",
              "      background-color: #434B5C;\n",
              "      box-shadow: 0px 1px 3px 1px rgba(0, 0, 0, 0.15);\n",
              "      filter: drop-shadow(0px 1px 2px rgba(0, 0, 0, 0.3));\n",
              "      fill: #FFFFFF;\n",
              "    }\n",
              "  </style>\n",
              "\n",
              "      <script>\n",
              "        const buttonEl =\n",
              "          document.querySelector('#df-e5ba471a-a363-4f74-8947-36cea2de559c button.colab-df-convert');\n",
              "        buttonEl.style.display =\n",
              "          google.colab.kernel.accessAllowed ? 'block' : 'none';\n",
              "\n",
              "        async function convertToInteractive(key) {\n",
              "          const element = document.querySelector('#df-e5ba471a-a363-4f74-8947-36cea2de559c');\n",
              "          const dataTable =\n",
              "            await google.colab.kernel.invokeFunction('convertToInteractive',\n",
              "                                                     [key], {});\n",
              "          if (!dataTable) return;\n",
              "\n",
              "          const docLinkHtml = 'Like what you see? Visit the ' +\n",
              "            '<a target=\"_blank\" href=https://colab.research.google.com/notebooks/data_table.ipynb>data table notebook</a>'\n",
              "            + ' to learn more about interactive tables.';\n",
              "          element.innerHTML = '';\n",
              "          dataTable['output_type'] = 'display_data';\n",
              "          await google.colab.output.renderOutput(dataTable, element);\n",
              "          const docLink = document.createElement('div');\n",
              "          docLink.innerHTML = docLinkHtml;\n",
              "          element.appendChild(docLink);\n",
              "        }\n",
              "      </script>\n",
              "    </div>\n",
              "  </div>\n",
              "  "
            ]
          },
          "metadata": {},
          "execution_count": 262
        }
      ]
    },
    {
      "cell_type": "code",
      "source": [
        "df.describe()#la informacion estadistica resumida de cada columna"
      ],
      "metadata": {
        "colab": {
          "base_uri": "https://localhost:8080/",
          "height": 300
        },
        "id": "xaBbSky8GPx7",
        "outputId": "3c35c141-e760-4f05-cbc1-327bb3082caf"
      },
      "execution_count": null,
      "outputs": [
        {
          "output_type": "execute_result",
          "data": {
            "text/plain": [
              "       Number of Units  Manufacturing Cost\n",
              "count      1000.000000         1000.000000\n",
              "mean          4.472799           40.052999\n",
              "std           1.336241           10.595322\n",
              "min           1.000000           20.000000\n",
              "25%           3.594214           32.912036\n",
              "50%           4.435958           38.345781\n",
              "75%           5.324780           44.531822\n",
              "max          10.000000          100.000000"
            ],
            "text/html": [
              "\n",
              "  <div id=\"df-4e828e72-8ab5-41e2-9935-2b2fb13e692e\">\n",
              "    <div class=\"colab-df-container\">\n",
              "      <div>\n",
              "<style scoped>\n",
              "    .dataframe tbody tr th:only-of-type {\n",
              "        vertical-align: middle;\n",
              "    }\n",
              "\n",
              "    .dataframe tbody tr th {\n",
              "        vertical-align: top;\n",
              "    }\n",
              "\n",
              "    .dataframe thead th {\n",
              "        text-align: right;\n",
              "    }\n",
              "</style>\n",
              "<table border=\"1\" class=\"dataframe\">\n",
              "  <thead>\n",
              "    <tr style=\"text-align: right;\">\n",
              "      <th></th>\n",
              "      <th>Number of Units</th>\n",
              "      <th>Manufacturing Cost</th>\n",
              "    </tr>\n",
              "  </thead>\n",
              "  <tbody>\n",
              "    <tr>\n",
              "      <th>count</th>\n",
              "      <td>1000.000000</td>\n",
              "      <td>1000.000000</td>\n",
              "    </tr>\n",
              "    <tr>\n",
              "      <th>mean</th>\n",
              "      <td>4.472799</td>\n",
              "      <td>40.052999</td>\n",
              "    </tr>\n",
              "    <tr>\n",
              "      <th>std</th>\n",
              "      <td>1.336241</td>\n",
              "      <td>10.595322</td>\n",
              "    </tr>\n",
              "    <tr>\n",
              "      <th>min</th>\n",
              "      <td>1.000000</td>\n",
              "      <td>20.000000</td>\n",
              "    </tr>\n",
              "    <tr>\n",
              "      <th>25%</th>\n",
              "      <td>3.594214</td>\n",
              "      <td>32.912036</td>\n",
              "    </tr>\n",
              "    <tr>\n",
              "      <th>50%</th>\n",
              "      <td>4.435958</td>\n",
              "      <td>38.345781</td>\n",
              "    </tr>\n",
              "    <tr>\n",
              "      <th>75%</th>\n",
              "      <td>5.324780</td>\n",
              "      <td>44.531822</td>\n",
              "    </tr>\n",
              "    <tr>\n",
              "      <th>max</th>\n",
              "      <td>10.000000</td>\n",
              "      <td>100.000000</td>\n",
              "    </tr>\n",
              "  </tbody>\n",
              "</table>\n",
              "</div>\n",
              "      <button class=\"colab-df-convert\" onclick=\"convertToInteractive('df-4e828e72-8ab5-41e2-9935-2b2fb13e692e')\"\n",
              "              title=\"Convert this dataframe to an interactive table.\"\n",
              "              style=\"display:none;\">\n",
              "        \n",
              "  <svg xmlns=\"http://www.w3.org/2000/svg\" height=\"24px\"viewBox=\"0 0 24 24\"\n",
              "       width=\"24px\">\n",
              "    <path d=\"M0 0h24v24H0V0z\" fill=\"none\"/>\n",
              "    <path d=\"M18.56 5.44l.94 2.06.94-2.06 2.06-.94-2.06-.94-.94-2.06-.94 2.06-2.06.94zm-11 1L8.5 8.5l.94-2.06 2.06-.94-2.06-.94L8.5 2.5l-.94 2.06-2.06.94zm10 10l.94 2.06.94-2.06 2.06-.94-2.06-.94-.94-2.06-.94 2.06-2.06.94z\"/><path d=\"M17.41 7.96l-1.37-1.37c-.4-.4-.92-.59-1.43-.59-.52 0-1.04.2-1.43.59L10.3 9.45l-7.72 7.72c-.78.78-.78 2.05 0 2.83L4 21.41c.39.39.9.59 1.41.59.51 0 1.02-.2 1.41-.59l7.78-7.78 2.81-2.81c.8-.78.8-2.07 0-2.86zM5.41 20L4 18.59l7.72-7.72 1.47 1.35L5.41 20z\"/>\n",
              "  </svg>\n",
              "      </button>\n",
              "      \n",
              "  <style>\n",
              "    .colab-df-container {\n",
              "      display:flex;\n",
              "      flex-wrap:wrap;\n",
              "      gap: 12px;\n",
              "    }\n",
              "\n",
              "    .colab-df-convert {\n",
              "      background-color: #E8F0FE;\n",
              "      border: none;\n",
              "      border-radius: 50%;\n",
              "      cursor: pointer;\n",
              "      display: none;\n",
              "      fill: #1967D2;\n",
              "      height: 32px;\n",
              "      padding: 0 0 0 0;\n",
              "      width: 32px;\n",
              "    }\n",
              "\n",
              "    .colab-df-convert:hover {\n",
              "      background-color: #E2EBFA;\n",
              "      box-shadow: 0px 1px 2px rgba(60, 64, 67, 0.3), 0px 1px 3px 1px rgba(60, 64, 67, 0.15);\n",
              "      fill: #174EA6;\n",
              "    }\n",
              "\n",
              "    [theme=dark] .colab-df-convert {\n",
              "      background-color: #3B4455;\n",
              "      fill: #D2E3FC;\n",
              "    }\n",
              "\n",
              "    [theme=dark] .colab-df-convert:hover {\n",
              "      background-color: #434B5C;\n",
              "      box-shadow: 0px 1px 3px 1px rgba(0, 0, 0, 0.15);\n",
              "      filter: drop-shadow(0px 1px 2px rgba(0, 0, 0, 0.3));\n",
              "      fill: #FFFFFF;\n",
              "    }\n",
              "  </style>\n",
              "\n",
              "      <script>\n",
              "        const buttonEl =\n",
              "          document.querySelector('#df-4e828e72-8ab5-41e2-9935-2b2fb13e692e button.colab-df-convert');\n",
              "        buttonEl.style.display =\n",
              "          google.colab.kernel.accessAllowed ? 'block' : 'none';\n",
              "\n",
              "        async function convertToInteractive(key) {\n",
              "          const element = document.querySelector('#df-4e828e72-8ab5-41e2-9935-2b2fb13e692e');\n",
              "          const dataTable =\n",
              "            await google.colab.kernel.invokeFunction('convertToInteractive',\n",
              "                                                     [key], {});\n",
              "          if (!dataTable) return;\n",
              "\n",
              "          const docLinkHtml = 'Like what you see? Visit the ' +\n",
              "            '<a target=\"_blank\" href=https://colab.research.google.com/notebooks/data_table.ipynb>data table notebook</a>'\n",
              "            + ' to learn more about interactive tables.';\n",
              "          element.innerHTML = '';\n",
              "          dataTable['output_type'] = 'display_data';\n",
              "          await google.colab.output.renderOutput(dataTable, element);\n",
              "          const docLink = document.createElement('div');\n",
              "          docLink.innerHTML = docLinkHtml;\n",
              "          element.appendChild(docLink);\n",
              "        }\n",
              "      </script>\n",
              "    </div>\n",
              "  </div>\n",
              "  "
            ]
          },
          "metadata": {},
          "execution_count": 263
        }
      ]
    },
    {
      "cell_type": "code",
      "metadata": {
        "id": "14kGO5nkMGlV"
      },
      "source": [
        "X = df[['Number of Units']]\n",
        "y = df['Manufacturing Cost']"
      ],
      "execution_count": null,
      "outputs": []
    },
    {
      "cell_type": "code",
      "source": [
        "plt.plot(X,y,'b.')#vemos el grafico de los datos X,y"
      ],
      "metadata": {
        "colab": {
          "base_uri": "https://localhost:8080/",
          "height": 282
        },
        "id": "TszGw8mcK2gJ",
        "outputId": "66a05338-903d-4cd4-a893-ff4799bbd7c0"
      },
      "execution_count": null,
      "outputs": [
        {
          "output_type": "execute_result",
          "data": {
            "text/plain": [
              "[<matplotlib.lines.Line2D at 0x7f2f1d4e8050>]"
            ]
          },
          "metadata": {},
          "execution_count": 153
        },
        {
          "output_type": "display_data",
          "data": {
            "text/plain": [
              "<Figure size 432x288 with 1 Axes>"
            ],
            "image/png": "[encoded data removed]"
          },
          "metadata": {
            "needs_background": "light"
          }
        }
      ]
    },
    {
      "cell_type": "markdown",
      "source": [
        "1.- Realizamos la particion :"
      ],
      "metadata": {
        "id": "tQA5gPmyKfvA"
      }
    },
    {
      "cell_type": "code",
      "source": [
        "Xtv, Xtest, ytv, ytest = train_test_split(X, y, test_size=0.20,random_state=0)\n"
      ],
      "metadata": {
        "id": "PmthISP7KjL1"
      },
      "execution_count": null,
      "outputs": []
    },
    {
      "cell_type": "code",
      "source": [
        "print(Xtv.shape, Xtest.shape, ytv.shape, ytest.shape)"
      ],
      "metadata": {
        "id": "ksh_OrkjY3GW",
        "outputId": "afd0a964-44e7-4e01-bfc7-24ee4715b0bd",
        "colab": {
          "base_uri": "https://localhost:8080/"
        }
      },
      "execution_count": null,
      "outputs": [
        {
          "output_type": "stream",
          "name": "stdout",
          "text": [
            "(800, 1) (200, 1) (800,) (200,)\n"
          ]
        }
      ]
    },
    {
      "cell_type": "markdown",
      "source": [
        "###2.- Regresion Lineal.\n",
        "\n",
        "Realiza la regresión lineal: modelo generado (ecuación), su visualización, sus errores y r cuadrada."
      ],
      "metadata": {
        "id": "P59MfDtBLgVW"
      }
    },
    {
      "cell_type": "code",
      "source": [
        "modelo = LinearRegression(fit_intercept=True)\n",
        "modelo.fit(Xtv, ytv)"
      ],
      "metadata": {
        "id": "kMmOy97puOLE",
        "colab": {
          "base_uri": "https://localhost:8080/"
        },
        "outputId": "dffc97b4-fdf6-4d89-ae55-e945adc52db8"
      },
      "execution_count": null,
      "outputs": [
        {
          "output_type": "execute_result",
          "data": {
            "text/plain": [
              "LinearRegression()"
            ]
          },
          "metadata": {},
          "execution_count": 267
        }
      ]
    },
    {
      "cell_type": "markdown",
      "source": [
        "Estos son los coeficientes y el intercept:"
      ],
      "metadata": {
        "id": "KFiabThETncI"
      }
    },
    {
      "cell_type": "code",
      "source": [
        "print(\"Model slope:    \", modelo.coef_[0])\n",
        "print(\"Model intercept:\", modelo.intercept_)"
      ],
      "metadata": {
        "colab": {
          "base_uri": "https://localhost:8080/"
        },
        "id": "cGKaTSZKTvyh",
        "outputId": "53182d4a-eeab-40a9-e99d-298e3eb9f0c2"
      },
      "execution_count": null,
      "outputs": [
        {
          "output_type": "stream",
          "name": "stdout",
          "text": [
            "Model slope:     -6.123962526222854\n",
            "Model intercept: 67.51699929483895\n"
          ]
        }
      ]
    },
    {
      "cell_type": "markdown",
      "source": [
        "\n",
        "La ecuacion del modelo queda asi:\n",
        "\n",
        "\n",
        "$\\hat{y} =  -6.124X +67.517$"
      ],
      "metadata": {
        "id": "QuBXsh-feeZu"
      }
    },
    {
      "cell_type": "markdown",
      "source": [
        "Así veamos la visualizacion:"
      ],
      "metadata": {
        "id": "q8HQ4rxUVwKc"
      }
    },
    {
      "cell_type": "code",
      "source": [
        "X_fit = np.linspace(1, 10, 100)\n",
        "y_fit = modelo.predict(X_fit[:, np.newaxis])\n",
        "\n",
        "plt.scatter(X, y)\n",
        "plt.plot(X_fit, y_fit, \"r-\", linewidth=2, label=\"Predictions\")\n",
        "plt.xlabel('Number of Units', fontsize=12)\n",
        "plt.ylabel('Manufacturing Cost', fontsize=12)\n",
        "plt.legend(loc=\"upper left\", fontsize=12);"
      ],
      "metadata": {
        "colab": {
          "base_uri": "https://localhost:8080/",
          "height": 317
        },
        "id": "2SVepdOIVbGZ",
        "outputId": "9dd057a5-a122-4771-8944-9b466a845db3"
      },
      "execution_count": null,
      "outputs": [
        {
          "output_type": "stream",
          "name": "stderr",
          "text": [
            "/usr/local/lib/python3.7/dist-packages/sklearn/base.py:451: UserWarning: X does not have valid feature names, but LinearRegression was fitted with feature names\n",
            "  \"X does not have valid feature names, but\"\n"
          ]
        },
        {
          "output_type": "display_data",
          "data": {
            "text/plain": [
              "<Figure size 432x288 with 1 Axes>"
            ],
            "image/png": "[encoded data removed]"
          },
          "metadata": {
            "needs_background": "light"
          }
        }
      ]
    },
    {
      "cell_type": "markdown",
      "source": [
        "Ahora obtenemos la siguientes metricas:"
      ],
      "metadata": {
        "id": "7E9ynoRJPA8z"
      }
    },
    {
      "cell_type": "code",
      "source": [
        "y_pred=modelo.predict(Xtest)"
      ],
      "metadata": {
        "id": "vV1bMKGOSITG"
      },
      "execution_count": null,
      "outputs": []
    },
    {
      "cell_type": "code",
      "source": [
        "resultados={}\n",
        "resultados['LR lineal']=[mean_absolute_error(ytest, y_pred),mean_squared_error(ytest, y_pred, squared=False), r2_score(ytest, y_pred)]"
      ],
      "metadata": {
        "id": "LPl53OEYPbx0"
      },
      "execution_count": null,
      "outputs": []
    },
    {
      "cell_type": "code",
      "metadata": {
        "id": "-VDz4zLK9Q0K",
        "outputId": "5d22395c-f727-4f95-a8dc-9e4a4234a312",
        "colab": {
          "base_uri": "https://localhost:8080/"
        }
      },
      "source": [
        "print('   Error Medio Absoluto (MAE):', resultados['LR lineal'][0])\n",
        "print('Root Mean Squared Error(RMSE):', resultados['LR lineal'][1])\n",
        "print('                     r2_score:',resultados ['LR lineal'][2])"
      ],
      "execution_count": null,
      "outputs": [
        {
          "output_type": "stream",
          "name": "stdout",
          "text": [
            "   Error Medio Absoluto (MAE): 4.8901661963170975\n",
            "Root Mean Squared Error(RMSE): 7.023460530219433\n",
            "                     r2_score: 0.5526895076238993\n"
          ]
        }
      ]
    },
    {
      "cell_type": "markdown",
      "source": [
        "##3.- Regresión Polinomial.\n",
        "\n",
        "Realiza la regresión polinomial completa, tu modelo generado (ecuación), su visualización, sus errores y r cuadrada."
      ],
      "metadata": {
        "id": "vGINnohxXxTB"
      }
    },
    {
      "cell_type": "code",
      "source": [
        "poly_features = PolynomialFeatures(degree=2, include_bias=False)\n",
        "X_poly = poly_features.fit_transform(Xtv)"
      ],
      "metadata": {
        "id": "eqqh50hfWEkk"
      },
      "execution_count": null,
      "outputs": []
    },
    {
      "cell_type": "code",
      "source": [
        "modelo.fit(X_poly, ytv)\n"
      ],
      "metadata": {
        "colab": {
          "base_uri": "https://localhost:8080/"
        },
        "id": "c--EfduHYBTh",
        "outputId": "866a136d-e15a-4682-e7e8-3e7564f8850a"
      },
      "execution_count": null,
      "outputs": [
        {
          "output_type": "execute_result",
          "data": {
            "text/plain": [
              "LinearRegression()"
            ]
          },
          "metadata": {},
          "execution_count": 274
        }
      ]
    },
    {
      "cell_type": "code",
      "source": [
        "print(\"Model coefs: \", modelo.coef_)\n",
        "print(\"Model intercept:\", modelo.intercept_)"
      ],
      "metadata": {
        "colab": {
          "base_uri": "https://localhost:8080/"
        },
        "id": "GHV7FXZMYY7j",
        "outputId": "2cee5a6b-a83b-4f05-eb46-8a4752552712"
      },
      "execution_count": null,
      "outputs": [
        {
          "output_type": "stream",
          "name": "stdout",
          "text": [
            "Model coefs:  [-17.35377809   1.24345115]\n",
            "Model intercept: 90.69281709517362\n"
          ]
        }
      ]
    },
    {
      "cell_type": "markdown",
      "source": [
        "\n",
        "La ecuacion queda:\n",
        "\n",
        "$\\hat{y} =  -17.35X +1.24X^2 + 90.69$"
      ],
      "metadata": {
        "id": "CXbo0L-ugIlc"
      }
    },
    {
      "cell_type": "code",
      "source": [
        "X_new=np.linspace(1, 10, 100).reshape(100, 1)\n",
        "X_new_poly = poly_features.transform(X_new)\n",
        "y_new = modelo.predict(X_new_poly)\n",
        "plt.plot(X, y, \"b.\")\n",
        "plt.plot(X_new, y_new, \"r-\", linewidth=2, label=\"Predictions\")\n",
        "plt.xlabel(\"$x_1$\", fontsize=18)\n",
        "plt.ylabel(\"$y$\", rotation=0, fontsize=18)\n",
        "plt.legend(loc=\"upper left\", fontsize=14)\n",
        "plt.axis([1, 10, 0, 100]);"
      ],
      "metadata": {
        "colab": {
          "base_uri": "https://localhost:8080/",
          "height": 326
        },
        "id": "no85GH0eYw8E",
        "outputId": "39518c24-9025-4db4-a523-588963eebd8b"
      },
      "execution_count": null,
      "outputs": [
        {
          "output_type": "stream",
          "name": "stderr",
          "text": [
            "/usr/local/lib/python3.7/dist-packages/sklearn/base.py:451: UserWarning: X does not have valid feature names, but PolynomialFeatures was fitted with feature names\n",
            "  \"X does not have valid feature names, but\"\n"
          ]
        },
        {
          "output_type": "display_data",
          "data": {
            "text/plain": [
              "<Figure size 432x288 with 1 Axes>"
            ],
            "image/png": "[encoded data removed]"
          },
          "metadata": {
            "needs_background": "light"
          }
        }
      ]
    },
    {
      "cell_type": "code",
      "source": [
        "X_polytest = poly_features.fit_transform(Xtest)\n",
        "y_pred=modelo.predict(X_polytest)\n"
      ],
      "metadata": {
        "id": "RyY16qRtaTFl"
      },
      "execution_count": null,
      "outputs": []
    },
    {
      "cell_type": "code",
      "source": [
        "resultados['LR polinomial']=[mean_absolute_error(ytest, y_pred),mean_squared_error(ytest, y_pred, squared=False), r2_score(ytest, y_pred)]"
      ],
      "metadata": {
        "id": "bAFQx7m9aWSX"
      },
      "execution_count": null,
      "outputs": []
    },
    {
      "cell_type": "code",
      "source": [
        "print('   Error Medio Absoluto (MAE):', resultados['LR polinomial'][0])\n",
        "print('Root Mean Squared Error(RMSE):', resultados['LR polinomial'][1])\n",
        "print('                     r2_score:',resultados ['LR polinomial'][2])"
      ],
      "metadata": {
        "colab": {
          "base_uri": "https://localhost:8080/"
        },
        "id": "31D42OlfbEhU",
        "outputId": "fbb3eb8c-bbfb-4d88-e74c-b283c5a4e70d"
      },
      "execution_count": null,
      "outputs": [
        {
          "output_type": "stream",
          "name": "stdout",
          "text": [
            "   Error Medio Absoluto (MAE): 4.499477736770161\n",
            "Root Mean Squared Error(RMSE): 6.14594886001069\n",
            "                     r2_score: 0.657480992082238\n"
          ]
        }
      ]
    },
    {
      "cell_type": "markdown",
      "source": [
        "##4.- Realiza la regresión con Ridge y Lasso. Incluye la ecuación de tu modelo, visualización , errores y r cuadrada.\n",
        "\n"
      ],
      "metadata": {
        "id": "ElHk6TWVl6uW"
      }
    },
    {
      "cell_type": "code",
      "source": [
        "modelo = Ridge(alpha=1)\n",
        "modelo.fit(Xtv, ytv)"
      ],
      "metadata": {
        "colab": {
          "base_uri": "https://localhost:8080/"
        },
        "id": "FmHdqCF9gZsC",
        "outputId": "ceb7267f-6c2e-4219-e174-70a4e9f74d39"
      },
      "execution_count": null,
      "outputs": [
        {
          "output_type": "execute_result",
          "data": {
            "text/plain": [
              "Ridge(alpha=1)"
            ]
          },
          "metadata": {},
          "execution_count": 170
        }
      ]
    },
    {
      "cell_type": "code",
      "source": [
        "print(\"Model coefs: \", modelo.coef_)\n",
        "print(\"Model intercept:\", modelo.intercept_)"
      ],
      "metadata": {
        "colab": {
          "base_uri": "https://localhost:8080/"
        },
        "id": "JuS40UgLmUZe",
        "outputId": "6c36372c-ab60-4586-80b5-1acd03809721"
      },
      "execution_count": null,
      "outputs": [
        {
          "output_type": "stream",
          "name": "stdout",
          "text": [
            "Model coefs:  [-6.1195816]\n",
            "Model intercept: 67.49755921641744\n"
          ]
        }
      ]
    },
    {
      "cell_type": "markdown",
      "source": [
        "\n",
        "La ecuacion del modelo queda asi:\n",
        "\n",
        "\n",
        "$\\hat{y} =  -6.119X +67.497$"
      ],
      "metadata": {
        "id": "bHjqWuo3PXzp"
      }
    },
    {
      "cell_type": "code",
      "source": [
        "X_fit = np.linspace(1, 10, 100)\n",
        "y_fit = modelo.predict(X_fit[:, np.newaxis])\n",
        "\n",
        "plt.scatter(X, y)\n",
        "plt.plot(X_fit, y_fit, \"r-\", linewidth=2, label=\"Predictions\")\n",
        "plt.xlabel('Number of Units', fontsize=12)\n",
        "plt.ylabel('Manufacturing Cost', fontsize=12)\n",
        "plt.legend(loc=\"upper left\", fontsize=12);"
      ],
      "metadata": {
        "colab": {
          "base_uri": "https://localhost:8080/",
          "height": 317
        },
        "id": "5soNO1e7nQfB",
        "outputId": "a6e69cc3-2c35-45bb-8c25-7a0f4a7dbe32"
      },
      "execution_count": null,
      "outputs": [
        {
          "output_type": "stream",
          "name": "stderr",
          "text": [
            "/usr/local/lib/python3.7/dist-packages/sklearn/base.py:451: UserWarning: X does not have valid feature names, but Ridge was fitted with feature names\n",
            "  \"X does not have valid feature names, but\"\n"
          ]
        },
        {
          "output_type": "display_data",
          "data": {
            "text/plain": [
              "<Figure size 432x288 with 1 Axes>"
            ],
            "image/png": "[encoded data removed]"
          },
          "metadata": {
            "needs_background": "light"
          }
        }
      ]
    },
    {
      "cell_type": "code",
      "source": [
        "y_pred=modelo.predict(Xtest)"
      ],
      "metadata": {
        "id": "w5uV2qjdneeC"
      },
      "execution_count": null,
      "outputs": []
    },
    {
      "cell_type": "code",
      "source": [
        "resultados['Ridge Lineal']=[mean_absolute_error(ytest, y_pred),mean_squared_error(ytest, y_pred, squared=False), r2_score(ytest, y_pred)]"
      ],
      "metadata": {
        "id": "fNVm_PPHnlbk"
      },
      "execution_count": null,
      "outputs": []
    },
    {
      "cell_type": "code",
      "source": [
        "print('   Error Medio Absoluto (MAE):', resultados['Ridge Lineal'][0])\n",
        "print('Root Mean Squared Error(RMSE):', resultados['Ridge Lineal'][1])\n",
        "print('                     r2_score:',resultados ['Ridge Lineal'][2])"
      ],
      "metadata": {
        "colab": {
          "base_uri": "https://localhost:8080/"
        },
        "id": "3tSmD69hnsb7",
        "outputId": "dfdee539-c41a-4067-fe84-222ddfc82c2f"
      },
      "execution_count": null,
      "outputs": [
        {
          "output_type": "stream",
          "name": "stdout",
          "text": [
            "   Error Medio Absoluto (MAE): 4.888986436763052\n",
            "Root Mean Squared Error(RMSE): 7.022967198991941\n",
            "                     r2_score: 0.5527523440229261\n"
          ]
        }
      ]
    },
    {
      "cell_type": "markdown",
      "source": [
        "Ahora con Ridge polinomio grado 2:"
      ],
      "metadata": {
        "id": "otNeY6Z-w5FB"
      }
    },
    {
      "cell_type": "code",
      "source": [
        "poly_features = PolynomialFeatures(degree=2, include_bias=False)\n",
        "X_poly = poly_features.fit_transform(Xtv)"
      ],
      "metadata": {
        "id": "i6iMiOJOn0SS"
      },
      "execution_count": null,
      "outputs": []
    },
    {
      "cell_type": "code",
      "source": [
        "modelo = Ridge(alpha=10)\n",
        "modelo.fit(X_poly, ytv)\n"
      ],
      "metadata": {
        "colab": {
          "base_uri": "https://localhost:8080/"
        },
        "id": "iad7iXygp8eU",
        "outputId": "79fd9e18-19ed-47f9-a26c-383268f72758"
      },
      "execution_count": null,
      "outputs": [
        {
          "output_type": "execute_result",
          "data": {
            "text/plain": [
              "Ridge(alpha=10)"
            ]
          },
          "metadata": {},
          "execution_count": 177
        }
      ]
    },
    {
      "cell_type": "code",
      "source": [
        "print(\"Model coefs: \", modelo.coef_)\n",
        "print(\"Model intercept:\", modelo.intercept_)"
      ],
      "metadata": {
        "colab": {
          "base_uri": "https://localhost:8080/"
        },
        "id": "73NA2EIFPf4m",
        "outputId": "cbab38e0-691c-47a2-9e13-a0fce2201da0"
      },
      "execution_count": null,
      "outputs": [
        {
          "output_type": "stream",
          "name": "stdout",
          "text": [
            "Model coefs:  [-14.688572     0.95998252]\n",
            "Model intercept: 84.9428312958091\n"
          ]
        }
      ]
    },
    {
      "cell_type": "markdown",
      "source": [
        "\n",
        "La ecuacion queda:\n",
        "\n",
        "$\\hat{y} =  -14.688X +0.959X^2 + 84.942$"
      ],
      "metadata": {
        "id": "likOifChPowi"
      }
    },
    {
      "cell_type": "code",
      "source": [
        "X_new=np.linspace(1, 10, 100).reshape(100, 1)\n",
        "X_new_poly = poly_features.transform(X_new)\n",
        "y_new = modelo.predict(X_new_poly)\n",
        "plt.plot(X, y, \"b.\")\n",
        "plt.plot(X_new, y_new, \"r-\", linewidth=2, label=\"Predictions\")\n",
        "plt.xlabel(\"$x_1$\", fontsize=18)\n",
        "plt.ylabel(\"$y$\", rotation=0, fontsize=18)\n",
        "plt.legend(loc=\"upper left\", fontsize=14)\n",
        "plt.axis([1, 10, 0, 100]);"
      ],
      "metadata": {
        "colab": {
          "base_uri": "https://localhost:8080/",
          "height": 326
        },
        "id": "vV59cffeqNdh",
        "outputId": "80a91480-0b91-4442-b6d0-50ba68f63b3f"
      },
      "execution_count": null,
      "outputs": [
        {
          "output_type": "stream",
          "name": "stderr",
          "text": [
            "/usr/local/lib/python3.7/dist-packages/sklearn/base.py:451: UserWarning: X does not have valid feature names, but PolynomialFeatures was fitted with feature names\n",
            "  \"X does not have valid feature names, but\"\n"
          ]
        },
        {
          "output_type": "display_data",
          "data": {
            "text/plain": [
              "<Figure size 432x288 with 1 Axes>"
            ],
            "image/png": "[encoded data removed]"
          },
          "metadata": {
            "needs_background": "light"
          }
        }
      ]
    },
    {
      "cell_type": "code",
      "source": [
        "X_polytest = poly_features.fit_transform(Xtest)\n",
        "y_pred=modelo.predict(X_polytest)\n"
      ],
      "metadata": {
        "id": "RTJVQW2ZqY2W"
      },
      "execution_count": null,
      "outputs": []
    },
    {
      "cell_type": "code",
      "source": [
        "resultados['Ridge polinomial']=[mean_absolute_error(ytest, y_pred),mean_squared_error(ytest, y_pred, squared=False), r2_score(ytest, y_pred)]"
      ],
      "metadata": {
        "id": "CTiMI9TNquRN"
      },
      "execution_count": null,
      "outputs": []
    },
    {
      "cell_type": "code",
      "source": [
        "print('   Error Medio Absoluto (MAE):', resultados['Ridge polinomial'][0])\n",
        "print('Root Mean Squared Error(RMSE):', resultados['Ridge polinomial'][1])\n",
        "print('                     r2_score:',resultados ['Ridge polinomial'][2])"
      ],
      "metadata": {
        "colab": {
          "base_uri": "https://localhost:8080/"
        },
        "id": "F12dVhTXq3RE",
        "outputId": "7e56d2cd-82ce-4cdb-b6ee-e5e6150782db"
      },
      "execution_count": null,
      "outputs": [
        {
          "output_type": "stream",
          "name": "stdout",
          "text": [
            "   Error Medio Absoluto (MAE): 4.409342255329253\n",
            "Root Mean Squared Error(RMSE): 6.113000427338259\n",
            "                     r2_score: 0.661143636871347\n"
          ]
        }
      ]
    },
    {
      "cell_type": "markdown",
      "source": [
        "Ahora con Lasso:\n"
      ],
      "metadata": {
        "id": "jpBD-H3UxFin"
      }
    },
    {
      "cell_type": "code",
      "source": [
        "modelo = Lasso(alpha=0.01)\n",
        "modelo.fit(Xtv, ytv)\n",
        "\n"
      ],
      "metadata": {
        "colab": {
          "base_uri": "https://localhost:8080/"
        },
        "id": "KUIhmO2lwxKq",
        "outputId": "91243c25-dddc-4d28-c0ac-9763b8e38b21"
      },
      "execution_count": null,
      "outputs": [
        {
          "output_type": "execute_result",
          "data": {
            "text/plain": [
              "Lasso(alpha=0.01)"
            ]
          },
          "metadata": {},
          "execution_count": 184
        }
      ]
    },
    {
      "cell_type": "code",
      "source": [
        "print(\"Model coefs: \", modelo.coef_)\n",
        "print(\"Model intercept:\", modelo.intercept_)"
      ],
      "metadata": {
        "colab": {
          "base_uri": "https://localhost:8080/"
        },
        "id": "RlNYUNCfwxHP",
        "outputId": "5f1c0f1d-0374-43dc-b458-9bd45c7d0875"
      },
      "execution_count": null,
      "outputs": [
        {
          "output_type": "stream",
          "name": "stdout",
          "text": [
            "Model coefs:  [-6.11823544]\n",
            "Model intercept: 67.49158569020855\n"
          ]
        }
      ]
    },
    {
      "cell_type": "markdown",
      "source": [
        "La ecuacion del modelo queda asi:\n",
        "\n",
        "\n",
        "$\\hat{y} =  -6.118X +67.491$"
      ],
      "metadata": {
        "id": "f-9m4o9SR4Ek"
      }
    },
    {
      "cell_type": "code",
      "source": [
        "X_fit = np.linspace(1, 10, 100)\n",
        "y_fit = modelo.predict(X_fit[:, np.newaxis])\n",
        "\n",
        "plt.scatter(X, y)\n",
        "plt.plot(X_fit, y_fit, \"r-\", linewidth=2, label=\"Predictions\")\n",
        "plt.xlabel('Number of Units', fontsize=12)\n",
        "plt.ylabel('Manufacturing Cost', fontsize=12)\n",
        "plt.legend(loc=\"upper left\", fontsize=12);"
      ],
      "metadata": {
        "colab": {
          "base_uri": "https://localhost:8080/",
          "height": 317
        },
        "id": "ZOSD5KMUwxEF",
        "outputId": "2e24e480-4616-47fb-b20e-20c2c94652cd"
      },
      "execution_count": null,
      "outputs": [
        {
          "output_type": "stream",
          "name": "stderr",
          "text": [
            "/usr/local/lib/python3.7/dist-packages/sklearn/base.py:451: UserWarning: X does not have valid feature names, but Lasso was fitted with feature names\n",
            "  \"X does not have valid feature names, but\"\n"
          ]
        },
        {
          "output_type": "display_data",
          "data": {
            "text/plain": [
              "<Figure size 432x288 with 1 Axes>"
            ],
            "image/png": "[encoded data removed]"
          },
          "metadata": {
            "needs_background": "light"
          }
        }
      ]
    },
    {
      "cell_type": "code",
      "source": [
        "y_pred=modelo.predict(Xtest)"
      ],
      "metadata": {
        "id": "RB9QMurbwxA2"
      },
      "execution_count": null,
      "outputs": []
    },
    {
      "cell_type": "code",
      "source": [
        "resultados['Lasso Lineal']=[mean_absolute_error(ytest, y_pred),mean_squared_error(ytest, y_pred, squared=False), r2_score(ytest, y_pred)]"
      ],
      "metadata": {
        "id": "HtJw76ieww4v"
      },
      "execution_count": null,
      "outputs": []
    },
    {
      "cell_type": "code",
      "source": [
        "print('   Error Medio Absoluto (MAE):', resultados['Lasso Lineal'][0])\n",
        "print('Root Mean Squared Error(RMSE):', resultados['Lasso Lineal'][1])\n",
        "print('                     r2_score:',resultados ['Lasso Lineal'][2])"
      ],
      "metadata": {
        "colab": {
          "base_uri": "https://localhost:8080/"
        },
        "id": "RhBzMrqSwwtc",
        "outputId": "5b86a0d6-25b1-454e-9c4d-0589a7df7373"
      },
      "execution_count": null,
      "outputs": [
        {
          "output_type": "stream",
          "name": "stdout",
          "text": [
            "   Error Medio Absoluto (MAE): 4.88862392152708\n",
            "Root Mean Squared Error(RMSE): 7.022816666977871\n",
            "                     r2_score: 0.552771516650963\n"
          ]
        }
      ]
    },
    {
      "cell_type": "code",
      "source": [
        "poly_features = PolynomialFeatures(degree=2, include_bias=False)\n",
        "X_poly = poly_features.fit_transform(Xtv)"
      ],
      "metadata": {
        "id": "es_c9v_XOXob"
      },
      "execution_count": null,
      "outputs": []
    },
    {
      "cell_type": "code",
      "source": [
        "modelo = Lasso(alpha=0.01)\n",
        "modelo.fit(X_poly, ytv)\n"
      ],
      "metadata": {
        "colab": {
          "base_uri": "https://localhost:8080/"
        },
        "id": "t3GUzut1OXjj",
        "outputId": "7dcb00c8-6ce6-4664-baf5-b903e02676c5"
      },
      "execution_count": null,
      "outputs": [
        {
          "output_type": "execute_result",
          "data": {
            "text/plain": [
              "Lasso(alpha=0.01)"
            ]
          },
          "metadata": {},
          "execution_count": 192
        }
      ]
    },
    {
      "cell_type": "code",
      "source": [
        "print(\"Model coefs: \", modelo.coef_)\n",
        "print(\"Model intercept:\", modelo.intercept_)"
      ],
      "metadata": {
        "colab": {
          "base_uri": "https://localhost:8080/"
        },
        "id": "w3yLvfTiOXeA",
        "outputId": "136916f1-00b8-482e-9aba-46eff46e58af"
      },
      "execution_count": null,
      "outputs": [
        {
          "output_type": "stream",
          "name": "stdout",
          "text": [
            "Model coefs:  [-17.19081995   1.22605661]\n",
            "Model intercept: 90.34258632198699\n"
          ]
        }
      ]
    },
    {
      "cell_type": "markdown",
      "source": [
        "\n",
        "La ecuacion queda:\n",
        "\n",
        "$\\hat{y} =  -17.19X +1.226X^2 + 90.342$"
      ],
      "metadata": {
        "id": "6r6Ih4XmSdrc"
      }
    },
    {
      "cell_type": "code",
      "source": [
        "X_new=np.linspace(1, 10, 100).reshape(100, 1)\n",
        "X_new_poly = poly_features.transform(X_new)\n",
        "y_new = modelo.predict(X_new_poly)\n",
        "plt.plot(X, y, \"b.\")\n",
        "plt.plot(X_new, y_new, \"r-\", linewidth=2, label=\"Predictions\")\n",
        "plt.xlabel(\"$x_1$\", fontsize=18)\n",
        "plt.ylabel(\"$y$\", rotation=0, fontsize=18)\n",
        "plt.legend(loc=\"upper left\", fontsize=14)\n",
        "plt.axis([1, 10, 0, 100]);"
      ],
      "metadata": {
        "colab": {
          "base_uri": "https://localhost:8080/",
          "height": 326
        },
        "id": "ymY5bhUeOXTU",
        "outputId": "a6624a0b-5366-489a-9b1e-7ddeb52c55d7"
      },
      "execution_count": null,
      "outputs": [
        {
          "output_type": "stream",
          "name": "stderr",
          "text": [
            "/usr/local/lib/python3.7/dist-packages/sklearn/base.py:451: UserWarning: X does not have valid feature names, but PolynomialFeatures was fitted with feature names\n",
            "  \"X does not have valid feature names, but\"\n"
          ]
        },
        {
          "output_type": "display_data",
          "data": {
            "text/plain": [
              "<Figure size 432x288 with 1 Axes>"
            ],
            "image/png": "[encoded data removed]"
          },
          "metadata": {
            "needs_background": "light"
          }
        }
      ]
    },
    {
      "cell_type": "code",
      "source": [
        "X_polytest = poly_features.fit_transform(Xtest)\n",
        "y_pred=modelo.predict(X_polytest)\n"
      ],
      "metadata": {
        "id": "3jzRxcLSOXMj"
      },
      "execution_count": null,
      "outputs": []
    },
    {
      "cell_type": "code",
      "source": [
        "resultados['Lasso polinomial']=[mean_absolute_error(ytest, y_pred),mean_squared_error(ytest, y_pred, squared=False), r2_score(ytest, y_pred)]"
      ],
      "metadata": {
        "id": "Yr8lAcp_OXBx"
      },
      "execution_count": null,
      "outputs": []
    },
    {
      "cell_type": "code",
      "source": [
        "print('   Error Medio Absoluto (MAE):', resultados['Lasso polinomial'][0])\n",
        "print('Root Mean Squared Error(RMSE):', resultados['Lasso polinomial'][1])\n",
        "print('                     r2_score:',resultados ['Lasso polinomial'][2])"
      ],
      "metadata": {
        "colab": {
          "base_uri": "https://localhost:8080/"
        },
        "id": "gSVrjk6kOWuw",
        "outputId": "8bfb4b44-919f-4ee3-cedf-739d67475013"
      },
      "execution_count": null,
      "outputs": [
        {
          "output_type": "stream",
          "name": "stdout",
          "text": [
            "   Error Medio Absoluto (MAE): 4.491243025976135\n",
            "Root Mean Squared Error(RMSE): 6.139727695363716\n",
            "                     r2_score: 0.6581740628248847\n"
          ]
        }
      ]
    },
    {
      "cell_type": "code",
      "source": [
        "resultados"
      ],
      "metadata": {
        "colab": {
          "base_uri": "https://localhost:8080/"
        },
        "id": "lC1eI80oTDp1",
        "outputId": "57eef419-0450-4657-e316-a8cf8b8b7b70"
      },
      "execution_count": null,
      "outputs": [
        {
          "output_type": "execute_result",
          "data": {
            "text/plain": [
              "{'LR lineal': [4.8901661963170975, 7.023460530219433, 0.5526895076238993],\n",
              " 'LR polinomial': [4.499477736770161, 6.14594886001069, 0.657480992082238],\n",
              " 'Ridge Lineal': [4.888986436763052, 7.022967198991941, 0.5527523440229261],\n",
              " 'Ridge polinomial': [4.409342255329253, 6.113000427338259, 0.661143636871347],\n",
              " 'Lasso Lineal': [4.88862392152708, 7.022816666977871, 0.552771516650963],\n",
              " 'Lasso polinomial': [4.491243025976135,\n",
              "  6.139727695363716,\n",
              "  0.6581740628248847]}"
            ]
          },
          "metadata": {},
          "execution_count": 206
        }
      ]
    },
    {
      "cell_type": "code",
      "source": [
        "modelos=resultados.keys()\n",
        "modelos"
      ],
      "metadata": {
        "colab": {
          "base_uri": "https://localhost:8080/"
        },
        "id": "2-I2mbPapY2c",
        "outputId": "a539f26a-82c2-467b-b749-bfc954bc5caa"
      },
      "execution_count": null,
      "outputs": [
        {
          "output_type": "execute_result",
          "data": {
            "text/plain": [
              "dict_keys(['LR lineal', 'LR polinomial', 'Ridge Lineal', 'Ridge polinomial', 'Lasso Lineal', 'Lasso polinomial'])"
            ]
          },
          "metadata": {},
          "execution_count": 222
        }
      ]
    },
    {
      "cell_type": "markdown",
      "source": [
        "##5.- Finalmente grafica : MAE (de los cuatro métodos) R2 (de los cuatro métodos)\n"
      ],
      "metadata": {
        "id": "mFFbdpAAvUNj"
      }
    },
    {
      "cell_type": "code",
      "source": [
        "# Grafica de MAE\n",
        "mae_value = list()\n",
        "for modelo in modelos:\n",
        "  mae_value.append(resultados[modelo][0])\n",
        "  print('MAE de ',modelo,\" \",resultados[modelo][0])\n",
        "\n",
        "plt.figure(figsize = (10, 5))\n",
        "plt.bar(modelos, mae_value, color ='red', width = 0.48)\n",
        "plt.title(\"MAE\")\n",
        "\n"
      ],
      "metadata": {
        "colab": {
          "base_uri": "https://localhost:8080/",
          "height": 458
        },
        "id": "3LFtdbYBpp_w",
        "outputId": "3a0e2b87-2f21-4b41-e2db-f2fae0823e6f"
      },
      "execution_count": null,
      "outputs": [
        {
          "output_type": "stream",
          "name": "stdout",
          "text": [
            "MAE de  LR lineal   4.8901661963170975\n",
            "MAE de  LR polinomial   4.499477736770161\n",
            "MAE de  Ridge Lineal   4.888986436763052\n",
            "MAE de  Ridge polinomial   4.409342255329253\n",
            "MAE de  Lasso Lineal   4.88862392152708\n",
            "MAE de  Lasso polinomial   4.491243025976135\n"
          ]
        },
        {
          "output_type": "execute_result",
          "data": {
            "text/plain": [
              "Text(0.5, 1.0, 'MAE')"
            ]
          },
          "metadata": {},
          "execution_count": 234
        },
        {
          "output_type": "display_data",
          "data": {
            "text/plain": [
              "<Figure size 720x360 with 1 Axes>"
            ],
            "image/png": "[encoded data removed]"
          },
          "metadata": {
            "needs_background": "light"
          }
        }
      ]
    },
    {
      "cell_type": "code",
      "source": [
        "rmse_value = list()\n",
        "for modelo in modelos:\n",
        "  rmse_value.append(resultados[modelo][1])\n",
        "  print('RMSE de ',modelo,\" \",resultados[modelo][1])\n",
        "\n",
        "plt.figure(figsize = (10, 5))\n",
        "plt.bar(modelos, rmse_value, color ='orange', width = 0.48)\n",
        "plt.title(\"RMSE\")"
      ],
      "metadata": {
        "colab": {
          "base_uri": "https://localhost:8080/",
          "height": 458
        },
        "id": "mQJvK6BWwk2l",
        "outputId": "4a0afcc7-fcb1-4344-e061-def2e5910e6d"
      },
      "execution_count": null,
      "outputs": [
        {
          "output_type": "stream",
          "name": "stdout",
          "text": [
            "RMSE de  LR lineal   7.023460530219433\n",
            "RMSE de  LR polinomial   6.14594886001069\n",
            "RMSE de  Ridge Lineal   7.022967198991941\n",
            "RMSE de  Ridge polinomial   6.113000427338259\n",
            "RMSE de  Lasso Lineal   7.022816666977871\n",
            "RMSE de  Lasso polinomial   6.139727695363716\n"
          ]
        },
        {
          "output_type": "execute_result",
          "data": {
            "text/plain": [
              "Text(0.5, 1.0, 'RMSE')"
            ]
          },
          "metadata": {},
          "execution_count": 242
        },
        {
          "output_type": "display_data",
          "data": {
            "text/plain": [
              "<Figure size 720x360 with 1 Axes>"
            ],
            "image/png": "[encoded data removed]"
          },
          "metadata": {
            "needs_background": "light"
          }
        }
      ]
    },
    {
      "cell_type": "code",
      "source": [
        "r2_value = list()\n",
        "for modelo in modelos:\n",
        "  r2_value.append(resultados[modelo][2])\n",
        "  print('r2_sccore de ',modelo,\" \",resultados[modelo][2])\n",
        "\n",
        "plt.figure(figsize = (10, 5))\n",
        "plt.bar(modelos, r2_value, color ='blue', width = 0.48)\n",
        "plt.title(\"r2_score\")"
      ],
      "metadata": {
        "colab": {
          "base_uri": "https://localhost:8080/",
          "height": 458
        },
        "id": "i3XGwWsCrTsc",
        "outputId": "12c77d9d-17b4-4f0f-a594-a3352af62ecf"
      },
      "execution_count": null,
      "outputs": [
        {
          "output_type": "stream",
          "name": "stdout",
          "text": [
            "r2_sccore de  LR lineal   0.5526895076238993\n",
            "r2_sccore de  LR polinomial   0.657480992082238\n",
            "r2_sccore de  Ridge Lineal   0.5527523440229261\n",
            "r2_sccore de  Ridge polinomial   0.661143636871347\n",
            "r2_sccore de  Lasso Lineal   0.552771516650963\n",
            "r2_sccore de  Lasso polinomial   0.6581740628248847\n"
          ]
        },
        {
          "output_type": "execute_result",
          "data": {
            "text/plain": [
              "Text(0.5, 1.0, 'r2_score')"
            ]
          },
          "metadata": {},
          "execution_count": 240
        },
        {
          "output_type": "display_data",
          "data": {
            "text/plain": [
              "<Figure size 720x360 with 1 Axes>"
            ],
            "image/png": "[encoded data removed]"
          },
          "metadata": {
            "needs_background": "light"
          }
        }
      ]
    },
    {
      "cell_type": "markdown",
      "source": [
        "\n",
        "##6.- Explica tus resultados, que método conviene más a la empresa, ¿por que?, ¿que porcentajes de entrenamiento y evaluación?, ¿que error tienes?, ¿es bueno?, ¿cómo lo sabes?"
      ],
      "metadata": {
        "id": "PnIduiudtd1g"
      }
    },
    {
      "cell_type": "markdown",
      "source": [
        "Dependiendo de la cantidad de datos disponibles se hacen las particiones entre un 10 a un 25%.\n",
        "\n",
        "En este caso, utilizamos un 20% para test y un 80% para entrenamiento de los modelos en cada caso.\n",
        "\n",
        "AL aplicar los distintos modelos de regresion , lo que nos dió los menores errores MAE y RMSE fueron en los polinomiales, y su  r2 estuvo un poco mayor en cada caso con respecto a los lineales, lo cual nos indica una mejor relacion con la data modelada. Entre mas cerca de 1 es r2 esto es mejor.\n",
        "\n",
        "\n",
        "Le sugerimos a la empresa utilizar  cualquiera de los metodos con polinomial de polinomial de grado 2, y una forma mas simple de modelo, el Linear Regresion() polinomial de grado 2.\n",
        "\n",
        "\n",
        "Nota: cuando se aumentaba el grado del polinomonio vimos que los errores crecian, por ello nos quedamos con un polinomia grado 2.\n",
        "\n",
        "\n"
      ],
      "metadata": {
        "id": "oiRB5huCvhXB"
      }
    },
    {
      "cell_type": "markdown",
      "metadata": {
        "id": "CfqcmLmxLoe9"
      },
      "source": [
        "#Ejercicio 2\n",
        "###Encuentra el mejor regresor para los datos de las casas:\n",
        "\n",
        "###2.1. Divide los datos. Utiliza la función train_test_split (ya esta en el notebook).\n",
        "\n",
        "###2.2. Regresión Múltiple Lineal.\n",
        "###Realiza la regresión lineal: modelo generado (ecuación), sus errores y r cuadrada.\n",
        "\n",
        "###2.3. Regresión Múltiple Polinomial.\n",
        "###Realiza la  regresión polinomial completa, tu modelo generado (ecuación), sus errores y r cuadrada.\n",
        "\n",
        "###2.4. Realiza la regresión con Ridge y Lasso. Incluye la ecuación de tu modelo, errores y r cuadrada.\n",
        "\n",
        "###2.5. Finalmente grafica :\n",
        "### MAE (de los cuatro métodos)\n",
        "### R2 (de los cuatro métodos)\n",
        "\n",
        "###2.6. \n",
        "###Explica tus resultados, que método se aproxima mejor, ¿por que?, ¿que porcentajes de entrenamiento y evaluación usaste? ¿que error tienes?, ¿es bueno?, ¿cómo lo sabes?\n",
        "###Agrega las conclusiones"
      ]
    },
    {
      "cell_type": "code",
      "source": [
        "df = pd.read_csv('https://raw.githubusercontent.com/marypazrf/bdd/main/kc_house_data.csv')\n",
        "df.sample(10)"
      ],
      "metadata": {
        "id": "57bn0j38qGrg",
        "colab": {
          "base_uri": "https://localhost:8080/",
          "height": 456
        },
        "outputId": "3ee4f25d-bd58-45fc-f994-7449e137b5d0"
      },
      "execution_count": null,
      "outputs": [
        {
          "output_type": "execute_result",
          "data": {
            "text/plain": [
              "               id             date     price  bedrooms  bathrooms  \\\n",
              "20016  7853420100  20140623T000000  633634.0         4       3.50   \n",
              "6117    321049127  20141028T000000  277500.0         3       2.25   \n",
              "5996   3224079005  20141009T000000  255000.0         2       1.00   \n",
              "6976   8079000190  20141028T000000  415000.0         4       2.50   \n",
              "4312   4331000265  20140926T000000  167000.0         3       2.00   \n",
              "13664  6388920410  20150423T000000  655000.0         3       2.50   \n",
              "11312  3235100075  20150503T000000  279000.0         3       1.00   \n",
              "14534  3905090410  20150123T000000  760000.0         4       2.50   \n",
              "18267  2558160220  20141210T000000  385000.0         4       2.50   \n",
              "17912  9158100040  20140808T000000  401000.0         2       1.00   \n",
              "\n",
              "       sqft_living  sqft_lot  floors  waterfront  view  ...  grade  \\\n",
              "20016         2960      6000     2.0           0     0  ...      9   \n",
              "6117          1820     19602     1.0           0     0  ...      7   \n",
              "5996           920     43560     1.0           0     0  ...      5   \n",
              "6976          2150      8173     2.0           0     0  ...      8   \n",
              "4312          1520      7456     1.0           0     0  ...      7   \n",
              "13664         2370      7916     2.0           0     0  ...      9   \n",
              "11312         1010      7903     1.0           0     0  ...      6   \n",
              "14534         3120      8792     2.0           0     0  ...      9   \n",
              "18267         2030     11375     1.0           0     0  ...      7   \n",
              "17912         1400      8220     1.0           0     0  ...      7   \n",
              "\n",
              "       sqft_above  sqft_basement  yr_built  yr_renovated  zipcode      lat  \\\n",
              "20016        2960              0      2014             0    98065  47.5183   \n",
              "6117         1820              0      1964             0    98001  47.3310   \n",
              "5996          920              0      1923             0    98024  47.5245   \n",
              "6976         2150              0      1987             0    98059  47.5110   \n",
              "4312         1520              0      1949             0    98166  47.4745   \n",
              "13664        2370              0      1990             0    98056  47.5280   \n",
              "11312        1010              0      1948             0    98155  47.7660   \n",
              "14534        3120              0      1992             0    98029  47.5699   \n",
              "18267        1330            700      1969             0    98028  47.7765   \n",
              "17912        1400              0      1949             0    98133  47.7228   \n",
              "\n",
              "          long  sqft_living15  sqft_lot15  \n",
              "20016 -121.886           2960        6000  \n",
              "6117  -122.286           1520        8773  \n",
              "5996  -121.931           1530       11875  \n",
              "6976  -122.153           2080        7620  \n",
              "4312  -122.343           1740        8464  \n",
              "13664 -122.171           2500        8221  \n",
              "11312 -122.320           1010        7903  \n",
              "14534 -121.993           2150        7688  \n",
              "18267 -122.261           1500        9160  \n",
              "17912 -122.357           1760        8220  \n",
              "\n",
              "[10 rows x 21 columns]"
            ],
            "text/html": [
              "\n",
              "  <div id=\"df-0ab16e6f-784c-40f7-957f-f28efa5f4b5c\">\n",
              "    <div class=\"colab-df-container\">\n",
              "      <div>\n",
              "<style scoped>\n",
              "    .dataframe tbody tr th:only-of-type {\n",
              "        vertical-align: middle;\n",
              "    }\n",
              "\n",
              "    .dataframe tbody tr th {\n",
              "        vertical-align: top;\n",
              "    }\n",
              "\n",
              "    .dataframe thead th {\n",
              "        text-align: right;\n",
              "    }\n",
              "</style>\n",
              "<table border=\"1\" class=\"dataframe\">\n",
              "  <thead>\n",
              "    <tr style=\"text-align: right;\">\n",
              "      <th></th>\n",
              "      <th>id</th>\n",
              "      <th>date</th>\n",
              "      <th>price</th>\n",
              "      <th>bedrooms</th>\n",
              "      <th>bathrooms</th>\n",
              "      <th>sqft_living</th>\n",
              "      <th>sqft_lot</th>\n",
              "      <th>floors</th>\n",
              "      <th>waterfront</th>\n",
              "      <th>view</th>\n",
              "      <th>...</th>\n",
              "      <th>grade</th>\n",
              "      <th>sqft_above</th>\n",
              "      <th>sqft_basement</th>\n",
              "      <th>yr_built</th>\n",
              "      <th>yr_renovated</th>\n",
              "      <th>zipcode</th>\n",
              "      <th>lat</th>\n",
              "      <th>long</th>\n",
              "      <th>sqft_living15</th>\n",
              "      <th>sqft_lot15</th>\n",
              "    </tr>\n",
              "  </thead>\n",
              "  <tbody>\n",
              "    <tr>\n",
              "      <th>20016</th>\n",
              "      <td>7853420100</td>\n",
              "      <td>20140623T000000</td>\n",
              "      <td>633634.0</td>\n",
              "      <td>4</td>\n",
              "      <td>3.50</td>\n",
              "      <td>2960</td>\n",
              "      <td>6000</td>\n",
              "      <td>2.0</td>\n",
              "      <td>0</td>\n",
              "      <td>0</td>\n",
              "      <td>...</td>\n",
              "      <td>9</td>\n",
              "      <td>2960</td>\n",
              "      <td>0</td>\n",
              "      <td>2014</td>\n",
              "      <td>0</td>\n",
              "      <td>98065</td>\n",
              "      <td>47.5183</td>\n",
              "      <td>-121.886</td>\n",
              "      <td>2960</td>\n",
              "      <td>6000</td>\n",
              "    </tr>\n",
              "    <tr>\n",
              "      <th>6117</th>\n",
              "      <td>321049127</td>\n",
              "      <td>20141028T000000</td>\n",
              "      <td>277500.0</td>\n",
              "      <td>3</td>\n",
              "      <td>2.25</td>\n",
              "      <td>1820</td>\n",
              "      <td>19602</td>\n",
              "      <td>1.0</td>\n",
              "      <td>0</td>\n",
              "      <td>0</td>\n",
              "      <td>...</td>\n",
              "      <td>7</td>\n",
              "      <td>1820</td>\n",
              "      <td>0</td>\n",
              "      <td>1964</td>\n",
              "      <td>0</td>\n",
              "      <td>98001</td>\n",
              "      <td>47.3310</td>\n",
              "      <td>-122.286</td>\n",
              "      <td>1520</td>\n",
              "      <td>8773</td>\n",
              "    </tr>\n",
              "    <tr>\n",
              "      <th>5996</th>\n",
              "      <td>3224079005</td>\n",
              "      <td>20141009T000000</td>\n",
              "      <td>255000.0</td>\n",
              "      <td>2</td>\n",
              "      <td>1.00</td>\n",
              "      <td>920</td>\n",
              "      <td>43560</td>\n",
              "      <td>1.0</td>\n",
              "      <td>0</td>\n",
              "      <td>0</td>\n",
              "      <td>...</td>\n",
              "      <td>5</td>\n",
              "      <td>920</td>\n",
              "      <td>0</td>\n",
              "      <td>1923</td>\n",
              "      <td>0</td>\n",
              "      <td>98024</td>\n",
              "      <td>47.5245</td>\n",
              "      <td>-121.931</td>\n",
              "      <td>1530</td>\n",
              "      <td>11875</td>\n",
              "    </tr>\n",
              "    <tr>\n",
              "      <th>6976</th>\n",
              "      <td>8079000190</td>\n",
              "      <td>20141028T000000</td>\n",
              "      <td>415000.0</td>\n",
              "      <td>4</td>\n",
              "      <td>2.50</td>\n",
              "      <td>2150</td>\n",
              "      <td>8173</td>\n",
              "      <td>2.0</td>\n",
              "      <td>0</td>\n",
              "      <td>0</td>\n",
              "      <td>...</td>\n",
              "      <td>8</td>\n",
              "      <td>2150</td>\n",
              "      <td>0</td>\n",
              "      <td>1987</td>\n",
              "      <td>0</td>\n",
              "      <td>98059</td>\n",
              "      <td>47.5110</td>\n",
              "      <td>-122.153</td>\n",
              "      <td>2080</td>\n",
              "      <td>7620</td>\n",
              "    </tr>\n",
              "    <tr>\n",
              "      <th>4312</th>\n",
              "      <td>4331000265</td>\n",
              "      <td>20140926T000000</td>\n",
              "      <td>167000.0</td>\n",
              "      <td>3</td>\n",
              "      <td>2.00</td>\n",
              "      <td>1520</td>\n",
              "      <td>7456</td>\n",
              "      <td>1.0</td>\n",
              "      <td>0</td>\n",
              "      <td>0</td>\n",
              "      <td>...</td>\n",
              "      <td>7</td>\n",
              "      <td>1520</td>\n",
              "      <td>0</td>\n",
              "      <td>1949</td>\n",
              "      <td>0</td>\n",
              "      <td>98166</td>\n",
              "      <td>47.4745</td>\n",
              "      <td>-122.343</td>\n",
              "      <td>1740</td>\n",
              "      <td>8464</td>\n",
              "    </tr>\n",
              "    <tr>\n",
              "      <th>13664</th>\n",
              "      <td>6388920410</td>\n",
              "      <td>20150423T000000</td>\n",
              "      <td>655000.0</td>\n",
              "      <td>3</td>\n",
              "      <td>2.50</td>\n",
              "      <td>2370</td>\n",
              "      <td>7916</td>\n",
              "      <td>2.0</td>\n",
              "      <td>0</td>\n",
              "      <td>0</td>\n",
              "      <td>...</td>\n",
              "      <td>9</td>\n",
              "      <td>2370</td>\n",
              "      <td>0</td>\n",
              "      <td>1990</td>\n",
              "      <td>0</td>\n",
              "      <td>98056</td>\n",
              "      <td>47.5280</td>\n",
              "      <td>-122.171</td>\n",
              "      <td>2500</td>\n",
              "      <td>8221</td>\n",
              "    </tr>\n",
              "    <tr>\n",
              "      <th>11312</th>\n",
              "      <td>3235100075</td>\n",
              "      <td>20150503T000000</td>\n",
              "      <td>279000.0</td>\n",
              "      <td>3</td>\n",
              "      <td>1.00</td>\n",
              "      <td>1010</td>\n",
              "      <td>7903</td>\n",
              "      <td>1.0</td>\n",
              "      <td>0</td>\n",
              "      <td>0</td>\n",
              "      <td>...</td>\n",
              "      <td>6</td>\n",
              "      <td>1010</td>\n",
              "      <td>0</td>\n",
              "      <td>1948</td>\n",
              "      <td>0</td>\n",
              "      <td>98155</td>\n",
              "      <td>47.7660</td>\n",
              "      <td>-122.320</td>\n",
              "      <td>1010</td>\n",
              "      <td>7903</td>\n",
              "    </tr>\n",
              "    <tr>\n",
              "      <th>14534</th>\n",
              "      <td>3905090410</td>\n",
              "      <td>20150123T000000</td>\n",
              "      <td>760000.0</td>\n",
              "      <td>4</td>\n",
              "      <td>2.50</td>\n",
              "      <td>3120</td>\n",
              "      <td>8792</td>\n",
              "      <td>2.0</td>\n",
              "      <td>0</td>\n",
              "      <td>0</td>\n",
              "      <td>...</td>\n",
              "      <td>9</td>\n",
              "      <td>3120</td>\n",
              "      <td>0</td>\n",
              "      <td>1992</td>\n",
              "      <td>0</td>\n",
              "      <td>98029</td>\n",
              "      <td>47.5699</td>\n",
              "      <td>-121.993</td>\n",
              "      <td>2150</td>\n",
              "      <td>7688</td>\n",
              "    </tr>\n",
              "    <tr>\n",
              "      <th>18267</th>\n",
              "      <td>2558160220</td>\n",
              "      <td>20141210T000000</td>\n",
              "      <td>385000.0</td>\n",
              "      <td>4</td>\n",
              "      <td>2.50</td>\n",
              "      <td>2030</td>\n",
              "      <td>11375</td>\n",
              "      <td>1.0</td>\n",
              "      <td>0</td>\n",
              "      <td>0</td>\n",
              "      <td>...</td>\n",
              "      <td>7</td>\n",
              "      <td>1330</td>\n",
              "      <td>700</td>\n",
              "      <td>1969</td>\n",
              "      <td>0</td>\n",
              "      <td>98028</td>\n",
              "      <td>47.7765</td>\n",
              "      <td>-122.261</td>\n",
              "      <td>1500</td>\n",
              "      <td>9160</td>\n",
              "    </tr>\n",
              "    <tr>\n",
              "      <th>17912</th>\n",
              "      <td>9158100040</td>\n",
              "      <td>20140808T000000</td>\n",
              "      <td>401000.0</td>\n",
              "      <td>2</td>\n",
              "      <td>1.00</td>\n",
              "      <td>1400</td>\n",
              "      <td>8220</td>\n",
              "      <td>1.0</td>\n",
              "      <td>0</td>\n",
              "      <td>0</td>\n",
              "      <td>...</td>\n",
              "      <td>7</td>\n",
              "      <td>1400</td>\n",
              "      <td>0</td>\n",
              "      <td>1949</td>\n",
              "      <td>0</td>\n",
              "      <td>98133</td>\n",
              "      <td>47.7228</td>\n",
              "      <td>-122.357</td>\n",
              "      <td>1760</td>\n",
              "      <td>8220</td>\n",
              "    </tr>\n",
              "  </tbody>\n",
              "</table>\n",
              "<p>10 rows × 21 columns</p>\n",
              "</div>\n",
              "      <button class=\"colab-df-convert\" onclick=\"convertToInteractive('df-0ab16e6f-784c-40f7-957f-f28efa5f4b5c')\"\n",
              "              title=\"Convert this dataframe to an interactive table.\"\n",
              "              style=\"display:none;\">\n",
              "        \n",
              "  <svg xmlns=\"http://www.w3.org/2000/svg\" height=\"24px\"viewBox=\"0 0 24 24\"\n",
              "       width=\"24px\">\n",
              "    <path d=\"M0 0h24v24H0V0z\" fill=\"none\"/>\n",
              "    <path d=\"M18.56 5.44l.94 2.06.94-2.06 2.06-.94-2.06-.94-.94-2.06-.94 2.06-2.06.94zm-11 1L8.5 8.5l.94-2.06 2.06-.94-2.06-.94L8.5 2.5l-.94 2.06-2.06.94zm10 10l.94 2.06.94-2.06 2.06-.94-2.06-.94-.94-2.06-.94 2.06-2.06.94z\"/><path d=\"M17.41 7.96l-1.37-1.37c-.4-.4-.92-.59-1.43-.59-.52 0-1.04.2-1.43.59L10.3 9.45l-7.72 7.72c-.78.78-.78 2.05 0 2.83L4 21.41c.39.39.9.59 1.41.59.51 0 1.02-.2 1.41-.59l7.78-7.78 2.81-2.81c.8-.78.8-2.07 0-2.86zM5.41 20L4 18.59l7.72-7.72 1.47 1.35L5.41 20z\"/>\n",
              "  </svg>\n",
              "      </button>\n",
              "      \n",
              "  <style>\n",
              "    .colab-df-container {\n",
              "      display:flex;\n",
              "      flex-wrap:wrap;\n",
              "      gap: 12px;\n",
              "    }\n",
              "\n",
              "    .colab-df-convert {\n",
              "      background-color: #E8F0FE;\n",
              "      border: none;\n",
              "      border-radius: 50%;\n",
              "      cursor: pointer;\n",
              "      display: none;\n",
              "      fill: #1967D2;\n",
              "      height: 32px;\n",
              "      padding: 0 0 0 0;\n",
              "      width: 32px;\n",
              "    }\n",
              "\n",
              "    .colab-df-convert:hover {\n",
              "      background-color: #E2EBFA;\n",
              "      box-shadow: 0px 1px 2px rgba(60, 64, 67, 0.3), 0px 1px 3px 1px rgba(60, 64, 67, 0.15);\n",
              "      fill: #174EA6;\n",
              "    }\n",
              "\n",
              "    [theme=dark] .colab-df-convert {\n",
              "      background-color: #3B4455;\n",
              "      fill: #D2E3FC;\n",
              "    }\n",
              "\n",
              "    [theme=dark] .colab-df-convert:hover {\n",
              "      background-color: #434B5C;\n",
              "      box-shadow: 0px 1px 3px 1px rgba(0, 0, 0, 0.15);\n",
              "      filter: drop-shadow(0px 1px 2px rgba(0, 0, 0, 0.3));\n",
              "      fill: #FFFFFF;\n",
              "    }\n",
              "  </style>\n",
              "\n",
              "      <script>\n",
              "        const buttonEl =\n",
              "          document.querySelector('#df-0ab16e6f-784c-40f7-957f-f28efa5f4b5c button.colab-df-convert');\n",
              "        buttonEl.style.display =\n",
              "          google.colab.kernel.accessAllowed ? 'block' : 'none';\n",
              "\n",
              "        async function convertToInteractive(key) {\n",
              "          const element = document.querySelector('#df-0ab16e6f-784c-40f7-957f-f28efa5f4b5c');\n",
              "          const dataTable =\n",
              "            await google.colab.kernel.invokeFunction('convertToInteractive',\n",
              "                                                     [key], {});\n",
              "          if (!dataTable) return;\n",
              "\n",
              "          const docLinkHtml = 'Like what you see? Visit the ' +\n",
              "            '<a target=\"_blank\" href=https://colab.research.google.com/notebooks/data_table.ipynb>data table notebook</a>'\n",
              "            + ' to learn more about interactive tables.';\n",
              "          element.innerHTML = '';\n",
              "          dataTable['output_type'] = 'display_data';\n",
              "          await google.colab.output.renderOutput(dataTable, element);\n",
              "          const docLink = document.createElement('div');\n",
              "          docLink.innerHTML = docLinkHtml;\n",
              "          element.appendChild(docLink);\n",
              "        }\n",
              "      </script>\n",
              "    </div>\n",
              "  </div>\n",
              "  "
            ]
          },
          "metadata": {},
          "execution_count": 277
        }
      ]
    },
    {
      "cell_type": "code",
      "source": [
        "df.info()"
      ],
      "metadata": {
        "id": "n0fs14KoqI3M",
        "colab": {
          "base_uri": "https://localhost:8080/"
        },
        "outputId": "bed7a2df-6241-4156-bdd7-10671e0c72c3"
      },
      "execution_count": null,
      "outputs": [
        {
          "output_type": "stream",
          "name": "stdout",
          "text": [
            "<class 'pandas.core.frame.DataFrame'>\n",
            "RangeIndex: 21613 entries, 0 to 21612\n",
            "Data columns (total 21 columns):\n",
            " #   Column         Non-Null Count  Dtype  \n",
            "---  ------         --------------  -----  \n",
            " 0   id             21613 non-null  int64  \n",
            " 1   date           21613 non-null  object \n",
            " 2   price          21613 non-null  float64\n",
            " 3   bedrooms       21613 non-null  int64  \n",
            " 4   bathrooms      21613 non-null  float64\n",
            " 5   sqft_living    21613 non-null  int64  \n",
            " 6   sqft_lot       21613 non-null  int64  \n",
            " 7   floors         21613 non-null  float64\n",
            " 8   waterfront     21613 non-null  int64  \n",
            " 9   view           21613 non-null  int64  \n",
            " 10  condition      21613 non-null  int64  \n",
            " 11  grade          21613 non-null  int64  \n",
            " 12  sqft_above     21613 non-null  int64  \n",
            " 13  sqft_basement  21613 non-null  int64  \n",
            " 14  yr_built       21613 non-null  int64  \n",
            " 15  yr_renovated   21613 non-null  int64  \n",
            " 16  zipcode        21613 non-null  int64  \n",
            " 17  lat            21613 non-null  float64\n",
            " 18  long           21613 non-null  float64\n",
            " 19  sqft_living15  21613 non-null  int64  \n",
            " 20  sqft_lot15     21613 non-null  int64  \n",
            "dtypes: float64(5), int64(15), object(1)\n",
            "memory usage: 3.5+ MB\n"
          ]
        }
      ]
    },
    {
      "cell_type": "code",
      "source": [
        "df.describe()"
      ],
      "metadata": {
        "id": "1PNzDJZeqKhe",
        "colab": {
          "base_uri": "https://localhost:8080/",
          "height": 364
        },
        "outputId": "649d39ef-7734-4b7a-e0bd-4cb1e9f4d767"
      },
      "execution_count": null,
      "outputs": [
        {
          "output_type": "execute_result",
          "data": {
            "text/plain": [
              "                 id         price      bedrooms     bathrooms   sqft_living  \\\n",
              "count  2.161300e+04  2.161300e+04  21613.000000  21613.000000  21613.000000   \n",
              "mean   4.580302e+09  5.400881e+05      3.370842      2.114757   2079.899736   \n",
              "std    2.876566e+09  3.671272e+05      0.930062      0.770163    918.440897   \n",
              "min    1.000102e+06  7.500000e+04      0.000000      0.000000    290.000000   \n",
              "25%    2.123049e+09  3.219500e+05      3.000000      1.750000   1427.000000   \n",
              "50%    3.904930e+09  4.500000e+05      3.000000      2.250000   1910.000000   \n",
              "75%    7.308900e+09  6.450000e+05      4.000000      2.500000   2550.000000   \n",
              "max    9.900000e+09  7.700000e+06     33.000000      8.000000  13540.000000   \n",
              "\n",
              "           sqft_lot        floors    waterfront          view     condition  \\\n",
              "count  2.161300e+04  21613.000000  21613.000000  21613.000000  21613.000000   \n",
              "mean   1.510697e+04      1.494309      0.007542      0.234303      3.409430   \n",
              "std    4.142051e+04      0.539989      0.086517      0.766318      0.650743   \n",
              "min    5.200000e+02      1.000000      0.000000      0.000000      1.000000   \n",
              "25%    5.040000e+03      1.000000      0.000000      0.000000      3.000000   \n",
              "50%    7.618000e+03      1.500000      0.000000      0.000000      3.000000   \n",
              "75%    1.068800e+04      2.000000      0.000000      0.000000      4.000000   \n",
              "max    1.651359e+06      3.500000      1.000000      4.000000      5.000000   \n",
              "\n",
              "              grade    sqft_above  sqft_basement      yr_built  yr_renovated  \\\n",
              "count  21613.000000  21613.000000   21613.000000  21613.000000  21613.000000   \n",
              "mean       7.656873   1788.390691     291.509045   1971.005136     84.402258   \n",
              "std        1.175459    828.090978     442.575043     29.373411    401.679240   \n",
              "min        1.000000    290.000000       0.000000   1900.000000      0.000000   \n",
              "25%        7.000000   1190.000000       0.000000   1951.000000      0.000000   \n",
              "50%        7.000000   1560.000000       0.000000   1975.000000      0.000000   \n",
              "75%        8.000000   2210.000000     560.000000   1997.000000      0.000000   \n",
              "max       13.000000   9410.000000    4820.000000   2015.000000   2015.000000   \n",
              "\n",
              "            zipcode           lat          long  sqft_living15     sqft_lot15  \n",
              "count  21613.000000  21613.000000  21613.000000   21613.000000   21613.000000  \n",
              "mean   98077.939805     47.560053   -122.213896    1986.552492   12768.455652  \n",
              "std       53.505026      0.138564      0.140828     685.391304   27304.179631  \n",
              "min    98001.000000     47.155900   -122.519000     399.000000     651.000000  \n",
              "25%    98033.000000     47.471000   -122.328000    1490.000000    5100.000000  \n",
              "50%    98065.000000     47.571800   -122.230000    1840.000000    7620.000000  \n",
              "75%    98118.000000     47.678000   -122.125000    2360.000000   10083.000000  \n",
              "max    98199.000000     47.777600   -121.315000    6210.000000  871200.000000  "
            ],
            "text/html": [
              "\n",
              "  <div id=\"df-1e7ff77e-252c-460e-9a41-cae4a9de2e49\">\n",
              "    <div class=\"colab-df-container\">\n",
              "      <div>\n",
              "<style scoped>\n",
              "    .dataframe tbody tr th:only-of-type {\n",
              "        vertical-align: middle;\n",
              "    }\n",
              "\n",
              "    .dataframe tbody tr th {\n",
              "        vertical-align: top;\n",
              "    }\n",
              "\n",
              "    .dataframe thead th {\n",
              "        text-align: right;\n",
              "    }\n",
              "</style>\n",
              "<table border=\"1\" class=\"dataframe\">\n",
              "  <thead>\n",
              "    <tr style=\"text-align: right;\">\n",
              "      <th></th>\n",
              "      <th>id</th>\n",
              "      <th>price</th>\n",
              "      <th>bedrooms</th>\n",
              "      <th>bathrooms</th>\n",
              "      <th>sqft_living</th>\n",
              "      <th>sqft_lot</th>\n",
              "      <th>floors</th>\n",
              "      <th>waterfront</th>\n",
              "      <th>view</th>\n",
              "      <th>condition</th>\n",
              "      <th>grade</th>\n",
              "      <th>sqft_above</th>\n",
              "      <th>sqft_basement</th>\n",
              "      <th>yr_built</th>\n",
              "      <th>yr_renovated</th>\n",
              "      <th>zipcode</th>\n",
              "      <th>lat</th>\n",
              "      <th>long</th>\n",
              "      <th>sqft_living15</th>\n",
              "      <th>sqft_lot15</th>\n",
              "    </tr>\n",
              "  </thead>\n",
              "  <tbody>\n",
              "    <tr>\n",
              "      <th>count</th>\n",
              "      <td>2.161300e+04</td>\n",
              "      <td>2.161300e+04</td>\n",
              "      <td>21613.000000</td>\n",
              "      <td>21613.000000</td>\n",
              "      <td>21613.000000</td>\n",
              "      <td>2.161300e+04</td>\n",
              "      <td>21613.000000</td>\n",
              "      <td>21613.000000</td>\n",
              "      <td>21613.000000</td>\n",
              "      <td>21613.000000</td>\n",
              "      <td>21613.000000</td>\n",
              "      <td>21613.000000</td>\n",
              "      <td>21613.000000</td>\n",
              "      <td>21613.000000</td>\n",
              "      <td>21613.000000</td>\n",
              "      <td>21613.000000</td>\n",
              "      <td>21613.000000</td>\n",
              "      <td>21613.000000</td>\n",
              "      <td>21613.000000</td>\n",
              "      <td>21613.000000</td>\n",
              "    </tr>\n",
              "    <tr>\n",
              "      <th>mean</th>\n",
              "      <td>4.580302e+09</td>\n",
              "      <td>5.400881e+05</td>\n",
              "      <td>3.370842</td>\n",
              "      <td>2.114757</td>\n",
              "      <td>2079.899736</td>\n",
              "      <td>1.510697e+04</td>\n",
              "      <td>1.494309</td>\n",
              "      <td>0.007542</td>\n",
              "      <td>0.234303</td>\n",
              "      <td>3.409430</td>\n",
              "      <td>7.656873</td>\n",
              "      <td>1788.390691</td>\n",
              "      <td>291.509045</td>\n",
              "      <td>1971.005136</td>\n",
              "      <td>84.402258</td>\n",
              "      <td>98077.939805</td>\n",
              "      <td>47.560053</td>\n",
              "      <td>-122.213896</td>\n",
              "      <td>1986.552492</td>\n",
              "      <td>12768.455652</td>\n",
              "    </tr>\n",
              "    <tr>\n",
              "      <th>std</th>\n",
              "      <td>2.876566e+09</td>\n",
              "      <td>3.671272e+05</td>\n",
              "      <td>0.930062</td>\n",
              "      <td>0.770163</td>\n",
              "      <td>918.440897</td>\n",
              "      <td>4.142051e+04</td>\n",
              "      <td>0.539989</td>\n",
              "      <td>0.086517</td>\n",
              "      <td>0.766318</td>\n",
              "      <td>0.650743</td>\n",
              "      <td>1.175459</td>\n",
              "      <td>828.090978</td>\n",
              "      <td>442.575043</td>\n",
              "      <td>29.373411</td>\n",
              "      <td>401.679240</td>\n",
              "      <td>53.505026</td>\n",
              "      <td>0.138564</td>\n",
              "      <td>0.140828</td>\n",
              "      <td>685.391304</td>\n",
              "      <td>27304.179631</td>\n",
              "    </tr>\n",
              "    <tr>\n",
              "      <th>min</th>\n",
              "      <td>1.000102e+06</td>\n",
              "      <td>7.500000e+04</td>\n",
              "      <td>0.000000</td>\n",
              "      <td>0.000000</td>\n",
              "      <td>290.000000</td>\n",
              "      <td>5.200000e+02</td>\n",
              "      <td>1.000000</td>\n",
              "      <td>0.000000</td>\n",
              "      <td>0.000000</td>\n",
              "      <td>1.000000</td>\n",
              "      <td>1.000000</td>\n",
              "      <td>290.000000</td>\n",
              "      <td>0.000000</td>\n",
              "      <td>1900.000000</td>\n",
              "      <td>0.000000</td>\n",
              "      <td>98001.000000</td>\n",
              "      <td>47.155900</td>\n",
              "      <td>-122.519000</td>\n",
              "      <td>399.000000</td>\n",
              "      <td>651.000000</td>\n",
              "    </tr>\n",
              "    <tr>\n",
              "      <th>25%</th>\n",
              "      <td>2.123049e+09</td>\n",
              "      <td>3.219500e+05</td>\n",
              "      <td>3.000000</td>\n",
              "      <td>1.750000</td>\n",
              "      <td>1427.000000</td>\n",
              "      <td>5.040000e+03</td>\n",
              "      <td>1.000000</td>\n",
              "      <td>0.000000</td>\n",
              "      <td>0.000000</td>\n",
              "      <td>3.000000</td>\n",
              "      <td>7.000000</td>\n",
              "      <td>1190.000000</td>\n",
              "      <td>0.000000</td>\n",
              "      <td>1951.000000</td>\n",
              "      <td>0.000000</td>\n",
              "      <td>98033.000000</td>\n",
              "      <td>47.471000</td>\n",
              "      <td>-122.328000</td>\n",
              "      <td>1490.000000</td>\n",
              "      <td>5100.000000</td>\n",
              "    </tr>\n",
              "    <tr>\n",
              "      <th>50%</th>\n",
              "      <td>3.904930e+09</td>\n",
              "      <td>4.500000e+05</td>\n",
              "      <td>3.000000</td>\n",
              "      <td>2.250000</td>\n",
              "      <td>1910.000000</td>\n",
              "      <td>7.618000e+03</td>\n",
              "      <td>1.500000</td>\n",
              "      <td>0.000000</td>\n",
              "      <td>0.000000</td>\n",
              "      <td>3.000000</td>\n",
              "      <td>7.000000</td>\n",
              "      <td>1560.000000</td>\n",
              "      <td>0.000000</td>\n",
              "      <td>1975.000000</td>\n",
              "      <td>0.000000</td>\n",
              "      <td>98065.000000</td>\n",
              "      <td>47.571800</td>\n",
              "      <td>-122.230000</td>\n",
              "      <td>1840.000000</td>\n",
              "      <td>7620.000000</td>\n",
              "    </tr>\n",
              "    <tr>\n",
              "      <th>75%</th>\n",
              "      <td>7.308900e+09</td>\n",
              "      <td>6.450000e+05</td>\n",
              "      <td>4.000000</td>\n",
              "      <td>2.500000</td>\n",
              "      <td>2550.000000</td>\n",
              "      <td>1.068800e+04</td>\n",
              "      <td>2.000000</td>\n",
              "      <td>0.000000</td>\n",
              "      <td>0.000000</td>\n",
              "      <td>4.000000</td>\n",
              "      <td>8.000000</td>\n",
              "      <td>2210.000000</td>\n",
              "      <td>560.000000</td>\n",
              "      <td>1997.000000</td>\n",
              "      <td>0.000000</td>\n",
              "      <td>98118.000000</td>\n",
              "      <td>47.678000</td>\n",
              "      <td>-122.125000</td>\n",
              "      <td>2360.000000</td>\n",
              "      <td>10083.000000</td>\n",
              "    </tr>\n",
              "    <tr>\n",
              "      <th>max</th>\n",
              "      <td>9.900000e+09</td>\n",
              "      <td>7.700000e+06</td>\n",
              "      <td>33.000000</td>\n",
              "      <td>8.000000</td>\n",
              "      <td>13540.000000</td>\n",
              "      <td>1.651359e+06</td>\n",
              "      <td>3.500000</td>\n",
              "      <td>1.000000</td>\n",
              "      <td>4.000000</td>\n",
              "      <td>5.000000</td>\n",
              "      <td>13.000000</td>\n",
              "      <td>9410.000000</td>\n",
              "      <td>4820.000000</td>\n",
              "      <td>2015.000000</td>\n",
              "      <td>2015.000000</td>\n",
              "      <td>98199.000000</td>\n",
              "      <td>47.777600</td>\n",
              "      <td>-121.315000</td>\n",
              "      <td>6210.000000</td>\n",
              "      <td>871200.000000</td>\n",
              "    </tr>\n",
              "  </tbody>\n",
              "</table>\n",
              "</div>\n",
              "      <button class=\"colab-df-convert\" onclick=\"convertToInteractive('df-1e7ff77e-252c-460e-9a41-cae4a9de2e49')\"\n",
              "              title=\"Convert this dataframe to an interactive table.\"\n",
              "              style=\"display:none;\">\n",
              "        \n",
              "  <svg xmlns=\"http://www.w3.org/2000/svg\" height=\"24px\"viewBox=\"0 0 24 24\"\n",
              "       width=\"24px\">\n",
              "    <path d=\"M0 0h24v24H0V0z\" fill=\"none\"/>\n",
              "    <path d=\"M18.56 5.44l.94 2.06.94-2.06 2.06-.94-2.06-.94-.94-2.06-.94 2.06-2.06.94zm-11 1L8.5 8.5l.94-2.06 2.06-.94-2.06-.94L8.5 2.5l-.94 2.06-2.06.94zm10 10l.94 2.06.94-2.06 2.06-.94-2.06-.94-.94-2.06-.94 2.06-2.06.94z\"/><path d=\"M17.41 7.96l-1.37-1.37c-.4-.4-.92-.59-1.43-.59-.52 0-1.04.2-1.43.59L10.3 9.45l-7.72 7.72c-.78.78-.78 2.05 0 2.83L4 21.41c.39.39.9.59 1.41.59.51 0 1.02-.2 1.41-.59l7.78-7.78 2.81-2.81c.8-.78.8-2.07 0-2.86zM5.41 20L4 18.59l7.72-7.72 1.47 1.35L5.41 20z\"/>\n",
              "  </svg>\n",
              "      </button>\n",
              "      \n",
              "  <style>\n",
              "    .colab-df-container {\n",
              "      display:flex;\n",
              "      flex-wrap:wrap;\n",
              "      gap: 12px;\n",
              "    }\n",
              "\n",
              "    .colab-df-convert {\n",
              "      background-color: #E8F0FE;\n",
              "      border: none;\n",
              "      border-radius: 50%;\n",
              "      cursor: pointer;\n",
              "      display: none;\n",
              "      fill: #1967D2;\n",
              "      height: 32px;\n",
              "      padding: 0 0 0 0;\n",
              "      width: 32px;\n",
              "    }\n",
              "\n",
              "    .colab-df-convert:hover {\n",
              "      background-color: #E2EBFA;\n",
              "      box-shadow: 0px 1px 2px rgba(60, 64, 67, 0.3), 0px 1px 3px 1px rgba(60, 64, 67, 0.15);\n",
              "      fill: #174EA6;\n",
              "    }\n",
              "\n",
              "    [theme=dark] .colab-df-convert {\n",
              "      background-color: #3B4455;\n",
              "      fill: #D2E3FC;\n",
              "    }\n",
              "\n",
              "    [theme=dark] .colab-df-convert:hover {\n",
              "      background-color: #434B5C;\n",
              "      box-shadow: 0px 1px 3px 1px rgba(0, 0, 0, 0.15);\n",
              "      filter: drop-shadow(0px 1px 2px rgba(0, 0, 0, 0.3));\n",
              "      fill: #FFFFFF;\n",
              "    }\n",
              "  </style>\n",
              "\n",
              "      <script>\n",
              "        const buttonEl =\n",
              "          document.querySelector('#df-1e7ff77e-252c-460e-9a41-cae4a9de2e49 button.colab-df-convert');\n",
              "        buttonEl.style.display =\n",
              "          google.colab.kernel.accessAllowed ? 'block' : 'none';\n",
              "\n",
              "        async function convertToInteractive(key) {\n",
              "          const element = document.querySelector('#df-1e7ff77e-252c-460e-9a41-cae4a9de2e49');\n",
              "          const dataTable =\n",
              "            await google.colab.kernel.invokeFunction('convertToInteractive',\n",
              "                                                     [key], {});\n",
              "          if (!dataTable) return;\n",
              "\n",
              "          const docLinkHtml = 'Like what you see? Visit the ' +\n",
              "            '<a target=\"_blank\" href=https://colab.research.google.com/notebooks/data_table.ipynb>data table notebook</a>'\n",
              "            + ' to learn more about interactive tables.';\n",
              "          element.innerHTML = '';\n",
              "          dataTable['output_type'] = 'display_data';\n",
              "          await google.colab.output.renderOutput(dataTable, element);\n",
              "          const docLink = document.createElement('div');\n",
              "          docLink.innerHTML = docLinkHtml;\n",
              "          element.appendChild(docLink);\n",
              "        }\n",
              "      </script>\n",
              "    </div>\n",
              "  </div>\n",
              "  "
            ]
          },
          "metadata": {},
          "execution_count": 279
        }
      ]
    },
    {
      "cell_type": "code",
      "source": [
        "df.drop('id', axis = 1, inplace = True)\n",
        "df.drop('date', axis = 1, inplace = True)\n",
        "df.drop('zipcode', axis = 1, inplace = True)\n",
        "df.drop('lat', axis = 1, inplace = True)\n",
        "df.drop('long', axis = 1, inplace = True)\n"
      ],
      "metadata": {
        "id": "0KUD8T08qMmq"
      },
      "execution_count": null,
      "outputs": []
    },
    {
      "cell_type": "code",
      "source": [
        "plt.figure(figsize=(18,8)) \n",
        "sns.heatmap(df.corr(), annot=True, cmap='Dark2_r', linewidths = 0.5)\n",
        "plt.show()"
      ],
      "metadata": {
        "id": "r-jk_nHmqKpp",
        "colab": {
          "base_uri": "https://localhost:8080/",
          "height": 551
        },
        "outputId": "592a1b86-1f3f-42f8-e674-f48296b71d71"
      },
      "execution_count": null,
      "outputs": [
        {
          "output_type": "display_data",
          "data": {
            "text/plain": [
              "<Figure size 1296x576 with 2 Axes>"
            ],
            "image/png": "[encoded data removed]"
          },
          "metadata": {
            "needs_background": "light"
          }
        }
      ]
    },
    {
      "cell_type": "code",
      "source": [
        "columns = df.columns.drop('price')\n",
        "\n",
        "features = columns\n",
        "label = ['price']\n",
        "\n",
        "X = df[features]\n",
        "y = df[label]"
      ],
      "metadata": {
        "id": "p4zqCnFwq7Oc"
      },
      "execution_count": null,
      "outputs": []
    },
    {
      "cell_type": "markdown",
      "source": [
        "###2.1. Divide los datos. Utiliza la función train_test_split (ya esta en el notebook)."
      ],
      "metadata": {
        "id": "i56qBT3W2qYo"
      }
    },
    {
      "cell_type": "code",
      "source": [
        "from sklearn.model_selection import train_test_split\n",
        "X_train, X_test, y_train, y_test = train_test_split(X, y, test_size = 0.1, random_state = 101)\n",
        "\n",
        "print(f'Numero total de registros en la bdd: {len(X)}')\n",
        "print(\"*****\"*10)\n",
        "print(f'Numero total de registros en el training set: {len(X_train)}')\n",
        "print(f'Tamaño de X_train: {X_train.shape}')\n",
        "print(\"*****\"*10)\n",
        "print(f'Mumero total de registros en el test dataset: {len(X_test)}')\n",
        "print(f'Tamaño del X_test: {X_test.shape}')"
      ],
      "metadata": {
        "id": "p91PEVPLq93-",
        "colab": {
          "base_uri": "https://localhost:8080/"
        },
        "outputId": "9b32ed40-35c0-4506-de79-2ef54965fd73"
      },
      "execution_count": null,
      "outputs": [
        {
          "output_type": "stream",
          "name": "stdout",
          "text": [
            "Numero total de registros en la bdd: 21613\n",
            "**************************************************\n",
            "Numero total de registros en el training set: 19451\n",
            "Tamaño de X_train: (19451, 15)\n",
            "**************************************************\n",
            "Mumero total de registros en el test dataset: 2162\n",
            "Tamaño del X_test: (2162, 15)\n"
          ]
        }
      ]
    },
    {
      "cell_type": "markdown",
      "source": [
        "\n",
        "###2.2. Regresión Múltiple Lineal.\n",
        "Realiza la regresión lineal: modelo generado (ecuación), sus errores y r cuadrada."
      ],
      "metadata": {
        "id": "NLGm4EjO2vlf"
      }
    },
    {
      "cell_type": "code",
      "source": [
        "modelo = LinearRegression(fit_intercept=True)\n",
        "modelo.fit(X_train, y_train)"
      ],
      "metadata": {
        "id": "0faHrN8-rv9V",
        "colab": {
          "base_uri": "https://localhost:8080/"
        },
        "outputId": "3817799a-b2bd-4d05-e7e6-1b36fecc49d3"
      },
      "execution_count": null,
      "outputs": [
        {
          "output_type": "execute_result",
          "data": {
            "text/plain": [
              "LinearRegression()"
            ]
          },
          "metadata": {},
          "execution_count": 372
        }
      ]
    },
    {
      "cell_type": "code",
      "source": [
        "print(\"Model coefs: \", modelo.coef_)\n",
        "print(\"Model intercept:\", modelo.intercept_)"
      ],
      "metadata": {
        "colab": {
          "base_uri": "https://localhost:8080/"
        },
        "id": "VY6vVKQ61vqL",
        "outputId": "18a2c4ee-ab8b-475e-8dc5-dd665f647f08"
      },
      "execution_count": null,
      "outputs": [
        {
          "output_type": "stream",
          "name": "stdout",
          "text": [
            "Model coefs:  [[-3.82008048e+04  4.14661380e+04  1.07992584e+02  1.71356997e-02\n",
            "   3.16916913e+04  5.52691023e+05  4.12493228e+04  2.12221443e+04\n",
            "   1.19493216e+05  4.77750271e+01  6.02175565e+01 -3.55090216e+03\n",
            "   1.32602215e+01  2.90059284e+01 -5.48132603e-01]]\n",
            "Model intercept: [6151359.2627409]\n"
          ]
        }
      ]
    },
    {
      "cell_type": "code",
      "source": [
        "y_pred=modelo.predict(X_test)"
      ],
      "metadata": {
        "id": "DMydM9en2EOr"
      },
      "execution_count": null,
      "outputs": []
    },
    {
      "cell_type": "code",
      "source": [
        "resultados={}\n",
        "resultados['LR lineal']=[mean_absolute_error(y_test, y_pred),mean_squared_error(y_test, y_pred, squared=False), r2_score(y_test, y_pred)]"
      ],
      "metadata": {
        "id": "RM2fi9Q32UBP"
      },
      "execution_count": null,
      "outputs": []
    },
    {
      "cell_type": "code",
      "source": [
        "print('   Error Medio Absoluto (MAE):', resultados['LR lineal'][0])\n",
        "print('Root Mean Squared Error(RMSE):', resultados['LR lineal'][1])\n",
        "print('                     r2_score:',resultados ['LR lineal'][2])"
      ],
      "metadata": {
        "colab": {
          "base_uri": "https://localhost:8080/"
        },
        "id": "eOEDHuoK2gkZ",
        "outputId": "af4cebe9-1b81-4b1d-aa09-2836a90852b8"
      },
      "execution_count": null,
      "outputs": [
        {
          "output_type": "stream",
          "name": "stdout",
          "text": [
            "   Error Medio Absoluto (MAE): 137480.1388273178\n",
            "Root Mean Squared Error(RMSE): 232133.3676240749\n",
            "                     r2_score: 0.6579723205007814\n"
          ]
        }
      ]
    },
    {
      "cell_type": "markdown",
      "source": [
        "\n",
        "###2.3. Regresión Múltiple Polinomial.\n",
        "\n",
        "###Realiza la regresión polinomial completa, tu modelo generado (ecuación), sus errores y r cuadrada."
      ],
      "metadata": {
        "id": "NoDABiKt20Iq"
      }
    },
    {
      "cell_type": "code",
      "source": [
        "poly_features = PolynomialFeatures(degree=2, include_bias=False)\n",
        "X_poly = poly_features.fit_transform(X_train)"
      ],
      "metadata": {
        "id": "w84gNz073P_j"
      },
      "execution_count": null,
      "outputs": []
    },
    {
      "cell_type": "code",
      "source": [
        "modelo.fit(X_poly, y_train)"
      ],
      "metadata": {
        "colab": {
          "base_uri": "https://localhost:8080/"
        },
        "id": "VdVS0Zqj3P1d",
        "outputId": "2fcebc3d-2535-4f02-e2b3-bc6eddd71ec1"
      },
      "execution_count": null,
      "outputs": [
        {
          "output_type": "execute_result",
          "data": {
            "text/plain": [
              "LinearRegression()"
            ]
          },
          "metadata": {},
          "execution_count": 393
        }
      ]
    },
    {
      "cell_type": "code",
      "source": [
        "print(\"Model coefs: \", modelo.coef_)\n",
        "print(\"Model intercept:\", modelo.intercept_)"
      ],
      "metadata": {
        "colab": {
          "base_uri": "https://localhost:8080/"
        },
        "id": "qp9iIII53Peo",
        "outputId": "dab4bbf6-11f6-42ce-c980-63583185b619"
      },
      "execution_count": null,
      "outputs": [
        {
          "output_type": "stream",
          "name": "stdout",
          "text": [
            "Model coefs:  [[ 9.33912834e+05 -1.09330730e+06 -4.56449932e+02 -2.78686288e+01\n",
            "  -2.07407238e+06 -3.95431870e+06 -2.88638026e+05  5.58697570e+05\n",
            "   1.09864510e+06 -2.19758415e+02 -3.82034272e+02 -8.59630908e+04\n",
            "  -2.95351595e+03  3.99965710e+03 -3.40106316e+01  9.57541696e+02\n",
            "   7.49958190e+03 -1.37969466e+01 -1.84926695e-02  8.57699569e+03\n",
            "  -1.14965893e+04 -3.06588900e+02 -5.24628836e+03 -5.36788065e+03\n",
            "  -1.20757669e+00 -1.46068182e+01 -4.67099451e+02 -9.13191519e+00\n",
            "   1.72800642e+01  2.15500198e-01 -9.63429892e+03  1.53879172e+01\n",
            "  -1.35842369e-01 -2.59067293e+04  4.33707238e+04  3.82942459e+03\n",
            "  -1.07592927e+03  2.22971689e+04  1.44292325e+01  1.33928361e+00\n",
            "   5.03401980e+02 -1.70798805e+01 -1.72895923e+01 -5.56785248e-02\n",
            "   1.56185890e+00 -4.34972758e+00  4.83299456e+00  1.60303193e+02\n",
            "  -1.42711737e+01  1.31138593e+01  2.07283397e+01  2.61335089e+00\n",
            "  -4.41381412e+00 -2.20765903e+00  6.36282684e-02  3.53629072e+00\n",
            "   1.88176819e+01  3.06637958e-07  4.40839907e-01 -9.84216136e-02\n",
            "  -9.75869659e-02  9.17233241e-02  1.51960354e-01  4.34904161e+00\n",
            "   4.34926327e+00  1.37650380e-02 -1.48516006e-04  1.76864211e-04\n",
            "   1.05303479e-06  2.16116740e+04 -1.31320713e+05  1.44412938e+04\n",
            "   2.02989005e+04 -4.27844150e+03 -2.82201875e+00  7.66330754e+00\n",
            "   1.03664758e+03  2.59349503e+00 -3.20401882e+01 -5.28612817e-01\n",
            "  -3.95431899e+06 -1.60488762e+04  9.19611219e+03 -1.61637325e+05\n",
            "   1.83103328e+02 -2.28001023e+01  4.42833048e+03 -2.99177258e+01\n",
            "   1.70604193e+02 -8.13533327e-01  7.98448565e+03  7.33999963e+03\n",
            "   1.79556171e+04 -1.24963418e+01 -1.77332663e+00  7.20704241e+01\n",
            "  -9.96831512e+00  4.63359903e+00 -5.24194412e-02 -5.41914699e+02\n",
            "  -6.03821219e+03  1.16309467e+00  1.19544378e+01 -3.07074418e+02\n",
            "  -2.01997367e+01  4.63198881e+01 -2.76877580e-01  7.36624125e+03\n",
            "   9.60665725e+00  1.11459299e+01 -5.71989956e+02 -1.01345126e+01\n",
            "  -2.27554341e+01 -5.08577049e-01 -4.16987537e+00 -1.28789962e+00\n",
            "   2.44718109e+00 -2.54496408e-02 -3.53836487e+00 -1.88174913e+01\n",
            "   2.79020491e+00  2.54821210e+00 -1.88342368e-02 -3.53312599e+00\n",
            "  -1.88181978e+01  2.30599022e+01  4.06969503e-01 -2.04695891e+00\n",
            "   1.88936366e-02  1.11629336e+00  4.71190049e-02  2.55405757e-04\n",
            "   3.31517292e-02  1.11144269e-04  2.35741027e-06]]\n",
            "Model intercept: [80227028.3104757]\n"
          ]
        }
      ]
    },
    {
      "cell_type": "code",
      "source": [
        "X_polytest = poly_features.fit_transform(X_test)\n",
        "y_pred=modelo.predict(X_polytest)\n"
      ],
      "metadata": {
        "id": "RMY3-5SX5tC4"
      },
      "execution_count": null,
      "outputs": []
    },
    {
      "cell_type": "code",
      "source": [
        "resultados['LR polinomial']=[mean_absolute_error(y_test, y_pred),mean_squared_error(y_test, y_pred, squared=False), r2_score(y_test, y_pred)]"
      ],
      "metadata": {
        "id": "b4yyboJr55TL"
      },
      "execution_count": null,
      "outputs": []
    },
    {
      "cell_type": "code",
      "source": [
        "print('   Error Medio Absoluto (MAE):', resultados['LR polinomial'][0])\n",
        "print('Root Mean Squared Error(RMSE):', resultados['LR polinomial'][1])\n",
        "print('                     r2_score:',resultados ['LR polinomial'][2])"
      ],
      "metadata": {
        "colab": {
          "base_uri": "https://localhost:8080/"
        },
        "id": "koZ995Qv6CCq",
        "outputId": "e6347f83-861d-4eb6-cad4-a1a7a11797b2"
      },
      "execution_count": null,
      "outputs": [
        {
          "output_type": "stream",
          "name": "stdout",
          "text": [
            "   Error Medio Absoluto (MAE): 121314.06948173394\n",
            "Root Mean Squared Error(RMSE): 186261.28575138954\n",
            "                     r2_score: 0.7797929072570198\n"
          ]
        }
      ]
    },
    {
      "cell_type": "markdown",
      "source": [
        "\n",
        "###2.4. Realiza la regresión con Ridge y Lasso. Incluye la ecuación de tu modelo, errores y r cuadrada."
      ],
      "metadata": {
        "id": "0zhqjdWl22-J"
      }
    },
    {
      "cell_type": "markdown",
      "source": [
        "Ridge"
      ],
      "metadata": {
        "id": "m6r7OK3E6Ydp"
      }
    },
    {
      "cell_type": "code",
      "source": [
        "modelo = Ridge(alpha=1)\n",
        "modelo.fit(X_train, y_train)"
      ],
      "metadata": {
        "colab": {
          "base_uri": "https://localhost:8080/"
        },
        "id": "2tphqeQC6Q1t",
        "outputId": "04830d7e-d9de-4574-becb-4b080347146c"
      },
      "execution_count": null,
      "outputs": [
        {
          "output_type": "execute_result",
          "data": {
            "text/plain": [
              "Ridge(alpha=1)"
            ]
          },
          "metadata": {},
          "execution_count": 344
        }
      ]
    },
    {
      "cell_type": "code",
      "source": [
        "print(\"Model coefs: \", modelo.coef_)\n",
        "print(\"Model intercept:\", modelo.intercept_)"
      ],
      "metadata": {
        "colab": {
          "base_uri": "https://localhost:8080/"
        },
        "id": "gZwR0cGq6Qqz",
        "outputId": "d7dae57c-2d05-46a2-a651-cf898aad2e83"
      },
      "execution_count": null,
      "outputs": [
        {
          "output_type": "stream",
          "name": "stdout",
          "text": [
            "Model coefs:  [[-3.82192265e+04  4.14509656e+04  1.08013951e+02  1.69318239e-02\n",
            "   3.16891574e+04  5.48258333e+05  4.14559235e+04  2.12264347e+04\n",
            "   1.19470568e+05  4.78066878e+01  6.02065605e+01 -3.55050129e+03\n",
            "   1.33171890e+01  2.89851987e+01 -5.47998512e-01]]\n",
            "Model intercept: [6150751.3836867]\n"
          ]
        }
      ]
    },
    {
      "cell_type": "code",
      "source": [
        "y_pred=modelo.predict(X_test)"
      ],
      "metadata": {
        "id": "OJCGcIe86Qfv"
      },
      "execution_count": null,
      "outputs": []
    },
    {
      "cell_type": "code",
      "source": [
        "resultados['Ridge lineal']=[mean_absolute_error(y_test, y_pred),mean_squared_error(y_test, y_pred, squared=False), r2_score(y_test, y_pred)]"
      ],
      "metadata": {
        "id": "sFgcOQS26QU5"
      },
      "execution_count": null,
      "outputs": []
    },
    {
      "cell_type": "code",
      "source": [
        "print('   Error Medio Absoluto (MAE):', resultados['Ridge lineal'][0])\n",
        "print('Root Mean Squared Error(RMSE):', resultados['Ridge lineal'][1])\n",
        "print('                     r2_score:',resultados ['Ridge lineal'][2])"
      ],
      "metadata": {
        "colab": {
          "base_uri": "https://localhost:8080/"
        },
        "id": "QXdj3-no6QJ8",
        "outputId": "5bd5e8c1-d3f6-407a-826a-920b1ec1c31b"
      },
      "execution_count": null,
      "outputs": [
        {
          "output_type": "stream",
          "name": "stdout",
          "text": [
            "   Error Medio Absoluto (MAE): 137491.0433940327\n",
            "Root Mean Squared Error(RMSE): 232165.2426647754\n",
            "                     r2_score: 0.6578783840295006\n"
          ]
        }
      ]
    },
    {
      "cell_type": "markdown",
      "source": [
        "Ridge Polinomial"
      ],
      "metadata": {
        "id": "XuSD62GZ7_cZ"
      }
    },
    {
      "cell_type": "code",
      "source": [
        "poly_features = PolynomialFeatures(degree=2, include_bias=False)\n",
        "X_poly = poly_features.fit_transform(X_train)"
      ],
      "metadata": {
        "id": "SfRy29b26P9A"
      },
      "execution_count": null,
      "outputs": []
    },
    {
      "cell_type": "code",
      "source": [
        "modelo.fit(X_poly, y_train)"
      ],
      "metadata": {
        "colab": {
          "base_uri": "https://localhost:8080/"
        },
        "id": "KdKT5sk-6PxX",
        "outputId": "3e93b474-0ba8-46c7-a8b6-cb9f57b012f0"
      },
      "execution_count": null,
      "outputs": [
        {
          "output_type": "execute_result",
          "data": {
            "text/plain": [
              "Ridge(alpha=1)"
            ]
          },
          "metadata": {},
          "execution_count": 350
        }
      ]
    },
    {
      "cell_type": "code",
      "source": [
        "print(\"Model coefs: \", modelo.coef_)\n",
        "print(\"Model intercept:\", modelo.intercept_)"
      ],
      "metadata": {
        "colab": {
          "base_uri": "https://localhost:8080/"
        },
        "id": "r8DlOp8N6Pki",
        "outputId": "ae82f50b-193a-4e16-a0aa-826deb92d70b"
      },
      "execution_count": null,
      "outputs": [
        {
          "output_type": "stream",
          "name": "stdout",
          "text": [
            "Model coefs:  [[ 4.60229790e+05 -2.83585413e+05 -4.55464410e+02 -2.82448011e+01\n",
            "  -3.80402269e+05 -1.05185321e+05 -3.14232811e+05  2.78096459e+05\n",
            "   4.58289840e+05 -4.76026296e+02 -1.00096362e+02 -9.44134661e+04\n",
            "  -3.20983501e+03  4.23087633e+03 -3.23674215e+01  9.32986146e+02\n",
            "   3.48742438e+03  5.43975087e+01 -2.14546577e-02  4.70502058e+03\n",
            "  -2.56476409e+04  3.24879982e+02 -3.01444787e+03 -5.66059875e+03\n",
            "  -6.66169999e+01 -8.02106332e+01 -2.22983571e+02 -4.78159577e+00\n",
            "   1.54263885e+01  1.97165496e-01 -5.25211822e+03 -2.52928970e+01\n",
            "  -1.30155764e-01 -1.47629184e+04  6.45325301e+04  2.42711649e+03\n",
            "  -7.85325849e+03  1.77292578e+04  5.37640732e+01  4.16252730e+01\n",
            "   1.06288743e+02 -2.44400242e+01 -1.18911213e+01 -2.73755715e-02\n",
            "   7.88204211e+01  5.87436298e+01 -1.42333083e+01  7.07228388e+01\n",
            "  -2.62685556e+00 -5.83766594e+00  6.93510243e+00 -1.88075328e+01\n",
            "  -1.07351638e+01 -4.35856686e+01  1.09136165e+02  2.79321857e+01\n",
            "   5.12600511e+01  3.21238544e-07  4.52082841e-01 -1.20510056e-01\n",
            "  -9.68561304e-02  1.00698384e-01  1.49255555e-01 -5.87443174e+01\n",
            "  -5.87440849e+01  1.39437552e-02 -1.03360304e-04  1.66565554e-04\n",
            "   1.09559144e-06  2.74642172e+04 -8.50092326e+04  1.24950229e+04\n",
            "   7.75644243e+03 -4.80260288e+03  1.36902636e+01  2.16690537e+01\n",
            "   1.93195955e+02 -1.42094696e+01 -3.21386897e+01 -5.27220266e-01\n",
            "  -1.05401634e+05 -1.23256344e+04 -2.79365187e+04 -1.31954663e+05\n",
            "   2.55297051e+02  8.36231065e+01  4.24921077e+02 -7.34554891e+01\n",
            "   1.64712849e+02 -8.56477918e-01  7.75923475e+03  7.57637434e+03\n",
            "   1.86745488e+04 -2.33641152e+01 -1.37385940e+01  8.39432715e+01\n",
            "  -9.40140819e+00  4.25693725e+00 -5.82688399e-02 -6.55259183e+02\n",
            "  -2.44019445e+03  2.49244144e+01  3.06425414e+01 -1.67137479e+02\n",
            "  -1.62722462e+01  4.38796641e+01 -2.96412454e-01  6.42418323e+03\n",
            "   2.56634111e+01  2.96099830e+01 -2.40942586e+02 -4.53225047e+00\n",
            "  -2.48210869e+01 -5.26115593e-01 -6.00084222e+01 -1.28064907e+02\n",
            "   4.39357386e+01 -1.09095304e+02 -2.79333758e+01 -5.12598546e+01\n",
            "  -6.81506575e+01  4.37690716e+01 -1.09094090e+02 -2.79299625e+01\n",
            "  -5.12605737e+01  2.48032861e+01  5.21619103e-01 -2.15555224e+00\n",
            "   1.81365306e-02  1.11754101e+00  4.50818714e-02  1.80175905e-04\n",
            "   3.32827238e-02  1.32143452e-04  2.33348656e-06]]\n",
            "Model intercept: [90027452.42348145]\n"
          ]
        }
      ]
    },
    {
      "cell_type": "code",
      "source": [
        "X_polytest = poly_features.fit_transform(X_test)\n",
        "y_pred=modelo.predict(X_polytest)\n"
      ],
      "metadata": {
        "id": "J6RsquRj6PWe"
      },
      "execution_count": null,
      "outputs": []
    },
    {
      "cell_type": "code",
      "source": [
        "resultados['Ridge polinomial']=[mean_absolute_error(y_test, y_pred),mean_squared_error(y_test, y_pred, squared=False), r2_score(y_test, y_pred)]"
      ],
      "metadata": {
        "id": "lZWAzM_b6Os4"
      },
      "execution_count": null,
      "outputs": []
    },
    {
      "cell_type": "code",
      "source": [
        "print('   Error Medio Absoluto (MAE):', resultados['Ridge polinomial'][0])\n",
        "print('Root Mean Squared Error(RMSE):', resultados['Ridge polinomial'][1])\n",
        "print('                     r2_score:',resultados ['Ridge polinomial'][2])"
      ],
      "metadata": {
        "colab": {
          "base_uri": "https://localhost:8080/"
        },
        "id": "aq0yhPqF8Ync",
        "outputId": "095da182-e6f8-4ab7-8e9a-8a72f344e43a"
      },
      "execution_count": null,
      "outputs": [
        {
          "output_type": "stream",
          "name": "stdout",
          "text": [
            "   Error Medio Absoluto (MAE): 121404.76295997466\n",
            "Root Mean Squared Error(RMSE): 186174.41030556874\n",
            "                     r2_score: 0.7799982760523756\n"
          ]
        }
      ]
    },
    {
      "cell_type": "markdown",
      "source": [
        "Ahora con Lasso:"
      ],
      "metadata": {
        "id": "tqy1QcI_8ucv"
      }
    },
    {
      "cell_type": "code",
      "source": [
        "modelo = Lasso(alpha=0.01, max_iter=8000)\n",
        "modelo.fit(X_train, y_train)\n",
        "\n"
      ],
      "metadata": {
        "colab": {
          "base_uri": "https://localhost:8080/"
        },
        "id": "T1iihne18iAI",
        "outputId": "d6205a64-d23b-4944-82fa-22ab8de11772"
      },
      "execution_count": null,
      "outputs": [
        {
          "output_type": "stream",
          "name": "stderr",
          "text": [
            "/usr/local/lib/python3.7/dist-packages/sklearn/linear_model/_coordinate_descent.py:648: ConvergenceWarning: Objective did not converge. You might want to increase the number of iterations, check the scale of the features or consider increasing regularisation. Duality gap: 4.053e+14, tolerance: 2.572e+11\n",
            "  coef_, l1_reg, l2_reg, X, y, max_iter, tol, rng, random, positive\n"
          ]
        },
        {
          "output_type": "execute_result",
          "data": {
            "text/plain": [
              "Lasso(alpha=0.01, max_iter=8000)"
            ]
          },
          "metadata": {},
          "execution_count": 355
        }
      ]
    },
    {
      "cell_type": "code",
      "source": [
        "print(\"Model coefs: \", modelo.coef_)\n",
        "print(\"Model intercept:\", modelo.intercept_)"
      ],
      "metadata": {
        "id": "MUqxkvQp_A4Y",
        "outputId": "318a5450-559b-4b75-aca6-1e87e6e463b5",
        "colab": {
          "base_uri": "https://localhost:8080/"
        }
      },
      "execution_count": null,
      "outputs": [
        {
          "output_type": "stream",
          "name": "stdout",
          "text": [
            "Model coefs:  [-3.82007921e+04  4.14660952e+04  2.93481980e+02  1.71356245e-02\n",
            "  3.16916458e+04  5.52689524e+05  4.12493792e+04  2.12221167e+04\n",
            "  1.19493202e+05 -1.37714322e+02 -1.25271820e+02 -3.55090164e+03\n",
            "  1.32602477e+01  2.90059224e+01 -5.48132637e-01]\n",
            "Model intercept: [6151358.47125267]\n"
          ]
        }
      ]
    },
    {
      "cell_type": "code",
      "source": [
        "y_pred=modelo.predict(X_test)"
      ],
      "metadata": {
        "id": "0W6diA8i_G3f"
      },
      "execution_count": null,
      "outputs": []
    },
    {
      "cell_type": "code",
      "source": [
        "resultados['Lasso lineal']=[mean_absolute_error(y_test, y_pred),mean_squared_error(y_test, y_pred, squared=False), r2_score(y_test, y_pred)]"
      ],
      "metadata": {
        "id": "hz7wnO03_O0y"
      },
      "execution_count": null,
      "outputs": []
    },
    {
      "cell_type": "code",
      "source": [
        "print('   Error Medio Absoluto (MAE):', resultados['Lasso lineal'][0])\n",
        "print('Root Mean Squared Error(RMSE):', resultados['Lasso lineal'][1])\n",
        "print('                     r2_score:',resultados ['Lasso lineal'][2])"
      ],
      "metadata": {
        "id": "8vBmOV9Y_TqJ",
        "outputId": "ae25b5fa-ab79-4f38-fdaf-04d1773040f9",
        "colab": {
          "base_uri": "https://localhost:8080/"
        }
      },
      "execution_count": null,
      "outputs": [
        {
          "output_type": "stream",
          "name": "stdout",
          "text": [
            "   Error Medio Absoluto (MAE): 137480.14315454173\n",
            "Root Mean Squared Error(RMSE): 232133.3792204408\n",
            "                     r2_score: 0.657972286328372\n"
          ]
        }
      ]
    },
    {
      "cell_type": "markdown",
      "source": [
        "Lasso Polinomial:\n"
      ],
      "metadata": {
        "id": "L6dKLLdj_dZx"
      }
    },
    {
      "cell_type": "code",
      "source": [
        "poly_features = PolynomialFeatures(degree=2, include_bias=False)\n",
        "X_poly = poly_features.fit_transform(X_train)"
      ],
      "metadata": {
        "id": "ApgpH6hn_cur"
      },
      "execution_count": null,
      "outputs": []
    },
    {
      "cell_type": "code",
      "source": [
        "modelo.fit(X_poly, y_train)"
      ],
      "metadata": {
        "id": "O55WC_3qA_ww",
        "outputId": "45a25677-2577-4b4f-b17c-5560b8860461",
        "colab": {
          "base_uri": "https://localhost:8080/"
        }
      },
      "execution_count": null,
      "outputs": [
        {
          "output_type": "stream",
          "name": "stderr",
          "text": [
            "/usr/local/lib/python3.7/dist-packages/sklearn/linear_model/_coordinate_descent.py:648: ConvergenceWarning: Objective did not converge. You might want to increase the number of iterations, check the scale of the features or consider increasing regularisation. Duality gap: 3.308e+14, tolerance: 2.572e+11\n",
            "  coef_, l1_reg, l2_reg, X, y, max_iter, tol, rng, random, positive\n"
          ]
        },
        {
          "output_type": "execute_result",
          "data": {
            "text/plain": [
              "Lasso(alpha=0.01, max_iter=8000)"
            ]
          },
          "metadata": {},
          "execution_count": 361
        }
      ]
    },
    {
      "cell_type": "code",
      "source": [
        "print(\"Model coefs: \", modelo.coef_)\n",
        "print(\"Model intercept:\", modelo.intercept_)"
      ],
      "metadata": {
        "id": "TYp-xZHeBklr",
        "outputId": "1e8aab7a-9106-47dc-bc26-4f1c9861ed55",
        "colab": {
          "base_uri": "https://localhost:8080/"
        }
      },
      "execution_count": null,
      "outputs": [
        {
          "output_type": "stream",
          "name": "stdout",
          "text": [
            "Model coefs:  [ 6.16471883e+05 -1.00341220e+05  3.64456049e+02 -1.40465061e+01\n",
            " -4.06358378e+05 -2.17617745e+06  2.71151449e+05  6.80622524e+05\n",
            "  5.49319867e+05 -3.53585772e+02 -3.54078550e+02 -1.22092104e+04\n",
            " -9.97022723e+02  8.76592222e+02 -1.08194328e+01  1.06918486e+03\n",
            "  3.46406910e+03 -2.56717202e+01 -1.18760573e-01  8.56598185e+03\n",
            " -2.07802079e+04 -5.60810930e+02 -3.30539900e+03 -5.92014103e+03\n",
            "  1.23172258e+01  1.03123484e+00 -3.08995075e+02 -4.39070636e+00\n",
            "  1.99326172e+01  2.47773128e-01 -3.95767181e+03  6.01872106e+01\n",
            " -1.04001641e-01 -2.16041249e+04  4.72160313e+04  6.05878868e+03\n",
            " -1.26867392e+04  2.21143949e+04 -2.74670119e+01 -4.70052497e+01\n",
            "  2.45435145e+01 -2.59944123e+01 -3.18930326e+01  1.23185405e-01\n",
            " -2.02717308e-02  7.54138847e-04 -6.68871018e+00 -2.92152902e+02\n",
            "  8.23264538e+01 -2.58714483e+01  2.88898567e+01 -6.56181332e-02\n",
            " -6.05434947e-02 -6.24758101e-02  5.20834660e-02 -5.61512042e-03\n",
            "  1.63334647e-03  1.51942000e-07  4.44045795e-01 -1.82003402e-01\n",
            " -9.82039621e-02  8.39003428e-02  2.14222618e-01 -1.35301289e-03\n",
            " -1.21167112e-03  6.68271857e-03 -2.71455530e-04  8.16309633e-05\n",
            "  1.35708848e-06  2.40513113e+04 -1.05083760e+05  1.32358992e+04\n",
            "  5.62682716e+03  3.92520649e+02  7.18870158e+00  2.78583854e+01\n",
            "  2.18221849e+02 -2.14434394e+01 -4.86922804e+01 -4.44345580e-01\n",
            " -1.39882647e+06 -1.87697672e+04  2.22109645e+03 -1.33517595e+05\n",
            "  6.29006817e+02  4.49169293e+02  2.12225255e+03 -4.72386164e+01\n",
            "  1.60779399e+02 -1.10928480e+00  7.32541707e+03  2.25806428e+03\n",
            "  1.82567547e+04 -1.10169877e+02 -1.02338909e+02 -2.07872669e+02\n",
            " -1.64124153e+01  9.43719452e+00 -7.13490393e-02  1.54647132e+03\n",
            " -4.52433984e+03  3.93541648e+01  4.92479320e+01 -3.85083656e+02\n",
            " -2.38813338e+01  6.78048211e+01 -4.54437764e-01  5.32456662e+03\n",
            "  5.08677809e+00  1.22007567e+01 -2.77773886e+02 -3.04022376e+00\n",
            " -3.15159538e+01 -5.24445128e-01  8.95520352e-02  1.93724134e-01\n",
            " -6.91246031e-02 -2.23652269e-02  9.92493868e-03 -1.57095305e-03\n",
            "  1.55768969e-02 -6.64400984e-02 -1.47901139e-02  1.52374104e-02\n",
            " -2.23229475e-03  3.65188892e+00  3.11033477e-01 -4.52225950e-01\n",
            "  7.26771526e-03  2.09899511e-01  7.51709946e-02  3.30107205e-05\n",
            "  3.37726942e-02  2.17435939e-04  2.21005996e-06]\n",
            "Model intercept: [10155038.20636673]\n"
          ]
        }
      ]
    },
    {
      "cell_type": "code",
      "source": [
        "X_polytest = poly_features.fit_transform(X_test)\n",
        "y_pred=modelo.predict(X_polytest)\n"
      ],
      "metadata": {
        "id": "jxr-nG8rAZZs"
      },
      "execution_count": null,
      "outputs": []
    },
    {
      "cell_type": "code",
      "source": [
        "resultados['Lasso polinomial']=[mean_absolute_error(y_test, y_pred),mean_squared_error(y_test, y_pred, squared=False), r2_score(y_test, y_pred)]"
      ],
      "metadata": {
        "id": "5iEG2Jpq_3jr"
      },
      "execution_count": null,
      "outputs": []
    },
    {
      "cell_type": "code",
      "source": [
        "print('   Error Medio Absoluto (MAE):', resultados['Lasso polinomial'][0])\n",
        "print('Root Mean Squared Error(RMSE):', resultados['Lasso polinomial'][1])\n",
        "print('                     r2_score:',resultados ['Lasso polinomial'][2])"
      ],
      "metadata": {
        "id": "k3HPzxY4_9y5",
        "outputId": "a4fab405-3ee4-4445-bef5-3bdb44e87095",
        "colab": {
          "base_uri": "https://localhost:8080/"
        }
      },
      "execution_count": null,
      "outputs": [
        {
          "output_type": "stream",
          "name": "stdout",
          "text": [
            "   Error Medio Absoluto (MAE): 121523.32193129537\n",
            "Root Mean Squared Error(RMSE): 186989.3883023174\n",
            "                     r2_score: 0.7780679463245579\n"
          ]
        }
      ]
    },
    {
      "cell_type": "code",
      "source": [
        "resultados"
      ],
      "metadata": {
        "id": "50NvE7rvBvcx",
        "outputId": "207ac4f2-66e1-4b67-bfd9-6a4765b84d82",
        "colab": {
          "base_uri": "https://localhost:8080/"
        }
      },
      "execution_count": null,
      "outputs": [
        {
          "output_type": "execute_result",
          "data": {
            "text/plain": [
              "{'LR lineal': [137480.1388273178, 232133.3676240749, 0.6579723205007814],\n",
              " 'LR polinomial': [121314.06948173394, 186261.28575138954, 0.7797929072570198],\n",
              " 'Ridge lineal': [137491.0433940327, 232165.2426647754, 0.6578783840295006],\n",
              " 'Ridge polinomial': [121404.76295997466,\n",
              "  186174.41030556874,\n",
              "  0.7799982760523756],\n",
              " 'Lasso lineal': [137480.14315454173, 232133.3792204408, 0.657972286328372],\n",
              " 'Lasso polinomial': [121523.32193129537,\n",
              "  186989.3883023174,\n",
              "  0.7780679463245579]}"
            ]
          },
          "metadata": {},
          "execution_count": 366
        }
      ]
    },
    {
      "cell_type": "code",
      "source": [
        "modelos=resultados.keys()\n",
        "modelos"
      ],
      "metadata": {
        "id": "LqKXmNlFCG1w",
        "outputId": "755bf52d-628d-4bfc-9ac1-e05b044bb97d",
        "colab": {
          "base_uri": "https://localhost:8080/"
        }
      },
      "execution_count": null,
      "outputs": [
        {
          "output_type": "execute_result",
          "data": {
            "text/plain": [
              "dict_keys(['LR lineal', 'LR polinomial', 'Ridge lineal', 'Ridge polinomial', 'Lasso lineal', 'Lasso polinomial'])"
            ]
          },
          "metadata": {},
          "execution_count": 368
        }
      ]
    },
    {
      "cell_type": "markdown",
      "source": [
        "\n",
        "###2.5. Finalmente grafica : MAE (de los cuatro métodos) , R2 (de los cuatro métodos)"
      ],
      "metadata": {
        "id": "8QCcgSIW24rB"
      }
    },
    {
      "cell_type": "code",
      "source": [
        "# Grafica de MAE\n",
        "mae_value = list()\n",
        "for modelo in modelos:\n",
        "  mae_value.append(resultados[modelo][0])\n",
        "  print('MAE de ',modelo,\" \",resultados[modelo][0])\n",
        "\n",
        "plt.figure(figsize = (10, 5))\n",
        "plt.bar(modelos, mae_value, color ='red', width = 0.48)\n",
        "plt.title(\"MAE\")\n"
      ],
      "metadata": {
        "id": "bcyB4AeLB5a5",
        "outputId": "e1e137ce-3227-4d78-971c-0fd68c9177cd",
        "colab": {
          "base_uri": "https://localhost:8080/",
          "height": 458
        }
      },
      "execution_count": null,
      "outputs": [
        {
          "output_type": "stream",
          "name": "stdout",
          "text": [
            "MAE de  LR lineal   137480.1388273178\n",
            "MAE de  LR polinomial   121314.06948173394\n",
            "MAE de  Ridge lineal   137491.0433940327\n",
            "MAE de  Ridge polinomial   121404.76295997466\n",
            "MAE de  Lasso lineal   137480.14315454173\n",
            "MAE de  Lasso polinomial   121523.32193129537\n"
          ]
        },
        {
          "output_type": "execute_result",
          "data": {
            "text/plain": [
              "Text(0.5, 1.0, 'MAE')"
            ]
          },
          "metadata": {},
          "execution_count": 369
        },
        {
          "output_type": "display_data",
          "data": {
            "text/plain": [
              "<Figure size 720x360 with 1 Axes>"
            ],
            "image/png": "[encoded data removed]"
          },
          "metadata": {
            "needs_background": "light"
          }
        }
      ]
    },
    {
      "cell_type": "code",
      "source": [
        "rmse_value = list()\n",
        "for modelo in modelos:\n",
        "  rmse_value.append(resultados[modelo][1])\n",
        "  print('RMSE de ',modelo,\" \",resultados[modelo][1])\n",
        "\n",
        "plt.figure(figsize = (10, 5))\n",
        "plt.bar(modelos, rmse_value, color ='orange', width = 0.48)\n",
        "plt.title(\"RMSE\")"
      ],
      "metadata": {
        "id": "CDbM6mBNCSG1",
        "outputId": "79c9be7c-9f19-4d2b-dd8d-435849295c1d",
        "colab": {
          "base_uri": "https://localhost:8080/",
          "height": 458
        }
      },
      "execution_count": null,
      "outputs": [
        {
          "output_type": "stream",
          "name": "stdout",
          "text": [
            "RMSE de  LR lineal   232133.3676240749\n",
            "RMSE de  LR polinomial   186261.28575138954\n",
            "RMSE de  Ridge lineal   232165.2426647754\n",
            "RMSE de  Ridge polinomial   186174.41030556874\n",
            "RMSE de  Lasso lineal   232133.3792204408\n",
            "RMSE de  Lasso polinomial   186989.3883023174\n"
          ]
        },
        {
          "output_type": "execute_result",
          "data": {
            "text/plain": [
              "Text(0.5, 1.0, 'RMSE')"
            ]
          },
          "metadata": {},
          "execution_count": 370
        },
        {
          "output_type": "display_data",
          "data": {
            "text/plain": [
              "<Figure size 720x360 with 1 Axes>"
            ],
            "image/png": "[encoded data removed]"
          },
          "metadata": {
            "needs_background": "light"
          }
        }
      ]
    },
    {
      "cell_type": "code",
      "source": [
        "r2_value = list()\n",
        "for modelo in modelos:\n",
        "  r2_value.append(resultados[modelo][2])\n",
        "  print('r2_sccore de ',modelo,\" \",resultados[modelo][2])\n",
        "\n",
        "plt.figure(figsize = (10, 5))\n",
        "plt.bar(modelos, r2_value, color ='blue', width = 0.48)\n",
        "plt.title(\"r2_score\")"
      ],
      "metadata": {
        "id": "8Wc2gtsoCaj2",
        "outputId": "abe0cc14-8e5d-49b2-bbaa-7dabeadcc599",
        "colab": {
          "base_uri": "https://localhost:8080/",
          "height": 458
        }
      },
      "execution_count": null,
      "outputs": [
        {
          "output_type": "stream",
          "name": "stdout",
          "text": [
            "r2_sccore de  LR lineal   0.6579723205007814\n",
            "r2_sccore de  LR polinomial   0.7797929072570198\n",
            "r2_sccore de  Ridge lineal   0.6578783840295006\n",
            "r2_sccore de  Ridge polinomial   0.7799982760523756\n",
            "r2_sccore de  Lasso lineal   0.657972286328372\n",
            "r2_sccore de  Lasso polinomial   0.7780679463245579\n"
          ]
        },
        {
          "output_type": "execute_result",
          "data": {
            "text/plain": [
              "Text(0.5, 1.0, 'r2_score')"
            ]
          },
          "metadata": {},
          "execution_count": 371
        },
        {
          "output_type": "display_data",
          "data": {
            "text/plain": [
              "<Figure size 720x360 with 1 Axes>"
            ],
            "image/png": "[encoded data removed]"
          },
          "metadata": {
            "needs_background": "light"
          }
        }
      ]
    },
    {
      "cell_type": "markdown",
      "source": [
        "\n",
        "###2.6.Explica tus resultados, que método se aproxima mejor, ¿por que?, ¿que porcentajes de entrenamiento y evaluación usaste? ¿que error tienes?, ¿es bueno?, ¿cómo lo sabes?\n",
        "###Agrega las conclusiones"
      ],
      "metadata": {
        "id": "I-cep-YP27Bp"
      }
    },
    {
      "cell_type": "markdown",
      "source": [
        "Utilizamos como tamano de prueba(test) y entrenamiento (training) lo hicimos del 10% y 90% respectivammente.\n",
        "\n",
        "Tenemos que el mejor modelo con el menor MAE es el de Regresion Lineal Polinomial grado 2, y muy ligeramente los otros polinomiales de grado 2 en Lasso y Ridge tambien por un ligero margen de diferencia , que igualmente el RMSE tambien son los mas bajos, y su  r2 estuvo un poco mayor en cada caso con respecto a los lineales, lo cual nos indica una mejor relacion con la data modelada. Entre mas cerca de 1 es r2 esto es mejor.\n",
        "\n",
        "En cuanto a r2 vemos que los lineales tienen los valores mas bajos, pero sus errores mas altos. Lo cual nos indica que no son tan buenos como los polinomiales.\n",
        "\n",
        "Recomendamos a la empresa el mas simple: regresion lineal polinomial grado 2 , como un modelo mas simple y con menor grado de error.\n",
        "\n",
        "Nota: cuando se aumentaba el grado del polinomonio vimos que los errores crecian, por ello nos quedamos con un polinomia grado 2.\n"
      ],
      "metadata": {
        "id": "N2AdkbqeEZbR"
      }
    }
  ]
}