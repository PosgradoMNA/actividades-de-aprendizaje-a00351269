{
  "metadata": {
    "kernelspec": {
      "name": "python",
      "display_name": "Pyolite",
      "language": "python"
    },
    "language_info": {
      "codemirror_mode": {
        "name": "python",
        "version": 3
      },
      "file_extension": ".py",
      "mimetype": "text/x-python",
      "name": "python",
      "nbconvert_exporter": "python",
      "pygments_lexer": "ipython3",
      "version": "3.8"
    }
  },
  "nbformat_minor": 4,
  "nbformat": 4,
  "cells": [
    {
      "cell_type": "markdown",
      "source": "<h3> ESTO LO HICE EN LAB DE CURSO IBM</h3>\n\n<h3>Create a Tuple</h3>\n",
      "metadata": {}
    },
    {
      "cell_type": "markdown",
      "source": "Create a tuple  <code> (0,1,2,3) </code> and assign it to variable <code>A</code>:\n",
      "metadata": {}
    },
    {
      "cell_type": "code",
      "source": "A=(0,1,2,3)",
      "metadata": {
        "trusted": true
      },
      "execution_count": 2,
      "outputs": []
    },
    {
      "cell_type": "code",
      "source": "print (A)",
      "metadata": {
        "trusted": true
      },
      "execution_count": 3,
      "outputs": [
        {
          "name": "stdout",
          "text": "(0, 1, 2, 3)\n",
          "output_type": "stream"
        }
      ]
    },
    {
      "cell_type": "markdown",
      "source": "<h3>Find the Elements of a Tuple</h3> \n",
      "metadata": {}
    },
    {
      "cell_type": "markdown",
      "source": "Find the first two elements of tuple <code> A </code>:\n",
      "metadata": {}
    },
    {
      "cell_type": "code",
      "source": "(A[0:2])",
      "metadata": {},
      "execution_count": null,
      "outputs": [
        {
          "execution_count": 6,
          "output_type": "execute_result",
          "data": {
            "text/plain": "(0, 1)"
          },
          "metadata": {}
        }
      ]
    },
    {
      "cell_type": "markdown",
      "source": "<h3>Lists </h3> \n",
      "metadata": {}
    },
    {
      "cell_type": "markdown",
      "source": "For the next few questions, you will need the following list:\n",
      "metadata": {}
    },
    {
      "cell_type": "code",
      "source": "B=[\"a\",\"b\",\"c\"]",
      "metadata": {
        "trusted": true
      },
      "execution_count": 8,
      "outputs": []
    },
    {
      "cell_type": "markdown",
      "source": "Find the first two elements of the list <code> B</code>:\n",
      "metadata": {}
    },
    {
      "cell_type": "code",
      "source": "B[0:2]",
      "metadata": {
        "trusted": true
      },
      "execution_count": 10,
      "outputs": [
        {
          "execution_count": 10,
          "output_type": "execute_result",
          "data": {
            "text/plain": "['a', 'b']"
          },
          "metadata": {}
        }
      ]
    },
    {
      "cell_type": "markdown",
      "source": "Change the first element of the list to an uppercase <code>\"A\"</code>.\n",
      "metadata": {}
    },
    {
      "cell_type": "code",
      "source": "B[0]= \"A\"",
      "metadata": {
        "trusted": true
      },
      "execution_count": 13,
      "outputs": []
    },
    {
      "cell_type": "code",
      "source": "print (B)",
      "metadata": {
        "trusted": true
      },
      "execution_count": 14,
      "outputs": [
        {
          "name": "stdout",
          "text": "['A', 'b', 'c']\n",
          "output_type": "stream"
        }
      ]
    }
  ]
}