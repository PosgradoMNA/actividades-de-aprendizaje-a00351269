{
  "metadata": {
    "kernelspec": {
      "name": "python",
      "display_name": "Pyolite",
      "language": "python"
    },
    "language_info": {
      "codemirror_mode": {
        "name": "python",
        "version": 3
      },
      "file_extension": ".py",
      "mimetype": "text/x-python",
      "name": "python",
      "nbconvert_exporter": "python",
      "pygments_lexer": "ipython3",
      "version": "3.8"
    }
  },
  "nbformat_minor": 4,
  "nbformat": 4,
  "cells": [
    {
      "cell_type": "markdown",
      "source": "<h3>ESTO LO HICE EN LAB DEL CURSO IBM</h3>\n\nYou will need the dictionary <code>D</code>:\n",
      "metadata": {}
    },
    {
      "cell_type": "code",
      "source": "D={'a':0,'b':1,'c':2}",
      "metadata": {
        "trusted": true
      },
      "execution_count": 2,
      "outputs": []
    },
    {
      "cell_type": "markdown",
      "source": "<h3>Find the Value of a Key</h3> \n",
      "metadata": {}
    },
    {
      "cell_type": "markdown",
      "source": "Find the value for the key <code>'a'</code>:\n",
      "metadata": {}
    },
    {
      "cell_type": "code",
      "source": "D[\"a\"]\n",
      "metadata": {
        "trusted": true
      },
      "execution_count": 4,
      "outputs": [
        {
          "execution_count": 4,
          "output_type": "execute_result",
          "data": {
            "text/plain": "0"
          },
          "metadata": {}
        }
      ]
    },
    {
      "cell_type": "markdown",
      "source": "<h3>Keys of a Dictionary</h3> \n",
      "metadata": {}
    },
    {
      "cell_type": "markdown",
      "source": "Find the keys of the dictionary <code>D</code>:\n",
      "metadata": {}
    },
    {
      "cell_type": "code",
      "source": "D.keys()",
      "metadata": {
        "trusted": true
      },
      "execution_count": 3,
      "outputs": [
        {
          "execution_count": 3,
          "output_type": "execute_result",
          "data": {
            "text/plain": "dict_keys(['a', 'b', 'c'])"
          },
          "metadata": {}
        }
      ]
    }
  ]
}