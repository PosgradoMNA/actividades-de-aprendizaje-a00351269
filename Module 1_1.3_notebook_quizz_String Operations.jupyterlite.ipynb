{
  "metadata": {
    "kernelspec": {
      "name": "python",
      "display_name": "Pyolite",
      "language": "python"
    },
    "language_info": {
      "codemirror_mode": {
        "name": "python",
        "version": 3
      },
      "file_extension": ".py",
      "mimetype": "text/x-python",
      "name": "python",
      "nbconvert_exporter": "python",
      "pygments_lexer": "ipython3",
      "version": "3.8"
    }
  },
  "nbformat_minor": 4,
  "nbformat": 4,
  "cells": [
    {
      "cell_type": "markdown",
      "source": "<h3>ESTO LO HICE EN EL LAB DE IBM </h3>\n<h3>Slicing </h3>\n",
      "metadata": {}
    },
    {
      "cell_type": "markdown",
      "source": "Use slicing to find the first four elements of the following string:\n",
      "metadata": {}
    },
    {
      "cell_type": "code",
      "source": "Letters=\"ABCDEFGHIJK\"\nLetters[0:4]",
      "metadata": {
        "trusted": true
      },
      "execution_count": null,
      "outputs": []
    },
    {
      "cell_type": "markdown",
      "source": "<h3>Strides Are Good </h3> \n",
      "metadata": {}
    },
    {
      "cell_type": "markdown",
      "source": "Use a stride value of 2 on the following string :\n",
      "metadata": {}
    },
    {
      "cell_type": "code",
      "source": "Good=\"GsoAo+d\"\nGood[::2]",
      "metadata": {
        "trusted": true
      },
      "execution_count": null,
      "outputs": []
    },
    {
      "cell_type": "markdown",
      "source": "<h3>Converting \"uppercase\" to \"UPPERCASE\" </h3> \n",
      "metadata": {}
    },
    {
      "cell_type": "markdown",
      "source": "Convert the following string to uppercase using the method <code>upper()</code>:\n",
      "metadata": {}
    },
    {
      "cell_type": "code",
      "source": "\"uppercase\"\n\"uppercase\".upper()",
      "metadata": {
        "trusted": true
      },
      "execution_count": null,
      "outputs": []
    }
  ]
}