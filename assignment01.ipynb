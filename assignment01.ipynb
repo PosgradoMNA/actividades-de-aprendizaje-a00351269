{
  "nbformat": 4,
  "nbformat_minor": 0,
  "metadata": {
    "colab": {
      "name": "assignment01.ipynb",
      "provenance": [],
      "include_colab_link": true
    },
    "kernelspec": {
      "name": "python3",
      "display_name": "Python 3"
    },
    "language_info": {
      "name": "python"
    }
  },
  "cells": [
    {
      "cell_type": "markdown",
      "metadata": {
        "id": "view-in-github",
        "colab_type": "text"
      },
      "source": [
        "<a href=\"https://colab.research.google.com/github/PosgradoMNA/actividades-de-aprendizaje-a00351269/blob/main/assignment01.ipynb\" target=\"_parent\"><img src=\"https://colab.research.google.com/assets/colab-badge.svg\" alt=\"Open In Colab\"/></a>"
      ]
    },
    {
      "cell_type": "code",
      "execution_count": null,
      "metadata": {
        "id": "LzUSMM79NR9P",
        "outputId": "0e6cb421-1096-426a-b31a-f61d059def81",
        "colab": {
          "base_uri": "https://localhost:8080/"
        }
      },
      "outputs": [
        {
          "output_type": "stream",
          "name": "stdout",
          "text": [
            "assignment01 for GitJobish03 and edited in git, and 18\n"
          ]
        }
      ],
      "source": [
        "print('assignment01 for GitJobish03 and edited in git, and 18')"
      ]
    },
    {
      "cell_type": "code",
      "source": [
        "print (\"Hello World\")\n"
      ],
      "metadata": {
        "id": "Hl6r6Oajni_V",
        "colab": {
          "base_uri": "https://localhost:8080/"
        },
        "outputId": "cdf9983e-551a-4c57-9206-4e7a24475eca"
      },
      "execution_count": 1,
      "outputs": [
        {
          "output_type": "stream",
          "name": "stdout",
          "text": [
            "Hello World\n"
          ]
        }
      ]
    },
    {
      "cell_type": "markdown",
      "source": [
        "# Que son las Tuples"
      ],
      "metadata": {
        "id": "EvEf3Fkz3uaq"
      }
    },
    {
      "cell_type": "code",
      "source": [
        "A = (0,1,2,3)"
      ],
      "metadata": {
        "id": "mxM_WppZPMFx"
      },
      "execution_count": 2,
      "outputs": []
    },
    {
      "cell_type": "code",
      "source": [
        "print (A)"
      ],
      "metadata": {
        "id": "2frKmADG4tdC",
        "outputId": "2f1212eb-2d10-4ea8-e2dd-9350021c984d",
        "colab": {
          "base_uri": "https://localhost:8080/"
        }
      },
      "execution_count": 4,
      "outputs": [
        {
          "output_type": "stream",
          "name": "stdout",
          "text": [
            "(0, 1, 2, 3)\n"
          ]
        }
      ]
    },
    {
      "cell_type": "code",
      "source": [
        "type (A)"
      ],
      "metadata": {
        "id": "34sIcBMB4u1b",
        "outputId": "d1ef84c1-688c-410e-a75b-607981126032",
        "colab": {
          "base_uri": "https://localhost:8080/"
        }
      },
      "execution_count": 5,
      "outputs": [
        {
          "output_type": "execute_result",
          "data": {
            "text/plain": [
              "tuple"
            ]
          },
          "metadata": {},
          "execution_count": 5
        }
      ]
    },
    {
      "cell_type": "markdown",
      "source": [
        "### Encuentra los 2 primeros elementos de una Tuple"
      ],
      "metadata": {
        "id": "uf3AapCH48j4"
      }
    },
    {
      "cell_type": "code",
      "source": [
        "A [0:2]"
      ],
      "metadata": {
        "id": "C5dST6wb5KeT",
        "outputId": "e87a8453-d9cb-4390-ab10-2c3ad844922f",
        "colab": {
          "base_uri": "https://localhost:8080/"
        }
      },
      "execution_count": 8,
      "outputs": [
        {
          "output_type": "execute_result",
          "data": {
            "text/plain": [
              "(0, 1)"
            ]
          },
          "metadata": {},
          "execution_count": 8
        }
      ]
    },
    {
      "cell_type": "markdown",
      "source": [
        "Se usa el primer indice 0 y el ultimo es uno menos, si quiero los primeros 2 entonces empiezo del 0 y termino en 2, para que al restarle-1, el ultimo indice sea 1, para sacar los elementos 0 y 1."
      ],
      "metadata": {
        "id": "-p7PJuEj5cP5"
      }
    },
    {
      "cell_type": "markdown",
      "source": [
        "### LISTAS"
      ],
      "metadata": {
        "id": "LTu6q9Qh6X4m"
      }
    },
    {
      "cell_type": "code",
      "source": [
        "L = [\"A\", \"B\", \"C\", \"D\"]"
      ],
      "metadata": {
        "id": "7I2royKf6aIR"
      },
      "execution_count": 9,
      "outputs": []
    },
    {
      "cell_type": "code",
      "source": [
        "print (L)"
      ],
      "metadata": {
        "id": "xMuaLpUE6mxY",
        "outputId": "d506dcdf-1300-453a-9d19-ea0848f53048",
        "colab": {
          "base_uri": "https://localhost:8080/"
        }
      },
      "execution_count": 10,
      "outputs": [
        {
          "output_type": "stream",
          "name": "stdout",
          "text": [
            "['A', 'B', 'C', 'D']\n"
          ]
        }
      ]
    },
    {
      "cell_type": "code",
      "source": [
        "type (L)"
      ],
      "metadata": {
        "id": "7YqVminQ6op6",
        "outputId": "5ed25a25-ec47-48de-c64e-dcb2ef3995e3",
        "colab": {
          "base_uri": "https://localhost:8080/"
        }
      },
      "execution_count": 11,
      "outputs": [
        {
          "output_type": "execute_result",
          "data": {
            "text/plain": [
              "list"
            ]
          },
          "metadata": {},
          "execution_count": 11
        }
      ]
    },
    {
      "cell_type": "markdown",
      "source": [
        "## Haciendo cast de la Lista a Set"
      ],
      "metadata": {
        "id": "5p_oxv0Z6yUj"
      }
    },
    {
      "cell_type": "code",
      "source": [
        "S=set(L)"
      ],
      "metadata": {
        "id": "P4zy0iOm65Ih"
      },
      "execution_count": 13,
      "outputs": []
    },
    {
      "cell_type": "code",
      "source": [
        "print(S)"
      ],
      "metadata": {
        "id": "smaByC-868_P",
        "outputId": "c8f5ec27-6d66-4900-92d5-5858e749586a",
        "colab": {
          "base_uri": "https://localhost:8080/"
        }
      },
      "execution_count": 14,
      "outputs": [
        {
          "output_type": "stream",
          "name": "stdout",
          "text": [
            "{'D', 'C', 'B', 'A'}\n"
          ]
        }
      ]
    },
    {
      "cell_type": "code",
      "source": [
        "type (S)"
      ],
      "metadata": {
        "id": "TbPWte057Akf",
        "outputId": "7879af87-ece4-424b-a27c-2ada481c1848",
        "colab": {
          "base_uri": "https://localhost:8080/"
        }
      },
      "execution_count": 15,
      "outputs": [
        {
          "output_type": "execute_result",
          "data": {
            "text/plain": [
              "set"
            ]
          },
          "metadata": {},
          "execution_count": 15
        }
      ]
    },
    {
      "cell_type": "markdown",
      "source": [
        "Adiciona un elemento al Set S"
      ],
      "metadata": {
        "id": "EUgeFgcp7QlD"
      }
    },
    {
      "cell_type": "code",
      "source": [
        "S.add(\"E\")"
      ],
      "metadata": {
        "id": "tEvVRtCH7T0Q"
      },
      "execution_count": 16,
      "outputs": []
    },
    {
      "cell_type": "code",
      "source": [
        "print (S)"
      ],
      "metadata": {
        "id": "0pT9N3YY7aAn",
        "outputId": "e168643f-7853-44bc-bd56-6abdc227cc2e",
        "colab": {
          "base_uri": "https://localhost:8080/"
        }
      },
      "execution_count": 17,
      "outputs": [
        {
          "output_type": "stream",
          "name": "stdout",
          "text": [
            "{'E', 'B', 'D', 'C', 'A'}\n"
          ]
        }
      ]
    },
    {
      "cell_type": "markdown",
      "source": [
        "# Intersección de Conjuntos\n",
        "# A y B"
      ],
      "metadata": {
        "id": "92jj5Up17sxD"
      }
    },
    {
      "cell_type": "markdown",
      "source": [
        "### Se utiliza la funcion A.intersection(B) o el operador &"
      ],
      "metadata": {
        "id": "qDKNNNcR8HUy"
      }
    },
    {
      "cell_type": "code",
      "source": [
        "A={1,3,5,7,9}\n",
        "B={2,3,4,6,7,8,0}\n",
        "A.intersection(B)\n"
      ],
      "metadata": {
        "id": "fwjJxKYk7ypB",
        "outputId": "804317af-5815-4f9d-88bf-f99d6214f259",
        "colab": {
          "base_uri": "https://localhost:8080/"
        }
      },
      "execution_count": 19,
      "outputs": [
        {
          "output_type": "execute_result",
          "data": {
            "text/plain": [
              "{3, 7}"
            ]
          },
          "metadata": {},
          "execution_count": 19
        }
      ]
    },
    {
      "cell_type": "code",
      "source": [
        "A&B"
      ],
      "metadata": {
        "id": "jLf7Me578h6q",
        "outputId": "d014d87c-ec40-4645-8326-2491c7405387",
        "colab": {
          "base_uri": "https://localhost:8080/"
        }
      },
      "execution_count": 20,
      "outputs": [
        {
          "output_type": "execute_result",
          "data": {
            "text/plain": [
              "{3, 7}"
            ]
          },
          "metadata": {},
          "execution_count": 20
        }
      ]
    },
    {
      "cell_type": "markdown",
      "source": [
        "# DICCIONARIOS"
      ],
      "metadata": {
        "id": "Ca5kD4Ud81Y-"
      }
    },
    {
      "cell_type": "markdown",
      "source": [
        "Se crea un diccionario con corchetes { } y se especifica la llave y con dos puntos se separa el valor"
      ],
      "metadata": {
        "id": "_KvUgE0a9Giy"
      }
    },
    {
      "cell_type": "code",
      "source": [
        "D={'a':0,'b':1,'c':2}"
      ],
      "metadata": {
        "id": "UoVpzjVb839K"
      },
      "execution_count": 21,
      "outputs": []
    },
    {
      "cell_type": "code",
      "source": [
        "print (D)"
      ],
      "metadata": {
        "id": "RztQ35yx8-Y0",
        "outputId": "79001d8a-6429-4131-8c5f-25fe181d0893",
        "colab": {
          "base_uri": "https://localhost:8080/"
        }
      },
      "execution_count": 22,
      "outputs": [
        {
          "output_type": "stream",
          "name": "stdout",
          "text": [
            "{'a': 0, 'b': 1, 'c': 2}\n"
          ]
        }
      ]
    },
    {
      "cell_type": "markdown",
      "source": [
        "###  Para encontrar un valor en la llave se pone la llave dentro de parantesis cuadrados [ ], ejemplo:\n",
        "º"
      ],
      "metadata": {
        "id": "FCa5fPwF9YE7"
      }
    },
    {
      "cell_type": "code",
      "source": [
        "print (\"El valor de la llave primera llave letra a en D es igual a: \", D[\"a\"])"
      ],
      "metadata": {
        "id": "T0UN3YkS9AMy",
        "outputId": "29be7075-2b31-4743-c3ad-01b00d2f58cc",
        "colab": {
          "base_uri": "https://localhost:8080/"
        }
      },
      "execution_count": 26,
      "outputs": [
        {
          "output_type": "stream",
          "name": "stdout",
          "text": [
            "El valor de la llave primera llave letra a en D es igual a:  0\n"
          ]
        }
      ]
    },
    {
      "cell_type": "markdown",
      "source": [
        "Los valores de las llaves se obtienen con la funcion D.keys() y los valores en cada llave mediante la funcion D.values() "
      ],
      "metadata": {
        "id": "8qxNMpaC-ehw"
      }
    },
    {
      "cell_type": "code",
      "source": [
        "D.keys()"
      ],
      "metadata": {
        "id": "vVnFY6899v2B",
        "outputId": "73deb4ed-c333-4f59-8114-1d9eb7df47aa",
        "colab": {
          "base_uri": "https://localhost:8080/"
        }
      },
      "execution_count": 27,
      "outputs": [
        {
          "output_type": "execute_result",
          "data": {
            "text/plain": [
              "dict_keys(['a', 'b', 'c'])"
            ]
          },
          "metadata": {},
          "execution_count": 27
        }
      ]
    },
    {
      "cell_type": "code",
      "source": [
        "D.values()"
      ],
      "metadata": {
        "id": "wt1Rh-Rg-ZWr",
        "outputId": "2eedc563-8a0d-4fb5-fd39-8e3535066f9f",
        "colab": {
          "base_uri": "https://localhost:8080/"
        }
      },
      "execution_count": 29,
      "outputs": [
        {
          "output_type": "execute_result",
          "data": {
            "text/plain": [
              "dict_values([0, 1, 2])"
            ]
          },
          "metadata": {},
          "execution_count": 29
        }
      ]
    },
    {
      "cell_type": "markdown",
      "source": [
        "Se pueden sumar los valores en todas la llaves"
      ],
      "metadata": {
        "id": "ji6LUjxa_HRy"
      }
    },
    {
      "cell_type": "code",
      "source": [
        "sum(D.values())"
      ],
      "metadata": {
        "id": "zp1xHtWg-cUW",
        "outputId": "7e1f3f9d-1ff5-44cb-ec59-a819d5d7471b",
        "colab": {
          "base_uri": "https://localhost:8080/"
        }
      },
      "execution_count": 31,
      "outputs": [
        {
          "output_type": "execute_result",
          "data": {
            "text/plain": [
              "3"
            ]
          },
          "metadata": {},
          "execution_count": 31
        }
      ]
    },
    {
      "cell_type": "markdown",
      "source": [
        "## CONDICIONALES"
      ],
      "metadata": {
        "id": "IYNkFMDYBmKL"
      }
    },
    {
      "cell_type": "markdown",
      "source": [
        "La operaciones de comparación comparan valores o operandos basados en una condicion y nos entregan un valor tipo Boolean; podemos usar los siguientes operadores:\n",
        "\n",
        "1) Igual a: ==\n",
        "2) No igual a: !=\n",
        "3) Mayor que : >\n",
        "4) Menor que: <\n",
        "5) Mayor o igual que : >=\n",
        "6) Menor o igual que: <="
      ],
      "metadata": {
        "id": "n60rwtyv_lFN"
      }
    },
    {
      "cell_type": "code",
      "source": [
        "i=0\n",
        "if i==0:\n",
        "  print(i)\n"
      ],
      "metadata": {
        "id": "rtlF_Uk1-_l-",
        "outputId": "76c9d072-6987-40ad-cf9f-5934d9b56871",
        "colab": {
          "base_uri": "https://localhost:8080/"
        }
      },
      "execution_count": 34,
      "outputs": [
        {
          "output_type": "stream",
          "name": "stdout",
          "text": [
            "0\n"
          ]
        }
      ]
    },
    {
      "cell_type": "code",
      "source": [
        "i=1\n",
        "if i>0:\n",
        "  print(i)"
      ],
      "metadata": {
        "id": "L46LuX6E_xbX",
        "outputId": "8745631c-3caa-4f63-e762-c7b3889ae966",
        "colab": {
          "base_uri": "https://localhost:8080/"
        }
      },
      "execution_count": 36,
      "outputs": [
        {
          "output_type": "stream",
          "name": "stdout",
          "text": [
            "1\n"
          ]
        }
      ]
    },
    {
      "cell_type": "code",
      "source": [
        "i<=0"
      ],
      "metadata": {
        "id": "8m6rGDuaBRSK",
        "outputId": "960f946b-e489-45fd-a956-8dfded53c165",
        "colab": {
          "base_uri": "https://localhost:8080/"
        }
      },
      "execution_count": 37,
      "outputs": [
        {
          "output_type": "execute_result",
          "data": {
            "text/plain": [
              "False"
            ]
          },
          "metadata": {},
          "execution_count": 37
        }
      ]
    },
    {
      "cell_type": "code",
      "source": [
        "i==0"
      ],
      "metadata": {
        "id": "gCaYTMcqBdfn",
        "outputId": "58abee95-75b2-4758-e2da-a6c435037601",
        "colab": {
          "base_uri": "https://localhost:8080/"
        }
      },
      "execution_count": 38,
      "outputs": [
        {
          "output_type": "execute_result",
          "data": {
            "text/plain": [
              "False"
            ]
          },
          "metadata": {},
          "execution_count": 38
        }
      ]
    },
    {
      "cell_type": "code",
      "source": [
        "i>=0"
      ],
      "metadata": {
        "id": "Gp5mX3p8Bf8m",
        "outputId": "1f33797e-adec-4162-e263-ac2259cf50ba",
        "colab": {
          "base_uri": "https://localhost:8080/"
        }
      },
      "execution_count": 39,
      "outputs": [
        {
          "output_type": "execute_result",
          "data": {
            "text/plain": [
              "True"
            ]
          },
          "metadata": {},
          "execution_count": 39
        }
      ]
    },
    {
      "cell_type": "code",
      "source": [
        "i=1\n",
        "if i==0:\n",
        "  print(i)\n",
        "else:\n",
        "  print(\"NO ES IGUAL A CERO\")"
      ],
      "metadata": {
        "id": "-8WLKUwUBiVl",
        "outputId": "0207a215-ce52-4c6b-c5e8-7b1f8ca04cd0",
        "colab": {
          "base_uri": "https://localhost:8080/"
        }
      },
      "execution_count": 41,
      "outputs": [
        {
          "output_type": "stream",
          "name": "stdout",
          "text": [
            "NO ES IGUAL A CERO\n"
          ]
        }
      ]
    },
    {
      "cell_type": "markdown",
      "source": [
        "## LOOPS"
      ],
      "metadata": {
        "id": "Vl7QDvLyCLF_"
      }
    },
    {
      "cell_type": "markdown",
      "source": [
        "se pueden usar rangos dentro los loops FOR utilizando la funcion range(), donde el valor especificado sera range(n) donde n  es el valor que va de 0 a 3 , y cuando llega a 3 , en el que el ciclo se rompe, ejemplo:"
      ],
      "metadata": {
        "id": "Bitfv4INDPpn"
      }
    },
    {
      "cell_type": "code",
      "source": [
        "dates = [1982,1980,1973]##aqui se tienen 3 elementos con indices 0, 1 y 2\n",
        "n=len(dates)\n",
        "for i in range(n):\n",
        "  print(dates[i])"
      ],
      "metadata": {
        "id": "gjdf9zYuCbov",
        "outputId": "7feee8b5-b7c8-453f-d88d-49a94477ba00",
        "colab": {
          "base_uri": "https://localhost:8080/"
        }
      },
      "execution_count": 48,
      "outputs": [
        {
          "output_type": "stream",
          "name": "stdout",
          "text": [
            "1982\n",
            "1980\n",
            "1973\n"
          ]
        }
      ]
    },
    {
      "cell_type": "markdown",
      "source": [
        "Con WHILE hay que inicializar el indice en 0 y la condicion debe ser usada hasta el ultimo indice , y el indice se actualiza en +1 con cada iteracion "
      ],
      "metadata": {
        "id": "dCbuQMmgF9op"
      }
    },
    {
      "cell_type": "code",
      "source": [
        "dates = [1982,1980,1973] ##aqui se tienen 3 elementos con indices 0, 1 y 2\n",
        "n=len(dates)\n",
        "i=0\n",
        "while i < n:\n",
        "      print(dates[i])\n",
        "      i= i+1"
      ],
      "metadata": {
        "id": "pvakWjrQFB7x",
        "outputId": "9808fefe-1472-4341-dc79-79b14fd243da",
        "colab": {
          "base_uri": "https://localhost:8080/"
        }
      },
      "execution_count": 59,
      "outputs": [
        {
          "output_type": "stream",
          "name": "stdout",
          "text": [
            "1982\n",
            "1980\n",
            "1973\n"
          ]
        }
      ]
    },
    {
      "cell_type": "markdown",
      "source": [
        "## FUNCIONES"
      ],
      "metadata": {
        "id": "BwH-RFqLE8c0"
      }
    },
    {
      "cell_type": "code",
      "source": [
        "def add(a):\n",
        "    \"\"\"\n",
        "    add 1 to a\n",
        "    \"\"\"\n",
        "    b = a + 1\n",
        "    print(a, \"if you add one\", b)\n",
        "    return(b)\n",
        "  "
      ],
      "metadata": {
        "id": "wXr_-ymzCovb"
      },
      "execution_count": 60,
      "outputs": []
    },
    {
      "cell_type": "code",
      "source": [
        "help(add)"
      ],
      "metadata": {
        "id": "Wgp_NMqXGiJl",
        "outputId": "31294555-f528-42be-acbf-4db990e90109",
        "colab": {
          "base_uri": "https://localhost:8080/"
        }
      },
      "execution_count": 62,
      "outputs": [
        {
          "output_type": "stream",
          "name": "stdout",
          "text": [
            "Help on function add in module __main__:\n",
            "\n",
            "add(a)\n",
            "    add 1 to a\n",
            "\n"
          ]
        }
      ]
    },
    {
      "cell_type": "code",
      "source": [
        "add(1)"
      ],
      "metadata": {
        "id": "j6ifzBCrGnGw",
        "outputId": "ae88c926-97e0-4a60-b65a-bd2b5a0d265c",
        "colab": {
          "base_uri": "https://localhost:8080/"
        }
      },
      "execution_count": 63,
      "outputs": [
        {
          "output_type": "stream",
          "name": "stdout",
          "text": [
            "1 if you add one 2\n"
          ]
        },
        {
          "output_type": "execute_result",
          "data": {
            "text/plain": [
              "2"
            ]
          },
          "metadata": {},
          "execution_count": 63
        }
      ]
    },
    {
      "cell_type": "code",
      "source": [
        "add(2)"
      ],
      "metadata": {
        "id": "KvhoTDTcGvdq",
        "outputId": "79ac6870-6e5c-4ace-b9a0-4f72a01cd869",
        "colab": {
          "base_uri": "https://localhost:8080/"
        }
      },
      "execution_count": 64,
      "outputs": [
        {
          "output_type": "stream",
          "name": "stdout",
          "text": [
            "2 if you add one 3\n"
          ]
        },
        {
          "output_type": "execute_result",
          "data": {
            "text/plain": [
              "3"
            ]
          },
          "metadata": {},
          "execution_count": 64
        }
      ]
    },
    {
      "cell_type": "code",
      "source": [
        "def Mult(a, b):\n",
        "    c = a * b\n",
        "    return(c)\n",
        "    print('This is not printed')\n",
        "    \n",
        "result = Mult(12,2)\n",
        "print(result)"
      ],
      "metadata": {
        "id": "7jZrDJ6AG0DI",
        "outputId": "944c0f89-b7f8-4fdd-b652-c1a90678443a",
        "colab": {
          "base_uri": "https://localhost:8080/"
        }
      },
      "execution_count": 65,
      "outputs": [
        {
          "output_type": "stream",
          "name": "stdout",
          "text": [
            "24\n"
          ]
        }
      ]
    },
    {
      "cell_type": "code",
      "source": [
        "Mult(2, 3)"
      ],
      "metadata": {
        "id": "4-_2K8OLG4G1",
        "outputId": "d50aa1d3-9597-4585-aa7e-6073295a5c11",
        "colab": {
          "base_uri": "https://localhost:8080/"
        }
      },
      "execution_count": 66,
      "outputs": [
        {
          "output_type": "execute_result",
          "data": {
            "text/plain": [
              "6"
            ]
          },
          "metadata": {},
          "execution_count": 66
        }
      ]
    },
    {
      "cell_type": "code",
      "source": [
        "def f(a,b):\n",
        "    \n",
        "    return a*b"
      ],
      "metadata": {
        "id": "N3hEDXm5G9Og"
      },
      "execution_count": 67,
      "outputs": []
    },
    {
      "cell_type": "code",
      "source": [
        "a=4\n",
        "b=2\n",
        "\n",
        "if a*b==f(a,b):   \n",
        "    print(\"Correct.\")   \n",
        "else:    \n",
        "    print(\"Incorrect.\")"
      ],
      "metadata": {
        "id": "wDnkkp-oHDe5",
        "outputId": "8fbc1466-bceb-45dd-f780-001c7d27dbd9",
        "colab": {
          "base_uri": "https://localhost:8080/"
        }
      },
      "execution_count": 68,
      "outputs": [
        {
          "output_type": "stream",
          "name": "stdout",
          "text": [
            "Correct.\n"
          ]
        }
      ]
    },
    {
      "cell_type": "code",
      "source": [
        "def g(c):\n",
        "    h = sum (c)\n",
        "    return h"
      ],
      "metadata": {
        "id": "16GWqdn9HHNT"
      },
      "execution_count": 69,
      "outputs": []
    },
    {
      "cell_type": "code",
      "source": [
        "c=[1,2,3,4,5]\n",
        "\n",
        "if sum(c)==g(c):   \n",
        "    print(\"Correct.\")   \n",
        "else:    \n",
        "    print(\"Incorrect.\")"
      ],
      "metadata": {
        "id": "i8hU17zHHMmt",
        "outputId": "753d4b3b-e168-4631-ced0-1b53f6d18b4b",
        "colab": {
          "base_uri": "https://localhost:8080/"
        }
      },
      "execution_count": 70,
      "outputs": [
        {
          "output_type": "stream",
          "name": "stdout",
          "text": [
            "Correct.\n"
          ]
        }
      ]
    },
    {
      "cell_type": "code",
      "source": [
        "def square(a):\n",
        "    \n",
        "    # Local variable b\n",
        "    b = 1\n",
        "    c = a * a + b\n",
        "    print(a, \"if you square + 1\", c) \n",
        "    return(c)"
      ],
      "metadata": {
        "id": "DLhiJGF6HQpw"
      },
      "execution_count": 71,
      "outputs": []
    },
    {
      "cell_type": "code",
      "source": [
        "x = 3\n",
        "# Makes function call and return function a y\n",
        "y = square(x)\n",
        "y"
      ],
      "metadata": {
        "id": "nWif4EksHXNp",
        "outputId": "542cc644-89de-43b4-dcd3-f7ce33b2222f",
        "colab": {
          "base_uri": "https://localhost:8080/"
        }
      },
      "execution_count": 72,
      "outputs": [
        {
          "output_type": "stream",
          "name": "stdout",
          "text": [
            "3 if you square + 1 10\n"
          ]
        },
        {
          "output_type": "execute_result",
          "data": {
            "text/plain": [
              "10"
            ]
          },
          "metadata": {},
          "execution_count": 72
        }
      ]
    },
    {
      "cell_type": "code",
      "source": [
        "def MJ():\n",
        "    print('Michael Jackson')\n",
        "    \n",
        "def MJ1():\n",
        "    print('Michael Jackson')\n",
        "    return(None)"
      ],
      "metadata": {
        "id": "2P483ClGHcMM"
      },
      "execution_count": 74,
      "outputs": []
    },
    {
      "cell_type": "code",
      "source": [
        "MJ()\n",
        "MJ1()"
      ],
      "metadata": {
        "id": "gUrcOkpEHkeP",
        "outputId": "b0b3a8f0-4ac9-462f-f348-55c20d55b515",
        "colab": {
          "base_uri": "https://localhost:8080/"
        }
      },
      "execution_count": 75,
      "outputs": [
        {
          "output_type": "stream",
          "name": "stdout",
          "text": [
            "Michael Jackson\n",
            "Michael Jackson\n"
          ]
        }
      ]
    },
    {
      "cell_type": "code",
      "source": [
        "def type_of_album(artist, album, year_released):\n",
        "    \n",
        "    print(artist, album, year_released)\n",
        "    if year_released > 1980:\n",
        "        return \"Modern\"\n",
        "    else:\n",
        "        return \"Oldie\"\n",
        "    \n",
        "x = type_of_album(\"Michael Jackson\", \"Thriller\", 1980)\n",
        "print(x)"
      ],
      "metadata": {
        "id": "s0CZ-6zZHtkZ",
        "outputId": "203e01d7-eecf-469e-9693-8b480b4101e8",
        "colab": {
          "base_uri": "https://localhost:8080/"
        }
      },
      "execution_count": 76,
      "outputs": [
        {
          "output_type": "stream",
          "name": "stdout",
          "text": [
            "Michael Jackson Thriller 1980\n",
            "Oldie\n"
          ]
        }
      ]
    },
    {
      "cell_type": "code",
      "source": [
        "def isGoodRating(rating=4): \n",
        "    if(rating < 7):\n",
        "        print(\"this album sucks it's rating is\",rating)\n",
        "        \n",
        "    else:\n",
        "        print(\"this album is good its rating is\",rating)\n"
      ],
      "metadata": {
        "id": "cmzC_oPNH3AG"
      },
      "execution_count": 77,
      "outputs": []
    },
    {
      "cell_type": "code",
      "source": [
        "isGoodRating()\n"
      ],
      "metadata": {
        "id": "xaBpj-i9H8z5",
        "outputId": "cb8542d2-030a-4a78-86e5-0419213bc53b",
        "colab": {
          "base_uri": "https://localhost:8080/"
        }
      },
      "execution_count": 78,
      "outputs": [
        {
          "output_type": "stream",
          "name": "stdout",
          "text": [
            "this album sucks it's rating is 4\n"
          ]
        }
      ]
    },
    {
      "cell_type": "code",
      "source": [
        "isGoodRating(10)"
      ],
      "metadata": {
        "id": "Jqav8PanIIV9",
        "outputId": "428577d0-51c7-4063-d673-a7f00da7ebf0",
        "colab": {
          "base_uri": "https://localhost:8080/"
        }
      },
      "execution_count": 79,
      "outputs": [
        {
          "output_type": "stream",
          "name": "stdout",
          "text": [
            "this album is good its rating is 10\n"
          ]
        }
      ]
    },
    {
      "cell_type": "markdown",
      "source": [
        "# CLASES"
      ],
      "metadata": {
        "id": "0onVQBVPIVTI"
      }
    },
    {
      "cell_type": "code",
      "source": [
        "import matplotlib.pyplot as plt"
      ],
      "metadata": {
        "id": "3dzi1r8xIKoo"
      },
      "execution_count": 80,
      "outputs": []
    },
    {
      "cell_type": "code",
      "source": [
        "# Create a class Circle\n",
        "\n",
        "class Circle(object):\n",
        "    \n",
        "    # Constructor\n",
        "    def __init__(self, radius=3, color='blue'):\n",
        "        self.radius = radius\n",
        "        self.color = color \n",
        "    \n",
        "    # Method\n",
        "    def add_radius(self, r):\n",
        "        self.radius = self.radius + r\n",
        "        return(self.radius)\n",
        "    \n",
        "    # Method\n",
        "    def drawCircle(self):\n",
        "        plt.gca().add_patch(plt.Circle((0, 0), radius=self.radius, fc=self.color))\n",
        "        plt.axis('scaled')\n",
        "        plt.show()  "
      ],
      "metadata": {
        "id": "_v3mPIrnIgAn"
      },
      "execution_count": 81,
      "outputs": []
    },
    {
      "cell_type": "markdown",
      "source": [
        "### Creando el objeto RedCircle en color red"
      ],
      "metadata": {
        "id": "efjB2eAnI5lK"
      }
    },
    {
      "cell_type": "code",
      "source": [
        "RedCircle = Circle(10, 'red')\n"
      ],
      "metadata": {
        "id": "SqbOlhrsIk0C"
      },
      "execution_count": 82,
      "outputs": []
    },
    {
      "cell_type": "code",
      "source": [
        "# que metodos utiliza RedCircule\n",
        "dir(RedCircle)"
      ],
      "metadata": {
        "id": "gmCnpz1RIvta",
        "outputId": "b85fcb6e-1281-414d-d4f7-07f8be07c2a1",
        "colab": {
          "base_uri": "https://localhost:8080/"
        }
      },
      "execution_count": 83,
      "outputs": [
        {
          "output_type": "execute_result",
          "data": {
            "text/plain": [
              "['__class__',\n",
              " '__delattr__',\n",
              " '__dict__',\n",
              " '__dir__',\n",
              " '__doc__',\n",
              " '__eq__',\n",
              " '__format__',\n",
              " '__ge__',\n",
              " '__getattribute__',\n",
              " '__gt__',\n",
              " '__hash__',\n",
              " '__init__',\n",
              " '__init_subclass__',\n",
              " '__le__',\n",
              " '__lt__',\n",
              " '__module__',\n",
              " '__ne__',\n",
              " '__new__',\n",
              " '__reduce__',\n",
              " '__reduce_ex__',\n",
              " '__repr__',\n",
              " '__setattr__',\n",
              " '__sizeof__',\n",
              " '__str__',\n",
              " '__subclasshook__',\n",
              " '__weakref__',\n",
              " 'add_radius',\n",
              " 'color',\n",
              " 'drawCircle',\n",
              " 'radius']"
            ]
          },
          "metadata": {},
          "execution_count": 83
        }
      ]
    },
    {
      "cell_type": "code",
      "source": [
        "# Imprimiendo el atributo radius\n",
        "\n",
        "RedCircle.radius"
      ],
      "metadata": {
        "id": "o5CreJ-qJKk4",
        "outputId": "90a76b79-3d61-4b13-a5f8-65cede396e70",
        "colab": {
          "base_uri": "https://localhost:8080/"
        }
      },
      "execution_count": 84,
      "outputs": [
        {
          "output_type": "execute_result",
          "data": {
            "text/plain": [
              "10"
            ]
          },
          "metadata": {},
          "execution_count": 84
        }
      ]
    },
    {
      "cell_type": "code",
      "source": [
        "# irmpimiendo el atributo color\n",
        "\n",
        "RedCircle.color"
      ],
      "metadata": {
        "id": "Zq3QCZcRJWCv",
        "outputId": "d16db253-bd80-4e1a-88c7-950f57aa5bd6",
        "colab": {
          "base_uri": "https://localhost:8080/",
          "height": 35
        }
      },
      "execution_count": 85,
      "outputs": [
        {
          "output_type": "execute_result",
          "data": {
            "text/plain": [
              "'red'"
            ],
            "application/vnd.google.colaboratory.intrinsic+json": {
              "type": "string"
            }
          },
          "metadata": {},
          "execution_count": 85
        }
      ]
    },
    {
      "cell_type": "code",
      "source": [
        "# Asignado el valor de 1 al atrobnuto radius\n",
        "\n",
        "RedCircle.radius = 1\n",
        "RedCircle.radius"
      ],
      "metadata": {
        "id": "q4HRtbFZJlOZ",
        "outputId": "bd4e4364-641d-4e0a-d575-42a6ae431bfe",
        "colab": {
          "base_uri": "https://localhost:8080/"
        }
      },
      "execution_count": 86,
      "outputs": [
        {
          "output_type": "execute_result",
          "data": {
            "text/plain": [
              "1"
            ]
          },
          "metadata": {},
          "execution_count": 86
        }
      ]
    },
    {
      "cell_type": "code",
      "source": [
        "# LLamando al método drawCircle\n",
        "\n",
        "RedCircle.drawCircle()"
      ],
      "metadata": {
        "id": "aKJlKUxxJrNM",
        "outputId": "1a9cd77a-bd77-4865-b951-246289c85143",
        "colab": {
          "base_uri": "https://localhost:8080/",
          "height": 265
        }
      },
      "execution_count": 87,
      "outputs": [
        {
          "output_type": "display_data",
          "data": {
            "text/plain": [
              "<Figure size 432x288 with 1 Axes>"
            ],
            "image/png": "[encoded data removed]"
          },
          "metadata": {
            "needs_background": "light"
          }
        }
      ]
    },
    {
      "cell_type": "code",
      "source": [],
      "metadata": {
        "id": "wGawmURwJz8Y"
      },
      "execution_count": null,
      "outputs": []
    }
  ]
}