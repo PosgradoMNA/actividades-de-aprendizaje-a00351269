{
  "nbformat": 4,
  "nbformat_minor": 0,
  "metadata": {
    "colab": {
      "name": "assignment01.ipynb",
      "provenance": [],
      "include_colab_link": true
    },
    "kernelspec": {
      "name": "python3",
      "display_name": "Python 3"
    },
    "language_info": {
      "name": "python"
    }
  },
  "cells": [
    {
      "cell_type": "markdown",
      "metadata": {
        "id": "view-in-github",
        "colab_type": "text"
      },
      "source": [
        "<a href=\"https://colab.research.google.com/github/PosgradoMNA/actividades-de-aprendizaje-a00351269/blob/main/Actividad6DS.ipynb\" target=\"_parent\"><img src=\"https://colab.research.google.com/assets/colab-badge.svg\" alt=\"Open In Colab\"/></a>"
      ]
    },
    {
      "cell_type": "markdown",
      "source": [
        "# ** Actividad Semanal -- 6, visualización**\n",
        "## **Maestría en Inteligencia Artificial Aplicada**\n",
        "### **Curso: TC4029.10 Ciencia y analítica de datos (Gpo 10)**\n",
        "## **Tecnológico de Monterrey**\n",
        "## **Prof: Dra, Maria de la Paz Rico Fernandez**\n",
        "\n",
        "\n",
        "\n",
        "### **Alumno: Genaro Ramos Higuera  -  Matrícula A00351269**\n",
        "### **Fecha: 31 de octubre del 2022**"
      ],
      "metadata": {
        "id": "VCrEkf6fWHJ3"
      }
    },
    {
      "cell_type": "markdown",
      "source": [
        "1.- Descarga los datos y carga el dataset en tu libreta. \n",
        "\n",
        "2.- Obten la información del DataFrame con los métodos y propiedades: shape, columns, head(), dtypes, info(), isna()\n",
        "\n",
        "3.- Limpia los datos eliminando los registros nulos o rellena con la media de la columna\n",
        "\n",
        "4.- Calcula la estadística descriptiva con describe() y explica las medidas de tendencia central y dispersión\n",
        "\n",
        "5.- Realiza el conteo de las variables categóricas\n",
        "\n",
        "6.- Escala los datos, si consideras necesario\n",
        "\n",
        "7.- Reduce las dimensiones con PCA, si consideras necesario.\n",
        "\n",
        "7.1.- Indica la varianza de los datos explicada por cada componente seleccionado. Para actividades de exploración de los datos la varianza > 70%\n",
        "\n",
        "7.2.-Indica la importancia de las variables en cada componente\n",
        "\n",
        "8.- Elabora los histogramas de los atributos para visualizar su distribución\n",
        "\n",
        "9.- Realiza la visualización de los datos usando por lo menos 3 gráficos que consideres adecuados: plot, scatter, jointplot, boxplot, areaplot, pie chart, pairplot, bar chart, etc.\n",
        "\n",
        "10.- Interpreta y explica cada uno de los gráficos indicando cuál es la información más relevante que podría ayudar en el proceso de toma de decisiones.\n",
        "\n",
        "\n",
        "\n",
        "\n",
        "\n"
      ],
      "metadata": {
        "id": "-1Mth9YcWbVY"
      }
    },
    {
      "cell_type": "markdown",
      "source": [
        "#1.-Descarga los datos y carga el dataset en tu libreta."
      ],
      "metadata": {
        "id": "3Ji36oWaemcq"
      }
    },
    {
      "cell_type": "markdown",
      "source": [
        "Comenzamos por importar las librerías para trabajar"
      ],
      "metadata": {
        "id": "-Cxp0FvNgPZN"
      }
    },
    {
      "cell_type": "code",
      "source": [
        "import pandas as pd\n",
        "import numpy as np\n",
        "from sklearn.decomposition import PCA\n",
        "from sklearn import preprocessing\n",
        "import matplotlib.pyplot as plt\n",
        "import seaborn as sns\n",
        "from sklearn.preprocessing import MinMaxScaler\n"
      ],
      "metadata": {
        "id": "fGxTEantgP1c"
      },
      "execution_count": 1,
      "outputs": []
    },
    {
      "cell_type": "markdown",
      "source": [
        "Proseguimos convirtiendo el archivo csv a trabajar a una data frame"
      ],
      "metadata": {
        "id": "kFtKmO_Ag0ts"
      }
    },
    {
      "cell_type": "code",
      "source": [
        "\n",
        "df = pd.read_csv('https://raw.githubusercontent.com/PosgradoMNA/Actividades_Aprendizaje-/main/default%20of%20credit%20card%20clients.csv', index_col = 0)\n"
      ],
      "metadata": {
        "id": "wtedmtG9gdxT"
      },
      "execution_count": 2,
      "outputs": []
    },
    {
      "cell_type": "markdown",
      "source": [
        "#2.- Obten la información del DataFrame con los métodos y propiedades: shape, columns, head(), dtypes, info(), isna()"
      ],
      "metadata": {
        "id": "3MKHlk6KH4h2"
      }
    },
    {
      "cell_type": "markdown",
      "source": [
        "Esta es la informacion del Dataframe que tiene 30,000 registros, y notamos que algunos tienen registros con algunas columnas con datos nulos:"
      ],
      "metadata": {
        "id": "np1uRRbnCjKq"
      }
    },
    {
      "cell_type": "code",
      "source": [
        "df.info()"
      ],
      "metadata": {
        "colab": {
          "base_uri": "https://localhost:8080/"
        },
        "id": "HgBDtpniCUlF",
        "outputId": "f1b17e16-177d-4b57-a440-2a45e98544b6"
      },
      "execution_count": 3,
      "outputs": [
        {
          "output_type": "stream",
          "name": "stdout",
          "text": [
            "<class 'pandas.core.frame.DataFrame'>\n",
            "Int64Index: 30000 entries, 1 to 30000\n",
            "Data columns (total 24 columns):\n",
            " #   Column  Non-Null Count  Dtype  \n",
            "---  ------  --------------  -----  \n",
            " 0   X1      30000 non-null  int64  \n",
            " 1   X2      29999 non-null  float64\n",
            " 2   X3      29998 non-null  float64\n",
            " 3   X4      29998 non-null  float64\n",
            " 4   X5      29995 non-null  float64\n",
            " 5   X6      29997 non-null  float64\n",
            " 6   X7      29995 non-null  float64\n",
            " 7   X8      29993 non-null  float64\n",
            " 8   X9      29991 non-null  float64\n",
            " 9   X10     29984 non-null  float64\n",
            " 10  X11     29986 non-null  float64\n",
            " 11  X12     29989 non-null  float64\n",
            " 12  X13     29989 non-null  float64\n",
            " 13  X14     29987 non-null  float64\n",
            " 14  X15     29985 non-null  float64\n",
            " 15  X16     29983 non-null  float64\n",
            " 16  X17     29990 non-null  float64\n",
            " 17  X18     29992 non-null  float64\n",
            " 18  X19     29991 non-null  float64\n",
            " 19  X20     29992 non-null  float64\n",
            " 20  X21     29989 non-null  float64\n",
            " 21  X22     29989 non-null  float64\n",
            " 22  X23     29995 non-null  float64\n",
            " 23  Y       29997 non-null  float64\n",
            "dtypes: float64(23), int64(1)\n",
            "memory usage: 5.7 MB\n"
          ]
        }
      ]
    },
    {
      "cell_type": "markdown",
      "source": [
        "Descripcion de las Variables:\n",
        "\n",
        "X1: Amount of the given credit (NT dollar): it includes both the individual consumer credit and his/her family (supplementary) credit. \n",
        "\n",
        "X2: Gender (1 = male; 2 = female). \n",
        "\n",
        "X3: Education (1 = graduate school; 2 = university; 3 = high school; 4 = others). \n",
        "\n",
        "X4: Marital status (1 = married; 2 = single; 3 = others). \n",
        "\n",
        "X5: Age (year). \n",
        "\n",
        "X6 - X11: History of past payment. \n",
        "\n",
        "We tracked the past monthly payment records (from April to September, 2005) as follows: \n",
        "\n",
        "X6 = the repayment status in September, 2005; \n",
        "\n",
        "X7 = the repayment status in August, 2005; . . .;\n",
        "\n",
        "X11 = the repayment status in April, 2005. \n",
        "\n",
        "The measurement scale for the repayment status is:\n",
        "\n",
        " -1 = pay duly; \n",
        " \n",
        " 1 = payment delay for one month; \n",
        " \n",
        " 2 = payment delay for two months; . . .; \n",
        " \n",
        " 8 = payment delay for eight months; \n",
        " \n",
        " 9 = payment delay for nine months and above. \n",
        "\n",
        "\n",
        "X12-X17: Amount of bill statement (NT dollar). \n",
        "\n",
        "X12 = amount of bill statement in September, 2005; \n",
        "\n",
        "X13 = amount of bill statement in August, 2005; . . .; \n",
        "\n",
        "X17 = amount of bill statement in April, 2005. \n",
        "\n",
        "X18-X23: Amount of previous payment (NT dollar). \n",
        "\n",
        "X18 = amount paid in September, 2005; \n",
        "\n",
        "X19 = amount paid in August, 2005; . . .;\n",
        "\n",
        "X23 = amount paid in April, 2005. \n"
      ],
      "metadata": {
        "id": "KSrUL7LoJXxW"
      }
    },
    {
      "cell_type": "code",
      "source": [
        "df.shape"
      ],
      "metadata": {
        "id": "dA8ias7tFF3I",
        "outputId": "1f051e4d-b535-4ac6-cf23-549863ec1f6d",
        "colab": {
          "base_uri": "https://localhost:8080/"
        }
      },
      "execution_count": 4,
      "outputs": [
        {
          "output_type": "execute_result",
          "data": {
            "text/plain": [
              "(30000, 24)"
            ]
          },
          "metadata": {},
          "execution_count": 4
        }
      ]
    },
    {
      "cell_type": "code",
      "source": [
        "df.dtypes"
      ],
      "metadata": {
        "id": "DHOo8uJQFiAx",
        "outputId": "4c2ac87b-3462-48db-874b-e09327abf306",
        "colab": {
          "base_uri": "https://localhost:8080/"
        }
      },
      "execution_count": 5,
      "outputs": [
        {
          "output_type": "execute_result",
          "data": {
            "text/plain": [
              "X1       int64\n",
              "X2     float64\n",
              "X3     float64\n",
              "X4     float64\n",
              "X5     float64\n",
              "X6     float64\n",
              "X7     float64\n",
              "X8     float64\n",
              "X9     float64\n",
              "X10    float64\n",
              "X11    float64\n",
              "X12    float64\n",
              "X13    float64\n",
              "X14    float64\n",
              "X15    float64\n",
              "X16    float64\n",
              "X17    float64\n",
              "X18    float64\n",
              "X19    float64\n",
              "X20    float64\n",
              "X21    float64\n",
              "X22    float64\n",
              "X23    float64\n",
              "Y      float64\n",
              "dtype: object"
            ]
          },
          "metadata": {},
          "execution_count": 5
        }
      ]
    },
    {
      "cell_type": "markdown",
      "source": [
        "Vamos a asignar nombres acordes a lo que representa cada variable\n",
        "Y con ello poder decidir que hacer con los datos faltantes."
      ],
      "metadata": {
        "id": "3DBJ1othyIWQ"
      }
    },
    {
      "cell_type": "code",
      "source": [
        "columns_name = ['AMT','SEX','EDUCATION','MARRIAGE','AGE','PAYSTAT_1','PAYSTAT_2','PAYSTAT_3','PAYSTAT_4','PAYSTAT_5','PAYSTAT_6','BILL_1','BILL_2','BILL_3','BILL_4','BILL_5','BILL_6','PAY_1',\n",
        "                'PAY_2','PAY_3','PAY_4','PAY_5','PAY_6','Y']\n",
        "df.columns = columns_name\n",
        "df.columns"
      ],
      "metadata": {
        "id": "69S3rHiOS9K_",
        "colab": {
          "base_uri": "https://localhost:8080/"
        },
        "outputId": "cc97e5d9-5ce3-434e-c49a-81cad7aac19d"
      },
      "execution_count": 6,
      "outputs": [
        {
          "output_type": "execute_result",
          "data": {
            "text/plain": [
              "Index(['AMT', 'SEX', 'EDUCATION', 'MARRIAGE', 'AGE', 'PAYSTAT_1', 'PAYSTAT_2',\n",
              "       'PAYSTAT_3', 'PAYSTAT_4', 'PAYSTAT_5', 'PAYSTAT_6', 'BILL_1', 'BILL_2',\n",
              "       'BILL_3', 'BILL_4', 'BILL_5', 'BILL_6', 'PAY_1', 'PAY_2', 'PAY_3',\n",
              "       'PAY_4', 'PAY_5', 'PAY_6', 'Y'],\n",
              "      dtype='object')"
            ]
          },
          "metadata": {},
          "execution_count": 6
        }
      ]
    },
    {
      "cell_type": "markdown",
      "source": [
        "#3.- Limpia los datos eliminando los registros nulos o rellena con la media de la columna"
      ],
      "metadata": {
        "id": "XuMLA0QTQsWG"
      }
    },
    {
      "cell_type": "markdown",
      "source": [
        "\n",
        "Primeramente verificamos que en nuestro archivo no se encuentren ID repetidos, y esto lo hacemos con las siguientes instrucciones:"
      ],
      "metadata": {
        "id": "wz-GZ8x_2bI-"
      }
    },
    {
      "cell_type": "code",
      "source": [
        "#Saquemos un reporte de los registros nulos.\n",
        "missing_data = df.isnull()\n",
        "for column in missing_data.columns.values.tolist():\n",
        "    print(column)\n",
        "    print (missing_data[column].value_counts())\n",
        "    print(\"\")"
      ],
      "metadata": {
        "id": "pOW3tjfLI5mc",
        "outputId": "0603e76c-74e7-497a-9700-26d0170226fc",
        "colab": {
          "base_uri": "https://localhost:8080/"
        }
      },
      "execution_count": 7,
      "outputs": [
        {
          "output_type": "stream",
          "name": "stdout",
          "text": [
            "AMT\n",
            "False    30000\n",
            "Name: AMT, dtype: int64\n",
            "\n",
            "SEX\n",
            "False    29999\n",
            "True         1\n",
            "Name: SEX, dtype: int64\n",
            "\n",
            "EDUCATION\n",
            "False    29998\n",
            "True         2\n",
            "Name: EDUCATION, dtype: int64\n",
            "\n",
            "MARRIAGE\n",
            "False    29998\n",
            "True         2\n",
            "Name: MARRIAGE, dtype: int64\n",
            "\n",
            "AGE\n",
            "False    29995\n",
            "True         5\n",
            "Name: AGE, dtype: int64\n",
            "\n",
            "PAYSTAT_1\n",
            "False    29997\n",
            "True         3\n",
            "Name: PAYSTAT_1, dtype: int64\n",
            "\n",
            "PAYSTAT_2\n",
            "False    29995\n",
            "True         5\n",
            "Name: PAYSTAT_2, dtype: int64\n",
            "\n",
            "PAYSTAT_3\n",
            "False    29993\n",
            "True         7\n",
            "Name: PAYSTAT_3, dtype: int64\n",
            "\n",
            "PAYSTAT_4\n",
            "False    29991\n",
            "True         9\n",
            "Name: PAYSTAT_4, dtype: int64\n",
            "\n",
            "PAYSTAT_5\n",
            "False    29984\n",
            "True        16\n",
            "Name: PAYSTAT_5, dtype: int64\n",
            "\n",
            "PAYSTAT_6\n",
            "False    29986\n",
            "True        14\n",
            "Name: PAYSTAT_6, dtype: int64\n",
            "\n",
            "BILL_1\n",
            "False    29989\n",
            "True        11\n",
            "Name: BILL_1, dtype: int64\n",
            "\n",
            "BILL_2\n",
            "False    29989\n",
            "True        11\n",
            "Name: BILL_2, dtype: int64\n",
            "\n",
            "BILL_3\n",
            "False    29987\n",
            "True        13\n",
            "Name: BILL_3, dtype: int64\n",
            "\n",
            "BILL_4\n",
            "False    29985\n",
            "True        15\n",
            "Name: BILL_4, dtype: int64\n",
            "\n",
            "BILL_5\n",
            "False    29983\n",
            "True        17\n",
            "Name: BILL_5, dtype: int64\n",
            "\n",
            "BILL_6\n",
            "False    29990\n",
            "True        10\n",
            "Name: BILL_6, dtype: int64\n",
            "\n",
            "PAY_1\n",
            "False    29992\n",
            "True         8\n",
            "Name: PAY_1, dtype: int64\n",
            "\n",
            "PAY_2\n",
            "False    29991\n",
            "True         9\n",
            "Name: PAY_2, dtype: int64\n",
            "\n",
            "PAY_3\n",
            "False    29992\n",
            "True         8\n",
            "Name: PAY_3, dtype: int64\n",
            "\n",
            "PAY_4\n",
            "False    29989\n",
            "True        11\n",
            "Name: PAY_4, dtype: int64\n",
            "\n",
            "PAY_5\n",
            "False    29989\n",
            "True        11\n",
            "Name: PAY_5, dtype: int64\n",
            "\n",
            "PAY_6\n",
            "False    29995\n",
            "True         5\n",
            "Name: PAY_6, dtype: int64\n",
            "\n",
            "Y\n",
            "False    29997\n",
            "True         3\n",
            "Name: Y, dtype: int64\n",
            "\n"
          ]
        }
      ]
    },
    {
      "cell_type": "markdown",
      "source": [
        "Ahora veamos los valores de Monto de Crédito Otorgados que sean válidos.\n",
        "\n",
        "Verificamos  que X1 incluyan solo montos positivos :"
      ],
      "metadata": {
        "id": "GWmXDqvxDaXv"
      }
    },
    {
      "cell_type": "code",
      "source": [
        "df.loc[df['AMT'] < 0] # para saber que registros tienen un monto negativo"
      ],
      "metadata": {
        "colab": {
          "base_uri": "https://localhost:8080/",
          "height": 110
        },
        "id": "lPZSCBje_cRG",
        "outputId": "1c013854-4fff-499d-9476-640c39802ac2"
      },
      "execution_count": 8,
      "outputs": [
        {
          "output_type": "execute_result",
          "data": {
            "text/plain": [
              "Empty DataFrame\n",
              "Columns: [AMT, SEX, EDUCATION, MARRIAGE, AGE, PAYSTAT_1, PAYSTAT_2, PAYSTAT_3, PAYSTAT_4, PAYSTAT_5, PAYSTAT_6, BILL_1, BILL_2, BILL_3, BILL_4, BILL_5, BILL_6, PAY_1, PAY_2, PAY_3, PAY_4, PAY_5, PAY_6, Y]\n",
              "Index: []\n",
              "\n",
              "[0 rows x 24 columns]"
            ],
            "text/html": [
              "\n",
              "  <div id=\"df-90324eb3-ee72-4360-98a2-a8fe982fa951\">\n",
              "    <div class=\"colab-df-container\">\n",
              "      <div>\n",
              "<style scoped>\n",
              "    .dataframe tbody tr th:only-of-type {\n",
              "        vertical-align: middle;\n",
              "    }\n",
              "\n",
              "    .dataframe tbody tr th {\n",
              "        vertical-align: top;\n",
              "    }\n",
              "\n",
              "    .dataframe thead th {\n",
              "        text-align: right;\n",
              "    }\n",
              "</style>\n",
              "<table border=\"1\" class=\"dataframe\">\n",
              "  <thead>\n",
              "    <tr style=\"text-align: right;\">\n",
              "      <th></th>\n",
              "      <th>AMT</th>\n",
              "      <th>SEX</th>\n",
              "      <th>EDUCATION</th>\n",
              "      <th>MARRIAGE</th>\n",
              "      <th>AGE</th>\n",
              "      <th>PAYSTAT_1</th>\n",
              "      <th>PAYSTAT_2</th>\n",
              "      <th>PAYSTAT_3</th>\n",
              "      <th>PAYSTAT_4</th>\n",
              "      <th>PAYSTAT_5</th>\n",
              "      <th>...</th>\n",
              "      <th>BILL_4</th>\n",
              "      <th>BILL_5</th>\n",
              "      <th>BILL_6</th>\n",
              "      <th>PAY_1</th>\n",
              "      <th>PAY_2</th>\n",
              "      <th>PAY_3</th>\n",
              "      <th>PAY_4</th>\n",
              "      <th>PAY_5</th>\n",
              "      <th>PAY_6</th>\n",
              "      <th>Y</th>\n",
              "    </tr>\n",
              "    <tr>\n",
              "      <th>ID</th>\n",
              "      <th></th>\n",
              "      <th></th>\n",
              "      <th></th>\n",
              "      <th></th>\n",
              "      <th></th>\n",
              "      <th></th>\n",
              "      <th></th>\n",
              "      <th></th>\n",
              "      <th></th>\n",
              "      <th></th>\n",
              "      <th></th>\n",
              "      <th></th>\n",
              "      <th></th>\n",
              "      <th></th>\n",
              "      <th></th>\n",
              "      <th></th>\n",
              "      <th></th>\n",
              "      <th></th>\n",
              "      <th></th>\n",
              "      <th></th>\n",
              "      <th></th>\n",
              "    </tr>\n",
              "  </thead>\n",
              "  <tbody>\n",
              "  </tbody>\n",
              "</table>\n",
              "<p>0 rows × 24 columns</p>\n",
              "</div>\n",
              "      <button class=\"colab-df-convert\" onclick=\"convertToInteractive('df-90324eb3-ee72-4360-98a2-a8fe982fa951')\"\n",
              "              title=\"Convert this dataframe to an interactive table.\"\n",
              "              style=\"display:none;\">\n",
              "        \n",
              "  <svg xmlns=\"http://www.w3.org/2000/svg\" height=\"24px\"viewBox=\"0 0 24 24\"\n",
              "       width=\"24px\">\n",
              "    <path d=\"M0 0h24v24H0V0z\" fill=\"none\"/>\n",
              "    <path d=\"M18.56 5.44l.94 2.06.94-2.06 2.06-.94-2.06-.94-.94-2.06-.94 2.06-2.06.94zm-11 1L8.5 8.5l.94-2.06 2.06-.94-2.06-.94L8.5 2.5l-.94 2.06-2.06.94zm10 10l.94 2.06.94-2.06 2.06-.94-2.06-.94-.94-2.06-.94 2.06-2.06.94z\"/><path d=\"M17.41 7.96l-1.37-1.37c-.4-.4-.92-.59-1.43-.59-.52 0-1.04.2-1.43.59L10.3 9.45l-7.72 7.72c-.78.78-.78 2.05 0 2.83L4 21.41c.39.39.9.59 1.41.59.51 0 1.02-.2 1.41-.59l7.78-7.78 2.81-2.81c.8-.78.8-2.07 0-2.86zM5.41 20L4 18.59l7.72-7.72 1.47 1.35L5.41 20z\"/>\n",
              "  </svg>\n",
              "      </button>\n",
              "      \n",
              "  <style>\n",
              "    .colab-df-container {\n",
              "      display:flex;\n",
              "      flex-wrap:wrap;\n",
              "      gap: 12px;\n",
              "    }\n",
              "\n",
              "    .colab-df-convert {\n",
              "      background-color: #E8F0FE;\n",
              "      border: none;\n",
              "      border-radius: 50%;\n",
              "      cursor: pointer;\n",
              "      display: none;\n",
              "      fill: #1967D2;\n",
              "      height: 32px;\n",
              "      padding: 0 0 0 0;\n",
              "      width: 32px;\n",
              "    }\n",
              "\n",
              "    .colab-df-convert:hover {\n",
              "      background-color: #E2EBFA;\n",
              "      box-shadow: 0px 1px 2px rgba(60, 64, 67, 0.3), 0px 1px 3px 1px rgba(60, 64, 67, 0.15);\n",
              "      fill: #174EA6;\n",
              "    }\n",
              "\n",
              "    [theme=dark] .colab-df-convert {\n",
              "      background-color: #3B4455;\n",
              "      fill: #D2E3FC;\n",
              "    }\n",
              "\n",
              "    [theme=dark] .colab-df-convert:hover {\n",
              "      background-color: #434B5C;\n",
              "      box-shadow: 0px 1px 3px 1px rgba(0, 0, 0, 0.15);\n",
              "      filter: drop-shadow(0px 1px 2px rgba(0, 0, 0, 0.3));\n",
              "      fill: #FFFFFF;\n",
              "    }\n",
              "  </style>\n",
              "\n",
              "      <script>\n",
              "        const buttonEl =\n",
              "          document.querySelector('#df-90324eb3-ee72-4360-98a2-a8fe982fa951 button.colab-df-convert');\n",
              "        buttonEl.style.display =\n",
              "          google.colab.kernel.accessAllowed ? 'block' : 'none';\n",
              "\n",
              "        async function convertToInteractive(key) {\n",
              "          const element = document.querySelector('#df-90324eb3-ee72-4360-98a2-a8fe982fa951');\n",
              "          const dataTable =\n",
              "            await google.colab.kernel.invokeFunction('convertToInteractive',\n",
              "                                                     [key], {});\n",
              "          if (!dataTable) return;\n",
              "\n",
              "          const docLinkHtml = 'Like what you see? Visit the ' +\n",
              "            '<a target=\"_blank\" href=https://colab.research.google.com/notebooks/data_table.ipynb>data table notebook</a>'\n",
              "            + ' to learn more about interactive tables.';\n",
              "          element.innerHTML = '';\n",
              "          dataTable['output_type'] = 'display_data';\n",
              "          await google.colab.output.renderOutput(dataTable, element);\n",
              "          const docLink = document.createElement('div');\n",
              "          docLink.innerHTML = docLinkHtml;\n",
              "          element.appendChild(docLink);\n",
              "        }\n",
              "      </script>\n",
              "    </div>\n",
              "  </div>\n",
              "  "
            ]
          },
          "metadata": {},
          "execution_count": 8
        }
      ]
    },
    {
      "cell_type": "markdown",
      "source": [
        "Seguido, checamos que SEX solo sean valores de 1 o 2"
      ],
      "metadata": {
        "id": "NgD3khnVAblo"
      }
    },
    {
      "cell_type": "code",
      "source": [
        "df_clean=df.copy()"
      ],
      "metadata": {
        "id": "8dNaR4kqHhr0"
      },
      "execution_count": 9,
      "outputs": []
    },
    {
      "cell_type": "code",
      "source": [
        "(df_clean['SEX'].values < 1).sum() + (df_clean['SEX'].values > 2).sum()"
      ],
      "metadata": {
        "colab": {
          "base_uri": "https://localhost:8080/"
        },
        "id": "AfeKguk2ApNb",
        "outputId": "e6c98033-f9c8-42f9-b371-591840fe33e9"
      },
      "execution_count": 10,
      "outputs": [
        {
          "output_type": "execute_result",
          "data": {
            "text/plain": [
              "0"
            ]
          },
          "metadata": {},
          "execution_count": 10
        }
      ]
    },
    {
      "cell_type": "code",
      "source": [
        "hombres=df_clean.loc[df_clean['SEX'] == 1,\"SEX\"].count()\n",
        "mujeres=df_clean.loc[df_clean['SEX'] == 2,\"SEX\"].count()\n",
        "prop_hombres=hombres/(hombres+mujeres)\n",
        "prop_mujeres=mujeres/(hombres+mujeres)\n",
        "\n",
        "print (\"De los cuales hombres son \",hombres,\" y mujeres \", mujeres)\n",
        "print (\"Con proporcion de hombres de \", prop_hombres, \"y de mujeres de \", prop_mujeres, \" respectivamente.\")"
      ],
      "metadata": {
        "colab": {
          "base_uri": "https://localhost:8080/"
        },
        "id": "iNr21uIeAP0i",
        "outputId": "2600fc77-f689-4b7f-b8ea-523c5f436319"
      },
      "execution_count": 11,
      "outputs": [
        {
          "output_type": "stream",
          "name": "stdout",
          "text": [
            "De los cuales hombres son  11887  y mujeres  18112\n",
            "Con proporcion de hombres de  0.39624654155138506 y de mujeres de  0.6037534584486149  respectivamente.\n"
          ]
        }
      ]
    },
    {
      "cell_type": "markdown",
      "source": [
        "Sabemos que hay 30,000 registros esto significa que uno de ellos es Nulo"
      ],
      "metadata": {
        "id": "C6XnzEA8Huvy"
      }
    },
    {
      "cell_type": "code",
      "source": [
        "# creamos una serie booleana para encontrar el registro nulo\n",
        "sexo_nulo = pd.isnull(df_clean[\"SEX\"])\n",
        "   \n",
        "# filtramos los datos\n",
        "# desplegamos el datos con \"SEX\" = NaN\n",
        "df_clean[sexo_nulo]\n"
      ],
      "metadata": {
        "colab": {
          "base_uri": "https://localhost:8080/",
          "height": 185
        },
        "id": "wpPOnF7qC_Fe",
        "outputId": "ee3b583b-7698-4304-8f53-cce495bdf7e2"
      },
      "execution_count": 12,
      "outputs": [
        {
          "output_type": "execute_result",
          "data": {
            "text/plain": [
              "          AMT  SEX  EDUCATION  MARRIAGE  AGE  PAYSTAT_1  PAYSTAT_2  PAYSTAT_3  \\\n",
              "ID                                                                              \n",
              "24366  130000  NaN        NaN       NaN  NaN        NaN        NaN        NaN   \n",
              "\n",
              "       PAYSTAT_4  PAYSTAT_5  ...  BILL_4  BILL_5  BILL_6  PAY_1  PAY_2  PAY_3  \\\n",
              "ID                           ...                                                \n",
              "24366        NaN        NaN  ...     NaN     NaN     NaN    NaN    NaN    NaN   \n",
              "\n",
              "       PAY_4  PAY_5  PAY_6    Y  \n",
              "ID                               \n",
              "24366    NaN    NaN  390.0  0.0  \n",
              "\n",
              "[1 rows x 24 columns]"
            ],
            "text/html": [
              "\n",
              "  <div id=\"df-baef54ab-601f-483e-ab6c-e7b5896b4cee\">\n",
              "    <div class=\"colab-df-container\">\n",
              "      <div>\n",
              "<style scoped>\n",
              "    .dataframe tbody tr th:only-of-type {\n",
              "        vertical-align: middle;\n",
              "    }\n",
              "\n",
              "    .dataframe tbody tr th {\n",
              "        vertical-align: top;\n",
              "    }\n",
              "\n",
              "    .dataframe thead th {\n",
              "        text-align: right;\n",
              "    }\n",
              "</style>\n",
              "<table border=\"1\" class=\"dataframe\">\n",
              "  <thead>\n",
              "    <tr style=\"text-align: right;\">\n",
              "      <th></th>\n",
              "      <th>AMT</th>\n",
              "      <th>SEX</th>\n",
              "      <th>EDUCATION</th>\n",
              "      <th>MARRIAGE</th>\n",
              "      <th>AGE</th>\n",
              "      <th>PAYSTAT_1</th>\n",
              "      <th>PAYSTAT_2</th>\n",
              "      <th>PAYSTAT_3</th>\n",
              "      <th>PAYSTAT_4</th>\n",
              "      <th>PAYSTAT_5</th>\n",
              "      <th>...</th>\n",
              "      <th>BILL_4</th>\n",
              "      <th>BILL_5</th>\n",
              "      <th>BILL_6</th>\n",
              "      <th>PAY_1</th>\n",
              "      <th>PAY_2</th>\n",
              "      <th>PAY_3</th>\n",
              "      <th>PAY_4</th>\n",
              "      <th>PAY_5</th>\n",
              "      <th>PAY_6</th>\n",
              "      <th>Y</th>\n",
              "    </tr>\n",
              "    <tr>\n",
              "      <th>ID</th>\n",
              "      <th></th>\n",
              "      <th></th>\n",
              "      <th></th>\n",
              "      <th></th>\n",
              "      <th></th>\n",
              "      <th></th>\n",
              "      <th></th>\n",
              "      <th></th>\n",
              "      <th></th>\n",
              "      <th></th>\n",
              "      <th></th>\n",
              "      <th></th>\n",
              "      <th></th>\n",
              "      <th></th>\n",
              "      <th></th>\n",
              "      <th></th>\n",
              "      <th></th>\n",
              "      <th></th>\n",
              "      <th></th>\n",
              "      <th></th>\n",
              "      <th></th>\n",
              "    </tr>\n",
              "  </thead>\n",
              "  <tbody>\n",
              "    <tr>\n",
              "      <th>24366</th>\n",
              "      <td>130000</td>\n",
              "      <td>NaN</td>\n",
              "      <td>NaN</td>\n",
              "      <td>NaN</td>\n",
              "      <td>NaN</td>\n",
              "      <td>NaN</td>\n",
              "      <td>NaN</td>\n",
              "      <td>NaN</td>\n",
              "      <td>NaN</td>\n",
              "      <td>NaN</td>\n",
              "      <td>...</td>\n",
              "      <td>NaN</td>\n",
              "      <td>NaN</td>\n",
              "      <td>NaN</td>\n",
              "      <td>NaN</td>\n",
              "      <td>NaN</td>\n",
              "      <td>NaN</td>\n",
              "      <td>NaN</td>\n",
              "      <td>NaN</td>\n",
              "      <td>390.0</td>\n",
              "      <td>0.0</td>\n",
              "    </tr>\n",
              "  </tbody>\n",
              "</table>\n",
              "<p>1 rows × 24 columns</p>\n",
              "</div>\n",
              "      <button class=\"colab-df-convert\" onclick=\"convertToInteractive('df-baef54ab-601f-483e-ab6c-e7b5896b4cee')\"\n",
              "              title=\"Convert this dataframe to an interactive table.\"\n",
              "              style=\"display:none;\">\n",
              "        \n",
              "  <svg xmlns=\"http://www.w3.org/2000/svg\" height=\"24px\"viewBox=\"0 0 24 24\"\n",
              "       width=\"24px\">\n",
              "    <path d=\"M0 0h24v24H0V0z\" fill=\"none\"/>\n",
              "    <path d=\"M18.56 5.44l.94 2.06.94-2.06 2.06-.94-2.06-.94-.94-2.06-.94 2.06-2.06.94zm-11 1L8.5 8.5l.94-2.06 2.06-.94-2.06-.94L8.5 2.5l-.94 2.06-2.06.94zm10 10l.94 2.06.94-2.06 2.06-.94-2.06-.94-.94-2.06-.94 2.06-2.06.94z\"/><path d=\"M17.41 7.96l-1.37-1.37c-.4-.4-.92-.59-1.43-.59-.52 0-1.04.2-1.43.59L10.3 9.45l-7.72 7.72c-.78.78-.78 2.05 0 2.83L4 21.41c.39.39.9.59 1.41.59.51 0 1.02-.2 1.41-.59l7.78-7.78 2.81-2.81c.8-.78.8-2.07 0-2.86zM5.41 20L4 18.59l7.72-7.72 1.47 1.35L5.41 20z\"/>\n",
              "  </svg>\n",
              "      </button>\n",
              "      \n",
              "  <style>\n",
              "    .colab-df-container {\n",
              "      display:flex;\n",
              "      flex-wrap:wrap;\n",
              "      gap: 12px;\n",
              "    }\n",
              "\n",
              "    .colab-df-convert {\n",
              "      background-color: #E8F0FE;\n",
              "      border: none;\n",
              "      border-radius: 50%;\n",
              "      cursor: pointer;\n",
              "      display: none;\n",
              "      fill: #1967D2;\n",
              "      height: 32px;\n",
              "      padding: 0 0 0 0;\n",
              "      width: 32px;\n",
              "    }\n",
              "\n",
              "    .colab-df-convert:hover {\n",
              "      background-color: #E2EBFA;\n",
              "      box-shadow: 0px 1px 2px rgba(60, 64, 67, 0.3), 0px 1px 3px 1px rgba(60, 64, 67, 0.15);\n",
              "      fill: #174EA6;\n",
              "    }\n",
              "\n",
              "    [theme=dark] .colab-df-convert {\n",
              "      background-color: #3B4455;\n",
              "      fill: #D2E3FC;\n",
              "    }\n",
              "\n",
              "    [theme=dark] .colab-df-convert:hover {\n",
              "      background-color: #434B5C;\n",
              "      box-shadow: 0px 1px 3px 1px rgba(0, 0, 0, 0.15);\n",
              "      filter: drop-shadow(0px 1px 2px rgba(0, 0, 0, 0.3));\n",
              "      fill: #FFFFFF;\n",
              "    }\n",
              "  </style>\n",
              "\n",
              "      <script>\n",
              "        const buttonEl =\n",
              "          document.querySelector('#df-baef54ab-601f-483e-ab6c-e7b5896b4cee button.colab-df-convert');\n",
              "        buttonEl.style.display =\n",
              "          google.colab.kernel.accessAllowed ? 'block' : 'none';\n",
              "\n",
              "        async function convertToInteractive(key) {\n",
              "          const element = document.querySelector('#df-baef54ab-601f-483e-ab6c-e7b5896b4cee');\n",
              "          const dataTable =\n",
              "            await google.colab.kernel.invokeFunction('convertToInteractive',\n",
              "                                                     [key], {});\n",
              "          if (!dataTable) return;\n",
              "\n",
              "          const docLinkHtml = 'Like what you see? Visit the ' +\n",
              "            '<a target=\"_blank\" href=https://colab.research.google.com/notebooks/data_table.ipynb>data table notebook</a>'\n",
              "            + ' to learn more about interactive tables.';\n",
              "          element.innerHTML = '';\n",
              "          dataTable['output_type'] = 'display_data';\n",
              "          await google.colab.output.renderOutput(dataTable, element);\n",
              "          const docLink = document.createElement('div');\n",
              "          docLink.innerHTML = docLinkHtml;\n",
              "          element.appendChild(docLink);\n",
              "        }\n",
              "      </script>\n",
              "    </div>\n",
              "  </div>\n",
              "  "
            ]
          },
          "metadata": {},
          "execution_count": 12
        }
      ]
    },
    {
      "cell_type": "code",
      "source": [
        "#Ahora reeemplazamos el registro con sexo nulo dandole el 2 por ser el mayor porcentaje con el 60%\n",
        "df_clean[\"SEX\"].fillna(2,inplace=True)\n",
        "df_clean.loc[24366:24366]"
      ],
      "metadata": {
        "colab": {
          "base_uri": "https://localhost:8080/",
          "height": 185
        },
        "id": "QkRdh0vCIILY",
        "outputId": "8deef558-d458-4338-d0fa-29a98c960d89"
      },
      "execution_count": 13,
      "outputs": [
        {
          "output_type": "execute_result",
          "data": {
            "text/plain": [
              "          AMT  SEX  EDUCATION  MARRIAGE  AGE  PAYSTAT_1  PAYSTAT_2  PAYSTAT_3  \\\n",
              "ID                                                                              \n",
              "24366  130000  2.0        NaN       NaN  NaN        NaN        NaN        NaN   \n",
              "\n",
              "       PAYSTAT_4  PAYSTAT_5  ...  BILL_4  BILL_5  BILL_6  PAY_1  PAY_2  PAY_3  \\\n",
              "ID                           ...                                                \n",
              "24366        NaN        NaN  ...     NaN     NaN     NaN    NaN    NaN    NaN   \n",
              "\n",
              "       PAY_4  PAY_5  PAY_6    Y  \n",
              "ID                               \n",
              "24366    NaN    NaN  390.0  0.0  \n",
              "\n",
              "[1 rows x 24 columns]"
            ],
            "text/html": [
              "\n",
              "  <div id=\"df-58f35933-b93a-44af-8efd-192feae1af04\">\n",
              "    <div class=\"colab-df-container\">\n",
              "      <div>\n",
              "<style scoped>\n",
              "    .dataframe tbody tr th:only-of-type {\n",
              "        vertical-align: middle;\n",
              "    }\n",
              "\n",
              "    .dataframe tbody tr th {\n",
              "        vertical-align: top;\n",
              "    }\n",
              "\n",
              "    .dataframe thead th {\n",
              "        text-align: right;\n",
              "    }\n",
              "</style>\n",
              "<table border=\"1\" class=\"dataframe\">\n",
              "  <thead>\n",
              "    <tr style=\"text-align: right;\">\n",
              "      <th></th>\n",
              "      <th>AMT</th>\n",
              "      <th>SEX</th>\n",
              "      <th>EDUCATION</th>\n",
              "      <th>MARRIAGE</th>\n",
              "      <th>AGE</th>\n",
              "      <th>PAYSTAT_1</th>\n",
              "      <th>PAYSTAT_2</th>\n",
              "      <th>PAYSTAT_3</th>\n",
              "      <th>PAYSTAT_4</th>\n",
              "      <th>PAYSTAT_5</th>\n",
              "      <th>...</th>\n",
              "      <th>BILL_4</th>\n",
              "      <th>BILL_5</th>\n",
              "      <th>BILL_6</th>\n",
              "      <th>PAY_1</th>\n",
              "      <th>PAY_2</th>\n",
              "      <th>PAY_3</th>\n",
              "      <th>PAY_4</th>\n",
              "      <th>PAY_5</th>\n",
              "      <th>PAY_6</th>\n",
              "      <th>Y</th>\n",
              "    </tr>\n",
              "    <tr>\n",
              "      <th>ID</th>\n",
              "      <th></th>\n",
              "      <th></th>\n",
              "      <th></th>\n",
              "      <th></th>\n",
              "      <th></th>\n",
              "      <th></th>\n",
              "      <th></th>\n",
              "      <th></th>\n",
              "      <th></th>\n",
              "      <th></th>\n",
              "      <th></th>\n",
              "      <th></th>\n",
              "      <th></th>\n",
              "      <th></th>\n",
              "      <th></th>\n",
              "      <th></th>\n",
              "      <th></th>\n",
              "      <th></th>\n",
              "      <th></th>\n",
              "      <th></th>\n",
              "      <th></th>\n",
              "    </tr>\n",
              "  </thead>\n",
              "  <tbody>\n",
              "    <tr>\n",
              "      <th>24366</th>\n",
              "      <td>130000</td>\n",
              "      <td>2.0</td>\n",
              "      <td>NaN</td>\n",
              "      <td>NaN</td>\n",
              "      <td>NaN</td>\n",
              "      <td>NaN</td>\n",
              "      <td>NaN</td>\n",
              "      <td>NaN</td>\n",
              "      <td>NaN</td>\n",
              "      <td>NaN</td>\n",
              "      <td>...</td>\n",
              "      <td>NaN</td>\n",
              "      <td>NaN</td>\n",
              "      <td>NaN</td>\n",
              "      <td>NaN</td>\n",
              "      <td>NaN</td>\n",
              "      <td>NaN</td>\n",
              "      <td>NaN</td>\n",
              "      <td>NaN</td>\n",
              "      <td>390.0</td>\n",
              "      <td>0.0</td>\n",
              "    </tr>\n",
              "  </tbody>\n",
              "</table>\n",
              "<p>1 rows × 24 columns</p>\n",
              "</div>\n",
              "      <button class=\"colab-df-convert\" onclick=\"convertToInteractive('df-58f35933-b93a-44af-8efd-192feae1af04')\"\n",
              "              title=\"Convert this dataframe to an interactive table.\"\n",
              "              style=\"display:none;\">\n",
              "        \n",
              "  <svg xmlns=\"http://www.w3.org/2000/svg\" height=\"24px\"viewBox=\"0 0 24 24\"\n",
              "       width=\"24px\">\n",
              "    <path d=\"M0 0h24v24H0V0z\" fill=\"none\"/>\n",
              "    <path d=\"M18.56 5.44l.94 2.06.94-2.06 2.06-.94-2.06-.94-.94-2.06-.94 2.06-2.06.94zm-11 1L8.5 8.5l.94-2.06 2.06-.94-2.06-.94L8.5 2.5l-.94 2.06-2.06.94zm10 10l.94 2.06.94-2.06 2.06-.94-2.06-.94-.94-2.06-.94 2.06-2.06.94z\"/><path d=\"M17.41 7.96l-1.37-1.37c-.4-.4-.92-.59-1.43-.59-.52 0-1.04.2-1.43.59L10.3 9.45l-7.72 7.72c-.78.78-.78 2.05 0 2.83L4 21.41c.39.39.9.59 1.41.59.51 0 1.02-.2 1.41-.59l7.78-7.78 2.81-2.81c.8-.78.8-2.07 0-2.86zM5.41 20L4 18.59l7.72-7.72 1.47 1.35L5.41 20z\"/>\n",
              "  </svg>\n",
              "      </button>\n",
              "      \n",
              "  <style>\n",
              "    .colab-df-container {\n",
              "      display:flex;\n",
              "      flex-wrap:wrap;\n",
              "      gap: 12px;\n",
              "    }\n",
              "\n",
              "    .colab-df-convert {\n",
              "      background-color: #E8F0FE;\n",
              "      border: none;\n",
              "      border-radius: 50%;\n",
              "      cursor: pointer;\n",
              "      display: none;\n",
              "      fill: #1967D2;\n",
              "      height: 32px;\n",
              "      padding: 0 0 0 0;\n",
              "      width: 32px;\n",
              "    }\n",
              "\n",
              "    .colab-df-convert:hover {\n",
              "      background-color: #E2EBFA;\n",
              "      box-shadow: 0px 1px 2px rgba(60, 64, 67, 0.3), 0px 1px 3px 1px rgba(60, 64, 67, 0.15);\n",
              "      fill: #174EA6;\n",
              "    }\n",
              "\n",
              "    [theme=dark] .colab-df-convert {\n",
              "      background-color: #3B4455;\n",
              "      fill: #D2E3FC;\n",
              "    }\n",
              "\n",
              "    [theme=dark] .colab-df-convert:hover {\n",
              "      background-color: #434B5C;\n",
              "      box-shadow: 0px 1px 3px 1px rgba(0, 0, 0, 0.15);\n",
              "      filter: drop-shadow(0px 1px 2px rgba(0, 0, 0, 0.3));\n",
              "      fill: #FFFFFF;\n",
              "    }\n",
              "  </style>\n",
              "\n",
              "      <script>\n",
              "        const buttonEl =\n",
              "          document.querySelector('#df-58f35933-b93a-44af-8efd-192feae1af04 button.colab-df-convert');\n",
              "        buttonEl.style.display =\n",
              "          google.colab.kernel.accessAllowed ? 'block' : 'none';\n",
              "\n",
              "        async function convertToInteractive(key) {\n",
              "          const element = document.querySelector('#df-58f35933-b93a-44af-8efd-192feae1af04');\n",
              "          const dataTable =\n",
              "            await google.colab.kernel.invokeFunction('convertToInteractive',\n",
              "                                                     [key], {});\n",
              "          if (!dataTable) return;\n",
              "\n",
              "          const docLinkHtml = 'Like what you see? Visit the ' +\n",
              "            '<a target=\"_blank\" href=https://colab.research.google.com/notebooks/data_table.ipynb>data table notebook</a>'\n",
              "            + ' to learn more about interactive tables.';\n",
              "          element.innerHTML = '';\n",
              "          dataTable['output_type'] = 'display_data';\n",
              "          await google.colab.output.renderOutput(dataTable, element);\n",
              "          const docLink = document.createElement('div');\n",
              "          docLink.innerHTML = docLinkHtml;\n",
              "          element.appendChild(docLink);\n",
              "        }\n",
              "      </script>\n",
              "    </div>\n",
              "  </div>\n",
              "  "
            ]
          },
          "metadata": {},
          "execution_count": 13
        }
      ]
    },
    {
      "cell_type": "markdown",
      "source": [
        "Ahora seguimos con EDUCATION, que son el nivel de educación solo debe admitir valores de 1, 2, 3, y 4 para cualquier otro. Así que verificamos"
      ],
      "metadata": {
        "id": "CgoG2E5sHUe-"
      }
    },
    {
      "cell_type": "code",
      "source": [
        "print('Valores menores a 1: ' + str((df_clean['EDUCATION'].values < 1).sum()))\n",
        "print('Valores mayores a 4: ' + str((df_clean['EDUCATION'].values > 4).sum()))"
      ],
      "metadata": {
        "colab": {
          "base_uri": "https://localhost:8080/"
        },
        "id": "F2-XyzEFHgXZ",
        "outputId": "816fb08d-3bc6-44f9-da08-f4e7a8ba1745"
      },
      "execution_count": 14,
      "outputs": [
        {
          "output_type": "stream",
          "name": "stdout",
          "text": [
            "Valores menores a 1: 14\n",
            "Valores mayores a 4: 331\n"
          ]
        }
      ]
    },
    {
      "cell_type": "markdown",
      "source": [
        "Vemos que hay 331 valores mayores a 4. En este caso tomaremos la suposición de que todo valor mayor a 4 puede entrar dentro del valor 4, que significa \"4 = others\"."
      ],
      "metadata": {
        "id": "ZtuipkM0H_Ta"
      }
    },
    {
      "cell_type": "code",
      "source": [
        "EDUCATION_values = []\n",
        "for i in range(0,len(df_clean.index)):\n",
        "  if df_clean['EDUCATION'].iloc[i] > 4:\n",
        "    if df_clean['EDUCATION'].iloc[i] not in EDUCATION_values:\n",
        "      EDUCATION_values.append(int(df_clean['EDUCATION'].iloc[i]))\n",
        "for i in EDUCATION_values:\n",
        "  df_clean['EDUCATION'].replace(i,4,inplace=True)\n",
        "\n",
        "print('Valores mayores a 4: ' + str((df_clean['EDUCATION'].values > 4).sum()))"
      ],
      "metadata": {
        "colab": {
          "base_uri": "https://localhost:8080/"
        },
        "id": "yhWkmJq1ISxe",
        "outputId": "5060596f-07d8-4c78-f568-cdece74bd262"
      },
      "execution_count": 15,
      "outputs": [
        {
          "output_type": "stream",
          "name": "stdout",
          "text": [
            "Valores mayores a 4: 0\n"
          ]
        }
      ]
    },
    {
      "cell_type": "code",
      "source": [
        "print('Valores menores a 1: ' + str((df_clean['EDUCATION'].values < 1).sum()))\n",
        "print('Valores mayores a 4: ' + str((df_clean['EDUCATION'].values > 4).sum()))"
      ],
      "metadata": {
        "id": "5rjI1BObW2OO",
        "outputId": "6f45c78d-15d9-4426-a374-d48e214f09e4",
        "colab": {
          "base_uri": "https://localhost:8080/"
        }
      },
      "execution_count": 16,
      "outputs": [
        {
          "output_type": "stream",
          "name": "stdout",
          "text": [
            "Valores menores a 1: 14\n",
            "Valores mayores a 4: 0\n"
          ]
        }
      ]
    },
    {
      "cell_type": "markdown",
      "source": [
        "Mientras que los valores menores a 1, que solo son 14, los remplazaremos el promedio"
      ],
      "metadata": {
        "id": "eluT20VYLbYM"
      }
    },
    {
      "cell_type": "code",
      "source": [
        "EDUCATION_mean = df_clean.EDUCATION.mean()\n",
        "print('Promedio de EDUCATION: ' + str(int(EDUCATION_mean)))\n",
        "df_clean['EDUCATION'].replace(0,int(EDUCATION_mean),inplace=True)\n",
        "print('Valores menores a 1: ' + str((df_clean['EDUCATION'].values < 1).sum()))"
      ],
      "metadata": {
        "colab": {
          "base_uri": "https://localhost:8080/"
        },
        "id": "Yj7mejFRLprz",
        "outputId": "0832fe16-fa83-4a7d-dca9-7b9c476fbd7f"
      },
      "execution_count": 17,
      "outputs": [
        {
          "output_type": "stream",
          "name": "stdout",
          "text": [
            "Promedio de EDUCATION: 1\n",
            "Valores menores a 1: 0\n"
          ]
        }
      ]
    },
    {
      "cell_type": "code",
      "source": [
        "# creamos una serie booleana para encontrar registros nulos en EDUCATION\n",
        "educacion_nulos = pd.isnull(df_clean[\"EDUCATION\"])\n",
        "   \n",
        "# filtramos los datos\n",
        "# desplegamos los registros con \"EDUCATION\" = NaN\n",
        "df_clean[educacion_nulos]"
      ],
      "metadata": {
        "colab": {
          "base_uri": "https://localhost:8080/",
          "height": 217
        },
        "id": "Z8IuNXjfOYzp",
        "outputId": "e9d9ea76-5f69-44d2-8e56-927c117d30e0"
      },
      "execution_count": 18,
      "outputs": [
        {
          "output_type": "execute_result",
          "data": {
            "text/plain": [
              "          AMT  SEX  EDUCATION  MARRIAGE  AGE  PAYSTAT_1  PAYSTAT_2  PAYSTAT_3  \\\n",
              "ID                                                                              \n",
              "6228    30000  1.0        NaN       NaN  NaN        NaN        NaN        NaN   \n",
              "24366  130000  2.0        NaN       NaN  NaN        NaN        NaN        NaN   \n",
              "\n",
              "       PAYSTAT_4  PAYSTAT_5  ...  BILL_4  BILL_5   BILL_6   PAY_1   PAY_2  \\\n",
              "ID                           ...                                            \n",
              "6228         NaN        NaN  ...     NaN     NaN  21120.0  1586.0  1365.0   \n",
              "24366        NaN        NaN  ...     NaN     NaN      NaN     NaN     NaN   \n",
              "\n",
              "        PAY_3   PAY_4   PAY_5  PAY_6    Y  \n",
              "ID                                         \n",
              "6228   1663.0  5106.0  1050.0    0.0  0.0  \n",
              "24366     NaN     NaN     NaN  390.0  0.0  \n",
              "\n",
              "[2 rows x 24 columns]"
            ],
            "text/html": [
              "\n",
              "  <div id=\"df-6f1fbf10-3927-44ac-a6a1-c909232a72ba\">\n",
              "    <div class=\"colab-df-container\">\n",
              "      <div>\n",
              "<style scoped>\n",
              "    .dataframe tbody tr th:only-of-type {\n",
              "        vertical-align: middle;\n",
              "    }\n",
              "\n",
              "    .dataframe tbody tr th {\n",
              "        vertical-align: top;\n",
              "    }\n",
              "\n",
              "    .dataframe thead th {\n",
              "        text-align: right;\n",
              "    }\n",
              "</style>\n",
              "<table border=\"1\" class=\"dataframe\">\n",
              "  <thead>\n",
              "    <tr style=\"text-align: right;\">\n",
              "      <th></th>\n",
              "      <th>AMT</th>\n",
              "      <th>SEX</th>\n",
              "      <th>EDUCATION</th>\n",
              "      <th>MARRIAGE</th>\n",
              "      <th>AGE</th>\n",
              "      <th>PAYSTAT_1</th>\n",
              "      <th>PAYSTAT_2</th>\n",
              "      <th>PAYSTAT_3</th>\n",
              "      <th>PAYSTAT_4</th>\n",
              "      <th>PAYSTAT_5</th>\n",
              "      <th>...</th>\n",
              "      <th>BILL_4</th>\n",
              "      <th>BILL_5</th>\n",
              "      <th>BILL_6</th>\n",
              "      <th>PAY_1</th>\n",
              "      <th>PAY_2</th>\n",
              "      <th>PAY_3</th>\n",
              "      <th>PAY_4</th>\n",
              "      <th>PAY_5</th>\n",
              "      <th>PAY_6</th>\n",
              "      <th>Y</th>\n",
              "    </tr>\n",
              "    <tr>\n",
              "      <th>ID</th>\n",
              "      <th></th>\n",
              "      <th></th>\n",
              "      <th></th>\n",
              "      <th></th>\n",
              "      <th></th>\n",
              "      <th></th>\n",
              "      <th></th>\n",
              "      <th></th>\n",
              "      <th></th>\n",
              "      <th></th>\n",
              "      <th></th>\n",
              "      <th></th>\n",
              "      <th></th>\n",
              "      <th></th>\n",
              "      <th></th>\n",
              "      <th></th>\n",
              "      <th></th>\n",
              "      <th></th>\n",
              "      <th></th>\n",
              "      <th></th>\n",
              "      <th></th>\n",
              "    </tr>\n",
              "  </thead>\n",
              "  <tbody>\n",
              "    <tr>\n",
              "      <th>6228</th>\n",
              "      <td>30000</td>\n",
              "      <td>1.0</td>\n",
              "      <td>NaN</td>\n",
              "      <td>NaN</td>\n",
              "      <td>NaN</td>\n",
              "      <td>NaN</td>\n",
              "      <td>NaN</td>\n",
              "      <td>NaN</td>\n",
              "      <td>NaN</td>\n",
              "      <td>NaN</td>\n",
              "      <td>...</td>\n",
              "      <td>NaN</td>\n",
              "      <td>NaN</td>\n",
              "      <td>21120.0</td>\n",
              "      <td>1586.0</td>\n",
              "      <td>1365.0</td>\n",
              "      <td>1663.0</td>\n",
              "      <td>5106.0</td>\n",
              "      <td>1050.0</td>\n",
              "      <td>0.0</td>\n",
              "      <td>0.0</td>\n",
              "    </tr>\n",
              "    <tr>\n",
              "      <th>24366</th>\n",
              "      <td>130000</td>\n",
              "      <td>2.0</td>\n",
              "      <td>NaN</td>\n",
              "      <td>NaN</td>\n",
              "      <td>NaN</td>\n",
              "      <td>NaN</td>\n",
              "      <td>NaN</td>\n",
              "      <td>NaN</td>\n",
              "      <td>NaN</td>\n",
              "      <td>NaN</td>\n",
              "      <td>...</td>\n",
              "      <td>NaN</td>\n",
              "      <td>NaN</td>\n",
              "      <td>NaN</td>\n",
              "      <td>NaN</td>\n",
              "      <td>NaN</td>\n",
              "      <td>NaN</td>\n",
              "      <td>NaN</td>\n",
              "      <td>NaN</td>\n",
              "      <td>390.0</td>\n",
              "      <td>0.0</td>\n",
              "    </tr>\n",
              "  </tbody>\n",
              "</table>\n",
              "<p>2 rows × 24 columns</p>\n",
              "</div>\n",
              "      <button class=\"colab-df-convert\" onclick=\"convertToInteractive('df-6f1fbf10-3927-44ac-a6a1-c909232a72ba')\"\n",
              "              title=\"Convert this dataframe to an interactive table.\"\n",
              "              style=\"display:none;\">\n",
              "        \n",
              "  <svg xmlns=\"http://www.w3.org/2000/svg\" height=\"24px\"viewBox=\"0 0 24 24\"\n",
              "       width=\"24px\">\n",
              "    <path d=\"M0 0h24v24H0V0z\" fill=\"none\"/>\n",
              "    <path d=\"M18.56 5.44l.94 2.06.94-2.06 2.06-.94-2.06-.94-.94-2.06-.94 2.06-2.06.94zm-11 1L8.5 8.5l.94-2.06 2.06-.94-2.06-.94L8.5 2.5l-.94 2.06-2.06.94zm10 10l.94 2.06.94-2.06 2.06-.94-2.06-.94-.94-2.06-.94 2.06-2.06.94z\"/><path d=\"M17.41 7.96l-1.37-1.37c-.4-.4-.92-.59-1.43-.59-.52 0-1.04.2-1.43.59L10.3 9.45l-7.72 7.72c-.78.78-.78 2.05 0 2.83L4 21.41c.39.39.9.59 1.41.59.51 0 1.02-.2 1.41-.59l7.78-7.78 2.81-2.81c.8-.78.8-2.07 0-2.86zM5.41 20L4 18.59l7.72-7.72 1.47 1.35L5.41 20z\"/>\n",
              "  </svg>\n",
              "      </button>\n",
              "      \n",
              "  <style>\n",
              "    .colab-df-container {\n",
              "      display:flex;\n",
              "      flex-wrap:wrap;\n",
              "      gap: 12px;\n",
              "    }\n",
              "\n",
              "    .colab-df-convert {\n",
              "      background-color: #E8F0FE;\n",
              "      border: none;\n",
              "      border-radius: 50%;\n",
              "      cursor: pointer;\n",
              "      display: none;\n",
              "      fill: #1967D2;\n",
              "      height: 32px;\n",
              "      padding: 0 0 0 0;\n",
              "      width: 32px;\n",
              "    }\n",
              "\n",
              "    .colab-df-convert:hover {\n",
              "      background-color: #E2EBFA;\n",
              "      box-shadow: 0px 1px 2px rgba(60, 64, 67, 0.3), 0px 1px 3px 1px rgba(60, 64, 67, 0.15);\n",
              "      fill: #174EA6;\n",
              "    }\n",
              "\n",
              "    [theme=dark] .colab-df-convert {\n",
              "      background-color: #3B4455;\n",
              "      fill: #D2E3FC;\n",
              "    }\n",
              "\n",
              "    [theme=dark] .colab-df-convert:hover {\n",
              "      background-color: #434B5C;\n",
              "      box-shadow: 0px 1px 3px 1px rgba(0, 0, 0, 0.15);\n",
              "      filter: drop-shadow(0px 1px 2px rgba(0, 0, 0, 0.3));\n",
              "      fill: #FFFFFF;\n",
              "    }\n",
              "  </style>\n",
              "\n",
              "      <script>\n",
              "        const buttonEl =\n",
              "          document.querySelector('#df-6f1fbf10-3927-44ac-a6a1-c909232a72ba button.colab-df-convert');\n",
              "        buttonEl.style.display =\n",
              "          google.colab.kernel.accessAllowed ? 'block' : 'none';\n",
              "\n",
              "        async function convertToInteractive(key) {\n",
              "          const element = document.querySelector('#df-6f1fbf10-3927-44ac-a6a1-c909232a72ba');\n",
              "          const dataTable =\n",
              "            await google.colab.kernel.invokeFunction('convertToInteractive',\n",
              "                                                     [key], {});\n",
              "          if (!dataTable) return;\n",
              "\n",
              "          const docLinkHtml = 'Like what you see? Visit the ' +\n",
              "            '<a target=\"_blank\" href=https://colab.research.google.com/notebooks/data_table.ipynb>data table notebook</a>'\n",
              "            + ' to learn more about interactive tables.';\n",
              "          element.innerHTML = '';\n",
              "          dataTable['output_type'] = 'display_data';\n",
              "          await google.colab.output.renderOutput(dataTable, element);\n",
              "          const docLink = document.createElement('div');\n",
              "          docLink.innerHTML = docLinkHtml;\n",
              "          element.appendChild(docLink);\n",
              "        }\n",
              "      </script>\n",
              "    </div>\n",
              "  </div>\n",
              "  "
            ]
          },
          "metadata": {},
          "execution_count": 18
        }
      ]
    },
    {
      "cell_type": "code",
      "source": [
        "# les asignamos la media de educacion = 1 a los 2 registros nulos encontrados\n",
        "df_clean[\"EDUCATION\"].fillna(1,inplace=True)"
      ],
      "metadata": {
        "id": "_-hZTWTIPIMc"
      },
      "execution_count": 19,
      "outputs": []
    },
    {
      "cell_type": "code",
      "source": [
        "df_clean.loc[24366:24366]\n"
      ],
      "metadata": {
        "colab": {
          "base_uri": "https://localhost:8080/",
          "height": 185
        },
        "id": "pV5c7B3cP8aU",
        "outputId": "3f1408ff-63dc-4825-ad44-d7c4b8d2f362"
      },
      "execution_count": 20,
      "outputs": [
        {
          "output_type": "execute_result",
          "data": {
            "text/plain": [
              "          AMT  SEX  EDUCATION  MARRIAGE  AGE  PAYSTAT_1  PAYSTAT_2  PAYSTAT_3  \\\n",
              "ID                                                                              \n",
              "24366  130000  2.0        1.0       NaN  NaN        NaN        NaN        NaN   \n",
              "\n",
              "       PAYSTAT_4  PAYSTAT_5  ...  BILL_4  BILL_5  BILL_6  PAY_1  PAY_2  PAY_3  \\\n",
              "ID                           ...                                                \n",
              "24366        NaN        NaN  ...     NaN     NaN     NaN    NaN    NaN    NaN   \n",
              "\n",
              "       PAY_4  PAY_5  PAY_6    Y  \n",
              "ID                               \n",
              "24366    NaN    NaN  390.0  0.0  \n",
              "\n",
              "[1 rows x 24 columns]"
            ],
            "text/html": [
              "\n",
              "  <div id=\"df-8a980748-7607-4978-87fe-d4027d962b20\">\n",
              "    <div class=\"colab-df-container\">\n",
              "      <div>\n",
              "<style scoped>\n",
              "    .dataframe tbody tr th:only-of-type {\n",
              "        vertical-align: middle;\n",
              "    }\n",
              "\n",
              "    .dataframe tbody tr th {\n",
              "        vertical-align: top;\n",
              "    }\n",
              "\n",
              "    .dataframe thead th {\n",
              "        text-align: right;\n",
              "    }\n",
              "</style>\n",
              "<table border=\"1\" class=\"dataframe\">\n",
              "  <thead>\n",
              "    <tr style=\"text-align: right;\">\n",
              "      <th></th>\n",
              "      <th>AMT</th>\n",
              "      <th>SEX</th>\n",
              "      <th>EDUCATION</th>\n",
              "      <th>MARRIAGE</th>\n",
              "      <th>AGE</th>\n",
              "      <th>PAYSTAT_1</th>\n",
              "      <th>PAYSTAT_2</th>\n",
              "      <th>PAYSTAT_3</th>\n",
              "      <th>PAYSTAT_4</th>\n",
              "      <th>PAYSTAT_5</th>\n",
              "      <th>...</th>\n",
              "      <th>BILL_4</th>\n",
              "      <th>BILL_5</th>\n",
              "      <th>BILL_6</th>\n",
              "      <th>PAY_1</th>\n",
              "      <th>PAY_2</th>\n",
              "      <th>PAY_3</th>\n",
              "      <th>PAY_4</th>\n",
              "      <th>PAY_5</th>\n",
              "      <th>PAY_6</th>\n",
              "      <th>Y</th>\n",
              "    </tr>\n",
              "    <tr>\n",
              "      <th>ID</th>\n",
              "      <th></th>\n",
              "      <th></th>\n",
              "      <th></th>\n",
              "      <th></th>\n",
              "      <th></th>\n",
              "      <th></th>\n",
              "      <th></th>\n",
              "      <th></th>\n",
              "      <th></th>\n",
              "      <th></th>\n",
              "      <th></th>\n",
              "      <th></th>\n",
              "      <th></th>\n",
              "      <th></th>\n",
              "      <th></th>\n",
              "      <th></th>\n",
              "      <th></th>\n",
              "      <th></th>\n",
              "      <th></th>\n",
              "      <th></th>\n",
              "      <th></th>\n",
              "    </tr>\n",
              "  </thead>\n",
              "  <tbody>\n",
              "    <tr>\n",
              "      <th>24366</th>\n",
              "      <td>130000</td>\n",
              "      <td>2.0</td>\n",
              "      <td>1.0</td>\n",
              "      <td>NaN</td>\n",
              "      <td>NaN</td>\n",
              "      <td>NaN</td>\n",
              "      <td>NaN</td>\n",
              "      <td>NaN</td>\n",
              "      <td>NaN</td>\n",
              "      <td>NaN</td>\n",
              "      <td>...</td>\n",
              "      <td>NaN</td>\n",
              "      <td>NaN</td>\n",
              "      <td>NaN</td>\n",
              "      <td>NaN</td>\n",
              "      <td>NaN</td>\n",
              "      <td>NaN</td>\n",
              "      <td>NaN</td>\n",
              "      <td>NaN</td>\n",
              "      <td>390.0</td>\n",
              "      <td>0.0</td>\n",
              "    </tr>\n",
              "  </tbody>\n",
              "</table>\n",
              "<p>1 rows × 24 columns</p>\n",
              "</div>\n",
              "      <button class=\"colab-df-convert\" onclick=\"convertToInteractive('df-8a980748-7607-4978-87fe-d4027d962b20')\"\n",
              "              title=\"Convert this dataframe to an interactive table.\"\n",
              "              style=\"display:none;\">\n",
              "        \n",
              "  <svg xmlns=\"http://www.w3.org/2000/svg\" height=\"24px\"viewBox=\"0 0 24 24\"\n",
              "       width=\"24px\">\n",
              "    <path d=\"M0 0h24v24H0V0z\" fill=\"none\"/>\n",
              "    <path d=\"M18.56 5.44l.94 2.06.94-2.06 2.06-.94-2.06-.94-.94-2.06-.94 2.06-2.06.94zm-11 1L8.5 8.5l.94-2.06 2.06-.94-2.06-.94L8.5 2.5l-.94 2.06-2.06.94zm10 10l.94 2.06.94-2.06 2.06-.94-2.06-.94-.94-2.06-.94 2.06-2.06.94z\"/><path d=\"M17.41 7.96l-1.37-1.37c-.4-.4-.92-.59-1.43-.59-.52 0-1.04.2-1.43.59L10.3 9.45l-7.72 7.72c-.78.78-.78 2.05 0 2.83L4 21.41c.39.39.9.59 1.41.59.51 0 1.02-.2 1.41-.59l7.78-7.78 2.81-2.81c.8-.78.8-2.07 0-2.86zM5.41 20L4 18.59l7.72-7.72 1.47 1.35L5.41 20z\"/>\n",
              "  </svg>\n",
              "      </button>\n",
              "      \n",
              "  <style>\n",
              "    .colab-df-container {\n",
              "      display:flex;\n",
              "      flex-wrap:wrap;\n",
              "      gap: 12px;\n",
              "    }\n",
              "\n",
              "    .colab-df-convert {\n",
              "      background-color: #E8F0FE;\n",
              "      border: none;\n",
              "      border-radius: 50%;\n",
              "      cursor: pointer;\n",
              "      display: none;\n",
              "      fill: #1967D2;\n",
              "      height: 32px;\n",
              "      padding: 0 0 0 0;\n",
              "      width: 32px;\n",
              "    }\n",
              "\n",
              "    .colab-df-convert:hover {\n",
              "      background-color: #E2EBFA;\n",
              "      box-shadow: 0px 1px 2px rgba(60, 64, 67, 0.3), 0px 1px 3px 1px rgba(60, 64, 67, 0.15);\n",
              "      fill: #174EA6;\n",
              "    }\n",
              "\n",
              "    [theme=dark] .colab-df-convert {\n",
              "      background-color: #3B4455;\n",
              "      fill: #D2E3FC;\n",
              "    }\n",
              "\n",
              "    [theme=dark] .colab-df-convert:hover {\n",
              "      background-color: #434B5C;\n",
              "      box-shadow: 0px 1px 3px 1px rgba(0, 0, 0, 0.15);\n",
              "      filter: drop-shadow(0px 1px 2px rgba(0, 0, 0, 0.3));\n",
              "      fill: #FFFFFF;\n",
              "    }\n",
              "  </style>\n",
              "\n",
              "      <script>\n",
              "        const buttonEl =\n",
              "          document.querySelector('#df-8a980748-7607-4978-87fe-d4027d962b20 button.colab-df-convert');\n",
              "        buttonEl.style.display =\n",
              "          google.colab.kernel.accessAllowed ? 'block' : 'none';\n",
              "\n",
              "        async function convertToInteractive(key) {\n",
              "          const element = document.querySelector('#df-8a980748-7607-4978-87fe-d4027d962b20');\n",
              "          const dataTable =\n",
              "            await google.colab.kernel.invokeFunction('convertToInteractive',\n",
              "                                                     [key], {});\n",
              "          if (!dataTable) return;\n",
              "\n",
              "          const docLinkHtml = 'Like what you see? Visit the ' +\n",
              "            '<a target=\"_blank\" href=https://colab.research.google.com/notebooks/data_table.ipynb>data table notebook</a>'\n",
              "            + ' to learn more about interactive tables.';\n",
              "          element.innerHTML = '';\n",
              "          dataTable['output_type'] = 'display_data';\n",
              "          await google.colab.output.renderOutput(dataTable, element);\n",
              "          const docLink = document.createElement('div');\n",
              "          docLink.innerHTML = docLinkHtml;\n",
              "          element.appendChild(docLink);\n",
              "        }\n",
              "      </script>\n",
              "    </div>\n",
              "  </div>\n",
              "  "
            ]
          },
          "metadata": {},
          "execution_count": 20
        }
      ]
    },
    {
      "cell_type": "code",
      "source": [
        "df_clean.loc[6228:6228]"
      ],
      "metadata": {
        "colab": {
          "base_uri": "https://localhost:8080/",
          "height": 185
        },
        "id": "24BO_Jx8QE8S",
        "outputId": "92359586-735e-474e-dad3-425009fa061e"
      },
      "execution_count": 21,
      "outputs": [
        {
          "output_type": "execute_result",
          "data": {
            "text/plain": [
              "        AMT  SEX  EDUCATION  MARRIAGE  AGE  PAYSTAT_1  PAYSTAT_2  PAYSTAT_3  \\\n",
              "ID                                                                            \n",
              "6228  30000  1.0        1.0       NaN  NaN        NaN        NaN        NaN   \n",
              "\n",
              "      PAYSTAT_4  PAYSTAT_5  ...  BILL_4  BILL_5   BILL_6   PAY_1   PAY_2  \\\n",
              "ID                          ...                                            \n",
              "6228        NaN        NaN  ...     NaN     NaN  21120.0  1586.0  1365.0   \n",
              "\n",
              "       PAY_3   PAY_4   PAY_5  PAY_6    Y  \n",
              "ID                                        \n",
              "6228  1663.0  5106.0  1050.0    0.0  0.0  \n",
              "\n",
              "[1 rows x 24 columns]"
            ],
            "text/html": [
              "\n",
              "  <div id=\"df-b2ff14ba-6ae7-48a4-a446-fea583c1d5dd\">\n",
              "    <div class=\"colab-df-container\">\n",
              "      <div>\n",
              "<style scoped>\n",
              "    .dataframe tbody tr th:only-of-type {\n",
              "        vertical-align: middle;\n",
              "    }\n",
              "\n",
              "    .dataframe tbody tr th {\n",
              "        vertical-align: top;\n",
              "    }\n",
              "\n",
              "    .dataframe thead th {\n",
              "        text-align: right;\n",
              "    }\n",
              "</style>\n",
              "<table border=\"1\" class=\"dataframe\">\n",
              "  <thead>\n",
              "    <tr style=\"text-align: right;\">\n",
              "      <th></th>\n",
              "      <th>AMT</th>\n",
              "      <th>SEX</th>\n",
              "      <th>EDUCATION</th>\n",
              "      <th>MARRIAGE</th>\n",
              "      <th>AGE</th>\n",
              "      <th>PAYSTAT_1</th>\n",
              "      <th>PAYSTAT_2</th>\n",
              "      <th>PAYSTAT_3</th>\n",
              "      <th>PAYSTAT_4</th>\n",
              "      <th>PAYSTAT_5</th>\n",
              "      <th>...</th>\n",
              "      <th>BILL_4</th>\n",
              "      <th>BILL_5</th>\n",
              "      <th>BILL_6</th>\n",
              "      <th>PAY_1</th>\n",
              "      <th>PAY_2</th>\n",
              "      <th>PAY_3</th>\n",
              "      <th>PAY_4</th>\n",
              "      <th>PAY_5</th>\n",
              "      <th>PAY_6</th>\n",
              "      <th>Y</th>\n",
              "    </tr>\n",
              "    <tr>\n",
              "      <th>ID</th>\n",
              "      <th></th>\n",
              "      <th></th>\n",
              "      <th></th>\n",
              "      <th></th>\n",
              "      <th></th>\n",
              "      <th></th>\n",
              "      <th></th>\n",
              "      <th></th>\n",
              "      <th></th>\n",
              "      <th></th>\n",
              "      <th></th>\n",
              "      <th></th>\n",
              "      <th></th>\n",
              "      <th></th>\n",
              "      <th></th>\n",
              "      <th></th>\n",
              "      <th></th>\n",
              "      <th></th>\n",
              "      <th></th>\n",
              "      <th></th>\n",
              "      <th></th>\n",
              "    </tr>\n",
              "  </thead>\n",
              "  <tbody>\n",
              "    <tr>\n",
              "      <th>6228</th>\n",
              "      <td>30000</td>\n",
              "      <td>1.0</td>\n",
              "      <td>1.0</td>\n",
              "      <td>NaN</td>\n",
              "      <td>NaN</td>\n",
              "      <td>NaN</td>\n",
              "      <td>NaN</td>\n",
              "      <td>NaN</td>\n",
              "      <td>NaN</td>\n",
              "      <td>NaN</td>\n",
              "      <td>...</td>\n",
              "      <td>NaN</td>\n",
              "      <td>NaN</td>\n",
              "      <td>21120.0</td>\n",
              "      <td>1586.0</td>\n",
              "      <td>1365.0</td>\n",
              "      <td>1663.0</td>\n",
              "      <td>5106.0</td>\n",
              "      <td>1050.0</td>\n",
              "      <td>0.0</td>\n",
              "      <td>0.0</td>\n",
              "    </tr>\n",
              "  </tbody>\n",
              "</table>\n",
              "<p>1 rows × 24 columns</p>\n",
              "</div>\n",
              "      <button class=\"colab-df-convert\" onclick=\"convertToInteractive('df-b2ff14ba-6ae7-48a4-a446-fea583c1d5dd')\"\n",
              "              title=\"Convert this dataframe to an interactive table.\"\n",
              "              style=\"display:none;\">\n",
              "        \n",
              "  <svg xmlns=\"http://www.w3.org/2000/svg\" height=\"24px\"viewBox=\"0 0 24 24\"\n",
              "       width=\"24px\">\n",
              "    <path d=\"M0 0h24v24H0V0z\" fill=\"none\"/>\n",
              "    <path d=\"M18.56 5.44l.94 2.06.94-2.06 2.06-.94-2.06-.94-.94-2.06-.94 2.06-2.06.94zm-11 1L8.5 8.5l.94-2.06 2.06-.94-2.06-.94L8.5 2.5l-.94 2.06-2.06.94zm10 10l.94 2.06.94-2.06 2.06-.94-2.06-.94-.94-2.06-.94 2.06-2.06.94z\"/><path d=\"M17.41 7.96l-1.37-1.37c-.4-.4-.92-.59-1.43-.59-.52 0-1.04.2-1.43.59L10.3 9.45l-7.72 7.72c-.78.78-.78 2.05 0 2.83L4 21.41c.39.39.9.59 1.41.59.51 0 1.02-.2 1.41-.59l7.78-7.78 2.81-2.81c.8-.78.8-2.07 0-2.86zM5.41 20L4 18.59l7.72-7.72 1.47 1.35L5.41 20z\"/>\n",
              "  </svg>\n",
              "      </button>\n",
              "      \n",
              "  <style>\n",
              "    .colab-df-container {\n",
              "      display:flex;\n",
              "      flex-wrap:wrap;\n",
              "      gap: 12px;\n",
              "    }\n",
              "\n",
              "    .colab-df-convert {\n",
              "      background-color: #E8F0FE;\n",
              "      border: none;\n",
              "      border-radius: 50%;\n",
              "      cursor: pointer;\n",
              "      display: none;\n",
              "      fill: #1967D2;\n",
              "      height: 32px;\n",
              "      padding: 0 0 0 0;\n",
              "      width: 32px;\n",
              "    }\n",
              "\n",
              "    .colab-df-convert:hover {\n",
              "      background-color: #E2EBFA;\n",
              "      box-shadow: 0px 1px 2px rgba(60, 64, 67, 0.3), 0px 1px 3px 1px rgba(60, 64, 67, 0.15);\n",
              "      fill: #174EA6;\n",
              "    }\n",
              "\n",
              "    [theme=dark] .colab-df-convert {\n",
              "      background-color: #3B4455;\n",
              "      fill: #D2E3FC;\n",
              "    }\n",
              "\n",
              "    [theme=dark] .colab-df-convert:hover {\n",
              "      background-color: #434B5C;\n",
              "      box-shadow: 0px 1px 3px 1px rgba(0, 0, 0, 0.15);\n",
              "      filter: drop-shadow(0px 1px 2px rgba(0, 0, 0, 0.3));\n",
              "      fill: #FFFFFF;\n",
              "    }\n",
              "  </style>\n",
              "\n",
              "      <script>\n",
              "        const buttonEl =\n",
              "          document.querySelector('#df-b2ff14ba-6ae7-48a4-a446-fea583c1d5dd button.colab-df-convert');\n",
              "        buttonEl.style.display =\n",
              "          google.colab.kernel.accessAllowed ? 'block' : 'none';\n",
              "\n",
              "        async function convertToInteractive(key) {\n",
              "          const element = document.querySelector('#df-b2ff14ba-6ae7-48a4-a446-fea583c1d5dd');\n",
              "          const dataTable =\n",
              "            await google.colab.kernel.invokeFunction('convertToInteractive',\n",
              "                                                     [key], {});\n",
              "          if (!dataTable) return;\n",
              "\n",
              "          const docLinkHtml = 'Like what you see? Visit the ' +\n",
              "            '<a target=\"_blank\" href=https://colab.research.google.com/notebooks/data_table.ipynb>data table notebook</a>'\n",
              "            + ' to learn more about interactive tables.';\n",
              "          element.innerHTML = '';\n",
              "          dataTable['output_type'] = 'display_data';\n",
              "          await google.colab.output.renderOutput(dataTable, element);\n",
              "          const docLink = document.createElement('div');\n",
              "          docLink.innerHTML = docLinkHtml;\n",
              "          element.appendChild(docLink);\n",
              "        }\n",
              "      </script>\n",
              "    </div>\n",
              "  </div>\n",
              "  "
            ]
          },
          "metadata": {},
          "execution_count": 21
        }
      ]
    },
    {
      "cell_type": "markdown",
      "source": [
        "No debiesen haber registros nulos en EDUCATION y lo comprobamos así:"
      ],
      "metadata": {
        "id": "SV9OBhhIQ9Cs"
      }
    },
    {
      "cell_type": "code",
      "source": [
        "educacion_nulos = pd.isnull(df_clean[\"EDUCATION\"])\n",
        "   \n",
        "# filtramos los datos\n",
        "# desplegamos los registros con \"EDUCATION\" = NaN\n",
        "df_clean[educacion_nulos] "
      ],
      "metadata": {
        "colab": {
          "base_uri": "https://localhost:8080/",
          "height": 110
        },
        "id": "HsacbLx6Qu61",
        "outputId": "3d185ab3-1b6b-450c-9493-3016a0af878f"
      },
      "execution_count": 22,
      "outputs": [
        {
          "output_type": "execute_result",
          "data": {
            "text/plain": [
              "Empty DataFrame\n",
              "Columns: [AMT, SEX, EDUCATION, MARRIAGE, AGE, PAYSTAT_1, PAYSTAT_2, PAYSTAT_3, PAYSTAT_4, PAYSTAT_5, PAYSTAT_6, BILL_1, BILL_2, BILL_3, BILL_4, BILL_5, BILL_6, PAY_1, PAY_2, PAY_3, PAY_4, PAY_5, PAY_6, Y]\n",
              "Index: []\n",
              "\n",
              "[0 rows x 24 columns]"
            ],
            "text/html": [
              "\n",
              "  <div id=\"df-4cdded24-294e-499d-9c78-070b497a897f\">\n",
              "    <div class=\"colab-df-container\">\n",
              "      <div>\n",
              "<style scoped>\n",
              "    .dataframe tbody tr th:only-of-type {\n",
              "        vertical-align: middle;\n",
              "    }\n",
              "\n",
              "    .dataframe tbody tr th {\n",
              "        vertical-align: top;\n",
              "    }\n",
              "\n",
              "    .dataframe thead th {\n",
              "        text-align: right;\n",
              "    }\n",
              "</style>\n",
              "<table border=\"1\" class=\"dataframe\">\n",
              "  <thead>\n",
              "    <tr style=\"text-align: right;\">\n",
              "      <th></th>\n",
              "      <th>AMT</th>\n",
              "      <th>SEX</th>\n",
              "      <th>EDUCATION</th>\n",
              "      <th>MARRIAGE</th>\n",
              "      <th>AGE</th>\n",
              "      <th>PAYSTAT_1</th>\n",
              "      <th>PAYSTAT_2</th>\n",
              "      <th>PAYSTAT_3</th>\n",
              "      <th>PAYSTAT_4</th>\n",
              "      <th>PAYSTAT_5</th>\n",
              "      <th>...</th>\n",
              "      <th>BILL_4</th>\n",
              "      <th>BILL_5</th>\n",
              "      <th>BILL_6</th>\n",
              "      <th>PAY_1</th>\n",
              "      <th>PAY_2</th>\n",
              "      <th>PAY_3</th>\n",
              "      <th>PAY_4</th>\n",
              "      <th>PAY_5</th>\n",
              "      <th>PAY_6</th>\n",
              "      <th>Y</th>\n",
              "    </tr>\n",
              "    <tr>\n",
              "      <th>ID</th>\n",
              "      <th></th>\n",
              "      <th></th>\n",
              "      <th></th>\n",
              "      <th></th>\n",
              "      <th></th>\n",
              "      <th></th>\n",
              "      <th></th>\n",
              "      <th></th>\n",
              "      <th></th>\n",
              "      <th></th>\n",
              "      <th></th>\n",
              "      <th></th>\n",
              "      <th></th>\n",
              "      <th></th>\n",
              "      <th></th>\n",
              "      <th></th>\n",
              "      <th></th>\n",
              "      <th></th>\n",
              "      <th></th>\n",
              "      <th></th>\n",
              "      <th></th>\n",
              "    </tr>\n",
              "  </thead>\n",
              "  <tbody>\n",
              "  </tbody>\n",
              "</table>\n",
              "<p>0 rows × 24 columns</p>\n",
              "</div>\n",
              "      <button class=\"colab-df-convert\" onclick=\"convertToInteractive('df-4cdded24-294e-499d-9c78-070b497a897f')\"\n",
              "              title=\"Convert this dataframe to an interactive table.\"\n",
              "              style=\"display:none;\">\n",
              "        \n",
              "  <svg xmlns=\"http://www.w3.org/2000/svg\" height=\"24px\"viewBox=\"0 0 24 24\"\n",
              "       width=\"24px\">\n",
              "    <path d=\"M0 0h24v24H0V0z\" fill=\"none\"/>\n",
              "    <path d=\"M18.56 5.44l.94 2.06.94-2.06 2.06-.94-2.06-.94-.94-2.06-.94 2.06-2.06.94zm-11 1L8.5 8.5l.94-2.06 2.06-.94-2.06-.94L8.5 2.5l-.94 2.06-2.06.94zm10 10l.94 2.06.94-2.06 2.06-.94-2.06-.94-.94-2.06-.94 2.06-2.06.94z\"/><path d=\"M17.41 7.96l-1.37-1.37c-.4-.4-.92-.59-1.43-.59-.52 0-1.04.2-1.43.59L10.3 9.45l-7.72 7.72c-.78.78-.78 2.05 0 2.83L4 21.41c.39.39.9.59 1.41.59.51 0 1.02-.2 1.41-.59l7.78-7.78 2.81-2.81c.8-.78.8-2.07 0-2.86zM5.41 20L4 18.59l7.72-7.72 1.47 1.35L5.41 20z\"/>\n",
              "  </svg>\n",
              "      </button>\n",
              "      \n",
              "  <style>\n",
              "    .colab-df-container {\n",
              "      display:flex;\n",
              "      flex-wrap:wrap;\n",
              "      gap: 12px;\n",
              "    }\n",
              "\n",
              "    .colab-df-convert {\n",
              "      background-color: #E8F0FE;\n",
              "      border: none;\n",
              "      border-radius: 50%;\n",
              "      cursor: pointer;\n",
              "      display: none;\n",
              "      fill: #1967D2;\n",
              "      height: 32px;\n",
              "      padding: 0 0 0 0;\n",
              "      width: 32px;\n",
              "    }\n",
              "\n",
              "    .colab-df-convert:hover {\n",
              "      background-color: #E2EBFA;\n",
              "      box-shadow: 0px 1px 2px rgba(60, 64, 67, 0.3), 0px 1px 3px 1px rgba(60, 64, 67, 0.15);\n",
              "      fill: #174EA6;\n",
              "    }\n",
              "\n",
              "    [theme=dark] .colab-df-convert {\n",
              "      background-color: #3B4455;\n",
              "      fill: #D2E3FC;\n",
              "    }\n",
              "\n",
              "    [theme=dark] .colab-df-convert:hover {\n",
              "      background-color: #434B5C;\n",
              "      box-shadow: 0px 1px 3px 1px rgba(0, 0, 0, 0.15);\n",
              "      filter: drop-shadow(0px 1px 2px rgba(0, 0, 0, 0.3));\n",
              "      fill: #FFFFFF;\n",
              "    }\n",
              "  </style>\n",
              "\n",
              "      <script>\n",
              "        const buttonEl =\n",
              "          document.querySelector('#df-4cdded24-294e-499d-9c78-070b497a897f button.colab-df-convert');\n",
              "        buttonEl.style.display =\n",
              "          google.colab.kernel.accessAllowed ? 'block' : 'none';\n",
              "\n",
              "        async function convertToInteractive(key) {\n",
              "          const element = document.querySelector('#df-4cdded24-294e-499d-9c78-070b497a897f');\n",
              "          const dataTable =\n",
              "            await google.colab.kernel.invokeFunction('convertToInteractive',\n",
              "                                                     [key], {});\n",
              "          if (!dataTable) return;\n",
              "\n",
              "          const docLinkHtml = 'Like what you see? Visit the ' +\n",
              "            '<a target=\"_blank\" href=https://colab.research.google.com/notebooks/data_table.ipynb>data table notebook</a>'\n",
              "            + ' to learn more about interactive tables.';\n",
              "          element.innerHTML = '';\n",
              "          dataTable['output_type'] = 'display_data';\n",
              "          await google.colab.output.renderOutput(dataTable, element);\n",
              "          const docLink = document.createElement('div');\n",
              "          docLink.innerHTML = docLinkHtml;\n",
              "          element.appendChild(docLink);\n",
              "        }\n",
              "      </script>\n",
              "    </div>\n",
              "  </div>\n",
              "  "
            ]
          },
          "metadata": {},
          "execution_count": 22
        }
      ]
    },
    {
      "cell_type": "markdown",
      "source": [
        "MARRIAGE solo debería admitir valores de 1, 2, y 3. así que verificamos"
      ],
      "metadata": {
        "id": "291yk5xjMUaE"
      }
    },
    {
      "cell_type": "code",
      "source": [
        "print('Valores menores a 1: ' + str((df_clean['MARRIAGE'].values < 1).sum()))\n",
        "print('Valores mayores a 3: ' + str((df_clean['MARRIAGE'].values > 3).sum()))"
      ],
      "metadata": {
        "colab": {
          "base_uri": "https://localhost:8080/"
        },
        "id": "yCC3pV0ZMbwk",
        "outputId": "7e098911-78a0-4a47-ded9-776366dca894"
      },
      "execution_count": 23,
      "outputs": [
        {
          "output_type": "stream",
          "name": "stdout",
          "text": [
            "Valores menores a 1: 54\n",
            "Valores mayores a 3: 0\n"
          ]
        }
      ]
    },
    {
      "cell_type": "markdown",
      "source": [
        "Descubrimos 54 valores de 0, así que sustituimos por el promedio"
      ],
      "metadata": {
        "id": "dekAqSJtMlZx"
      }
    },
    {
      "cell_type": "code",
      "source": [
        "MARRIAGE_mean = df_clean.MARRIAGE.mean()\n",
        "print('Promedio de MARRIAGE: ' + str(int(MARRIAGE_mean)))\n",
        "df_clean['MARRIAGE'].replace(0,int(MARRIAGE_mean),inplace=True)\n",
        "print('Valores menores a 1: ' + str((df_clean['MARRIAGE'].values < 1).sum()))"
      ],
      "metadata": {
        "colab": {
          "base_uri": "https://localhost:8080/"
        },
        "id": "lxO2WfsUMjzy",
        "outputId": "bc97c22a-6aa7-48d0-8f50-3fcca334e2b0"
      },
      "execution_count": 24,
      "outputs": [
        {
          "output_type": "stream",
          "name": "stdout",
          "text": [
            "Promedio de MARRIAGE: 1\n",
            "Valores menores a 1: 0\n"
          ]
        }
      ]
    },
    {
      "cell_type": "code",
      "source": [
        "# creamos una serie booleana para encontrar registros nulos en MARRIAGE\n",
        "marital_status_nulos = pd.isnull(df_clean[\"MARRIAGE\"])\n",
        "   \n",
        "# filtramos los datos\n",
        "# desplegamos los registros con \"MARRIAGE\" = NaN\n",
        "df_clean[marital_status_nulos]"
      ],
      "metadata": {
        "colab": {
          "base_uri": "https://localhost:8080/",
          "height": 217
        },
        "id": "Sn-Mq_RlRlJt",
        "outputId": "bce7108b-af93-4454-9a80-c60d78760dd9"
      },
      "execution_count": 25,
      "outputs": [
        {
          "output_type": "execute_result",
          "data": {
            "text/plain": [
              "          AMT  SEX  EDUCATION  MARRIAGE  AGE  PAYSTAT_1  PAYSTAT_2  PAYSTAT_3  \\\n",
              "ID                                                                              \n",
              "6228    30000  1.0        1.0       NaN  NaN        NaN        NaN        NaN   \n",
              "24366  130000  2.0        1.0       NaN  NaN        NaN        NaN        NaN   \n",
              "\n",
              "       PAYSTAT_4  PAYSTAT_5  ...  BILL_4  BILL_5   BILL_6   PAY_1   PAY_2  \\\n",
              "ID                           ...                                            \n",
              "6228         NaN        NaN  ...     NaN     NaN  21120.0  1586.0  1365.0   \n",
              "24366        NaN        NaN  ...     NaN     NaN      NaN     NaN     NaN   \n",
              "\n",
              "        PAY_3   PAY_4   PAY_5  PAY_6    Y  \n",
              "ID                                         \n",
              "6228   1663.0  5106.0  1050.0    0.0  0.0  \n",
              "24366     NaN     NaN     NaN  390.0  0.0  \n",
              "\n",
              "[2 rows x 24 columns]"
            ],
            "text/html": [
              "\n",
              "  <div id=\"df-43a68e1b-712e-4f74-8c60-9e68cc0ea8b3\">\n",
              "    <div class=\"colab-df-container\">\n",
              "      <div>\n",
              "<style scoped>\n",
              "    .dataframe tbody tr th:only-of-type {\n",
              "        vertical-align: middle;\n",
              "    }\n",
              "\n",
              "    .dataframe tbody tr th {\n",
              "        vertical-align: top;\n",
              "    }\n",
              "\n",
              "    .dataframe thead th {\n",
              "        text-align: right;\n",
              "    }\n",
              "</style>\n",
              "<table border=\"1\" class=\"dataframe\">\n",
              "  <thead>\n",
              "    <tr style=\"text-align: right;\">\n",
              "      <th></th>\n",
              "      <th>AMT</th>\n",
              "      <th>SEX</th>\n",
              "      <th>EDUCATION</th>\n",
              "      <th>MARRIAGE</th>\n",
              "      <th>AGE</th>\n",
              "      <th>PAYSTAT_1</th>\n",
              "      <th>PAYSTAT_2</th>\n",
              "      <th>PAYSTAT_3</th>\n",
              "      <th>PAYSTAT_4</th>\n",
              "      <th>PAYSTAT_5</th>\n",
              "      <th>...</th>\n",
              "      <th>BILL_4</th>\n",
              "      <th>BILL_5</th>\n",
              "      <th>BILL_6</th>\n",
              "      <th>PAY_1</th>\n",
              "      <th>PAY_2</th>\n",
              "      <th>PAY_3</th>\n",
              "      <th>PAY_4</th>\n",
              "      <th>PAY_5</th>\n",
              "      <th>PAY_6</th>\n",
              "      <th>Y</th>\n",
              "    </tr>\n",
              "    <tr>\n",
              "      <th>ID</th>\n",
              "      <th></th>\n",
              "      <th></th>\n",
              "      <th></th>\n",
              "      <th></th>\n",
              "      <th></th>\n",
              "      <th></th>\n",
              "      <th></th>\n",
              "      <th></th>\n",
              "      <th></th>\n",
              "      <th></th>\n",
              "      <th></th>\n",
              "      <th></th>\n",
              "      <th></th>\n",
              "      <th></th>\n",
              "      <th></th>\n",
              "      <th></th>\n",
              "      <th></th>\n",
              "      <th></th>\n",
              "      <th></th>\n",
              "      <th></th>\n",
              "      <th></th>\n",
              "    </tr>\n",
              "  </thead>\n",
              "  <tbody>\n",
              "    <tr>\n",
              "      <th>6228</th>\n",
              "      <td>30000</td>\n",
              "      <td>1.0</td>\n",
              "      <td>1.0</td>\n",
              "      <td>NaN</td>\n",
              "      <td>NaN</td>\n",
              "      <td>NaN</td>\n",
              "      <td>NaN</td>\n",
              "      <td>NaN</td>\n",
              "      <td>NaN</td>\n",
              "      <td>NaN</td>\n",
              "      <td>...</td>\n",
              "      <td>NaN</td>\n",
              "      <td>NaN</td>\n",
              "      <td>21120.0</td>\n",
              "      <td>1586.0</td>\n",
              "      <td>1365.0</td>\n",
              "      <td>1663.0</td>\n",
              "      <td>5106.0</td>\n",
              "      <td>1050.0</td>\n",
              "      <td>0.0</td>\n",
              "      <td>0.0</td>\n",
              "    </tr>\n",
              "    <tr>\n",
              "      <th>24366</th>\n",
              "      <td>130000</td>\n",
              "      <td>2.0</td>\n",
              "      <td>1.0</td>\n",
              "      <td>NaN</td>\n",
              "      <td>NaN</td>\n",
              "      <td>NaN</td>\n",
              "      <td>NaN</td>\n",
              "      <td>NaN</td>\n",
              "      <td>NaN</td>\n",
              "      <td>NaN</td>\n",
              "      <td>...</td>\n",
              "      <td>NaN</td>\n",
              "      <td>NaN</td>\n",
              "      <td>NaN</td>\n",
              "      <td>NaN</td>\n",
              "      <td>NaN</td>\n",
              "      <td>NaN</td>\n",
              "      <td>NaN</td>\n",
              "      <td>NaN</td>\n",
              "      <td>390.0</td>\n",
              "      <td>0.0</td>\n",
              "    </tr>\n",
              "  </tbody>\n",
              "</table>\n",
              "<p>2 rows × 24 columns</p>\n",
              "</div>\n",
              "      <button class=\"colab-df-convert\" onclick=\"convertToInteractive('df-43a68e1b-712e-4f74-8c60-9e68cc0ea8b3')\"\n",
              "              title=\"Convert this dataframe to an interactive table.\"\n",
              "              style=\"display:none;\">\n",
              "        \n",
              "  <svg xmlns=\"http://www.w3.org/2000/svg\" height=\"24px\"viewBox=\"0 0 24 24\"\n",
              "       width=\"24px\">\n",
              "    <path d=\"M0 0h24v24H0V0z\" fill=\"none\"/>\n",
              "    <path d=\"M18.56 5.44l.94 2.06.94-2.06 2.06-.94-2.06-.94-.94-2.06-.94 2.06-2.06.94zm-11 1L8.5 8.5l.94-2.06 2.06-.94-2.06-.94L8.5 2.5l-.94 2.06-2.06.94zm10 10l.94 2.06.94-2.06 2.06-.94-2.06-.94-.94-2.06-.94 2.06-2.06.94z\"/><path d=\"M17.41 7.96l-1.37-1.37c-.4-.4-.92-.59-1.43-.59-.52 0-1.04.2-1.43.59L10.3 9.45l-7.72 7.72c-.78.78-.78 2.05 0 2.83L4 21.41c.39.39.9.59 1.41.59.51 0 1.02-.2 1.41-.59l7.78-7.78 2.81-2.81c.8-.78.8-2.07 0-2.86zM5.41 20L4 18.59l7.72-7.72 1.47 1.35L5.41 20z\"/>\n",
              "  </svg>\n",
              "      </button>\n",
              "      \n",
              "  <style>\n",
              "    .colab-df-container {\n",
              "      display:flex;\n",
              "      flex-wrap:wrap;\n",
              "      gap: 12px;\n",
              "    }\n",
              "\n",
              "    .colab-df-convert {\n",
              "      background-color: #E8F0FE;\n",
              "      border: none;\n",
              "      border-radius: 50%;\n",
              "      cursor: pointer;\n",
              "      display: none;\n",
              "      fill: #1967D2;\n",
              "      height: 32px;\n",
              "      padding: 0 0 0 0;\n",
              "      width: 32px;\n",
              "    }\n",
              "\n",
              "    .colab-df-convert:hover {\n",
              "      background-color: #E2EBFA;\n",
              "      box-shadow: 0px 1px 2px rgba(60, 64, 67, 0.3), 0px 1px 3px 1px rgba(60, 64, 67, 0.15);\n",
              "      fill: #174EA6;\n",
              "    }\n",
              "\n",
              "    [theme=dark] .colab-df-convert {\n",
              "      background-color: #3B4455;\n",
              "      fill: #D2E3FC;\n",
              "    }\n",
              "\n",
              "    [theme=dark] .colab-df-convert:hover {\n",
              "      background-color: #434B5C;\n",
              "      box-shadow: 0px 1px 3px 1px rgba(0, 0, 0, 0.15);\n",
              "      filter: drop-shadow(0px 1px 2px rgba(0, 0, 0, 0.3));\n",
              "      fill: #FFFFFF;\n",
              "    }\n",
              "  </style>\n",
              "\n",
              "      <script>\n",
              "        const buttonEl =\n",
              "          document.querySelector('#df-43a68e1b-712e-4f74-8c60-9e68cc0ea8b3 button.colab-df-convert');\n",
              "        buttonEl.style.display =\n",
              "          google.colab.kernel.accessAllowed ? 'block' : 'none';\n",
              "\n",
              "        async function convertToInteractive(key) {\n",
              "          const element = document.querySelector('#df-43a68e1b-712e-4f74-8c60-9e68cc0ea8b3');\n",
              "          const dataTable =\n",
              "            await google.colab.kernel.invokeFunction('convertToInteractive',\n",
              "                                                     [key], {});\n",
              "          if (!dataTable) return;\n",
              "\n",
              "          const docLinkHtml = 'Like what you see? Visit the ' +\n",
              "            '<a target=\"_blank\" href=https://colab.research.google.com/notebooks/data_table.ipynb>data table notebook</a>'\n",
              "            + ' to learn more about interactive tables.';\n",
              "          element.innerHTML = '';\n",
              "          dataTable['output_type'] = 'display_data';\n",
              "          await google.colab.output.renderOutput(dataTable, element);\n",
              "          const docLink = document.createElement('div');\n",
              "          docLink.innerHTML = docLinkHtml;\n",
              "          element.appendChild(docLink);\n",
              "        }\n",
              "      </script>\n",
              "    </div>\n",
              "  </div>\n",
              "  "
            ]
          },
          "metadata": {},
          "execution_count": 25
        }
      ]
    },
    {
      "cell_type": "code",
      "source": [
        "# les asignamos la media de Marital Status = 1 Married a los 2 registros nulos encontrados\n",
        "df_clean[\"MARRIAGE\"].fillna(1,inplace=True)"
      ],
      "metadata": {
        "id": "MYxKZ3RDSX6h"
      },
      "execution_count": 26,
      "outputs": []
    },
    {
      "cell_type": "code",
      "source": [
        "df_clean.loc[6228:6228, \"AMT\":\"MARRIAGE\"]"
      ],
      "metadata": {
        "colab": {
          "base_uri": "https://localhost:8080/",
          "height": 112
        },
        "id": "tjsyUo0tSxPG",
        "outputId": "183ed74d-3bad-4f2d-e289-d121ead23ae9"
      },
      "execution_count": 27,
      "outputs": [
        {
          "output_type": "execute_result",
          "data": {
            "text/plain": [
              "        AMT  SEX  EDUCATION  MARRIAGE\n",
              "ID                                   \n",
              "6228  30000  1.0        1.0       1.0"
            ],
            "text/html": [
              "\n",
              "  <div id=\"df-c6b3746e-57bd-4652-b98a-690d425c6d39\">\n",
              "    <div class=\"colab-df-container\">\n",
              "      <div>\n",
              "<style scoped>\n",
              "    .dataframe tbody tr th:only-of-type {\n",
              "        vertical-align: middle;\n",
              "    }\n",
              "\n",
              "    .dataframe tbody tr th {\n",
              "        vertical-align: top;\n",
              "    }\n",
              "\n",
              "    .dataframe thead th {\n",
              "        text-align: right;\n",
              "    }\n",
              "</style>\n",
              "<table border=\"1\" class=\"dataframe\">\n",
              "  <thead>\n",
              "    <tr style=\"text-align: right;\">\n",
              "      <th></th>\n",
              "      <th>AMT</th>\n",
              "      <th>SEX</th>\n",
              "      <th>EDUCATION</th>\n",
              "      <th>MARRIAGE</th>\n",
              "    </tr>\n",
              "    <tr>\n",
              "      <th>ID</th>\n",
              "      <th></th>\n",
              "      <th></th>\n",
              "      <th></th>\n",
              "      <th></th>\n",
              "    </tr>\n",
              "  </thead>\n",
              "  <tbody>\n",
              "    <tr>\n",
              "      <th>6228</th>\n",
              "      <td>30000</td>\n",
              "      <td>1.0</td>\n",
              "      <td>1.0</td>\n",
              "      <td>1.0</td>\n",
              "    </tr>\n",
              "  </tbody>\n",
              "</table>\n",
              "</div>\n",
              "      <button class=\"colab-df-convert\" onclick=\"convertToInteractive('df-c6b3746e-57bd-4652-b98a-690d425c6d39')\"\n",
              "              title=\"Convert this dataframe to an interactive table.\"\n",
              "              style=\"display:none;\">\n",
              "        \n",
              "  <svg xmlns=\"http://www.w3.org/2000/svg\" height=\"24px\"viewBox=\"0 0 24 24\"\n",
              "       width=\"24px\">\n",
              "    <path d=\"M0 0h24v24H0V0z\" fill=\"none\"/>\n",
              "    <path d=\"M18.56 5.44l.94 2.06.94-2.06 2.06-.94-2.06-.94-.94-2.06-.94 2.06-2.06.94zm-11 1L8.5 8.5l.94-2.06 2.06-.94-2.06-.94L8.5 2.5l-.94 2.06-2.06.94zm10 10l.94 2.06.94-2.06 2.06-.94-2.06-.94-.94-2.06-.94 2.06-2.06.94z\"/><path d=\"M17.41 7.96l-1.37-1.37c-.4-.4-.92-.59-1.43-.59-.52 0-1.04.2-1.43.59L10.3 9.45l-7.72 7.72c-.78.78-.78 2.05 0 2.83L4 21.41c.39.39.9.59 1.41.59.51 0 1.02-.2 1.41-.59l7.78-7.78 2.81-2.81c.8-.78.8-2.07 0-2.86zM5.41 20L4 18.59l7.72-7.72 1.47 1.35L5.41 20z\"/>\n",
              "  </svg>\n",
              "      </button>\n",
              "      \n",
              "  <style>\n",
              "    .colab-df-container {\n",
              "      display:flex;\n",
              "      flex-wrap:wrap;\n",
              "      gap: 12px;\n",
              "    }\n",
              "\n",
              "    .colab-df-convert {\n",
              "      background-color: #E8F0FE;\n",
              "      border: none;\n",
              "      border-radius: 50%;\n",
              "      cursor: pointer;\n",
              "      display: none;\n",
              "      fill: #1967D2;\n",
              "      height: 32px;\n",
              "      padding: 0 0 0 0;\n",
              "      width: 32px;\n",
              "    }\n",
              "\n",
              "    .colab-df-convert:hover {\n",
              "      background-color: #E2EBFA;\n",
              "      box-shadow: 0px 1px 2px rgba(60, 64, 67, 0.3), 0px 1px 3px 1px rgba(60, 64, 67, 0.15);\n",
              "      fill: #174EA6;\n",
              "    }\n",
              "\n",
              "    [theme=dark] .colab-df-convert {\n",
              "      background-color: #3B4455;\n",
              "      fill: #D2E3FC;\n",
              "    }\n",
              "\n",
              "    [theme=dark] .colab-df-convert:hover {\n",
              "      background-color: #434B5C;\n",
              "      box-shadow: 0px 1px 3px 1px rgba(0, 0, 0, 0.15);\n",
              "      filter: drop-shadow(0px 1px 2px rgba(0, 0, 0, 0.3));\n",
              "      fill: #FFFFFF;\n",
              "    }\n",
              "  </style>\n",
              "\n",
              "      <script>\n",
              "        const buttonEl =\n",
              "          document.querySelector('#df-c6b3746e-57bd-4652-b98a-690d425c6d39 button.colab-df-convert');\n",
              "        buttonEl.style.display =\n",
              "          google.colab.kernel.accessAllowed ? 'block' : 'none';\n",
              "\n",
              "        async function convertToInteractive(key) {\n",
              "          const element = document.querySelector('#df-c6b3746e-57bd-4652-b98a-690d425c6d39');\n",
              "          const dataTable =\n",
              "            await google.colab.kernel.invokeFunction('convertToInteractive',\n",
              "                                                     [key], {});\n",
              "          if (!dataTable) return;\n",
              "\n",
              "          const docLinkHtml = 'Like what you see? Visit the ' +\n",
              "            '<a target=\"_blank\" href=https://colab.research.google.com/notebooks/data_table.ipynb>data table notebook</a>'\n",
              "            + ' to learn more about interactive tables.';\n",
              "          element.innerHTML = '';\n",
              "          dataTable['output_type'] = 'display_data';\n",
              "          await google.colab.output.renderOutput(dataTable, element);\n",
              "          const docLink = document.createElement('div');\n",
              "          docLink.innerHTML = docLinkHtml;\n",
              "          element.appendChild(docLink);\n",
              "        }\n",
              "      </script>\n",
              "    </div>\n",
              "  </div>\n",
              "  "
            ]
          },
          "metadata": {},
          "execution_count": 27
        }
      ]
    },
    {
      "cell_type": "code",
      "source": [
        "df_clean.loc[24366:24366, \"AMT\":\"MARRIAGE\"]"
      ],
      "metadata": {
        "colab": {
          "base_uri": "https://localhost:8080/",
          "height": 112
        },
        "id": "aVB3JkmSStn_",
        "outputId": "92fb3479-9f1f-4b40-a8d4-437e8fb3073d"
      },
      "execution_count": 28,
      "outputs": [
        {
          "output_type": "execute_result",
          "data": {
            "text/plain": [
              "          AMT  SEX  EDUCATION  MARRIAGE\n",
              "ID                                     \n",
              "24366  130000  2.0        1.0       1.0"
            ],
            "text/html": [
              "\n",
              "  <div id=\"df-fedaaff6-5dce-47a2-9c7c-91547a0876d8\">\n",
              "    <div class=\"colab-df-container\">\n",
              "      <div>\n",
              "<style scoped>\n",
              "    .dataframe tbody tr th:only-of-type {\n",
              "        vertical-align: middle;\n",
              "    }\n",
              "\n",
              "    .dataframe tbody tr th {\n",
              "        vertical-align: top;\n",
              "    }\n",
              "\n",
              "    .dataframe thead th {\n",
              "        text-align: right;\n",
              "    }\n",
              "</style>\n",
              "<table border=\"1\" class=\"dataframe\">\n",
              "  <thead>\n",
              "    <tr style=\"text-align: right;\">\n",
              "      <th></th>\n",
              "      <th>AMT</th>\n",
              "      <th>SEX</th>\n",
              "      <th>EDUCATION</th>\n",
              "      <th>MARRIAGE</th>\n",
              "    </tr>\n",
              "    <tr>\n",
              "      <th>ID</th>\n",
              "      <th></th>\n",
              "      <th></th>\n",
              "      <th></th>\n",
              "      <th></th>\n",
              "    </tr>\n",
              "  </thead>\n",
              "  <tbody>\n",
              "    <tr>\n",
              "      <th>24366</th>\n",
              "      <td>130000</td>\n",
              "      <td>2.0</td>\n",
              "      <td>1.0</td>\n",
              "      <td>1.0</td>\n",
              "    </tr>\n",
              "  </tbody>\n",
              "</table>\n",
              "</div>\n",
              "      <button class=\"colab-df-convert\" onclick=\"convertToInteractive('df-fedaaff6-5dce-47a2-9c7c-91547a0876d8')\"\n",
              "              title=\"Convert this dataframe to an interactive table.\"\n",
              "              style=\"display:none;\">\n",
              "        \n",
              "  <svg xmlns=\"http://www.w3.org/2000/svg\" height=\"24px\"viewBox=\"0 0 24 24\"\n",
              "       width=\"24px\">\n",
              "    <path d=\"M0 0h24v24H0V0z\" fill=\"none\"/>\n",
              "    <path d=\"M18.56 5.44l.94 2.06.94-2.06 2.06-.94-2.06-.94-.94-2.06-.94 2.06-2.06.94zm-11 1L8.5 8.5l.94-2.06 2.06-.94-2.06-.94L8.5 2.5l-.94 2.06-2.06.94zm10 10l.94 2.06.94-2.06 2.06-.94-2.06-.94-.94-2.06-.94 2.06-2.06.94z\"/><path d=\"M17.41 7.96l-1.37-1.37c-.4-.4-.92-.59-1.43-.59-.52 0-1.04.2-1.43.59L10.3 9.45l-7.72 7.72c-.78.78-.78 2.05 0 2.83L4 21.41c.39.39.9.59 1.41.59.51 0 1.02-.2 1.41-.59l7.78-7.78 2.81-2.81c.8-.78.8-2.07 0-2.86zM5.41 20L4 18.59l7.72-7.72 1.47 1.35L5.41 20z\"/>\n",
              "  </svg>\n",
              "      </button>\n",
              "      \n",
              "  <style>\n",
              "    .colab-df-container {\n",
              "      display:flex;\n",
              "      flex-wrap:wrap;\n",
              "      gap: 12px;\n",
              "    }\n",
              "\n",
              "    .colab-df-convert {\n",
              "      background-color: #E8F0FE;\n",
              "      border: none;\n",
              "      border-radius: 50%;\n",
              "      cursor: pointer;\n",
              "      display: none;\n",
              "      fill: #1967D2;\n",
              "      height: 32px;\n",
              "      padding: 0 0 0 0;\n",
              "      width: 32px;\n",
              "    }\n",
              "\n",
              "    .colab-df-convert:hover {\n",
              "      background-color: #E2EBFA;\n",
              "      box-shadow: 0px 1px 2px rgba(60, 64, 67, 0.3), 0px 1px 3px 1px rgba(60, 64, 67, 0.15);\n",
              "      fill: #174EA6;\n",
              "    }\n",
              "\n",
              "    [theme=dark] .colab-df-convert {\n",
              "      background-color: #3B4455;\n",
              "      fill: #D2E3FC;\n",
              "    }\n",
              "\n",
              "    [theme=dark] .colab-df-convert:hover {\n",
              "      background-color: #434B5C;\n",
              "      box-shadow: 0px 1px 3px 1px rgba(0, 0, 0, 0.15);\n",
              "      filter: drop-shadow(0px 1px 2px rgba(0, 0, 0, 0.3));\n",
              "      fill: #FFFFFF;\n",
              "    }\n",
              "  </style>\n",
              "\n",
              "      <script>\n",
              "        const buttonEl =\n",
              "          document.querySelector('#df-fedaaff6-5dce-47a2-9c7c-91547a0876d8 button.colab-df-convert');\n",
              "        buttonEl.style.display =\n",
              "          google.colab.kernel.accessAllowed ? 'block' : 'none';\n",
              "\n",
              "        async function convertToInteractive(key) {\n",
              "          const element = document.querySelector('#df-fedaaff6-5dce-47a2-9c7c-91547a0876d8');\n",
              "          const dataTable =\n",
              "            await google.colab.kernel.invokeFunction('convertToInteractive',\n",
              "                                                     [key], {});\n",
              "          if (!dataTable) return;\n",
              "\n",
              "          const docLinkHtml = 'Like what you see? Visit the ' +\n",
              "            '<a target=\"_blank\" href=https://colab.research.google.com/notebooks/data_table.ipynb>data table notebook</a>'\n",
              "            + ' to learn more about interactive tables.';\n",
              "          element.innerHTML = '';\n",
              "          dataTable['output_type'] = 'display_data';\n",
              "          await google.colab.output.renderOutput(dataTable, element);\n",
              "          const docLink = document.createElement('div');\n",
              "          docLink.innerHTML = docLinkHtml;\n",
              "          element.appendChild(docLink);\n",
              "        }\n",
              "      </script>\n",
              "    </div>\n",
              "  </div>\n",
              "  "
            ]
          },
          "metadata": {},
          "execution_count": 28
        }
      ]
    },
    {
      "cell_type": "markdown",
      "source": [
        "Ahora checamos AGE. Donde no debería haber menores a 18"
      ],
      "metadata": {
        "id": "P1atpw6SM0ic"
      }
    },
    {
      "cell_type": "code",
      "source": [
        "print('Valores menores a 18: ' + str((df_clean['AGE'].values < 18).sum()))"
      ],
      "metadata": {
        "colab": {
          "base_uri": "https://localhost:8080/"
        },
        "id": "x6V_gewsM3Ga",
        "outputId": "d40ca605-9716-4225-f5cd-b18eea2fbb5e"
      },
      "execution_count": 29,
      "outputs": [
        {
          "output_type": "stream",
          "name": "stdout",
          "text": [
            "Valores menores a 18: 0\n"
          ]
        }
      ]
    },
    {
      "cell_type": "code",
      "source": [
        "# creamos una serie booleana para encontrar registros nulos en AGE\n",
        "edad_nulos = pd.isnull(df_clean[\"AGE\"])\n",
        "   \n",
        "# filtramos los datos\n",
        "# desplegamos los registros con \"AGE\" = NaN\n",
        "df_clean[edad_nulos]"
      ],
      "metadata": {
        "colab": {
          "base_uri": "https://localhost:8080/",
          "height": 331
        },
        "id": "AOvvHI8JU81V",
        "outputId": "3d5a30c6-781f-4c9c-f7ff-b80f6a1d0cbc"
      },
      "execution_count": 30,
      "outputs": [
        {
          "output_type": "execute_result",
          "data": {
            "text/plain": [
              "          AMT  SEX  EDUCATION  MARRIAGE  AGE  PAYSTAT_1  PAYSTAT_2  PAYSTAT_3  \\\n",
              "ID                                                                              \n",
              "183    500000  2.0        1.0       1.0  NaN        0.0        0.0        0.0   \n",
              "220    310000  2.0        1.0       2.0  NaN       -1.0       -1.0       -1.0   \n",
              "240    140000  2.0        2.0       3.0  NaN        0.0        0.0        0.0   \n",
              "6228    30000  1.0        1.0       1.0  NaN        NaN        NaN        NaN   \n",
              "24366  130000  2.0        1.0       1.0  NaN        NaN        NaN        NaN   \n",
              "\n",
              "       PAYSTAT_4  PAYSTAT_5  ...    BILL_4    BILL_5   BILL_6    PAY_1  \\\n",
              "ID                           ...                                         \n",
              "183          0.0        0.0  ...  122967.0  108834.0  70064.0  70010.0   \n",
              "220         -1.0       -2.0  ...       0.0       0.0      0.0   4542.0   \n",
              "240          0.0        0.0  ...   19068.0   16409.0  16383.0   3000.0   \n",
              "6228         NaN        NaN  ...       NaN       NaN  21120.0   1586.0   \n",
              "24366        NaN        NaN  ...       NaN       NaN      NaN      NaN   \n",
              "\n",
              "         PAY_2    PAY_3    PAY_4    PAY_5    PAY_6    Y  \n",
              "ID                                                       \n",
              "183    30357.0  30000.0  20000.0  52183.0  20000.0  0.0  \n",
              "220      126.0      0.0      0.0      0.0      0.0  0.0  \n",
              "240     2000.0   2198.0   1000.0   3000.0   2399.0  1.0  \n",
              "6228    1365.0   1663.0   5106.0   1050.0      0.0  0.0  \n",
              "24366      NaN      NaN      NaN      NaN    390.0  0.0  \n",
              "\n",
              "[5 rows x 24 columns]"
            ],
            "text/html": [
              "\n",
              "  <div id=\"df-4c00ccc9-30d0-41f7-bf1b-95966b9a81bd\">\n",
              "    <div class=\"colab-df-container\">\n",
              "      <div>\n",
              "<style scoped>\n",
              "    .dataframe tbody tr th:only-of-type {\n",
              "        vertical-align: middle;\n",
              "    }\n",
              "\n",
              "    .dataframe tbody tr th {\n",
              "        vertical-align: top;\n",
              "    }\n",
              "\n",
              "    .dataframe thead th {\n",
              "        text-align: right;\n",
              "    }\n",
              "</style>\n",
              "<table border=\"1\" class=\"dataframe\">\n",
              "  <thead>\n",
              "    <tr style=\"text-align: right;\">\n",
              "      <th></th>\n",
              "      <th>AMT</th>\n",
              "      <th>SEX</th>\n",
              "      <th>EDUCATION</th>\n",
              "      <th>MARRIAGE</th>\n",
              "      <th>AGE</th>\n",
              "      <th>PAYSTAT_1</th>\n",
              "      <th>PAYSTAT_2</th>\n",
              "      <th>PAYSTAT_3</th>\n",
              "      <th>PAYSTAT_4</th>\n",
              "      <th>PAYSTAT_5</th>\n",
              "      <th>...</th>\n",
              "      <th>BILL_4</th>\n",
              "      <th>BILL_5</th>\n",
              "      <th>BILL_6</th>\n",
              "      <th>PAY_1</th>\n",
              "      <th>PAY_2</th>\n",
              "      <th>PAY_3</th>\n",
              "      <th>PAY_4</th>\n",
              "      <th>PAY_5</th>\n",
              "      <th>PAY_6</th>\n",
              "      <th>Y</th>\n",
              "    </tr>\n",
              "    <tr>\n",
              "      <th>ID</th>\n",
              "      <th></th>\n",
              "      <th></th>\n",
              "      <th></th>\n",
              "      <th></th>\n",
              "      <th></th>\n",
              "      <th></th>\n",
              "      <th></th>\n",
              "      <th></th>\n",
              "      <th></th>\n",
              "      <th></th>\n",
              "      <th></th>\n",
              "      <th></th>\n",
              "      <th></th>\n",
              "      <th></th>\n",
              "      <th></th>\n",
              "      <th></th>\n",
              "      <th></th>\n",
              "      <th></th>\n",
              "      <th></th>\n",
              "      <th></th>\n",
              "      <th></th>\n",
              "    </tr>\n",
              "  </thead>\n",
              "  <tbody>\n",
              "    <tr>\n",
              "      <th>183</th>\n",
              "      <td>500000</td>\n",
              "      <td>2.0</td>\n",
              "      <td>1.0</td>\n",
              "      <td>1.0</td>\n",
              "      <td>NaN</td>\n",
              "      <td>0.0</td>\n",
              "      <td>0.0</td>\n",
              "      <td>0.0</td>\n",
              "      <td>0.0</td>\n",
              "      <td>0.0</td>\n",
              "      <td>...</td>\n",
              "      <td>122967.0</td>\n",
              "      <td>108834.0</td>\n",
              "      <td>70064.0</td>\n",
              "      <td>70010.0</td>\n",
              "      <td>30357.0</td>\n",
              "      <td>30000.0</td>\n",
              "      <td>20000.0</td>\n",
              "      <td>52183.0</td>\n",
              "      <td>20000.0</td>\n",
              "      <td>0.0</td>\n",
              "    </tr>\n",
              "    <tr>\n",
              "      <th>220</th>\n",
              "      <td>310000</td>\n",
              "      <td>2.0</td>\n",
              "      <td>1.0</td>\n",
              "      <td>2.0</td>\n",
              "      <td>NaN</td>\n",
              "      <td>-1.0</td>\n",
              "      <td>-1.0</td>\n",
              "      <td>-1.0</td>\n",
              "      <td>-1.0</td>\n",
              "      <td>-2.0</td>\n",
              "      <td>...</td>\n",
              "      <td>0.0</td>\n",
              "      <td>0.0</td>\n",
              "      <td>0.0</td>\n",
              "      <td>4542.0</td>\n",
              "      <td>126.0</td>\n",
              "      <td>0.0</td>\n",
              "      <td>0.0</td>\n",
              "      <td>0.0</td>\n",
              "      <td>0.0</td>\n",
              "      <td>0.0</td>\n",
              "    </tr>\n",
              "    <tr>\n",
              "      <th>240</th>\n",
              "      <td>140000</td>\n",
              "      <td>2.0</td>\n",
              "      <td>2.0</td>\n",
              "      <td>3.0</td>\n",
              "      <td>NaN</td>\n",
              "      <td>0.0</td>\n",
              "      <td>0.0</td>\n",
              "      <td>0.0</td>\n",
              "      <td>0.0</td>\n",
              "      <td>0.0</td>\n",
              "      <td>...</td>\n",
              "      <td>19068.0</td>\n",
              "      <td>16409.0</td>\n",
              "      <td>16383.0</td>\n",
              "      <td>3000.0</td>\n",
              "      <td>2000.0</td>\n",
              "      <td>2198.0</td>\n",
              "      <td>1000.0</td>\n",
              "      <td>3000.0</td>\n",
              "      <td>2399.0</td>\n",
              "      <td>1.0</td>\n",
              "    </tr>\n",
              "    <tr>\n",
              "      <th>6228</th>\n",
              "      <td>30000</td>\n",
              "      <td>1.0</td>\n",
              "      <td>1.0</td>\n",
              "      <td>1.0</td>\n",
              "      <td>NaN</td>\n",
              "      <td>NaN</td>\n",
              "      <td>NaN</td>\n",
              "      <td>NaN</td>\n",
              "      <td>NaN</td>\n",
              "      <td>NaN</td>\n",
              "      <td>...</td>\n",
              "      <td>NaN</td>\n",
              "      <td>NaN</td>\n",
              "      <td>21120.0</td>\n",
              "      <td>1586.0</td>\n",
              "      <td>1365.0</td>\n",
              "      <td>1663.0</td>\n",
              "      <td>5106.0</td>\n",
              "      <td>1050.0</td>\n",
              "      <td>0.0</td>\n",
              "      <td>0.0</td>\n",
              "    </tr>\n",
              "    <tr>\n",
              "      <th>24366</th>\n",
              "      <td>130000</td>\n",
              "      <td>2.0</td>\n",
              "      <td>1.0</td>\n",
              "      <td>1.0</td>\n",
              "      <td>NaN</td>\n",
              "      <td>NaN</td>\n",
              "      <td>NaN</td>\n",
              "      <td>NaN</td>\n",
              "      <td>NaN</td>\n",
              "      <td>NaN</td>\n",
              "      <td>...</td>\n",
              "      <td>NaN</td>\n",
              "      <td>NaN</td>\n",
              "      <td>NaN</td>\n",
              "      <td>NaN</td>\n",
              "      <td>NaN</td>\n",
              "      <td>NaN</td>\n",
              "      <td>NaN</td>\n",
              "      <td>NaN</td>\n",
              "      <td>390.0</td>\n",
              "      <td>0.0</td>\n",
              "    </tr>\n",
              "  </tbody>\n",
              "</table>\n",
              "<p>5 rows × 24 columns</p>\n",
              "</div>\n",
              "      <button class=\"colab-df-convert\" onclick=\"convertToInteractive('df-4c00ccc9-30d0-41f7-bf1b-95966b9a81bd')\"\n",
              "              title=\"Convert this dataframe to an interactive table.\"\n",
              "              style=\"display:none;\">\n",
              "        \n",
              "  <svg xmlns=\"http://www.w3.org/2000/svg\" height=\"24px\"viewBox=\"0 0 24 24\"\n",
              "       width=\"24px\">\n",
              "    <path d=\"M0 0h24v24H0V0z\" fill=\"none\"/>\n",
              "    <path d=\"M18.56 5.44l.94 2.06.94-2.06 2.06-.94-2.06-.94-.94-2.06-.94 2.06-2.06.94zm-11 1L8.5 8.5l.94-2.06 2.06-.94-2.06-.94L8.5 2.5l-.94 2.06-2.06.94zm10 10l.94 2.06.94-2.06 2.06-.94-2.06-.94-.94-2.06-.94 2.06-2.06.94z\"/><path d=\"M17.41 7.96l-1.37-1.37c-.4-.4-.92-.59-1.43-.59-.52 0-1.04.2-1.43.59L10.3 9.45l-7.72 7.72c-.78.78-.78 2.05 0 2.83L4 21.41c.39.39.9.59 1.41.59.51 0 1.02-.2 1.41-.59l7.78-7.78 2.81-2.81c.8-.78.8-2.07 0-2.86zM5.41 20L4 18.59l7.72-7.72 1.47 1.35L5.41 20z\"/>\n",
              "  </svg>\n",
              "      </button>\n",
              "      \n",
              "  <style>\n",
              "    .colab-df-container {\n",
              "      display:flex;\n",
              "      flex-wrap:wrap;\n",
              "      gap: 12px;\n",
              "    }\n",
              "\n",
              "    .colab-df-convert {\n",
              "      background-color: #E8F0FE;\n",
              "      border: none;\n",
              "      border-radius: 50%;\n",
              "      cursor: pointer;\n",
              "      display: none;\n",
              "      fill: #1967D2;\n",
              "      height: 32px;\n",
              "      padding: 0 0 0 0;\n",
              "      width: 32px;\n",
              "    }\n",
              "\n",
              "    .colab-df-convert:hover {\n",
              "      background-color: #E2EBFA;\n",
              "      box-shadow: 0px 1px 2px rgba(60, 64, 67, 0.3), 0px 1px 3px 1px rgba(60, 64, 67, 0.15);\n",
              "      fill: #174EA6;\n",
              "    }\n",
              "\n",
              "    [theme=dark] .colab-df-convert {\n",
              "      background-color: #3B4455;\n",
              "      fill: #D2E3FC;\n",
              "    }\n",
              "\n",
              "    [theme=dark] .colab-df-convert:hover {\n",
              "      background-color: #434B5C;\n",
              "      box-shadow: 0px 1px 3px 1px rgba(0, 0, 0, 0.15);\n",
              "      filter: drop-shadow(0px 1px 2px rgba(0, 0, 0, 0.3));\n",
              "      fill: #FFFFFF;\n",
              "    }\n",
              "  </style>\n",
              "\n",
              "      <script>\n",
              "        const buttonEl =\n",
              "          document.querySelector('#df-4c00ccc9-30d0-41f7-bf1b-95966b9a81bd button.colab-df-convert');\n",
              "        buttonEl.style.display =\n",
              "          google.colab.kernel.accessAllowed ? 'block' : 'none';\n",
              "\n",
              "        async function convertToInteractive(key) {\n",
              "          const element = document.querySelector('#df-4c00ccc9-30d0-41f7-bf1b-95966b9a81bd');\n",
              "          const dataTable =\n",
              "            await google.colab.kernel.invokeFunction('convertToInteractive',\n",
              "                                                     [key], {});\n",
              "          if (!dataTable) return;\n",
              "\n",
              "          const docLinkHtml = 'Like what you see? Visit the ' +\n",
              "            '<a target=\"_blank\" href=https://colab.research.google.com/notebooks/data_table.ipynb>data table notebook</a>'\n",
              "            + ' to learn more about interactive tables.';\n",
              "          element.innerHTML = '';\n",
              "          dataTable['output_type'] = 'display_data';\n",
              "          await google.colab.output.renderOutput(dataTable, element);\n",
              "          const docLink = document.createElement('div');\n",
              "          docLink.innerHTML = docLinkHtml;\n",
              "          element.appendChild(docLink);\n",
              "        }\n",
              "      </script>\n",
              "    </div>\n",
              "  </div>\n",
              "  "
            ]
          },
          "metadata": {},
          "execution_count": 30
        }
      ]
    },
    {
      "cell_type": "code",
      "source": [
        "promedio_edad=int(df_clean['AGE'].mean())\n",
        "promedio_edad"
      ],
      "metadata": {
        "colab": {
          "base_uri": "https://localhost:8080/"
        },
        "id": "opfqlvCtVbCM",
        "outputId": "1ffd46c0-3615-42f0-e853-66786ded3850"
      },
      "execution_count": 31,
      "outputs": [
        {
          "output_type": "execute_result",
          "data": {
            "text/plain": [
              "35"
            ]
          },
          "metadata": {},
          "execution_count": 31
        }
      ]
    },
    {
      "cell_type": "markdown",
      "source": [
        "Reemplazamos los 5 registros nulos por la edad promedio de 35 años, ya que apenas son el 0.016% del total de registros."
      ],
      "metadata": {
        "id": "3KUFY1CFYTXE"
      }
    },
    {
      "cell_type": "code",
      "source": [
        "df_clean[\"AGE\"].fillna(promedio_edad,inplace=True) "
      ],
      "metadata": {
        "id": "czCMlldDVxPQ"
      },
      "execution_count": 32,
      "outputs": []
    },
    {
      "cell_type": "code",
      "source": [
        "df_clean.loc[183:183, \"AMT\":\"AGE\"]"
      ],
      "metadata": {
        "colab": {
          "base_uri": "https://localhost:8080/",
          "height": 112
        },
        "id": "sL3f0G-zXWlO",
        "outputId": "6e1d6beb-a714-45fc-ceda-a6907b4205a3"
      },
      "execution_count": 33,
      "outputs": [
        {
          "output_type": "execute_result",
          "data": {
            "text/plain": [
              "        AMT  SEX  EDUCATION  MARRIAGE   AGE\n",
              "ID                                         \n",
              "183  500000  2.0        1.0       1.0  35.0"
            ],
            "text/html": [
              "\n",
              "  <div id=\"df-b2f707c2-a859-495d-99d8-2946bf12c6bf\">\n",
              "    <div class=\"colab-df-container\">\n",
              "      <div>\n",
              "<style scoped>\n",
              "    .dataframe tbody tr th:only-of-type {\n",
              "        vertical-align: middle;\n",
              "    }\n",
              "\n",
              "    .dataframe tbody tr th {\n",
              "        vertical-align: top;\n",
              "    }\n",
              "\n",
              "    .dataframe thead th {\n",
              "        text-align: right;\n",
              "    }\n",
              "</style>\n",
              "<table border=\"1\" class=\"dataframe\">\n",
              "  <thead>\n",
              "    <tr style=\"text-align: right;\">\n",
              "      <th></th>\n",
              "      <th>AMT</th>\n",
              "      <th>SEX</th>\n",
              "      <th>EDUCATION</th>\n",
              "      <th>MARRIAGE</th>\n",
              "      <th>AGE</th>\n",
              "    </tr>\n",
              "    <tr>\n",
              "      <th>ID</th>\n",
              "      <th></th>\n",
              "      <th></th>\n",
              "      <th></th>\n",
              "      <th></th>\n",
              "      <th></th>\n",
              "    </tr>\n",
              "  </thead>\n",
              "  <tbody>\n",
              "    <tr>\n",
              "      <th>183</th>\n",
              "      <td>500000</td>\n",
              "      <td>2.0</td>\n",
              "      <td>1.0</td>\n",
              "      <td>1.0</td>\n",
              "      <td>35.0</td>\n",
              "    </tr>\n",
              "  </tbody>\n",
              "</table>\n",
              "</div>\n",
              "      <button class=\"colab-df-convert\" onclick=\"convertToInteractive('df-b2f707c2-a859-495d-99d8-2946bf12c6bf')\"\n",
              "              title=\"Convert this dataframe to an interactive table.\"\n",
              "              style=\"display:none;\">\n",
              "        \n",
              "  <svg xmlns=\"http://www.w3.org/2000/svg\" height=\"24px\"viewBox=\"0 0 24 24\"\n",
              "       width=\"24px\">\n",
              "    <path d=\"M0 0h24v24H0V0z\" fill=\"none\"/>\n",
              "    <path d=\"M18.56 5.44l.94 2.06.94-2.06 2.06-.94-2.06-.94-.94-2.06-.94 2.06-2.06.94zm-11 1L8.5 8.5l.94-2.06 2.06-.94-2.06-.94L8.5 2.5l-.94 2.06-2.06.94zm10 10l.94 2.06.94-2.06 2.06-.94-2.06-.94-.94-2.06-.94 2.06-2.06.94z\"/><path d=\"M17.41 7.96l-1.37-1.37c-.4-.4-.92-.59-1.43-.59-.52 0-1.04.2-1.43.59L10.3 9.45l-7.72 7.72c-.78.78-.78 2.05 0 2.83L4 21.41c.39.39.9.59 1.41.59.51 0 1.02-.2 1.41-.59l7.78-7.78 2.81-2.81c.8-.78.8-2.07 0-2.86zM5.41 20L4 18.59l7.72-7.72 1.47 1.35L5.41 20z\"/>\n",
              "  </svg>\n",
              "      </button>\n",
              "      \n",
              "  <style>\n",
              "    .colab-df-container {\n",
              "      display:flex;\n",
              "      flex-wrap:wrap;\n",
              "      gap: 12px;\n",
              "    }\n",
              "\n",
              "    .colab-df-convert {\n",
              "      background-color: #E8F0FE;\n",
              "      border: none;\n",
              "      border-radius: 50%;\n",
              "      cursor: pointer;\n",
              "      display: none;\n",
              "      fill: #1967D2;\n",
              "      height: 32px;\n",
              "      padding: 0 0 0 0;\n",
              "      width: 32px;\n",
              "    }\n",
              "\n",
              "    .colab-df-convert:hover {\n",
              "      background-color: #E2EBFA;\n",
              "      box-shadow: 0px 1px 2px rgba(60, 64, 67, 0.3), 0px 1px 3px 1px rgba(60, 64, 67, 0.15);\n",
              "      fill: #174EA6;\n",
              "    }\n",
              "\n",
              "    [theme=dark] .colab-df-convert {\n",
              "      background-color: #3B4455;\n",
              "      fill: #D2E3FC;\n",
              "    }\n",
              "\n",
              "    [theme=dark] .colab-df-convert:hover {\n",
              "      background-color: #434B5C;\n",
              "      box-shadow: 0px 1px 3px 1px rgba(0, 0, 0, 0.15);\n",
              "      filter: drop-shadow(0px 1px 2px rgba(0, 0, 0, 0.3));\n",
              "      fill: #FFFFFF;\n",
              "    }\n",
              "  </style>\n",
              "\n",
              "      <script>\n",
              "        const buttonEl =\n",
              "          document.querySelector('#df-b2f707c2-a859-495d-99d8-2946bf12c6bf button.colab-df-convert');\n",
              "        buttonEl.style.display =\n",
              "          google.colab.kernel.accessAllowed ? 'block' : 'none';\n",
              "\n",
              "        async function convertToInteractive(key) {\n",
              "          const element = document.querySelector('#df-b2f707c2-a859-495d-99d8-2946bf12c6bf');\n",
              "          const dataTable =\n",
              "            await google.colab.kernel.invokeFunction('convertToInteractive',\n",
              "                                                     [key], {});\n",
              "          if (!dataTable) return;\n",
              "\n",
              "          const docLinkHtml = 'Like what you see? Visit the ' +\n",
              "            '<a target=\"_blank\" href=https://colab.research.google.com/notebooks/data_table.ipynb>data table notebook</a>'\n",
              "            + ' to learn more about interactive tables.';\n",
              "          element.innerHTML = '';\n",
              "          dataTable['output_type'] = 'display_data';\n",
              "          await google.colab.output.renderOutput(dataTable, element);\n",
              "          const docLink = document.createElement('div');\n",
              "          docLink.innerHTML = docLinkHtml;\n",
              "          element.appendChild(docLink);\n",
              "        }\n",
              "      </script>\n",
              "    </div>\n",
              "  </div>\n",
              "  "
            ]
          },
          "metadata": {},
          "execution_count": 33
        }
      ]
    },
    {
      "cell_type": "code",
      "source": [
        "df_clean.loc[220:220, \"AMT\":\"AGE\"]"
      ],
      "metadata": {
        "colab": {
          "base_uri": "https://localhost:8080/",
          "height": 112
        },
        "id": "iu-YxXSqXvC6",
        "outputId": "485461d0-9a8a-4ea1-a7d4-d6b7ce0f4397"
      },
      "execution_count": 34,
      "outputs": [
        {
          "output_type": "execute_result",
          "data": {
            "text/plain": [
              "        AMT  SEX  EDUCATION  MARRIAGE   AGE\n",
              "ID                                         \n",
              "220  310000  2.0        1.0       2.0  35.0"
            ],
            "text/html": [
              "\n",
              "  <div id=\"df-a29d3e73-f16b-4eff-be5b-eeb443fc131c\">\n",
              "    <div class=\"colab-df-container\">\n",
              "      <div>\n",
              "<style scoped>\n",
              "    .dataframe tbody tr th:only-of-type {\n",
              "        vertical-align: middle;\n",
              "    }\n",
              "\n",
              "    .dataframe tbody tr th {\n",
              "        vertical-align: top;\n",
              "    }\n",
              "\n",
              "    .dataframe thead th {\n",
              "        text-align: right;\n",
              "    }\n",
              "</style>\n",
              "<table border=\"1\" class=\"dataframe\">\n",
              "  <thead>\n",
              "    <tr style=\"text-align: right;\">\n",
              "      <th></th>\n",
              "      <th>AMT</th>\n",
              "      <th>SEX</th>\n",
              "      <th>EDUCATION</th>\n",
              "      <th>MARRIAGE</th>\n",
              "      <th>AGE</th>\n",
              "    </tr>\n",
              "    <tr>\n",
              "      <th>ID</th>\n",
              "      <th></th>\n",
              "      <th></th>\n",
              "      <th></th>\n",
              "      <th></th>\n",
              "      <th></th>\n",
              "    </tr>\n",
              "  </thead>\n",
              "  <tbody>\n",
              "    <tr>\n",
              "      <th>220</th>\n",
              "      <td>310000</td>\n",
              "      <td>2.0</td>\n",
              "      <td>1.0</td>\n",
              "      <td>2.0</td>\n",
              "      <td>35.0</td>\n",
              "    </tr>\n",
              "  </tbody>\n",
              "</table>\n",
              "</div>\n",
              "      <button class=\"colab-df-convert\" onclick=\"convertToInteractive('df-a29d3e73-f16b-4eff-be5b-eeb443fc131c')\"\n",
              "              title=\"Convert this dataframe to an interactive table.\"\n",
              "              style=\"display:none;\">\n",
              "        \n",
              "  <svg xmlns=\"http://www.w3.org/2000/svg\" height=\"24px\"viewBox=\"0 0 24 24\"\n",
              "       width=\"24px\">\n",
              "    <path d=\"M0 0h24v24H0V0z\" fill=\"none\"/>\n",
              "    <path d=\"M18.56 5.44l.94 2.06.94-2.06 2.06-.94-2.06-.94-.94-2.06-.94 2.06-2.06.94zm-11 1L8.5 8.5l.94-2.06 2.06-.94-2.06-.94L8.5 2.5l-.94 2.06-2.06.94zm10 10l.94 2.06.94-2.06 2.06-.94-2.06-.94-.94-2.06-.94 2.06-2.06.94z\"/><path d=\"M17.41 7.96l-1.37-1.37c-.4-.4-.92-.59-1.43-.59-.52 0-1.04.2-1.43.59L10.3 9.45l-7.72 7.72c-.78.78-.78 2.05 0 2.83L4 21.41c.39.39.9.59 1.41.59.51 0 1.02-.2 1.41-.59l7.78-7.78 2.81-2.81c.8-.78.8-2.07 0-2.86zM5.41 20L4 18.59l7.72-7.72 1.47 1.35L5.41 20z\"/>\n",
              "  </svg>\n",
              "      </button>\n",
              "      \n",
              "  <style>\n",
              "    .colab-df-container {\n",
              "      display:flex;\n",
              "      flex-wrap:wrap;\n",
              "      gap: 12px;\n",
              "    }\n",
              "\n",
              "    .colab-df-convert {\n",
              "      background-color: #E8F0FE;\n",
              "      border: none;\n",
              "      border-radius: 50%;\n",
              "      cursor: pointer;\n",
              "      display: none;\n",
              "      fill: #1967D2;\n",
              "      height: 32px;\n",
              "      padding: 0 0 0 0;\n",
              "      width: 32px;\n",
              "    }\n",
              "\n",
              "    .colab-df-convert:hover {\n",
              "      background-color: #E2EBFA;\n",
              "      box-shadow: 0px 1px 2px rgba(60, 64, 67, 0.3), 0px 1px 3px 1px rgba(60, 64, 67, 0.15);\n",
              "      fill: #174EA6;\n",
              "    }\n",
              "\n",
              "    [theme=dark] .colab-df-convert {\n",
              "      background-color: #3B4455;\n",
              "      fill: #D2E3FC;\n",
              "    }\n",
              "\n",
              "    [theme=dark] .colab-df-convert:hover {\n",
              "      background-color: #434B5C;\n",
              "      box-shadow: 0px 1px 3px 1px rgba(0, 0, 0, 0.15);\n",
              "      filter: drop-shadow(0px 1px 2px rgba(0, 0, 0, 0.3));\n",
              "      fill: #FFFFFF;\n",
              "    }\n",
              "  </style>\n",
              "\n",
              "      <script>\n",
              "        const buttonEl =\n",
              "          document.querySelector('#df-a29d3e73-f16b-4eff-be5b-eeb443fc131c button.colab-df-convert');\n",
              "        buttonEl.style.display =\n",
              "          google.colab.kernel.accessAllowed ? 'block' : 'none';\n",
              "\n",
              "        async function convertToInteractive(key) {\n",
              "          const element = document.querySelector('#df-a29d3e73-f16b-4eff-be5b-eeb443fc131c');\n",
              "          const dataTable =\n",
              "            await google.colab.kernel.invokeFunction('convertToInteractive',\n",
              "                                                     [key], {});\n",
              "          if (!dataTable) return;\n",
              "\n",
              "          const docLinkHtml = 'Like what you see? Visit the ' +\n",
              "            '<a target=\"_blank\" href=https://colab.research.google.com/notebooks/data_table.ipynb>data table notebook</a>'\n",
              "            + ' to learn more about interactive tables.';\n",
              "          element.innerHTML = '';\n",
              "          dataTable['output_type'] = 'display_data';\n",
              "          await google.colab.output.renderOutput(dataTable, element);\n",
              "          const docLink = document.createElement('div');\n",
              "          docLink.innerHTML = docLinkHtml;\n",
              "          element.appendChild(docLink);\n",
              "        }\n",
              "      </script>\n",
              "    </div>\n",
              "  </div>\n",
              "  "
            ]
          },
          "metadata": {},
          "execution_count": 34
        }
      ]
    },
    {
      "cell_type": "code",
      "source": [
        "df_clean.loc[240:240, \"AMT\":\"AGE\"]"
      ],
      "metadata": {
        "colab": {
          "base_uri": "https://localhost:8080/",
          "height": 112
        },
        "id": "A23XkBSsX1n_",
        "outputId": "1e80e7de-b047-4184-cc86-e0e33c624a06"
      },
      "execution_count": 35,
      "outputs": [
        {
          "output_type": "execute_result",
          "data": {
            "text/plain": [
              "        AMT  SEX  EDUCATION  MARRIAGE   AGE\n",
              "ID                                         \n",
              "240  140000  2.0        2.0       3.0  35.0"
            ],
            "text/html": [
              "\n",
              "  <div id=\"df-76299c73-e9f1-454c-b8f4-7cc83644d8c7\">\n",
              "    <div class=\"colab-df-container\">\n",
              "      <div>\n",
              "<style scoped>\n",
              "    .dataframe tbody tr th:only-of-type {\n",
              "        vertical-align: middle;\n",
              "    }\n",
              "\n",
              "    .dataframe tbody tr th {\n",
              "        vertical-align: top;\n",
              "    }\n",
              "\n",
              "    .dataframe thead th {\n",
              "        text-align: right;\n",
              "    }\n",
              "</style>\n",
              "<table border=\"1\" class=\"dataframe\">\n",
              "  <thead>\n",
              "    <tr style=\"text-align: right;\">\n",
              "      <th></th>\n",
              "      <th>AMT</th>\n",
              "      <th>SEX</th>\n",
              "      <th>EDUCATION</th>\n",
              "      <th>MARRIAGE</th>\n",
              "      <th>AGE</th>\n",
              "    </tr>\n",
              "    <tr>\n",
              "      <th>ID</th>\n",
              "      <th></th>\n",
              "      <th></th>\n",
              "      <th></th>\n",
              "      <th></th>\n",
              "      <th></th>\n",
              "    </tr>\n",
              "  </thead>\n",
              "  <tbody>\n",
              "    <tr>\n",
              "      <th>240</th>\n",
              "      <td>140000</td>\n",
              "      <td>2.0</td>\n",
              "      <td>2.0</td>\n",
              "      <td>3.0</td>\n",
              "      <td>35.0</td>\n",
              "    </tr>\n",
              "  </tbody>\n",
              "</table>\n",
              "</div>\n",
              "      <button class=\"colab-df-convert\" onclick=\"convertToInteractive('df-76299c73-e9f1-454c-b8f4-7cc83644d8c7')\"\n",
              "              title=\"Convert this dataframe to an interactive table.\"\n",
              "              style=\"display:none;\">\n",
              "        \n",
              "  <svg xmlns=\"http://www.w3.org/2000/svg\" height=\"24px\"viewBox=\"0 0 24 24\"\n",
              "       width=\"24px\">\n",
              "    <path d=\"M0 0h24v24H0V0z\" fill=\"none\"/>\n",
              "    <path d=\"M18.56 5.44l.94 2.06.94-2.06 2.06-.94-2.06-.94-.94-2.06-.94 2.06-2.06.94zm-11 1L8.5 8.5l.94-2.06 2.06-.94-2.06-.94L8.5 2.5l-.94 2.06-2.06.94zm10 10l.94 2.06.94-2.06 2.06-.94-2.06-.94-.94-2.06-.94 2.06-2.06.94z\"/><path d=\"M17.41 7.96l-1.37-1.37c-.4-.4-.92-.59-1.43-.59-.52 0-1.04.2-1.43.59L10.3 9.45l-7.72 7.72c-.78.78-.78 2.05 0 2.83L4 21.41c.39.39.9.59 1.41.59.51 0 1.02-.2 1.41-.59l7.78-7.78 2.81-2.81c.8-.78.8-2.07 0-2.86zM5.41 20L4 18.59l7.72-7.72 1.47 1.35L5.41 20z\"/>\n",
              "  </svg>\n",
              "      </button>\n",
              "      \n",
              "  <style>\n",
              "    .colab-df-container {\n",
              "      display:flex;\n",
              "      flex-wrap:wrap;\n",
              "      gap: 12px;\n",
              "    }\n",
              "\n",
              "    .colab-df-convert {\n",
              "      background-color: #E8F0FE;\n",
              "      border: none;\n",
              "      border-radius: 50%;\n",
              "      cursor: pointer;\n",
              "      display: none;\n",
              "      fill: #1967D2;\n",
              "      height: 32px;\n",
              "      padding: 0 0 0 0;\n",
              "      width: 32px;\n",
              "    }\n",
              "\n",
              "    .colab-df-convert:hover {\n",
              "      background-color: #E2EBFA;\n",
              "      box-shadow: 0px 1px 2px rgba(60, 64, 67, 0.3), 0px 1px 3px 1px rgba(60, 64, 67, 0.15);\n",
              "      fill: #174EA6;\n",
              "    }\n",
              "\n",
              "    [theme=dark] .colab-df-convert {\n",
              "      background-color: #3B4455;\n",
              "      fill: #D2E3FC;\n",
              "    }\n",
              "\n",
              "    [theme=dark] .colab-df-convert:hover {\n",
              "      background-color: #434B5C;\n",
              "      box-shadow: 0px 1px 3px 1px rgba(0, 0, 0, 0.15);\n",
              "      filter: drop-shadow(0px 1px 2px rgba(0, 0, 0, 0.3));\n",
              "      fill: #FFFFFF;\n",
              "    }\n",
              "  </style>\n",
              "\n",
              "      <script>\n",
              "        const buttonEl =\n",
              "          document.querySelector('#df-76299c73-e9f1-454c-b8f4-7cc83644d8c7 button.colab-df-convert');\n",
              "        buttonEl.style.display =\n",
              "          google.colab.kernel.accessAllowed ? 'block' : 'none';\n",
              "\n",
              "        async function convertToInteractive(key) {\n",
              "          const element = document.querySelector('#df-76299c73-e9f1-454c-b8f4-7cc83644d8c7');\n",
              "          const dataTable =\n",
              "            await google.colab.kernel.invokeFunction('convertToInteractive',\n",
              "                                                     [key], {});\n",
              "          if (!dataTable) return;\n",
              "\n",
              "          const docLinkHtml = 'Like what you see? Visit the ' +\n",
              "            '<a target=\"_blank\" href=https://colab.research.google.com/notebooks/data_table.ipynb>data table notebook</a>'\n",
              "            + ' to learn more about interactive tables.';\n",
              "          element.innerHTML = '';\n",
              "          dataTable['output_type'] = 'display_data';\n",
              "          await google.colab.output.renderOutput(dataTable, element);\n",
              "          const docLink = document.createElement('div');\n",
              "          docLink.innerHTML = docLinkHtml;\n",
              "          element.appendChild(docLink);\n",
              "        }\n",
              "      </script>\n",
              "    </div>\n",
              "  </div>\n",
              "  "
            ]
          },
          "metadata": {},
          "execution_count": 35
        }
      ]
    },
    {
      "cell_type": "code",
      "source": [
        "df_clean.loc[6228:6228, \"AMT\":\"AGE\"]"
      ],
      "metadata": {
        "colab": {
          "base_uri": "https://localhost:8080/",
          "height": 112
        },
        "id": "gCM5-EeSWvRz",
        "outputId": "f66a473e-0862-4efc-a61b-bf25ef56dcd6"
      },
      "execution_count": 36,
      "outputs": [
        {
          "output_type": "execute_result",
          "data": {
            "text/plain": [
              "        AMT  SEX  EDUCATION  MARRIAGE   AGE\n",
              "ID                                         \n",
              "6228  30000  1.0        1.0       1.0  35.0"
            ],
            "text/html": [
              "\n",
              "  <div id=\"df-8252ce19-3afc-4181-b6c7-9f7fe9da3630\">\n",
              "    <div class=\"colab-df-container\">\n",
              "      <div>\n",
              "<style scoped>\n",
              "    .dataframe tbody tr th:only-of-type {\n",
              "        vertical-align: middle;\n",
              "    }\n",
              "\n",
              "    .dataframe tbody tr th {\n",
              "        vertical-align: top;\n",
              "    }\n",
              "\n",
              "    .dataframe thead th {\n",
              "        text-align: right;\n",
              "    }\n",
              "</style>\n",
              "<table border=\"1\" class=\"dataframe\">\n",
              "  <thead>\n",
              "    <tr style=\"text-align: right;\">\n",
              "      <th></th>\n",
              "      <th>AMT</th>\n",
              "      <th>SEX</th>\n",
              "      <th>EDUCATION</th>\n",
              "      <th>MARRIAGE</th>\n",
              "      <th>AGE</th>\n",
              "    </tr>\n",
              "    <tr>\n",
              "      <th>ID</th>\n",
              "      <th></th>\n",
              "      <th></th>\n",
              "      <th></th>\n",
              "      <th></th>\n",
              "      <th></th>\n",
              "    </tr>\n",
              "  </thead>\n",
              "  <tbody>\n",
              "    <tr>\n",
              "      <th>6228</th>\n",
              "      <td>30000</td>\n",
              "      <td>1.0</td>\n",
              "      <td>1.0</td>\n",
              "      <td>1.0</td>\n",
              "      <td>35.0</td>\n",
              "    </tr>\n",
              "  </tbody>\n",
              "</table>\n",
              "</div>\n",
              "      <button class=\"colab-df-convert\" onclick=\"convertToInteractive('df-8252ce19-3afc-4181-b6c7-9f7fe9da3630')\"\n",
              "              title=\"Convert this dataframe to an interactive table.\"\n",
              "              style=\"display:none;\">\n",
              "        \n",
              "  <svg xmlns=\"http://www.w3.org/2000/svg\" height=\"24px\"viewBox=\"0 0 24 24\"\n",
              "       width=\"24px\">\n",
              "    <path d=\"M0 0h24v24H0V0z\" fill=\"none\"/>\n",
              "    <path d=\"M18.56 5.44l.94 2.06.94-2.06 2.06-.94-2.06-.94-.94-2.06-.94 2.06-2.06.94zm-11 1L8.5 8.5l.94-2.06 2.06-.94-2.06-.94L8.5 2.5l-.94 2.06-2.06.94zm10 10l.94 2.06.94-2.06 2.06-.94-2.06-.94-.94-2.06-.94 2.06-2.06.94z\"/><path d=\"M17.41 7.96l-1.37-1.37c-.4-.4-.92-.59-1.43-.59-.52 0-1.04.2-1.43.59L10.3 9.45l-7.72 7.72c-.78.78-.78 2.05 0 2.83L4 21.41c.39.39.9.59 1.41.59.51 0 1.02-.2 1.41-.59l7.78-7.78 2.81-2.81c.8-.78.8-2.07 0-2.86zM5.41 20L4 18.59l7.72-7.72 1.47 1.35L5.41 20z\"/>\n",
              "  </svg>\n",
              "      </button>\n",
              "      \n",
              "  <style>\n",
              "    .colab-df-container {\n",
              "      display:flex;\n",
              "      flex-wrap:wrap;\n",
              "      gap: 12px;\n",
              "    }\n",
              "\n",
              "    .colab-df-convert {\n",
              "      background-color: #E8F0FE;\n",
              "      border: none;\n",
              "      border-radius: 50%;\n",
              "      cursor: pointer;\n",
              "      display: none;\n",
              "      fill: #1967D2;\n",
              "      height: 32px;\n",
              "      padding: 0 0 0 0;\n",
              "      width: 32px;\n",
              "    }\n",
              "\n",
              "    .colab-df-convert:hover {\n",
              "      background-color: #E2EBFA;\n",
              "      box-shadow: 0px 1px 2px rgba(60, 64, 67, 0.3), 0px 1px 3px 1px rgba(60, 64, 67, 0.15);\n",
              "      fill: #174EA6;\n",
              "    }\n",
              "\n",
              "    [theme=dark] .colab-df-convert {\n",
              "      background-color: #3B4455;\n",
              "      fill: #D2E3FC;\n",
              "    }\n",
              "\n",
              "    [theme=dark] .colab-df-convert:hover {\n",
              "      background-color: #434B5C;\n",
              "      box-shadow: 0px 1px 3px 1px rgba(0, 0, 0, 0.15);\n",
              "      filter: drop-shadow(0px 1px 2px rgba(0, 0, 0, 0.3));\n",
              "      fill: #FFFFFF;\n",
              "    }\n",
              "  </style>\n",
              "\n",
              "      <script>\n",
              "        const buttonEl =\n",
              "          document.querySelector('#df-8252ce19-3afc-4181-b6c7-9f7fe9da3630 button.colab-df-convert');\n",
              "        buttonEl.style.display =\n",
              "          google.colab.kernel.accessAllowed ? 'block' : 'none';\n",
              "\n",
              "        async function convertToInteractive(key) {\n",
              "          const element = document.querySelector('#df-8252ce19-3afc-4181-b6c7-9f7fe9da3630');\n",
              "          const dataTable =\n",
              "            await google.colab.kernel.invokeFunction('convertToInteractive',\n",
              "                                                     [key], {});\n",
              "          if (!dataTable) return;\n",
              "\n",
              "          const docLinkHtml = 'Like what you see? Visit the ' +\n",
              "            '<a target=\"_blank\" href=https://colab.research.google.com/notebooks/data_table.ipynb>data table notebook</a>'\n",
              "            + ' to learn more about interactive tables.';\n",
              "          element.innerHTML = '';\n",
              "          dataTable['output_type'] = 'display_data';\n",
              "          await google.colab.output.renderOutput(dataTable, element);\n",
              "          const docLink = document.createElement('div');\n",
              "          docLink.innerHTML = docLinkHtml;\n",
              "          element.appendChild(docLink);\n",
              "        }\n",
              "      </script>\n",
              "    </div>\n",
              "  </div>\n",
              "  "
            ]
          },
          "metadata": {},
          "execution_count": 36
        }
      ]
    },
    {
      "cell_type": "code",
      "source": [
        "df_clean.loc[24366:24366, \"AMT\":\"AGE\"]"
      ],
      "metadata": {
        "colab": {
          "base_uri": "https://localhost:8080/",
          "height": 112
        },
        "id": "X2A0oq3uXVUY",
        "outputId": "fc051102-7903-41ea-ac82-41e129fe2cf6"
      },
      "execution_count": 37,
      "outputs": [
        {
          "output_type": "execute_result",
          "data": {
            "text/plain": [
              "          AMT  SEX  EDUCATION  MARRIAGE   AGE\n",
              "ID                                           \n",
              "24366  130000  2.0        1.0       1.0  35.0"
            ],
            "text/html": [
              "\n",
              "  <div id=\"df-9a71f211-0d72-444c-bf7c-d130423b3207\">\n",
              "    <div class=\"colab-df-container\">\n",
              "      <div>\n",
              "<style scoped>\n",
              "    .dataframe tbody tr th:only-of-type {\n",
              "        vertical-align: middle;\n",
              "    }\n",
              "\n",
              "    .dataframe tbody tr th {\n",
              "        vertical-align: top;\n",
              "    }\n",
              "\n",
              "    .dataframe thead th {\n",
              "        text-align: right;\n",
              "    }\n",
              "</style>\n",
              "<table border=\"1\" class=\"dataframe\">\n",
              "  <thead>\n",
              "    <tr style=\"text-align: right;\">\n",
              "      <th></th>\n",
              "      <th>AMT</th>\n",
              "      <th>SEX</th>\n",
              "      <th>EDUCATION</th>\n",
              "      <th>MARRIAGE</th>\n",
              "      <th>AGE</th>\n",
              "    </tr>\n",
              "    <tr>\n",
              "      <th>ID</th>\n",
              "      <th></th>\n",
              "      <th></th>\n",
              "      <th></th>\n",
              "      <th></th>\n",
              "      <th></th>\n",
              "    </tr>\n",
              "  </thead>\n",
              "  <tbody>\n",
              "    <tr>\n",
              "      <th>24366</th>\n",
              "      <td>130000</td>\n",
              "      <td>2.0</td>\n",
              "      <td>1.0</td>\n",
              "      <td>1.0</td>\n",
              "      <td>35.0</td>\n",
              "    </tr>\n",
              "  </tbody>\n",
              "</table>\n",
              "</div>\n",
              "      <button class=\"colab-df-convert\" onclick=\"convertToInteractive('df-9a71f211-0d72-444c-bf7c-d130423b3207')\"\n",
              "              title=\"Convert this dataframe to an interactive table.\"\n",
              "              style=\"display:none;\">\n",
              "        \n",
              "  <svg xmlns=\"http://www.w3.org/2000/svg\" height=\"24px\"viewBox=\"0 0 24 24\"\n",
              "       width=\"24px\">\n",
              "    <path d=\"M0 0h24v24H0V0z\" fill=\"none\"/>\n",
              "    <path d=\"M18.56 5.44l.94 2.06.94-2.06 2.06-.94-2.06-.94-.94-2.06-.94 2.06-2.06.94zm-11 1L8.5 8.5l.94-2.06 2.06-.94-2.06-.94L8.5 2.5l-.94 2.06-2.06.94zm10 10l.94 2.06.94-2.06 2.06-.94-2.06-.94-.94-2.06-.94 2.06-2.06.94z\"/><path d=\"M17.41 7.96l-1.37-1.37c-.4-.4-.92-.59-1.43-.59-.52 0-1.04.2-1.43.59L10.3 9.45l-7.72 7.72c-.78.78-.78 2.05 0 2.83L4 21.41c.39.39.9.59 1.41.59.51 0 1.02-.2 1.41-.59l7.78-7.78 2.81-2.81c.8-.78.8-2.07 0-2.86zM5.41 20L4 18.59l7.72-7.72 1.47 1.35L5.41 20z\"/>\n",
              "  </svg>\n",
              "      </button>\n",
              "      \n",
              "  <style>\n",
              "    .colab-df-container {\n",
              "      display:flex;\n",
              "      flex-wrap:wrap;\n",
              "      gap: 12px;\n",
              "    }\n",
              "\n",
              "    .colab-df-convert {\n",
              "      background-color: #E8F0FE;\n",
              "      border: none;\n",
              "      border-radius: 50%;\n",
              "      cursor: pointer;\n",
              "      display: none;\n",
              "      fill: #1967D2;\n",
              "      height: 32px;\n",
              "      padding: 0 0 0 0;\n",
              "      width: 32px;\n",
              "    }\n",
              "\n",
              "    .colab-df-convert:hover {\n",
              "      background-color: #E2EBFA;\n",
              "      box-shadow: 0px 1px 2px rgba(60, 64, 67, 0.3), 0px 1px 3px 1px rgba(60, 64, 67, 0.15);\n",
              "      fill: #174EA6;\n",
              "    }\n",
              "\n",
              "    [theme=dark] .colab-df-convert {\n",
              "      background-color: #3B4455;\n",
              "      fill: #D2E3FC;\n",
              "    }\n",
              "\n",
              "    [theme=dark] .colab-df-convert:hover {\n",
              "      background-color: #434B5C;\n",
              "      box-shadow: 0px 1px 3px 1px rgba(0, 0, 0, 0.15);\n",
              "      filter: drop-shadow(0px 1px 2px rgba(0, 0, 0, 0.3));\n",
              "      fill: #FFFFFF;\n",
              "    }\n",
              "  </style>\n",
              "\n",
              "      <script>\n",
              "        const buttonEl =\n",
              "          document.querySelector('#df-9a71f211-0d72-444c-bf7c-d130423b3207 button.colab-df-convert');\n",
              "        buttonEl.style.display =\n",
              "          google.colab.kernel.accessAllowed ? 'block' : 'none';\n",
              "\n",
              "        async function convertToInteractive(key) {\n",
              "          const element = document.querySelector('#df-9a71f211-0d72-444c-bf7c-d130423b3207');\n",
              "          const dataTable =\n",
              "            await google.colab.kernel.invokeFunction('convertToInteractive',\n",
              "                                                     [key], {});\n",
              "          if (!dataTable) return;\n",
              "\n",
              "          const docLinkHtml = 'Like what you see? Visit the ' +\n",
              "            '<a target=\"_blank\" href=https://colab.research.google.com/notebooks/data_table.ipynb>data table notebook</a>'\n",
              "            + ' to learn more about interactive tables.';\n",
              "          element.innerHTML = '';\n",
              "          dataTable['output_type'] = 'display_data';\n",
              "          await google.colab.output.renderOutput(dataTable, element);\n",
              "          const docLink = document.createElement('div');\n",
              "          docLink.innerHTML = docLinkHtml;\n",
              "          element.appendChild(docLink);\n",
              "        }\n",
              "      </script>\n",
              "    </div>\n",
              "  </div>\n",
              "  "
            ]
          },
          "metadata": {},
          "execution_count": 37
        }
      ]
    },
    {
      "cell_type": "markdown",
      "source": [
        "Para PAYSTAT_1 a PAYSTAT_6, no deben haber valores menores a -1, ni mayores a 9"
      ],
      "metadata": {
        "id": "mR8-xG-gNNJo"
      }
    },
    {
      "cell_type": "code",
      "source": [
        "print('Valores menores a -1: ' + str((df_clean.iloc[:,5:11].values < -1).sum()))\n",
        "print('Valores mayores a 9: ' + str((df_clean.iloc[:,5:11].values > 9).sum()))"
      ],
      "metadata": {
        "colab": {
          "base_uri": "https://localhost:8080/"
        },
        "id": "OKSBppm7NUdp",
        "outputId": "3b2ae569-8e49-461e-a470-a4552efe2a31"
      },
      "execution_count": 38,
      "outputs": [
        {
          "output_type": "stream",
          "name": "stdout",
          "text": [
            "Valores menores a -1: 24415\n",
            "Valores mayores a 9: 0\n"
          ]
        }
      ]
    },
    {
      "cell_type": "code",
      "source": [
        "print('Encontramos que son iguales a -2: ' + str((df_clean.iloc[:,5:11].values == -2).sum()))"
      ],
      "metadata": {
        "colab": {
          "base_uri": "https://localhost:8080/"
        },
        "id": "w-fwDomubVrJ",
        "outputId": "c72b25ba-a9e2-4c89-f1d2-5bb6909b93db"
      },
      "execution_count": 39,
      "outputs": [
        {
          "output_type": "stream",
          "name": "stdout",
          "text": [
            "Encontramos que son iguales a -2: 24415\n"
          ]
        }
      ]
    },
    {
      "cell_type": "markdown",
      "source": [
        "En este caso, asumiremos que los Valores Menores a -1, esto es -2, equivalen a -1 y se asume o que son errores de captura, o significan que llevan periodos consecutivos cumpliendo. Ya que -1 dice que se pagó a tiempo, y cualquier valor mayor a ese son los meses que se han atrasado en pagos."
      ],
      "metadata": {
        "id": "D6C7H7wONpTK"
      }
    },
    {
      "cell_type": "code",
      "source": [
        "df_clean.iloc[:,5:11] = df_clean.iloc[:,5:11].replace(-2,-1)\n",
        "print('Valores menores a -1: ' + str((df_clean.iloc[:,5:11].values < -1).sum()))"
      ],
      "metadata": {
        "colab": {
          "base_uri": "https://localhost:8080/"
        },
        "id": "L9sbd72wN0cG",
        "outputId": "582f3bb5-4770-4e15-e8cf-0a9a1774b260"
      },
      "execution_count": 40,
      "outputs": [
        {
          "output_type": "stream",
          "name": "stdout",
          "text": [
            "Valores menores a -1: 0\n"
          ]
        }
      ]
    },
    {
      "cell_type": "markdown",
      "source": [
        "Ahora veamos a los registros con valores NULOS en las Columnas PAYSTAT_1 a PAYSTAT_6\n"
      ],
      "metadata": {
        "id": "Td7saZI6hPC5"
      }
    },
    {
      "cell_type": "code",
      "source": [
        "keys=['PAYSTAT_1', 'PAYSTAT_2',\n",
        "       'PAYSTAT_3', 'PAYSTAT_4', 'PAYSTAT_5', 'PAYSTAT_6']\n",
        "\n",
        "for i in keys:\n",
        "  nulos = pd.isnull(df_clean[i])\n",
        "  print(df_clean[nulos])\n",
        "  print(\"Mediana\", df_clean[i].median())\n",
        "  print(\"Registros NO NULOS: \", df_clean[i].count())"
      ],
      "metadata": {
        "colab": {
          "base_uri": "https://localhost:8080/"
        },
        "id": "NQzntCs0hNsy",
        "outputId": "50dba66e-867f-49d3-d341-a244d6c6853a"
      },
      "execution_count": 41,
      "outputs": [
        {
          "output_type": "stream",
          "name": "stdout",
          "text": [
            "          AMT  SEX  EDUCATION  MARRIAGE   AGE  PAYSTAT_1  PAYSTAT_2  \\\n",
            "ID                                                                    \n",
            "6228    30000  1.0        1.0       1.0  35.0        NaN        NaN   \n",
            "24124   50000  1.0        1.0       2.0  29.0        NaN        NaN   \n",
            "24366  130000  2.0        1.0       1.0  35.0        NaN        NaN   \n",
            "\n",
            "       PAYSTAT_3  PAYSTAT_4  PAYSTAT_5  ...  BILL_4  BILL_5   BILL_6   PAY_1  \\\n",
            "ID                                      ...                                    \n",
            "6228         NaN        NaN        NaN  ...     NaN     NaN  21120.0  1586.0   \n",
            "24124        NaN        NaN        NaN  ...     NaN     NaN      NaN     NaN   \n",
            "24366        NaN        NaN        NaN  ...     NaN     NaN      NaN     NaN   \n",
            "\n",
            "        PAY_2   PAY_3   PAY_4   PAY_5  PAY_6    Y  \n",
            "ID                                                 \n",
            "6228   1365.0  1663.0  5106.0  1050.0    0.0  0.0  \n",
            "24124     NaN     NaN     NaN     NaN  360.0  0.0  \n",
            "24366     NaN     NaN     NaN     NaN  390.0  0.0  \n",
            "\n",
            "[3 rows x 24 columns]\n",
            "Mediana 0.0\n",
            "Registros NO NULOS:  29997\n",
            "          AMT  SEX  EDUCATION  MARRIAGE   AGE  PAYSTAT_1  PAYSTAT_2  \\\n",
            "ID                                                                    \n",
            "6228    30000  1.0        1.0       1.0  35.0        NaN        NaN   \n",
            "24124   50000  1.0        1.0       2.0  29.0        NaN        NaN   \n",
            "24366  130000  2.0        1.0       1.0  35.0        NaN        NaN   \n",
            "29833   20000  1.0        2.0       2.0  30.0        0.0        NaN   \n",
            "29834   20000  1.0        2.0       2.0  31.0       -1.0        NaN   \n",
            "\n",
            "       PAYSTAT_3  PAYSTAT_4  PAYSTAT_5  ...  BILL_4  BILL_5   BILL_6   PAY_1  \\\n",
            "ID                                      ...                                    \n",
            "6228         NaN        NaN        NaN  ...     NaN     NaN  21120.0  1586.0   \n",
            "24124        NaN        NaN        NaN  ...     NaN     NaN      NaN     NaN   \n",
            "24366        NaN        NaN        NaN  ...     NaN     NaN      NaN     NaN   \n",
            "29833        NaN        NaN        NaN  ...     NaN     NaN  20090.0  1279.0   \n",
            "29834        NaN        NaN        NaN  ...     NaN     NaN  19103.0   390.0   \n",
            "\n",
            "        PAY_2   PAY_3   PAY_4    PAY_5   PAY_6    Y  \n",
            "ID                                                   \n",
            "6228   1365.0  1663.0  5106.0   1050.0     0.0  0.0  \n",
            "24124     NaN     NaN     NaN      NaN   360.0  0.0  \n",
            "24366     NaN     NaN     NaN      NaN   390.0  0.0  \n",
            "29833  3000.0  6668.0   468.0    507.0  5582.0  0.0  \n",
            "29834   780.0     0.0   806.0  19103.0  1000.0  1.0  \n",
            "\n",
            "[5 rows x 24 columns]\n",
            "Mediana 0.0\n",
            "Registros NO NULOS:  29995\n",
            "          AMT  SEX  EDUCATION  MARRIAGE   AGE  PAYSTAT_1  PAYSTAT_2  \\\n",
            "ID                                                                    \n",
            "6228    30000  1.0        1.0       1.0  35.0        NaN        NaN   \n",
            "17990   80000  1.0        2.0       1.0  46.0        0.0        0.0   \n",
            "18004   70000  1.0        2.0       2.0  33.0        1.0        2.0   \n",
            "24124   50000  1.0        1.0       2.0  29.0        NaN        NaN   \n",
            "24366  130000  2.0        1.0       1.0  35.0        NaN        NaN   \n",
            "29833   20000  1.0        2.0       2.0  30.0        0.0        NaN   \n",
            "29834   20000  1.0        2.0       2.0  31.0       -1.0        NaN   \n",
            "\n",
            "       PAYSTAT_3  PAYSTAT_4  PAYSTAT_5  ...   BILL_4   BILL_5   BILL_6  \\\n",
            "ID                                      ...                              \n",
            "6228         NaN        NaN        NaN  ...      NaN      NaN  21120.0   \n",
            "17990        NaN        0.0        0.0  ...  64237.0  47890.0  48036.0   \n",
            "18004        NaN        7.0        7.0  ...  38922.0  38318.0  38133.0   \n",
            "24124        NaN        NaN        NaN  ...      NaN      NaN      NaN   \n",
            "24366        NaN        NaN        NaN  ...      NaN      NaN      NaN   \n",
            "29833        NaN        NaN        NaN  ...      NaN      NaN  20090.0   \n",
            "29834        NaN        NaN        NaN  ...      NaN      NaN  19103.0   \n",
            "\n",
            "         PAY_1   PAY_2   PAY_3   PAY_4    PAY_5   PAY_6    Y  \n",
            "ID                                                            \n",
            "6228    1586.0  1365.0  1663.0  5106.0   1050.0     0.0  0.0  \n",
            "17990   3542.0  3500.0  2500.0  2000.0   2500.0  2000.0  0.0  \n",
            "18004  12000.0     0.0  2500.0     0.0   1000.0  1500.0  0.0  \n",
            "24124      NaN     NaN     NaN     NaN      NaN   360.0  0.0  \n",
            "24366      NaN     NaN     NaN     NaN      NaN   390.0  0.0  \n",
            "29833   1279.0  3000.0  6668.0   468.0    507.0  5582.0  0.0  \n",
            "29834    390.0   780.0     0.0   806.0  19103.0  1000.0  1.0  \n",
            "\n",
            "[7 rows x 24 columns]\n",
            "Mediana 0.0\n",
            "Registros NO NULOS:  29993\n",
            "          AMT  SEX  EDUCATION  MARRIAGE   AGE  PAYSTAT_1  PAYSTAT_2  \\\n",
            "ID                                                                    \n",
            "161     30000  1.0        1.0       2.0  41.0        2.0        2.0   \n",
            "6228    30000  1.0        1.0       1.0  35.0        NaN        NaN   \n",
            "23991   60000  1.0        2.0       2.0  26.0        0.0        0.0   \n",
            "23992   50000  1.0        3.0       2.0  25.0        0.0        0.0   \n",
            "23993   50000  1.0        2.0       2.0  24.0        0.0        0.0   \n",
            "24124   50000  1.0        1.0       2.0  29.0        NaN        NaN   \n",
            "24366  130000  2.0        1.0       1.0  35.0        NaN        NaN   \n",
            "29833   20000  1.0        2.0       2.0  30.0        0.0        NaN   \n",
            "29834   20000  1.0        2.0       2.0  31.0       -1.0        NaN   \n",
            "\n",
            "       PAYSTAT_3  PAYSTAT_4  PAYSTAT_5  ...   BILL_4   BILL_5   BILL_6  \\\n",
            "ID                                      ...                              \n",
            "161          2.0        NaN        2.0  ...  28168.0  27579.0  28321.0   \n",
            "6228         NaN        NaN        NaN  ...      NaN      NaN  21120.0   \n",
            "23991        0.0        NaN        0.0  ...  58938.0  30101.0  29735.0   \n",
            "23992        0.0        NaN        2.0  ...  49485.0  49083.0  45187.0   \n",
            "23993        0.0        NaN        0.0  ...  41286.0  16764.0  16960.0   \n",
            "24124        NaN        NaN        NaN  ...      NaN      NaN      NaN   \n",
            "24366        NaN        NaN        NaN  ...      NaN      NaN      NaN   \n",
            "29833        NaN        NaN        NaN  ...      NaN      NaN  20090.0   \n",
            "29834        NaN        NaN        NaN  ...      NaN      NaN  19103.0   \n",
            "\n",
            "        PAY_1   PAY_2   PAY_3   PAY_4    PAY_5   PAY_6    Y  \n",
            "ID                                                           \n",
            "161    3500.0     0.0  2200.0     NaN   1200.0  1250.0  0.0  \n",
            "6228   1586.0  1365.0  1663.0  5106.0   1050.0     0.0  0.0  \n",
            "23991  2113.0  2500.0  3000.0  2500.0   1500.0  1100.0  0.0  \n",
            "23992  2100.0  2200.0  3500.0  2000.0      0.0  5151.0  0.0  \n",
            "23993  2150.0  2352.0  1239.0   717.0    585.0   589.0  0.0  \n",
            "24124     NaN     NaN     NaN     NaN      NaN   360.0  0.0  \n",
            "24366     NaN     NaN     NaN     NaN      NaN   390.0  0.0  \n",
            "29833  1279.0  3000.0  6668.0   468.0    507.0  5582.0  0.0  \n",
            "29834   390.0   780.0     0.0   806.0  19103.0  1000.0  1.0  \n",
            "\n",
            "[9 rows x 24 columns]\n",
            "Mediana 0.0\n",
            "Registros NO NULOS:  29991\n",
            "          AMT  SEX  EDUCATION  MARRIAGE   AGE  PAYSTAT_1  PAYSTAT_2  \\\n",
            "ID                                                                    \n",
            "50      20000  1.0        1.0       2.0  24.0        0.0        0.0   \n",
            "234    190000  1.0        2.0       2.0  34.0        2.0        0.0   \n",
            "6228    30000  1.0        1.0       1.0  35.0        NaN        NaN   \n",
            "6269   120000  1.0        2.0       2.0  29.0        1.0        2.0   \n",
            "6270   400000  2.0        1.0       2.0  27.0        1.0       -1.0   \n",
            "6271    50000  2.0        1.0       1.0  55.0        0.0        0.0   \n",
            "6383    80000  2.0        2.0       1.0  30.0        1.0        2.0   \n",
            "6384    90000  1.0        2.0       2.0  29.0        0.0        0.0   \n",
            "6385    20000  2.0        2.0       2.0  22.0        0.0        0.0   \n",
            "24124   50000  1.0        1.0       2.0  29.0        NaN        NaN   \n",
            "24366  130000  2.0        1.0       1.0  35.0        NaN        NaN   \n",
            "29734  300000  1.0        2.0       1.0  37.0       -1.0       -1.0   \n",
            "29735  500000  1.0        2.0       1.0  49.0       -1.0       -1.0   \n",
            "29736   50000  1.0        3.0       1.0  40.0        2.0        0.0   \n",
            "29833   20000  1.0        2.0       2.0  30.0        0.0        NaN   \n",
            "29834   20000  1.0        2.0       2.0  31.0       -1.0        NaN   \n",
            "\n",
            "       PAYSTAT_3  PAYSTAT_4  PAYSTAT_5  ...    BILL_4    BILL_5    BILL_6  \\\n",
            "ID                                      ...                                 \n",
            "50           0.0        0.0        NaN  ...   19865.0   20480.0   20063.0   \n",
            "234          0.0        0.0        NaN  ...  142323.0  140120.0  150052.0   \n",
            "6228         NaN        NaN        NaN  ...       NaN       NaN   21120.0   \n",
            "6269         0.0        0.0        NaN  ...   91380.0   93263.0   95079.0   \n",
            "6270        -1.0        0.0        NaN  ...   12640.0   14805.0     238.0   \n",
            "6271         0.0        0.0        NaN  ...   19431.0   19837.0   20232.0   \n",
            "6383         0.0        0.0        NaN  ...   75374.0   77158.0   78710.0   \n",
            "6384         0.0        0.0        NaN  ...   69362.0   70537.0   56775.0   \n",
            "6385         0.0        0.0        NaN  ...   20055.0   19606.0   19925.0   \n",
            "24124        NaN        NaN        NaN  ...       NaN       NaN       NaN   \n",
            "24366        NaN        NaN        NaN  ...       NaN       NaN       NaN   \n",
            "29734       -1.0       -1.0        NaN  ...       NaN       NaN       NaN   \n",
            "29735        2.0       -1.0        NaN  ...       NaN       NaN       NaN   \n",
            "29736        0.0        0.0        NaN  ...       NaN       NaN       NaN   \n",
            "29833        NaN        NaN        NaN  ...       NaN       NaN   20090.0   \n",
            "29834        NaN        NaN        NaN  ...       NaN       NaN   19103.0   \n",
            "\n",
            "        PAY_1    PAY_2    PAY_3   PAY_4    PAY_5   PAY_6    Y  \n",
            "ID                                                             \n",
            "50     1318.0   1315.0    704.0   928.0    912.0  1069.0  0.0  \n",
            "234    5000.0   5000.0  10000.0     0.0  12118.0  2769.0  1.0  \n",
            "6228   1586.0   1365.0   1663.0  5106.0   1050.0     0.0  0.0  \n",
            "6269      0.0   3200.0   6800.0  3500.0   3500.0     0.0  1.0  \n",
            "6270    140.0  12527.0    253.0  2305.0    238.0   238.0  0.0  \n",
            "6271   1775.0   1815.0    695.0   719.0    724.0   750.0  0.0  \n",
            "6383      0.0   3299.0   2699.0  3000.0   2987.0  3100.0  0.0  \n",
            "6384   4400.0   4111.0   2100.0  2200.0   2510.0  2000.0  0.0  \n",
            "6385   1298.0   1909.0   1666.0  5000.0    703.0   775.0  0.0  \n",
            "24124     NaN      NaN      NaN     NaN      NaN   360.0  0.0  \n",
            "24366     NaN      NaN      NaN     NaN      NaN   390.0  0.0  \n",
            "29734     NaN      NaN      NaN     NaN      NaN  3081.0  0.0  \n",
            "29735     NaN      NaN      NaN     NaN      NaN   237.0  1.0  \n",
            "29736     NaN      NaN      NaN     NaN      NaN   406.0  1.0  \n",
            "29833  1279.0   3000.0   6668.0   468.0    507.0  5582.0  0.0  \n",
            "29834   390.0    780.0      0.0   806.0  19103.0  1000.0  1.0  \n",
            "\n",
            "[16 rows x 24 columns]\n",
            "Mediana 0.0\n",
            "Registros NO NULOS:  29984\n",
            "          AMT  SEX  EDUCATION  MARRIAGE   AGE  PAYSTAT_1  PAYSTAT_2  \\\n",
            "ID                                                                    \n",
            "6228    30000  1.0        1.0       1.0  35.0        NaN        NaN   \n",
            "6269   120000  1.0        2.0       2.0  29.0        1.0        2.0   \n",
            "6270   400000  2.0        1.0       2.0  27.0        1.0       -1.0   \n",
            "6271    50000  2.0        1.0       1.0  55.0        0.0        0.0   \n",
            "6383    80000  2.0        2.0       1.0  30.0        1.0        2.0   \n",
            "6384    90000  1.0        2.0       2.0  29.0        0.0        0.0   \n",
            "6385    20000  2.0        2.0       2.0  22.0        0.0        0.0   \n",
            "24124   50000  1.0        1.0       2.0  29.0        NaN        NaN   \n",
            "24366  130000  2.0        1.0       1.0  35.0        NaN        NaN   \n",
            "29734  300000  1.0        2.0       1.0  37.0       -1.0       -1.0   \n",
            "29735  500000  1.0        2.0       1.0  49.0       -1.0       -1.0   \n",
            "29736   50000  1.0        3.0       1.0  40.0        2.0        0.0   \n",
            "29833   20000  1.0        2.0       2.0  30.0        0.0        NaN   \n",
            "29834   20000  1.0        2.0       2.0  31.0       -1.0        NaN   \n",
            "\n",
            "       PAYSTAT_3  PAYSTAT_4  PAYSTAT_5  ...   BILL_4   BILL_5   BILL_6  \\\n",
            "ID                                      ...                              \n",
            "6228         NaN        NaN        NaN  ...      NaN      NaN  21120.0   \n",
            "6269         0.0        0.0        NaN  ...  91380.0  93263.0  95079.0   \n",
            "6270        -1.0        0.0        NaN  ...  12640.0  14805.0    238.0   \n",
            "6271         0.0        0.0        NaN  ...  19431.0  19837.0  20232.0   \n",
            "6383         0.0        0.0        NaN  ...  75374.0  77158.0  78710.0   \n",
            "6384         0.0        0.0        NaN  ...  69362.0  70537.0  56775.0   \n",
            "6385         0.0        0.0        NaN  ...  20055.0  19606.0  19925.0   \n",
            "24124        NaN        NaN        NaN  ...      NaN      NaN      NaN   \n",
            "24366        NaN        NaN        NaN  ...      NaN      NaN      NaN   \n",
            "29734       -1.0       -1.0        NaN  ...      NaN      NaN      NaN   \n",
            "29735        2.0       -1.0        NaN  ...      NaN      NaN      NaN   \n",
            "29736        0.0        0.0        NaN  ...      NaN      NaN      NaN   \n",
            "29833        NaN        NaN        NaN  ...      NaN      NaN  20090.0   \n",
            "29834        NaN        NaN        NaN  ...      NaN      NaN  19103.0   \n",
            "\n",
            "        PAY_1    PAY_2   PAY_3   PAY_4    PAY_5   PAY_6    Y  \n",
            "ID                                                            \n",
            "6228   1586.0   1365.0  1663.0  5106.0   1050.0     0.0  0.0  \n",
            "6269      0.0   3200.0  6800.0  3500.0   3500.0     0.0  1.0  \n",
            "6270    140.0  12527.0   253.0  2305.0    238.0   238.0  0.0  \n",
            "6271   1775.0   1815.0   695.0   719.0    724.0   750.0  0.0  \n",
            "6383      0.0   3299.0  2699.0  3000.0   2987.0  3100.0  0.0  \n",
            "6384   4400.0   4111.0  2100.0  2200.0   2510.0  2000.0  0.0  \n",
            "6385   1298.0   1909.0  1666.0  5000.0    703.0   775.0  0.0  \n",
            "24124     NaN      NaN     NaN     NaN      NaN   360.0  0.0  \n",
            "24366     NaN      NaN     NaN     NaN      NaN   390.0  0.0  \n",
            "29734     NaN      NaN     NaN     NaN      NaN  3081.0  0.0  \n",
            "29735     NaN      NaN     NaN     NaN      NaN   237.0  1.0  \n",
            "29736     NaN      NaN     NaN     NaN      NaN   406.0  1.0  \n",
            "29833  1279.0   3000.0  6668.0   468.0    507.0  5582.0  0.0  \n",
            "29834   390.0    780.0     0.0   806.0  19103.0  1000.0  1.0  \n",
            "\n",
            "[14 rows x 24 columns]\n",
            "Mediana 0.0\n",
            "Registros NO NULOS:  29986\n"
          ]
        }
      ]
    },
    {
      "cell_type": "code",
      "source": [
        "keys=['PAYSTAT_1', 'PAYSTAT_2',\n",
        "       'PAYSTAT_3', 'PAYSTAT_4', 'PAYSTAT_5', 'PAYSTAT_6'] #imputamos la mediana a las casillas nulas de cada columna \n",
        "copiadf=df_clean\n",
        "for i in keys:\n",
        "  nulos = pd.isnull(copiadf[i])\n",
        "  mediana=(copiadf[i].median())\n",
        "  copiadf[i].fillna(mediana,inplace=True)"
      ],
      "metadata": {
        "id": "sfmhOuVJwPfO"
      },
      "execution_count": 42,
      "outputs": []
    },
    {
      "cell_type": "code",
      "source": [
        "df_clean.info()"
      ],
      "metadata": {
        "colab": {
          "base_uri": "https://localhost:8080/"
        },
        "id": "693v6_5M2VGo",
        "outputId": "7daa58aa-7bd7-4620-ae28-fb53448361ab"
      },
      "execution_count": 43,
      "outputs": [
        {
          "output_type": "stream",
          "name": "stdout",
          "text": [
            "<class 'pandas.core.frame.DataFrame'>\n",
            "Int64Index: 30000 entries, 1 to 30000\n",
            "Data columns (total 24 columns):\n",
            " #   Column     Non-Null Count  Dtype  \n",
            "---  ------     --------------  -----  \n",
            " 0   AMT        30000 non-null  int64  \n",
            " 1   SEX        30000 non-null  float64\n",
            " 2   EDUCATION  30000 non-null  float64\n",
            " 3   MARRIAGE   30000 non-null  float64\n",
            " 4   AGE        30000 non-null  float64\n",
            " 5   PAYSTAT_1  30000 non-null  float64\n",
            " 6   PAYSTAT_2  30000 non-null  float64\n",
            " 7   PAYSTAT_3  30000 non-null  float64\n",
            " 8   PAYSTAT_4  30000 non-null  float64\n",
            " 9   PAYSTAT_5  30000 non-null  float64\n",
            " 10  PAYSTAT_6  30000 non-null  float64\n",
            " 11  BILL_1     29989 non-null  float64\n",
            " 12  BILL_2     29989 non-null  float64\n",
            " 13  BILL_3     29987 non-null  float64\n",
            " 14  BILL_4     29985 non-null  float64\n",
            " 15  BILL_5     29983 non-null  float64\n",
            " 16  BILL_6     29990 non-null  float64\n",
            " 17  PAY_1      29992 non-null  float64\n",
            " 18  PAY_2      29991 non-null  float64\n",
            " 19  PAY_3      29992 non-null  float64\n",
            " 20  PAY_4      29989 non-null  float64\n",
            " 21  PAY_5      29989 non-null  float64\n",
            " 22  PAY_6      29995 non-null  float64\n",
            " 23  Y          29997 non-null  float64\n",
            "dtypes: float64(23), int64(1)\n",
            "memory usage: 6.7 MB\n"
          ]
        }
      ]
    },
    {
      "cell_type": "markdown",
      "source": [
        "Para BILL_1 y hasta PAY 6 checamos que no existan valores negativos"
      ],
      "metadata": {
        "id": "s0RQYvfqONuc"
      }
    },
    {
      "cell_type": "code",
      "source": [
        "print('Valores menores a 0: ' + str((df_clean.iloc[:,11:23].values < 0).sum()))"
      ],
      "metadata": {
        "colab": {
          "base_uri": "https://localhost:8080/"
        },
        "id": "74WGMOmaOSnh",
        "outputId": "0b836368-2302-425e-d928-cbea3cc1d43a"
      },
      "execution_count": 44,
      "outputs": [
        {
          "output_type": "stream",
          "name": "stdout",
          "text": [
            "Valores menores a 0: 3932\n"
          ]
        }
      ]
    },
    {
      "cell_type": "markdown",
      "source": [
        "En este caso, asumiremos que es un error de captura y son valores positivos. En la realidad tendríamos que verificar como se capturaron los datos para asegurarnos que sea posible hacer esto, o entender porque existen valores negativos y qué hacer con ellos"
      ],
      "metadata": {
        "id": "5onZv8H5OZyM"
      }
    },
    {
      "cell_type": "code",
      "source": [
        "for col in df_clean.iloc[:,11:23].columns:\n",
        "  df_clean[col] = df_clean[col].abs()\n",
        "print('Valores menores a 0: ' + str((df_clean.iloc[:,11:23].values < 0).sum()))"
      ],
      "metadata": {
        "colab": {
          "base_uri": "https://localhost:8080/"
        },
        "id": "0n_7nkKIOjxl",
        "outputId": "87381583-9b8f-4c67-88b4-f617bd27bc6c"
      },
      "execution_count": 45,
      "outputs": [
        {
          "output_type": "stream",
          "name": "stdout",
          "text": [
            "Valores menores a 0: 0\n"
          ]
        }
      ]
    },
    {
      "cell_type": "code",
      "source": [
        "keys=['BILL_1', 'BILL_2',\n",
        "       'BILL_3', 'BILL_4', 'BILL_5', 'BILL_6', 'PAY_1', 'PAY_2', 'PAY_3',\n",
        "       'PAY_4', 'PAY_5', 'PAY_6']\n",
        "\n",
        "for i in keys:\n",
        "  nulos = pd.isnull(df_clean[i])\n",
        "  print(df_clean[nulos])\n",
        "  print(\"Mediana \", df_clean[i].median())\n",
        "  print(\"Registros NO NULOS: \", df_clean[i].count())"
      ],
      "metadata": {
        "colab": {
          "base_uri": "https://localhost:8080/"
        },
        "id": "EBtiJPQz3OPN",
        "outputId": "5ee37f33-0eb8-4c3b-cfa8-fbf7dfaaa803"
      },
      "execution_count": 46,
      "outputs": [
        {
          "output_type": "stream",
          "name": "stdout",
          "text": [
            "          AMT  SEX  EDUCATION  MARRIAGE   AGE  PAYSTAT_1  PAYSTAT_2  \\\n",
            "ID                                                                    \n",
            "19     360000  2.0        1.0       1.0  49.0        1.0       -1.0   \n",
            "6228    30000  1.0        1.0       1.0  35.0        0.0        0.0   \n",
            "24124   50000  1.0        1.0       2.0  29.0        0.0        0.0   \n",
            "24366  130000  2.0        1.0       1.0  35.0        0.0        0.0   \n",
            "29734  300000  1.0        2.0       1.0  37.0       -1.0       -1.0   \n",
            "29735  500000  1.0        2.0       1.0  49.0       -1.0       -1.0   \n",
            "29736   50000  1.0        3.0       1.0  40.0        2.0        0.0   \n",
            "29825   40000  1.0        1.0       1.0  47.0        2.0        2.0   \n",
            "29826   50000  1.0        2.0       1.0  41.0        0.0        0.0   \n",
            "29833   20000  1.0        2.0       2.0  30.0        0.0        0.0   \n",
            "29834   20000  1.0        2.0       2.0  31.0       -1.0        0.0   \n",
            "\n",
            "       PAYSTAT_3  PAYSTAT_4  PAYSTAT_5  ...  BILL_4  BILL_5   BILL_6   PAY_1  \\\n",
            "ID                                      ...                                    \n",
            "19          -1.0       -1.0       -1.0  ...     NaN     NaN      NaN     0.0   \n",
            "6228         0.0        0.0        0.0  ...     NaN     NaN  21120.0  1586.0   \n",
            "24124        0.0        0.0        0.0  ...     NaN     NaN      NaN     NaN   \n",
            "24366        0.0        0.0        0.0  ...     NaN     NaN      NaN     NaN   \n",
            "29734       -1.0       -1.0        0.0  ...     NaN     NaN      NaN     NaN   \n",
            "29735        2.0       -1.0        0.0  ...     NaN     NaN      NaN     NaN   \n",
            "29736        0.0        0.0        0.0  ...     NaN     NaN      NaN     NaN   \n",
            "29825        2.0        2.0        2.0  ...     NaN     NaN      NaN     NaN   \n",
            "29826        0.0        0.0        0.0  ...     NaN     NaN      NaN     NaN   \n",
            "29833        0.0        0.0        0.0  ...     NaN     NaN  20090.0  1279.0   \n",
            "29834        0.0        0.0        0.0  ...     NaN     NaN  19103.0   390.0   \n",
            "\n",
            "        PAY_2   PAY_3   PAY_4    PAY_5   PAY_6    Y  \n",
            "ID                                                   \n",
            "19        0.0     0.0     0.0      0.0     0.0  0.0  \n",
            "6228   1365.0  1663.0  5106.0   1050.0     0.0  0.0  \n",
            "24124     NaN     NaN     NaN      NaN   360.0  0.0  \n",
            "24366     NaN     NaN     NaN      NaN   390.0  0.0  \n",
            "29734     NaN     NaN     NaN      NaN  3081.0  0.0  \n",
            "29735     NaN     NaN     NaN      NaN   237.0  1.0  \n",
            "29736     NaN     NaN     NaN      NaN   406.0  1.0  \n",
            "29825     NaN     NaN     NaN      NaN     NaN  NaN  \n",
            "29826     NaN     NaN     NaN      NaN     NaN  NaN  \n",
            "29833  3000.0  6668.0   468.0    507.0  5582.0  0.0  \n",
            "29834   780.0     0.0   806.0  19103.0  1000.0  1.0  \n",
            "\n",
            "[11 rows x 24 columns]\n",
            "Mediana  22396.0\n",
            "Registros NO NULOS:  29989\n",
            "          AMT  SEX  EDUCATION  MARRIAGE   AGE  PAYSTAT_1  PAYSTAT_2  \\\n",
            "ID                                                                    \n",
            "19     360000  2.0        1.0       1.0  49.0        1.0       -1.0   \n",
            "6228    30000  1.0        1.0       1.0  35.0        0.0        0.0   \n",
            "24124   50000  1.0        1.0       2.0  29.0        0.0        0.0   \n",
            "24366  130000  2.0        1.0       1.0  35.0        0.0        0.0   \n",
            "29734  300000  1.0        2.0       1.0  37.0       -1.0       -1.0   \n",
            "29735  500000  1.0        2.0       1.0  49.0       -1.0       -1.0   \n",
            "29736   50000  1.0        3.0       1.0  40.0        2.0        0.0   \n",
            "29825   40000  1.0        1.0       1.0  47.0        2.0        2.0   \n",
            "29826   50000  1.0        2.0       1.0  41.0        0.0        0.0   \n",
            "29833   20000  1.0        2.0       2.0  30.0        0.0        0.0   \n",
            "29834   20000  1.0        2.0       2.0  31.0       -1.0        0.0   \n",
            "\n",
            "       PAYSTAT_3  PAYSTAT_4  PAYSTAT_5  ...  BILL_4  BILL_5   BILL_6   PAY_1  \\\n",
            "ID                                      ...                                    \n",
            "19          -1.0       -1.0       -1.0  ...     NaN     NaN      NaN     0.0   \n",
            "6228         0.0        0.0        0.0  ...     NaN     NaN  21120.0  1586.0   \n",
            "24124        0.0        0.0        0.0  ...     NaN     NaN      NaN     NaN   \n",
            "24366        0.0        0.0        0.0  ...     NaN     NaN      NaN     NaN   \n",
            "29734       -1.0       -1.0        0.0  ...     NaN     NaN      NaN     NaN   \n",
            "29735        2.0       -1.0        0.0  ...     NaN     NaN      NaN     NaN   \n",
            "29736        0.0        0.0        0.0  ...     NaN     NaN      NaN     NaN   \n",
            "29825        2.0        2.0        2.0  ...     NaN     NaN      NaN     NaN   \n",
            "29826        0.0        0.0        0.0  ...     NaN     NaN      NaN     NaN   \n",
            "29833        0.0        0.0        0.0  ...     NaN     NaN  20090.0  1279.0   \n",
            "29834        0.0        0.0        0.0  ...     NaN     NaN  19103.0   390.0   \n",
            "\n",
            "        PAY_2   PAY_3   PAY_4    PAY_5   PAY_6    Y  \n",
            "ID                                                   \n",
            "19        0.0     0.0     0.0      0.0     0.0  0.0  \n",
            "6228   1365.0  1663.0  5106.0   1050.0     0.0  0.0  \n",
            "24124     NaN     NaN     NaN      NaN   360.0  0.0  \n",
            "24366     NaN     NaN     NaN      NaN   390.0  0.0  \n",
            "29734     NaN     NaN     NaN      NaN  3081.0  0.0  \n",
            "29735     NaN     NaN     NaN      NaN   237.0  1.0  \n",
            "29736     NaN     NaN     NaN      NaN   406.0  1.0  \n",
            "29825     NaN     NaN     NaN      NaN     NaN  NaN  \n",
            "29826     NaN     NaN     NaN      NaN     NaN  NaN  \n",
            "29833  3000.0  6668.0   468.0    507.0  5582.0  0.0  \n",
            "29834   780.0     0.0   806.0  19103.0  1000.0  1.0  \n",
            "\n",
            "[11 rows x 24 columns]\n",
            "Mediana  21237.0\n",
            "Registros NO NULOS:  29989\n",
            "          AMT  SEX  EDUCATION  MARRIAGE   AGE  PAYSTAT_1  PAYSTAT_2  \\\n",
            "ID                                                                    \n",
            "19     360000  2.0        1.0       1.0  49.0        1.0       -1.0   \n",
            "6228    30000  1.0        1.0       1.0  35.0        0.0        0.0   \n",
            "6233    60000  2.0        2.0       2.0  29.0        2.0        2.0   \n",
            "17991   50000  1.0        3.0       2.0  41.0        0.0        0.0   \n",
            "24124   50000  1.0        1.0       2.0  29.0        0.0        0.0   \n",
            "24366  130000  2.0        1.0       1.0  35.0        0.0        0.0   \n",
            "29734  300000  1.0        2.0       1.0  37.0       -1.0       -1.0   \n",
            "29735  500000  1.0        2.0       1.0  49.0       -1.0       -1.0   \n",
            "29736   50000  1.0        3.0       1.0  40.0        2.0        0.0   \n",
            "29825   40000  1.0        1.0       1.0  47.0        2.0        2.0   \n",
            "29826   50000  1.0        2.0       1.0  41.0        0.0        0.0   \n",
            "29833   20000  1.0        2.0       2.0  30.0        0.0        0.0   \n",
            "29834   20000  1.0        2.0       2.0  31.0       -1.0        0.0   \n",
            "\n",
            "       PAYSTAT_3  PAYSTAT_4  PAYSTAT_5  ...   BILL_4   BILL_5   BILL_6  \\\n",
            "ID                                      ...                              \n",
            "19          -1.0       -1.0       -1.0  ...      NaN      NaN      NaN   \n",
            "6228         0.0        0.0        0.0  ...      NaN      NaN  21120.0   \n",
            "6233         2.0        0.0        0.0  ...      NaN      NaN      NaN   \n",
            "17991        0.0        0.0        0.0  ...  50269.0  29182.0  29096.0   \n",
            "24124        0.0        0.0        0.0  ...      NaN      NaN      NaN   \n",
            "24366        0.0        0.0        0.0  ...      NaN      NaN      NaN   \n",
            "29734       -1.0       -1.0        0.0  ...      NaN      NaN      NaN   \n",
            "29735        2.0       -1.0        0.0  ...      NaN      NaN      NaN   \n",
            "29736        0.0        0.0        0.0  ...      NaN      NaN      NaN   \n",
            "29825        2.0        2.0        2.0  ...      NaN      NaN      NaN   \n",
            "29826        0.0        0.0        0.0  ...      NaN      NaN      NaN   \n",
            "29833        0.0        0.0        0.0  ...      NaN      NaN  20090.0   \n",
            "29834        0.0        0.0        0.0  ...      NaN      NaN  19103.0   \n",
            "\n",
            "        PAY_1   PAY_2   PAY_3   PAY_4    PAY_5   PAY_6    Y  \n",
            "ID                                                           \n",
            "19        0.0     0.0     0.0     0.0      0.0     0.0  0.0  \n",
            "6228   1586.0  1365.0  1663.0  5106.0   1050.0     0.0  0.0  \n",
            "6233      NaN     NaN     NaN     NaN      NaN     NaN  NaN  \n",
            "17991  4200.0  2200.0  3300.0  1200.0   1100.0  1100.0  0.0  \n",
            "24124     NaN     NaN     NaN     NaN      NaN   360.0  0.0  \n",
            "24366     NaN     NaN     NaN     NaN      NaN   390.0  0.0  \n",
            "29734     NaN     NaN     NaN     NaN      NaN  3081.0  0.0  \n",
            "29735     NaN     NaN     NaN     NaN      NaN   237.0  1.0  \n",
            "29736     NaN     NaN     NaN     NaN      NaN   406.0  1.0  \n",
            "29825     NaN     NaN     NaN     NaN      NaN     NaN  NaN  \n",
            "29826     NaN     NaN     NaN     NaN      NaN     NaN  NaN  \n",
            "29833  1279.0  3000.0  6668.0   468.0    507.0  5582.0  0.0  \n",
            "29834   390.0   780.0     0.0   806.0  19103.0  1000.0  1.0  \n",
            "\n",
            "[13 rows x 24 columns]\n",
            "Mediana  20109.0\n",
            "Registros NO NULOS:  29987\n",
            "          AMT  SEX  EDUCATION  MARRIAGE   AGE  PAYSTAT_1  PAYSTAT_2  \\\n",
            "ID                                                                    \n",
            "19     360000  2.0        1.0       1.0  49.0        1.0       -1.0   \n",
            "6228    30000  1.0        1.0       1.0  35.0        0.0        0.0   \n",
            "6233    60000  2.0        2.0       2.0  29.0        2.0        2.0   \n",
            "6277    30000  1.0        3.0       1.0  32.0        0.0        0.0   \n",
            "6278   110000  2.0        1.0       2.0  32.0        1.0        2.0   \n",
            "6279    20000  2.0        3.0       2.0  54.0        0.0        0.0   \n",
            "24124   50000  1.0        1.0       2.0  29.0        0.0        0.0   \n",
            "24366  130000  2.0        1.0       1.0  35.0        0.0        0.0   \n",
            "29734  300000  1.0        2.0       1.0  37.0       -1.0       -1.0   \n",
            "29735  500000  1.0        2.0       1.0  49.0       -1.0       -1.0   \n",
            "29736   50000  1.0        3.0       1.0  40.0        2.0        0.0   \n",
            "29825   40000  1.0        1.0       1.0  47.0        2.0        2.0   \n",
            "29826   50000  1.0        2.0       1.0  41.0        0.0        0.0   \n",
            "29833   20000  1.0        2.0       2.0  30.0        0.0        0.0   \n",
            "29834   20000  1.0        2.0       2.0  31.0       -1.0        0.0   \n",
            "\n",
            "       PAYSTAT_3  PAYSTAT_4  PAYSTAT_5  ...  BILL_4  BILL_5   BILL_6   PAY_1  \\\n",
            "ID                                      ...                                    \n",
            "19          -1.0       -1.0       -1.0  ...     NaN     NaN      NaN     0.0   \n",
            "6228         0.0        0.0        0.0  ...     NaN     NaN  21120.0  1586.0   \n",
            "6233         2.0        0.0        0.0  ...     NaN     NaN      NaN     NaN   \n",
            "6277         0.0        0.0        0.0  ...     NaN     NaN   1400.0  3000.0   \n",
            "6278         0.0        0.0        0.0  ...     NaN     NaN  25453.0  1210.0   \n",
            "6279         2.0        2.0        2.0  ...     NaN     NaN   9116.0  2000.0   \n",
            "24124        0.0        0.0        0.0  ...     NaN     NaN      NaN     NaN   \n",
            "24366        0.0        0.0        0.0  ...     NaN     NaN      NaN     NaN   \n",
            "29734       -1.0       -1.0        0.0  ...     NaN     NaN      NaN     NaN   \n",
            "29735        2.0       -1.0        0.0  ...     NaN     NaN      NaN     NaN   \n",
            "29736        0.0        0.0        0.0  ...     NaN     NaN      NaN     NaN   \n",
            "29825        2.0        2.0        2.0  ...     NaN     NaN      NaN     NaN   \n",
            "29826        0.0        0.0        0.0  ...     NaN     NaN      NaN     NaN   \n",
            "29833        0.0        0.0        0.0  ...     NaN     NaN  20090.0  1279.0   \n",
            "29834        0.0        0.0        0.0  ...     NaN     NaN  19103.0   390.0   \n",
            "\n",
            "        PAY_2   PAY_3   PAY_4    PAY_5   PAY_6    Y  \n",
            "ID                                                   \n",
            "19        0.0     0.0     0.0      0.0     0.0  0.0  \n",
            "6228   1365.0  1663.0  5106.0   1050.0     0.0  0.0  \n",
            "6233      NaN     NaN     NaN      NaN     NaN  NaN  \n",
            "6277   1431.0   483.0     0.0    700.0     0.0  0.0  \n",
            "6278   2056.0  1200.0  2300.0      0.0  1000.0  1.0  \n",
            "6279   1000.0  1000.0     0.0    500.0   500.0  0.0  \n",
            "24124     NaN     NaN     NaN      NaN   360.0  0.0  \n",
            "24366     NaN     NaN     NaN      NaN   390.0  0.0  \n",
            "29734     NaN     NaN     NaN      NaN  3081.0  0.0  \n",
            "29735     NaN     NaN     NaN      NaN   237.0  1.0  \n",
            "29736     NaN     NaN     NaN      NaN   406.0  1.0  \n",
            "29825     NaN     NaN     NaN      NaN     NaN  NaN  \n",
            "29826     NaN     NaN     NaN      NaN     NaN  NaN  \n",
            "29833  3000.0  6668.0   468.0    507.0  5582.0  0.0  \n",
            "29834   780.0     0.0   806.0  19103.0  1000.0  1.0  \n",
            "\n",
            "[15 rows x 24 columns]\n",
            "Mediana  19068.0\n",
            "Registros NO NULOS:  29985\n",
            "          AMT  SEX  EDUCATION  MARRIAGE   AGE  PAYSTAT_1  PAYSTAT_2  \\\n",
            "ID                                                                    \n",
            "19     360000  2.0        1.0       1.0  49.0        1.0       -1.0   \n",
            "176    130000  1.0        3.0       1.0  56.0        1.0        2.0   \n",
            "241     60000  2.0        1.0       2.0  28.0        1.0        2.0   \n",
            "6228    30000  1.0        1.0       1.0  35.0        0.0        0.0   \n",
            "6233    60000  2.0        2.0       2.0  29.0        2.0        2.0   \n",
            "6277    30000  1.0        3.0       1.0  32.0        0.0        0.0   \n",
            "6278   110000  2.0        1.0       2.0  32.0        1.0        2.0   \n",
            "6279    20000  2.0        3.0       2.0  54.0        0.0        0.0   \n",
            "24124   50000  1.0        1.0       2.0  29.0        0.0        0.0   \n",
            "24366  130000  2.0        1.0       1.0  35.0        0.0        0.0   \n",
            "29734  300000  1.0        2.0       1.0  37.0       -1.0       -1.0   \n",
            "29735  500000  1.0        2.0       1.0  49.0       -1.0       -1.0   \n",
            "29736   50000  1.0        3.0       1.0  40.0        2.0        0.0   \n",
            "29825   40000  1.0        1.0       1.0  47.0        2.0        2.0   \n",
            "29826   50000  1.0        2.0       1.0  41.0        0.0        0.0   \n",
            "29833   20000  1.0        2.0       2.0  30.0        0.0        0.0   \n",
            "29834   20000  1.0        2.0       2.0  31.0       -1.0        0.0   \n",
            "\n",
            "       PAYSTAT_3  PAYSTAT_4  PAYSTAT_5  ...   BILL_4  BILL_5   BILL_6   PAY_1  \\\n",
            "ID                                      ...                                     \n",
            "19          -1.0       -1.0       -1.0  ...      NaN     NaN      NaN     0.0   \n",
            "176          2.0        2.0        2.0  ...  68557.0     NaN  71345.0  3000.0   \n",
            "241          2.0       -1.0       -1.0  ...      0.0     NaN   2285.0     0.0   \n",
            "6228         0.0        0.0        0.0  ...      NaN     NaN  21120.0  1586.0   \n",
            "6233         2.0        0.0        0.0  ...      NaN     NaN      NaN     NaN   \n",
            "6277         0.0        0.0        0.0  ...      NaN     NaN   1400.0  3000.0   \n",
            "6278         0.0        0.0        0.0  ...      NaN     NaN  25453.0  1210.0   \n",
            "6279         2.0        2.0        2.0  ...      NaN     NaN   9116.0  2000.0   \n",
            "24124        0.0        0.0        0.0  ...      NaN     NaN      NaN     NaN   \n",
            "24366        0.0        0.0        0.0  ...      NaN     NaN      NaN     NaN   \n",
            "29734       -1.0       -1.0        0.0  ...      NaN     NaN      NaN     NaN   \n",
            "29735        2.0       -1.0        0.0  ...      NaN     NaN      NaN     NaN   \n",
            "29736        0.0        0.0        0.0  ...      NaN     NaN      NaN     NaN   \n",
            "29825        2.0        2.0        2.0  ...      NaN     NaN      NaN     NaN   \n",
            "29826        0.0        0.0        0.0  ...      NaN     NaN      NaN     NaN   \n",
            "29833        0.0        0.0        0.0  ...      NaN     NaN  20090.0  1279.0   \n",
            "29834        0.0        0.0        0.0  ...      NaN     NaN  19103.0   390.0   \n",
            "\n",
            "        PAY_2   PAY_3   PAY_4    PAY_5   PAY_6    Y  \n",
            "ID                                                   \n",
            "19        0.0     0.0     0.0      0.0     0.0  0.0  \n",
            "176    3000.0  3000.0  5500.0      0.0     0.0  1.0  \n",
            "241       0.0     0.0     0.0   2285.0     0.0  0.0  \n",
            "6228   1365.0  1663.0  5106.0   1050.0     0.0  0.0  \n",
            "6233      NaN     NaN     NaN      NaN     NaN  NaN  \n",
            "6277   1431.0   483.0     0.0    700.0     0.0  0.0  \n",
            "6278   2056.0  1200.0  2300.0      0.0  1000.0  1.0  \n",
            "6279   1000.0  1000.0     0.0    500.0   500.0  0.0  \n",
            "24124     NaN     NaN     NaN      NaN   360.0  0.0  \n",
            "24366     NaN     NaN     NaN      NaN   390.0  0.0  \n",
            "29734     NaN     NaN     NaN      NaN  3081.0  0.0  \n",
            "29735     NaN     NaN     NaN      NaN   237.0  1.0  \n",
            "29736     NaN     NaN     NaN      NaN   406.0  1.0  \n",
            "29825     NaN     NaN     NaN      NaN     NaN  NaN  \n",
            "29826     NaN     NaN     NaN      NaN     NaN  NaN  \n",
            "29833  3000.0  6668.0   468.0    507.0  5582.0  0.0  \n",
            "29834   780.0     0.0   806.0  19103.0  1000.0  1.0  \n",
            "\n",
            "[17 rows x 24 columns]\n",
            "Mediana  18128.0\n",
            "Registros NO NULOS:  29983\n",
            "          AMT  SEX  EDUCATION  MARRIAGE   AGE  PAYSTAT_1  PAYSTAT_2  \\\n",
            "ID                                                                    \n",
            "19     360000  2.0        1.0       1.0  49.0        1.0       -1.0   \n",
            "39      50000  1.0        1.0       2.0  25.0        1.0       -1.0   \n",
            "6233    60000  2.0        2.0       2.0  29.0        2.0        2.0   \n",
            "24124   50000  1.0        1.0       2.0  29.0        0.0        0.0   \n",
            "24366  130000  2.0        1.0       1.0  35.0        0.0        0.0   \n",
            "29734  300000  1.0        2.0       1.0  37.0       -1.0       -1.0   \n",
            "29735  500000  1.0        2.0       1.0  49.0       -1.0       -1.0   \n",
            "29736   50000  1.0        3.0       1.0  40.0        2.0        0.0   \n",
            "29825   40000  1.0        1.0       1.0  47.0        2.0        2.0   \n",
            "29826   50000  1.0        2.0       1.0  41.0        0.0        0.0   \n",
            "\n",
            "       PAYSTAT_3  PAYSTAT_4  PAYSTAT_5  ...  BILL_4  BILL_5  BILL_6  PAY_1  \\\n",
            "ID                                      ...                                  \n",
            "19          -1.0       -1.0       -1.0  ...     NaN     NaN     NaN    0.0   \n",
            "39          -1.0       -1.0       -1.0  ...     0.0     0.0     NaN  780.0   \n",
            "6233         2.0        0.0        0.0  ...     NaN     NaN     NaN    NaN   \n",
            "24124        0.0        0.0        0.0  ...     NaN     NaN     NaN    NaN   \n",
            "24366        0.0        0.0        0.0  ...     NaN     NaN     NaN    NaN   \n",
            "29734       -1.0       -1.0        0.0  ...     NaN     NaN     NaN    NaN   \n",
            "29735        2.0       -1.0        0.0  ...     NaN     NaN     NaN    NaN   \n",
            "29736        0.0        0.0        0.0  ...     NaN     NaN     NaN    NaN   \n",
            "29825        2.0        2.0        2.0  ...     NaN     NaN     NaN    NaN   \n",
            "29826        0.0        0.0        0.0  ...     NaN     NaN     NaN    NaN   \n",
            "\n",
            "       PAY_2  PAY_3  PAY_4  PAY_5   PAY_6    Y  \n",
            "ID                                              \n",
            "19       0.0    0.0    0.0    0.0     0.0  0.0  \n",
            "39       0.0    0.0    0.0    0.0     0.0  1.0  \n",
            "6233     NaN    NaN    NaN    NaN     NaN  NaN  \n",
            "24124    NaN    NaN    NaN    NaN   360.0  0.0  \n",
            "24366    NaN    NaN    NaN    NaN   390.0  0.0  \n",
            "29734    NaN    NaN    NaN    NaN  3081.0  0.0  \n",
            "29735    NaN    NaN    NaN    NaN   237.0  1.0  \n",
            "29736    NaN    NaN    NaN    NaN   406.0  1.0  \n",
            "29825    NaN    NaN    NaN    NaN     NaN  NaN  \n",
            "29826    NaN    NaN    NaN    NaN     NaN  NaN  \n",
            "\n",
            "[10 rows x 24 columns]\n",
            "Mediana  17135.0\n",
            "Registros NO NULOS:  29990\n",
            "          AMT  SEX  EDUCATION  MARRIAGE   AGE  PAYSTAT_1  PAYSTAT_2  \\\n",
            "ID                                                                    \n",
            "6233    60000  2.0        2.0       2.0  29.0        2.0        2.0   \n",
            "24124   50000  1.0        1.0       2.0  29.0        0.0        0.0   \n",
            "24366  130000  2.0        1.0       1.0  35.0        0.0        0.0   \n",
            "29734  300000  1.0        2.0       1.0  37.0       -1.0       -1.0   \n",
            "29735  500000  1.0        2.0       1.0  49.0       -1.0       -1.0   \n",
            "29736   50000  1.0        3.0       1.0  40.0        2.0        0.0   \n",
            "29825   40000  1.0        1.0       1.0  47.0        2.0        2.0   \n",
            "29826   50000  1.0        2.0       1.0  41.0        0.0        0.0   \n",
            "\n",
            "       PAYSTAT_3  PAYSTAT_4  PAYSTAT_5  ...  BILL_4  BILL_5  BILL_6  PAY_1  \\\n",
            "ID                                      ...                                  \n",
            "6233         2.0        0.0        0.0  ...     NaN     NaN     NaN    NaN   \n",
            "24124        0.0        0.0        0.0  ...     NaN     NaN     NaN    NaN   \n",
            "24366        0.0        0.0        0.0  ...     NaN     NaN     NaN    NaN   \n",
            "29734       -1.0       -1.0        0.0  ...     NaN     NaN     NaN    NaN   \n",
            "29735        2.0       -1.0        0.0  ...     NaN     NaN     NaN    NaN   \n",
            "29736        0.0        0.0        0.0  ...     NaN     NaN     NaN    NaN   \n",
            "29825        2.0        2.0        2.0  ...     NaN     NaN     NaN    NaN   \n",
            "29826        0.0        0.0        0.0  ...     NaN     NaN     NaN    NaN   \n",
            "\n",
            "       PAY_2  PAY_3  PAY_4  PAY_5   PAY_6    Y  \n",
            "ID                                              \n",
            "6233     NaN    NaN    NaN    NaN     NaN  NaN  \n",
            "24124    NaN    NaN    NaN    NaN   360.0  0.0  \n",
            "24366    NaN    NaN    NaN    NaN   390.0  0.0  \n",
            "29734    NaN    NaN    NaN    NaN  3081.0  0.0  \n",
            "29735    NaN    NaN    NaN    NaN   237.0  1.0  \n",
            "29736    NaN    NaN    NaN    NaN   406.0  1.0  \n",
            "29825    NaN    NaN    NaN    NaN     NaN  NaN  \n",
            "29826    NaN    NaN    NaN    NaN     NaN  NaN  \n",
            "\n",
            "[8 rows x 24 columns]\n",
            "Mediana  2100.0\n",
            "Registros NO NULOS:  29992\n",
            "          AMT  SEX  EDUCATION  MARRIAGE   AGE  PAYSTAT_1  PAYSTAT_2  \\\n",
            "ID                                                                    \n",
            "65     130000  2.0        2.0       1.0  51.0       -1.0       -1.0   \n",
            "6233    60000  2.0        2.0       2.0  29.0        2.0        2.0   \n",
            "24124   50000  1.0        1.0       2.0  29.0        0.0        0.0   \n",
            "24366  130000  2.0        1.0       1.0  35.0        0.0        0.0   \n",
            "29734  300000  1.0        2.0       1.0  37.0       -1.0       -1.0   \n",
            "29735  500000  1.0        2.0       1.0  49.0       -1.0       -1.0   \n",
            "29736   50000  1.0        3.0       1.0  40.0        2.0        0.0   \n",
            "29825   40000  1.0        1.0       1.0  47.0        2.0        2.0   \n",
            "29826   50000  1.0        2.0       1.0  41.0        0.0        0.0   \n",
            "\n",
            "       PAYSTAT_3  PAYSTAT_4  PAYSTAT_5  ...  BILL_4  BILL_5  BILL_6  PAY_1  \\\n",
            "ID                                      ...                                  \n",
            "65          -1.0       -1.0       -1.0  ...     0.0  2353.0     0.0    0.0   \n",
            "6233         2.0        0.0        0.0  ...     NaN     NaN     NaN    NaN   \n",
            "24124        0.0        0.0        0.0  ...     NaN     NaN     NaN    NaN   \n",
            "24366        0.0        0.0        0.0  ...     NaN     NaN     NaN    NaN   \n",
            "29734       -1.0       -1.0        0.0  ...     NaN     NaN     NaN    NaN   \n",
            "29735        2.0       -1.0        0.0  ...     NaN     NaN     NaN    NaN   \n",
            "29736        0.0        0.0        0.0  ...     NaN     NaN     NaN    NaN   \n",
            "29825        2.0        2.0        2.0  ...     NaN     NaN     NaN    NaN   \n",
            "29826        0.0        0.0        0.0  ...     NaN     NaN     NaN    NaN   \n",
            "\n",
            "       PAY_2  PAY_3   PAY_4  PAY_5   PAY_6    Y  \n",
            "ID                                               \n",
            "65       NaN    0.0  2353.0    0.0     0.0  0.0  \n",
            "6233     NaN    NaN     NaN    NaN     NaN  NaN  \n",
            "24124    NaN    NaN     NaN    NaN   360.0  0.0  \n",
            "24366    NaN    NaN     NaN    NaN   390.0  0.0  \n",
            "29734    NaN    NaN     NaN    NaN  3081.0  0.0  \n",
            "29735    NaN    NaN     NaN    NaN   237.0  1.0  \n",
            "29736    NaN    NaN     NaN    NaN   406.0  1.0  \n",
            "29825    NaN    NaN     NaN    NaN     NaN  NaN  \n",
            "29826    NaN    NaN     NaN    NaN     NaN  NaN  \n",
            "\n",
            "[9 rows x 24 columns]\n",
            "Mediana  2009.0\n",
            "Registros NO NULOS:  29991\n",
            "          AMT  SEX  EDUCATION  MARRIAGE   AGE  PAYSTAT_1  PAYSTAT_2  \\\n",
            "ID                                                                    \n",
            "6233    60000  2.0        2.0       2.0  29.0        2.0        2.0   \n",
            "24124   50000  1.0        1.0       2.0  29.0        0.0        0.0   \n",
            "24366  130000  2.0        1.0       1.0  35.0        0.0        0.0   \n",
            "29734  300000  1.0        2.0       1.0  37.0       -1.0       -1.0   \n",
            "29735  500000  1.0        2.0       1.0  49.0       -1.0       -1.0   \n",
            "29736   50000  1.0        3.0       1.0  40.0        2.0        0.0   \n",
            "29825   40000  1.0        1.0       1.0  47.0        2.0        2.0   \n",
            "29826   50000  1.0        2.0       1.0  41.0        0.0        0.0   \n",
            "\n",
            "       PAYSTAT_3  PAYSTAT_4  PAYSTAT_5  ...  BILL_4  BILL_5  BILL_6  PAY_1  \\\n",
            "ID                                      ...                                  \n",
            "6233         2.0        0.0        0.0  ...     NaN     NaN     NaN    NaN   \n",
            "24124        0.0        0.0        0.0  ...     NaN     NaN     NaN    NaN   \n",
            "24366        0.0        0.0        0.0  ...     NaN     NaN     NaN    NaN   \n",
            "29734       -1.0       -1.0        0.0  ...     NaN     NaN     NaN    NaN   \n",
            "29735        2.0       -1.0        0.0  ...     NaN     NaN     NaN    NaN   \n",
            "29736        0.0        0.0        0.0  ...     NaN     NaN     NaN    NaN   \n",
            "29825        2.0        2.0        2.0  ...     NaN     NaN     NaN    NaN   \n",
            "29826        0.0        0.0        0.0  ...     NaN     NaN     NaN    NaN   \n",
            "\n",
            "       PAY_2  PAY_3  PAY_4  PAY_5   PAY_6    Y  \n",
            "ID                                              \n",
            "6233     NaN    NaN    NaN    NaN     NaN  NaN  \n",
            "24124    NaN    NaN    NaN    NaN   360.0  0.0  \n",
            "24366    NaN    NaN    NaN    NaN   390.0  0.0  \n",
            "29734    NaN    NaN    NaN    NaN  3081.0  0.0  \n",
            "29735    NaN    NaN    NaN    NaN   237.0  1.0  \n",
            "29736    NaN    NaN    NaN    NaN   406.0  1.0  \n",
            "29825    NaN    NaN    NaN    NaN     NaN  NaN  \n",
            "29826    NaN    NaN    NaN    NaN     NaN  NaN  \n",
            "\n",
            "[8 rows x 24 columns]\n",
            "Mediana  1800.0\n",
            "Registros NO NULOS:  29992\n",
            "          AMT  SEX  EDUCATION  MARRIAGE   AGE  PAYSTAT_1  PAYSTAT_2  \\\n",
            "ID                                                                    \n",
            "161     30000  1.0        1.0       2.0  41.0        2.0        2.0   \n",
            "174     50000  2.0        1.0       2.0  24.0        1.0       -1.0   \n",
            "246     20000  2.0        2.0       2.0  40.0        0.0        0.0   \n",
            "6233    60000  2.0        2.0       2.0  29.0        2.0        2.0   \n",
            "24124   50000  1.0        1.0       2.0  29.0        0.0        0.0   \n",
            "24366  130000  2.0        1.0       1.0  35.0        0.0        0.0   \n",
            "29734  300000  1.0        2.0       1.0  37.0       -1.0       -1.0   \n",
            "29735  500000  1.0        2.0       1.0  49.0       -1.0       -1.0   \n",
            "29736   50000  1.0        3.0       1.0  40.0        2.0        0.0   \n",
            "29825   40000  1.0        1.0       1.0  47.0        2.0        2.0   \n",
            "29826   50000  1.0        2.0       1.0  41.0        0.0        0.0   \n",
            "\n",
            "       PAYSTAT_3  PAYSTAT_4  PAYSTAT_5  ...   BILL_4   BILL_5   BILL_6  \\\n",
            "ID                                      ...                              \n",
            "161          2.0        0.0        2.0  ...  28168.0  27579.0  28321.0   \n",
            "174         -1.0       -1.0       -1.0  ...   2898.0   3272.0   3272.0   \n",
            "246          0.0        0.0        0.0  ...  19575.0      0.0      0.0   \n",
            "6233         2.0        0.0        0.0  ...      NaN      NaN      NaN   \n",
            "24124        0.0        0.0        0.0  ...      NaN      NaN      NaN   \n",
            "24366        0.0        0.0        0.0  ...      NaN      NaN      NaN   \n",
            "29734       -1.0       -1.0        0.0  ...      NaN      NaN      NaN   \n",
            "29735        2.0       -1.0        0.0  ...      NaN      NaN      NaN   \n",
            "29736        0.0        0.0        0.0  ...      NaN      NaN      NaN   \n",
            "29825        2.0        2.0        2.0  ...      NaN      NaN      NaN   \n",
            "29826        0.0        0.0        0.0  ...      NaN      NaN      NaN   \n",
            "\n",
            "        PAY_1   PAY_2   PAY_3  PAY_4   PAY_5   PAY_6    Y  \n",
            "ID                                                         \n",
            "161    3500.0     0.0  2200.0    NaN  1200.0  1250.0  0.0  \n",
            "174       0.0     0.0     0.0    NaN     0.0     0.0  1.0  \n",
            "246    1601.0  2203.0  2114.0    NaN     NaN     0.0  0.0  \n",
            "6233      NaN     NaN     NaN    NaN     NaN     NaN  NaN  \n",
            "24124     NaN     NaN     NaN    NaN     NaN   360.0  0.0  \n",
            "24366     NaN     NaN     NaN    NaN     NaN   390.0  0.0  \n",
            "29734     NaN     NaN     NaN    NaN     NaN  3081.0  0.0  \n",
            "29735     NaN     NaN     NaN    NaN     NaN   237.0  1.0  \n",
            "29736     NaN     NaN     NaN    NaN     NaN   406.0  1.0  \n",
            "29825     NaN     NaN     NaN    NaN     NaN     NaN  NaN  \n",
            "29826     NaN     NaN     NaN    NaN     NaN     NaN  NaN  \n",
            "\n",
            "[11 rows x 24 columns]\n",
            "Mediana  1500.0\n",
            "Registros NO NULOS:  29989\n",
            "          AMT  SEX  EDUCATION  MARRIAGE   AGE  PAYSTAT_1  PAYSTAT_2  \\\n",
            "ID                                                                    \n",
            "246     20000  2.0        2.0       2.0  40.0        0.0        0.0   \n",
            "247    250000  2.0        2.0       1.0  75.0        0.0       -1.0   \n",
            "6233    60000  2.0        2.0       2.0  29.0        2.0        2.0   \n",
            "23944   20000  1.0        2.0       2.0  24.0        0.0        0.0   \n",
            "24124   50000  1.0        1.0       2.0  29.0        0.0        0.0   \n",
            "24366  130000  2.0        1.0       1.0  35.0        0.0        0.0   \n",
            "29734  300000  1.0        2.0       1.0  37.0       -1.0       -1.0   \n",
            "29735  500000  1.0        2.0       1.0  49.0       -1.0       -1.0   \n",
            "29736   50000  1.0        3.0       1.0  40.0        2.0        0.0   \n",
            "29825   40000  1.0        1.0       1.0  47.0        2.0        2.0   \n",
            "29826   50000  1.0        2.0       1.0  41.0        0.0        0.0   \n",
            "\n",
            "       PAYSTAT_3  PAYSTAT_4  PAYSTAT_5  ...   BILL_4   BILL_5   BILL_6  \\\n",
            "ID                                      ...                              \n",
            "246          0.0        0.0        0.0  ...  19575.0      0.0      0.0   \n",
            "247         -1.0       -1.0       -1.0  ...   1010.0   5572.0    794.0   \n",
            "6233         2.0        0.0        0.0  ...      NaN      NaN      NaN   \n",
            "23944        2.0        3.0        2.0  ...  17755.0  17967.0  17538.0   \n",
            "24124        0.0        0.0        0.0  ...      NaN      NaN      NaN   \n",
            "24366        0.0        0.0        0.0  ...      NaN      NaN      NaN   \n",
            "29734       -1.0       -1.0        0.0  ...      NaN      NaN      NaN   \n",
            "29735        2.0       -1.0        0.0  ...      NaN      NaN      NaN   \n",
            "29736        0.0        0.0        0.0  ...      NaN      NaN      NaN   \n",
            "29825        2.0        2.0        2.0  ...      NaN      NaN      NaN   \n",
            "29826        0.0        0.0        0.0  ...      NaN      NaN      NaN   \n",
            "\n",
            "        PAY_1   PAY_2   PAY_3   PAY_4  PAY_5   PAY_6    Y  \n",
            "ID                                                         \n",
            "246    1601.0  2203.0  2114.0     NaN    NaN     0.0  0.0  \n",
            "247    1631.0  1536.0  1010.0  5572.0    NaN     NaN  0.0  \n",
            "6233      NaN     NaN     NaN     NaN    NaN     NaN  NaN  \n",
            "23944  3200.0  2200.0     0.0   800.0    NaN  1401.0  0.0  \n",
            "24124     NaN     NaN     NaN     NaN    NaN   360.0  0.0  \n",
            "24366     NaN     NaN     NaN     NaN    NaN   390.0  0.0  \n",
            "29734     NaN     NaN     NaN     NaN    NaN  3081.0  0.0  \n",
            "29735     NaN     NaN     NaN     NaN    NaN   237.0  1.0  \n",
            "29736     NaN     NaN     NaN     NaN    NaN   406.0  1.0  \n",
            "29825     NaN     NaN     NaN     NaN    NaN     NaN  NaN  \n",
            "29826     NaN     NaN     NaN     NaN    NaN     NaN  NaN  \n",
            "\n",
            "[11 rows x 24 columns]\n",
            "Mediana  1500.0\n",
            "Registros NO NULOS:  29989\n",
            "          AMT  SEX  EDUCATION  MARRIAGE   AGE  PAYSTAT_1  PAYSTAT_2  \\\n",
            "ID                                                                    \n",
            "247    250000  2.0        2.0       1.0  75.0        0.0       -1.0   \n",
            "248    100000  2.0        2.0       2.0  27.0        0.0        0.0   \n",
            "6233    60000  2.0        2.0       2.0  29.0        2.0        2.0   \n",
            "29825   40000  1.0        1.0       1.0  47.0        2.0        2.0   \n",
            "29826   50000  1.0        2.0       1.0  41.0        0.0        0.0   \n",
            "\n",
            "       PAYSTAT_3  PAYSTAT_4  PAYSTAT_5  ...   BILL_4   BILL_5   BILL_6  \\\n",
            "ID                                      ...                              \n",
            "247         -1.0       -1.0       -1.0  ...   1010.0   5572.0    794.0   \n",
            "248          0.0        0.0        0.0  ...  30337.0  30997.0  32904.0   \n",
            "6233         2.0        0.0        0.0  ...      NaN      NaN      NaN   \n",
            "29825        2.0        2.0        2.0  ...      NaN      NaN      NaN   \n",
            "29826        0.0        0.0        0.0  ...      NaN      NaN      NaN   \n",
            "\n",
            "        PAY_1   PAY_2   PAY_3   PAY_4   PAY_5  PAY_6    Y  \n",
            "ID                                                         \n",
            "247    1631.0  1536.0  1010.0  5572.0     NaN    NaN  0.0  \n",
            "248    1788.0  1799.0  1100.0  1150.0  2423.0    NaN  0.0  \n",
            "6233      NaN     NaN     NaN     NaN     NaN    NaN  NaN  \n",
            "29825     NaN     NaN     NaN     NaN     NaN    NaN  NaN  \n",
            "29826     NaN     NaN     NaN     NaN     NaN    NaN  NaN  \n",
            "\n",
            "[5 rows x 24 columns]\n",
            "Mediana  1500.0\n",
            "Registros NO NULOS:  29995\n"
          ]
        }
      ]
    },
    {
      "cell_type": "code",
      "source": [
        "#imputamos la mediana a las casillas nulas de cada columna X12 a la X23\n",
        "keys=['BILL_1', 'BILL_2',\n",
        "       'BILL_3', 'BILL_4', 'BILL_5', 'BILL_6', 'PAY_1', 'PAY_2', 'PAY_3',\n",
        "       'PAY_4', 'PAY_5', 'PAY_6'] \n",
        "copiadf=df_clean\n",
        "for i in keys:\n",
        "  nulos = pd.isnull(copiadf[i])\n",
        "  mediana=(copiadf[i].median())\n",
        "  copiadf[i].fillna(mediana,inplace=True)"
      ],
      "metadata": {
        "id": "2FYobxiz4vhC"
      },
      "execution_count": 47,
      "outputs": []
    },
    {
      "cell_type": "code",
      "source": [
        "df_clean.info()"
      ],
      "metadata": {
        "id": "9ey5c65k5Ppz",
        "outputId": "dd317846-d6d2-4c75-fef8-f17ca83b0d45",
        "colab": {
          "base_uri": "https://localhost:8080/"
        }
      },
      "execution_count": 48,
      "outputs": [
        {
          "output_type": "stream",
          "name": "stdout",
          "text": [
            "<class 'pandas.core.frame.DataFrame'>\n",
            "Int64Index: 30000 entries, 1 to 30000\n",
            "Data columns (total 24 columns):\n",
            " #   Column     Non-Null Count  Dtype  \n",
            "---  ------     --------------  -----  \n",
            " 0   AMT        30000 non-null  int64  \n",
            " 1   SEX        30000 non-null  float64\n",
            " 2   EDUCATION  30000 non-null  float64\n",
            " 3   MARRIAGE   30000 non-null  float64\n",
            " 4   AGE        30000 non-null  float64\n",
            " 5   PAYSTAT_1  30000 non-null  float64\n",
            " 6   PAYSTAT_2  30000 non-null  float64\n",
            " 7   PAYSTAT_3  30000 non-null  float64\n",
            " 8   PAYSTAT_4  30000 non-null  float64\n",
            " 9   PAYSTAT_5  30000 non-null  float64\n",
            " 10  PAYSTAT_6  30000 non-null  float64\n",
            " 11  BILL_1     30000 non-null  float64\n",
            " 12  BILL_2     30000 non-null  float64\n",
            " 13  BILL_3     30000 non-null  float64\n",
            " 14  BILL_4     30000 non-null  float64\n",
            " 15  BILL_5     30000 non-null  float64\n",
            " 16  BILL_6     30000 non-null  float64\n",
            " 17  PAY_1      30000 non-null  float64\n",
            " 18  PAY_2      30000 non-null  float64\n",
            " 19  PAY_3      30000 non-null  float64\n",
            " 20  PAY_4      30000 non-null  float64\n",
            " 21  PAY_5      30000 non-null  float64\n",
            " 22  PAY_6      30000 non-null  float64\n",
            " 23  Y          29997 non-null  float64\n",
            "dtypes: float64(23), int64(1)\n",
            "memory usage: 6.7 MB\n"
          ]
        }
      ]
    },
    {
      "cell_type": "markdown",
      "source": [
        "Vemos como quedó el dataframe limpio de nulos en las variables de entrada y hay 3 datos nulos en la variable de salida Y.\n",
        "\n",
        "\"Y\" es la probabilidad del modelo. \n",
        "Dado que estos son datos faltantes no al azar , y como son pocos los datos nulos , 3 renglones , eliminaremos esas filas de los datos.\n"
      ],
      "metadata": {
        "id": "mDVfPMpUTusU"
      }
    },
    {
      "cell_type": "markdown",
      "source": [
        "Procederemos a eliminar esos 3 renglones con datos nulos en la variable de salida:"
      ],
      "metadata": {
        "id": "t1PcYta5OsJF"
      }
    },
    {
      "cell_type": "code",
      "source": [
        "df2 = df_clean.copy()\n",
        "df2.dropna(inplace = True)"
      ],
      "metadata": {
        "id": "Iw_wSbqAz3_N"
      },
      "execution_count": 49,
      "outputs": []
    },
    {
      "cell_type": "markdown",
      "source": [
        "Verificamos que efectivamente no existan valores nulos"
      ],
      "metadata": {
        "id": "GkRNITjx0MCb"
      }
    },
    {
      "cell_type": "code",
      "source": [
        "df2.info()"
      ],
      "metadata": {
        "id": "FxbbXQ4o0RQY",
        "outputId": "04086d6d-d3b7-47bf-fab5-3d019a082d7b",
        "colab": {
          "base_uri": "https://localhost:8080/"
        }
      },
      "execution_count": 50,
      "outputs": [
        {
          "output_type": "stream",
          "name": "stdout",
          "text": [
            "<class 'pandas.core.frame.DataFrame'>\n",
            "Int64Index: 29997 entries, 1 to 30000\n",
            "Data columns (total 24 columns):\n",
            " #   Column     Non-Null Count  Dtype  \n",
            "---  ------     --------------  -----  \n",
            " 0   AMT        29997 non-null  int64  \n",
            " 1   SEX        29997 non-null  float64\n",
            " 2   EDUCATION  29997 non-null  float64\n",
            " 3   MARRIAGE   29997 non-null  float64\n",
            " 4   AGE        29997 non-null  float64\n",
            " 5   PAYSTAT_1  29997 non-null  float64\n",
            " 6   PAYSTAT_2  29997 non-null  float64\n",
            " 7   PAYSTAT_3  29997 non-null  float64\n",
            " 8   PAYSTAT_4  29997 non-null  float64\n",
            " 9   PAYSTAT_5  29997 non-null  float64\n",
            " 10  PAYSTAT_6  29997 non-null  float64\n",
            " 11  BILL_1     29997 non-null  float64\n",
            " 12  BILL_2     29997 non-null  float64\n",
            " 13  BILL_3     29997 non-null  float64\n",
            " 14  BILL_4     29997 non-null  float64\n",
            " 15  BILL_5     29997 non-null  float64\n",
            " 16  BILL_6     29997 non-null  float64\n",
            " 17  PAY_1      29997 non-null  float64\n",
            " 18  PAY_2      29997 non-null  float64\n",
            " 19  PAY_3      29997 non-null  float64\n",
            " 20  PAY_4      29997 non-null  float64\n",
            " 21  PAY_5      29997 non-null  float64\n",
            " 22  PAY_6      29997 non-null  float64\n",
            " 23  Y          29997 non-null  float64\n",
            "dtypes: float64(23), int64(1)\n",
            "memory usage: 5.7 MB\n"
          ]
        }
      ]
    },
    {
      "cell_type": "markdown",
      "source": [
        "Y como resultado tenemos una nueva data frame de 29997 filas y 24 columnas donde no existe ningún valor nulo"
      ],
      "metadata": {
        "id": "-CaSM8iQ0Yhy"
      }
    },
    {
      "cell_type": "markdown",
      "source": [
        "#4.- Funcion describe()\n"
      ],
      "metadata": {
        "id": "_lPyslWWPoN9"
      }
    },
    {
      "cell_type": "code",
      "source": [
        "df2.describe()"
      ],
      "metadata": {
        "id": "GAaMg9OKPs6_",
        "outputId": "393e7235-99ec-4006-f096-5f533c361cf1",
        "colab": {
          "base_uri": "https://localhost:8080/",
          "height": 394
        }
      },
      "execution_count": 51,
      "outputs": [
        {
          "output_type": "execute_result",
          "data": {
            "text/plain": [
              "                  AMT           SEX     EDUCATION      MARRIAGE           AGE  \\\n",
              "count    29997.000000  29997.000000  29997.000000  29997.000000  29997.000000   \n",
              "mean    167496.072274      1.603794      1.840751      1.553689     35.483782   \n",
              "std     129748.803871      0.489116      0.743247      0.518326      9.217348   \n",
              "min      10000.000000      1.000000      1.000000      1.000000     21.000000   \n",
              "25%      50000.000000      1.000000      1.000000      1.000000     28.000000   \n",
              "50%     140000.000000      2.000000      2.000000      2.000000     34.000000   \n",
              "75%     240000.000000      2.000000      2.000000      2.000000     41.000000   \n",
              "max    1000000.000000      2.000000      4.000000      3.000000     79.000000   \n",
              "\n",
              "          PAYSTAT_1     PAYSTAT_2     PAYSTAT_3     PAYSTAT_4     PAYSTAT_5  \\\n",
              "count  29997.000000  29997.000000  29997.000000  29997.000000  29997.000000   \n",
              "mean       0.075208     -0.007734     -0.030336     -0.075874     -0.114745   \n",
              "std        0.990661      1.035672      1.023859      0.987239      0.941676   \n",
              "min       -1.000000     -1.000000     -1.000000     -1.000000     -1.000000   \n",
              "25%       -1.000000     -1.000000     -1.000000     -1.000000     -1.000000   \n",
              "50%        0.000000      0.000000      0.000000      0.000000      0.000000   \n",
              "75%        0.000000      0.000000      0.000000      0.000000      0.000000   \n",
              "max        8.000000      8.000000      8.000000      8.000000      8.000000   \n",
              "\n",
              "       ...         BILL_4         BILL_5         BILL_6          PAY_1  \\\n",
              "count  ...   29997.000000   29997.000000   29997.000000   29997.000000   \n",
              "mean   ...   43339.381571   40385.523986   39017.091976    5662.352002   \n",
              "std    ...   64285.015119   60750.283359   59462.986458   16562.848369   \n",
              "min    ...       0.000000       0.000000       0.000000       0.000000   \n",
              "25%    ...    2400.000000    1868.000000    1361.000000    1000.000000   \n",
              "50%    ...   19068.000000   18128.000000   17135.000000    2100.000000   \n",
              "75%    ...   54560.000000   50209.000000   49252.000000    5006.000000   \n",
              "max    ...  891586.000000  927171.000000  961664.000000  873552.000000   \n",
              "\n",
              "              PAY_2          PAY_3          PAY_4          PAY_5  \\\n",
              "count  2.999700e+04   29997.000000   29997.000000   29997.000000   \n",
              "mean   5.921706e+03    5225.052405    4826.365170    4799.417042   \n",
              "std    2.304194e+04   17607.010539   15666.756595   15278.899254   \n",
              "min    0.000000e+00       0.000000       0.000000       0.000000   \n",
              "25%    8.360000e+02     390.000000     298.000000     254.000000   \n",
              "50%    2.009000e+03    1800.000000    1500.000000    1500.000000   \n",
              "75%    5.000000e+03    4505.000000    4013.000000    4031.000000   \n",
              "max    1.684259e+06  896040.000000  621000.000000  426529.000000   \n",
              "\n",
              "               PAY_6             Y  \n",
              "count   29997.000000  29997.000000  \n",
              "mean     5216.012201      0.221189  \n",
              "std     17778.281538      0.415054  \n",
              "min         0.000000      0.000000  \n",
              "25%       118.000000      0.000000  \n",
              "50%      1500.000000      0.000000  \n",
              "75%      4000.000000      0.000000  \n",
              "max    528666.000000      1.000000  \n",
              "\n",
              "[8 rows x 24 columns]"
            ],
            "text/html": [
              "\n",
              "  <div id=\"df-b959356d-af61-47fd-a49c-1acac041e603\">\n",
              "    <div class=\"colab-df-container\">\n",
              "      <div>\n",
              "<style scoped>\n",
              "    .dataframe tbody tr th:only-of-type {\n",
              "        vertical-align: middle;\n",
              "    }\n",
              "\n",
              "    .dataframe tbody tr th {\n",
              "        vertical-align: top;\n",
              "    }\n",
              "\n",
              "    .dataframe thead th {\n",
              "        text-align: right;\n",
              "    }\n",
              "</style>\n",
              "<table border=\"1\" class=\"dataframe\">\n",
              "  <thead>\n",
              "    <tr style=\"text-align: right;\">\n",
              "      <th></th>\n",
              "      <th>AMT</th>\n",
              "      <th>SEX</th>\n",
              "      <th>EDUCATION</th>\n",
              "      <th>MARRIAGE</th>\n",
              "      <th>AGE</th>\n",
              "      <th>PAYSTAT_1</th>\n",
              "      <th>PAYSTAT_2</th>\n",
              "      <th>PAYSTAT_3</th>\n",
              "      <th>PAYSTAT_4</th>\n",
              "      <th>PAYSTAT_5</th>\n",
              "      <th>...</th>\n",
              "      <th>BILL_4</th>\n",
              "      <th>BILL_5</th>\n",
              "      <th>BILL_6</th>\n",
              "      <th>PAY_1</th>\n",
              "      <th>PAY_2</th>\n",
              "      <th>PAY_3</th>\n",
              "      <th>PAY_4</th>\n",
              "      <th>PAY_5</th>\n",
              "      <th>PAY_6</th>\n",
              "      <th>Y</th>\n",
              "    </tr>\n",
              "  </thead>\n",
              "  <tbody>\n",
              "    <tr>\n",
              "      <th>count</th>\n",
              "      <td>29997.000000</td>\n",
              "      <td>29997.000000</td>\n",
              "      <td>29997.000000</td>\n",
              "      <td>29997.000000</td>\n",
              "      <td>29997.000000</td>\n",
              "      <td>29997.000000</td>\n",
              "      <td>29997.000000</td>\n",
              "      <td>29997.000000</td>\n",
              "      <td>29997.000000</td>\n",
              "      <td>29997.000000</td>\n",
              "      <td>...</td>\n",
              "      <td>29997.000000</td>\n",
              "      <td>29997.000000</td>\n",
              "      <td>29997.000000</td>\n",
              "      <td>29997.000000</td>\n",
              "      <td>2.999700e+04</td>\n",
              "      <td>29997.000000</td>\n",
              "      <td>29997.000000</td>\n",
              "      <td>29997.000000</td>\n",
              "      <td>29997.000000</td>\n",
              "      <td>29997.000000</td>\n",
              "    </tr>\n",
              "    <tr>\n",
              "      <th>mean</th>\n",
              "      <td>167496.072274</td>\n",
              "      <td>1.603794</td>\n",
              "      <td>1.840751</td>\n",
              "      <td>1.553689</td>\n",
              "      <td>35.483782</td>\n",
              "      <td>0.075208</td>\n",
              "      <td>-0.007734</td>\n",
              "      <td>-0.030336</td>\n",
              "      <td>-0.075874</td>\n",
              "      <td>-0.114745</td>\n",
              "      <td>...</td>\n",
              "      <td>43339.381571</td>\n",
              "      <td>40385.523986</td>\n",
              "      <td>39017.091976</td>\n",
              "      <td>5662.352002</td>\n",
              "      <td>5.921706e+03</td>\n",
              "      <td>5225.052405</td>\n",
              "      <td>4826.365170</td>\n",
              "      <td>4799.417042</td>\n",
              "      <td>5216.012201</td>\n",
              "      <td>0.221189</td>\n",
              "    </tr>\n",
              "    <tr>\n",
              "      <th>std</th>\n",
              "      <td>129748.803871</td>\n",
              "      <td>0.489116</td>\n",
              "      <td>0.743247</td>\n",
              "      <td>0.518326</td>\n",
              "      <td>9.217348</td>\n",
              "      <td>0.990661</td>\n",
              "      <td>1.035672</td>\n",
              "      <td>1.023859</td>\n",
              "      <td>0.987239</td>\n",
              "      <td>0.941676</td>\n",
              "      <td>...</td>\n",
              "      <td>64285.015119</td>\n",
              "      <td>60750.283359</td>\n",
              "      <td>59462.986458</td>\n",
              "      <td>16562.848369</td>\n",
              "      <td>2.304194e+04</td>\n",
              "      <td>17607.010539</td>\n",
              "      <td>15666.756595</td>\n",
              "      <td>15278.899254</td>\n",
              "      <td>17778.281538</td>\n",
              "      <td>0.415054</td>\n",
              "    </tr>\n",
              "    <tr>\n",
              "      <th>min</th>\n",
              "      <td>10000.000000</td>\n",
              "      <td>1.000000</td>\n",
              "      <td>1.000000</td>\n",
              "      <td>1.000000</td>\n",
              "      <td>21.000000</td>\n",
              "      <td>-1.000000</td>\n",
              "      <td>-1.000000</td>\n",
              "      <td>-1.000000</td>\n",
              "      <td>-1.000000</td>\n",
              "      <td>-1.000000</td>\n",
              "      <td>...</td>\n",
              "      <td>0.000000</td>\n",
              "      <td>0.000000</td>\n",
              "      <td>0.000000</td>\n",
              "      <td>0.000000</td>\n",
              "      <td>0.000000e+00</td>\n",
              "      <td>0.000000</td>\n",
              "      <td>0.000000</td>\n",
              "      <td>0.000000</td>\n",
              "      <td>0.000000</td>\n",
              "      <td>0.000000</td>\n",
              "    </tr>\n",
              "    <tr>\n",
              "      <th>25%</th>\n",
              "      <td>50000.000000</td>\n",
              "      <td>1.000000</td>\n",
              "      <td>1.000000</td>\n",
              "      <td>1.000000</td>\n",
              "      <td>28.000000</td>\n",
              "      <td>-1.000000</td>\n",
              "      <td>-1.000000</td>\n",
              "      <td>-1.000000</td>\n",
              "      <td>-1.000000</td>\n",
              "      <td>-1.000000</td>\n",
              "      <td>...</td>\n",
              "      <td>2400.000000</td>\n",
              "      <td>1868.000000</td>\n",
              "      <td>1361.000000</td>\n",
              "      <td>1000.000000</td>\n",
              "      <td>8.360000e+02</td>\n",
              "      <td>390.000000</td>\n",
              "      <td>298.000000</td>\n",
              "      <td>254.000000</td>\n",
              "      <td>118.000000</td>\n",
              "      <td>0.000000</td>\n",
              "    </tr>\n",
              "    <tr>\n",
              "      <th>50%</th>\n",
              "      <td>140000.000000</td>\n",
              "      <td>2.000000</td>\n",
              "      <td>2.000000</td>\n",
              "      <td>2.000000</td>\n",
              "      <td>34.000000</td>\n",
              "      <td>0.000000</td>\n",
              "      <td>0.000000</td>\n",
              "      <td>0.000000</td>\n",
              "      <td>0.000000</td>\n",
              "      <td>0.000000</td>\n",
              "      <td>...</td>\n",
              "      <td>19068.000000</td>\n",
              "      <td>18128.000000</td>\n",
              "      <td>17135.000000</td>\n",
              "      <td>2100.000000</td>\n",
              "      <td>2.009000e+03</td>\n",
              "      <td>1800.000000</td>\n",
              "      <td>1500.000000</td>\n",
              "      <td>1500.000000</td>\n",
              "      <td>1500.000000</td>\n",
              "      <td>0.000000</td>\n",
              "    </tr>\n",
              "    <tr>\n",
              "      <th>75%</th>\n",
              "      <td>240000.000000</td>\n",
              "      <td>2.000000</td>\n",
              "      <td>2.000000</td>\n",
              "      <td>2.000000</td>\n",
              "      <td>41.000000</td>\n",
              "      <td>0.000000</td>\n",
              "      <td>0.000000</td>\n",
              "      <td>0.000000</td>\n",
              "      <td>0.000000</td>\n",
              "      <td>0.000000</td>\n",
              "      <td>...</td>\n",
              "      <td>54560.000000</td>\n",
              "      <td>50209.000000</td>\n",
              "      <td>49252.000000</td>\n",
              "      <td>5006.000000</td>\n",
              "      <td>5.000000e+03</td>\n",
              "      <td>4505.000000</td>\n",
              "      <td>4013.000000</td>\n",
              "      <td>4031.000000</td>\n",
              "      <td>4000.000000</td>\n",
              "      <td>0.000000</td>\n",
              "    </tr>\n",
              "    <tr>\n",
              "      <th>max</th>\n",
              "      <td>1000000.000000</td>\n",
              "      <td>2.000000</td>\n",
              "      <td>4.000000</td>\n",
              "      <td>3.000000</td>\n",
              "      <td>79.000000</td>\n",
              "      <td>8.000000</td>\n",
              "      <td>8.000000</td>\n",
              "      <td>8.000000</td>\n",
              "      <td>8.000000</td>\n",
              "      <td>8.000000</td>\n",
              "      <td>...</td>\n",
              "      <td>891586.000000</td>\n",
              "      <td>927171.000000</td>\n",
              "      <td>961664.000000</td>\n",
              "      <td>873552.000000</td>\n",
              "      <td>1.684259e+06</td>\n",
              "      <td>896040.000000</td>\n",
              "      <td>621000.000000</td>\n",
              "      <td>426529.000000</td>\n",
              "      <td>528666.000000</td>\n",
              "      <td>1.000000</td>\n",
              "    </tr>\n",
              "  </tbody>\n",
              "</table>\n",
              "<p>8 rows × 24 columns</p>\n",
              "</div>\n",
              "      <button class=\"colab-df-convert\" onclick=\"convertToInteractive('df-b959356d-af61-47fd-a49c-1acac041e603')\"\n",
              "              title=\"Convert this dataframe to an interactive table.\"\n",
              "              style=\"display:none;\">\n",
              "        \n",
              "  <svg xmlns=\"http://www.w3.org/2000/svg\" height=\"24px\"viewBox=\"0 0 24 24\"\n",
              "       width=\"24px\">\n",
              "    <path d=\"M0 0h24v24H0V0z\" fill=\"none\"/>\n",
              "    <path d=\"M18.56 5.44l.94 2.06.94-2.06 2.06-.94-2.06-.94-.94-2.06-.94 2.06-2.06.94zm-11 1L8.5 8.5l.94-2.06 2.06-.94-2.06-.94L8.5 2.5l-.94 2.06-2.06.94zm10 10l.94 2.06.94-2.06 2.06-.94-2.06-.94-.94-2.06-.94 2.06-2.06.94z\"/><path d=\"M17.41 7.96l-1.37-1.37c-.4-.4-.92-.59-1.43-.59-.52 0-1.04.2-1.43.59L10.3 9.45l-7.72 7.72c-.78.78-.78 2.05 0 2.83L4 21.41c.39.39.9.59 1.41.59.51 0 1.02-.2 1.41-.59l7.78-7.78 2.81-2.81c.8-.78.8-2.07 0-2.86zM5.41 20L4 18.59l7.72-7.72 1.47 1.35L5.41 20z\"/>\n",
              "  </svg>\n",
              "      </button>\n",
              "      \n",
              "  <style>\n",
              "    .colab-df-container {\n",
              "      display:flex;\n",
              "      flex-wrap:wrap;\n",
              "      gap: 12px;\n",
              "    }\n",
              "\n",
              "    .colab-df-convert {\n",
              "      background-color: #E8F0FE;\n",
              "      border: none;\n",
              "      border-radius: 50%;\n",
              "      cursor: pointer;\n",
              "      display: none;\n",
              "      fill: #1967D2;\n",
              "      height: 32px;\n",
              "      padding: 0 0 0 0;\n",
              "      width: 32px;\n",
              "    }\n",
              "\n",
              "    .colab-df-convert:hover {\n",
              "      background-color: #E2EBFA;\n",
              "      box-shadow: 0px 1px 2px rgba(60, 64, 67, 0.3), 0px 1px 3px 1px rgba(60, 64, 67, 0.15);\n",
              "      fill: #174EA6;\n",
              "    }\n",
              "\n",
              "    [theme=dark] .colab-df-convert {\n",
              "      background-color: #3B4455;\n",
              "      fill: #D2E3FC;\n",
              "    }\n",
              "\n",
              "    [theme=dark] .colab-df-convert:hover {\n",
              "      background-color: #434B5C;\n",
              "      box-shadow: 0px 1px 3px 1px rgba(0, 0, 0, 0.15);\n",
              "      filter: drop-shadow(0px 1px 2px rgba(0, 0, 0, 0.3));\n",
              "      fill: #FFFFFF;\n",
              "    }\n",
              "  </style>\n",
              "\n",
              "      <script>\n",
              "        const buttonEl =\n",
              "          document.querySelector('#df-b959356d-af61-47fd-a49c-1acac041e603 button.colab-df-convert');\n",
              "        buttonEl.style.display =\n",
              "          google.colab.kernel.accessAllowed ? 'block' : 'none';\n",
              "\n",
              "        async function convertToInteractive(key) {\n",
              "          const element = document.querySelector('#df-b959356d-af61-47fd-a49c-1acac041e603');\n",
              "          const dataTable =\n",
              "            await google.colab.kernel.invokeFunction('convertToInteractive',\n",
              "                                                     [key], {});\n",
              "          if (!dataTable) return;\n",
              "\n",
              "          const docLinkHtml = 'Like what you see? Visit the ' +\n",
              "            '<a target=\"_blank\" href=https://colab.research.google.com/notebooks/data_table.ipynb>data table notebook</a>'\n",
              "            + ' to learn more about interactive tables.';\n",
              "          element.innerHTML = '';\n",
              "          dataTable['output_type'] = 'display_data';\n",
              "          await google.colab.output.renderOutput(dataTable, element);\n",
              "          const docLink = document.createElement('div');\n",
              "          docLink.innerHTML = docLinkHtml;\n",
              "          element.appendChild(docLink);\n",
              "        }\n",
              "      </script>\n",
              "    </div>\n",
              "  </div>\n",
              "  "
            ]
          },
          "metadata": {},
          "execution_count": 51
        }
      ]
    },
    {
      "cell_type": "markdown",
      "source": [
        "Count: con entrega el numero de registros o renglones no nulos\n",
        "\n",
        "mean: es la promedio de la columna o feature.\n",
        "\n",
        "std: es la desviacion estandar de cada columna o feature.\n",
        "\n",
        "min : es el valor minimo cada columna o feature.\n",
        "\n",
        "25%  es el valor donde es el 25% percentil\n",
        "\n",
        "50% es el valor donde es el 50% percentil\n",
        "\n",
        "75%  es el valor donde es el  75% percentil\n",
        "\n",
        "max  es el valor maximo.\n",
        "\n",
        "AMT: \n",
        "tenemos promedio de 167,496.07 con una std de 129,748.8 lo cual es una gran dispersion, un minimo valor de 10,000 y un maximo 1,000,000 , el 75% por ciento de los datos tiene valore de 240,000 o menos, es decir hay un sesgo positivo en la distribucion de los datos.\n",
        "\n",
        "SEX:\n",
        "tenemos promedio de 1.603 con una std de 0.48 , un valor minimo de 1 y maximo de 2 lo cual es lo normal ya que son  hombre o mujer.\n",
        "\n",
        "\n",
        "EDUCATION con promedio de 1.84 y std de 0.74 , y valores minimo y maximo de 1 y 4 respectivamente, conforme se especifico.\n",
        "\n",
        "MARRIAGE con promedio de 1.55 y std de 0.518 , y valores minimo y maximo de 1 y 3 respectivamente.\n",
        " \n",
        "De PAYSTAT_1 A PAYSTAT_6 podemos observar los promedios de cada una en la tabla y vemos que los valores maximos y minimos son -1 a 8.\n",
        "\n",
        "De BILL_1 a BILL_6 de PAY_1 a PAY_6 podemos observar los promedio y los valores minimos y maximos muy variantes en la tabla. Veremos sus distribuciones con graficos."
      ],
      "metadata": {
        "id": "qLjy6xXnMhJ0"
      }
    },
    {
      "cell_type": "markdown",
      "source": [
        "#5. Realiza el conteo de las variables categoricas.\n",
        "\n",
        "##Estas son las siguientes:\n",
        "\n",
        "### ['SEX','EDUCATION','MARRIAGE','PAYSTAT_1','PAYSTAT_2','PAYSTAT_3','PAYSTAT_4','PAYSTAT_5','PAYSTAT_6']\n",
        "\n",
        "\n",
        "SEX: Gender (1 = male; 2 = female).\n",
        "\n",
        "EDUCATION: Education (1 = graduate school; 2 = university; 3 = high school; 4 = others).\n",
        "\n",
        "MARRIAGE: Marital status (1 = married; 2 = single; 3 = others).\n",
        "\n",
        "PAYSTAT_1 - PAYSTAT_6: History of past payment.\n",
        "\n",
        "PAYSTAT_1 = the repayment status in September, 2005;\n",
        "\n",
        "PAYSTAT_2= the repayment status in August, 2005; . . .;\n",
        "\n",
        "PAYSTAT_6 = the repayment status in April, 2005."
      ],
      "metadata": {
        "id": "dNOeh8Z0cDza"
      }
    },
    {
      "cell_type": "code",
      "source": [
        "df2.value_counts('SEX')"
      ],
      "metadata": {
        "id": "uhjjtnRfcDcc",
        "outputId": "bf4cfdcc-9fb7-4c17-c826-7e0f85c0ac79",
        "colab": {
          "base_uri": "https://localhost:8080/"
        }
      },
      "execution_count": 52,
      "outputs": [
        {
          "output_type": "execute_result",
          "data": {
            "text/plain": [
              "SEX\n",
              "2.0    18112\n",
              "1.0    11885\n",
              "dtype: int64"
            ]
          },
          "metadata": {},
          "execution_count": 52
        }
      ]
    },
    {
      "cell_type": "code",
      "source": [
        "df2.value_counts('EDUCATION')"
      ],
      "metadata": {
        "id": "K1y_0CuVcDY8",
        "outputId": "1bdb199e-69a6-4f30-e49e-dbdb7d9dbc41",
        "colab": {
          "base_uri": "https://localhost:8080/"
        }
      },
      "execution_count": 53,
      "outputs": [
        {
          "output_type": "execute_result",
          "data": {
            "text/plain": [
              "EDUCATION\n",
              "2.0    14028\n",
              "1.0    10600\n",
              "3.0     4915\n",
              "4.0      454\n",
              "dtype: int64"
            ]
          },
          "metadata": {},
          "execution_count": 53
        }
      ]
    },
    {
      "cell_type": "code",
      "source": [
        "df2.value_counts('MARRIAGE')"
      ],
      "metadata": {
        "id": "NT_rBbXZegV3",
        "outputId": "4d29dcc7-2bc2-4a54-d35b-becee3902165",
        "colab": {
          "base_uri": "https://localhost:8080/"
        }
      },
      "execution_count": 54,
      "outputs": [
        {
          "output_type": "execute_result",
          "data": {
            "text/plain": [
              "MARRIAGE\n",
              "2.0    15963\n",
              "1.0    13711\n",
              "3.0      323\n",
              "dtype: int64"
            ]
          },
          "metadata": {},
          "execution_count": 54
        }
      ]
    },
    {
      "cell_type": "code",
      "source": [
        "df2.value_counts('PAYSTAT_1')"
      ],
      "metadata": {
        "id": "v9NXiSz8gbKw",
        "outputId": "085a67a3-88c0-488c-b472-5deba88ae617",
        "colab": {
          "base_uri": "https://localhost:8080/"
        }
      },
      "execution_count": 55,
      "outputs": [
        {
          "output_type": "execute_result",
          "data": {
            "text/plain": [
              "PAYSTAT_1\n",
              " 0.0    14738\n",
              "-1.0     8443\n",
              " 1.0     3688\n",
              " 2.0     2665\n",
              " 3.0      322\n",
              " 4.0       76\n",
              " 5.0       26\n",
              " 8.0       19\n",
              " 6.0       11\n",
              " 7.0        9\n",
              "dtype: int64"
            ]
          },
          "metadata": {},
          "execution_count": 55
        }
      ]
    },
    {
      "cell_type": "code",
      "source": [
        "df2.value_counts('PAYSTAT_2')"
      ],
      "metadata": {
        "id": "WoeRx0d9gjlA",
        "outputId": "c7c7c0c1-e090-40a3-9084-f9163bfa0f7b",
        "colab": {
          "base_uri": "https://localhost:8080/"
        }
      },
      "execution_count": 56,
      "outputs": [
        {
          "output_type": "execute_result",
          "data": {
            "text/plain": [
              "PAYSTAT_2\n",
              " 0.0    15732\n",
              "-1.0     9829\n",
              " 2.0     3925\n",
              " 3.0      326\n",
              " 4.0       99\n",
              " 1.0       28\n",
              " 5.0       25\n",
              " 7.0       20\n",
              " 6.0       12\n",
              " 8.0        1\n",
              "dtype: int64"
            ]
          },
          "metadata": {},
          "execution_count": 56
        }
      ]
    },
    {
      "cell_type": "code",
      "source": [
        "df2.value_counts('PAYSTAT_3')"
      ],
      "metadata": {
        "id": "8Ulm_l6rgme3",
        "outputId": "b1c1e376-b1f5-455e-ec6a-744377b65048",
        "colab": {
          "base_uri": "https://localhost:8080/"
        }
      },
      "execution_count": 57,
      "outputs": [
        {
          "output_type": "execute_result",
          "data": {
            "text/plain": [
              "PAYSTAT_3\n",
              " 0.0    15767\n",
              "-1.0    10020\n",
              " 2.0     3817\n",
              " 3.0      240\n",
              " 4.0       76\n",
              " 7.0       27\n",
              " 6.0       23\n",
              " 5.0       21\n",
              " 1.0        4\n",
              " 8.0        2\n",
              "dtype: int64"
            ]
          },
          "metadata": {},
          "execution_count": 57
        }
      ]
    },
    {
      "cell_type": "code",
      "source": [
        "df2.value_counts('PAYSTAT_4')"
      ],
      "metadata": {
        "id": "XBRzF3blgp_-",
        "outputId": "6b884451-2a70-42b1-ee25-886d961c82ad",
        "colab": {
          "base_uri": "https://localhost:8080/"
        }
      },
      "execution_count": 58,
      "outputs": [
        {
          "output_type": "execute_result",
          "data": {
            "text/plain": [
              "PAYSTAT_4\n",
              " 0.0    16457\n",
              "-1.0    10033\n",
              " 2.0     3156\n",
              " 3.0      180\n",
              " 4.0       69\n",
              " 7.0       58\n",
              " 5.0       35\n",
              " 6.0        5\n",
              " 1.0        2\n",
              " 8.0        2\n",
              "dtype: int64"
            ]
          },
          "metadata": {},
          "execution_count": 58
        }
      ]
    },
    {
      "cell_type": "code",
      "source": [
        "df2.value_counts('PAYSTAT_5')"
      ],
      "metadata": {
        "id": "ZnRvgN8ZguSf",
        "outputId": "59672bef-5641-495f-8deb-ac1ab8015751",
        "colab": {
          "base_uri": "https://localhost:8080/"
        }
      },
      "execution_count": 59,
      "outputs": [
        {
          "output_type": "execute_result",
          "data": {
            "text/plain": [
              "PAYSTAT_5\n",
              " 0.0    16951\n",
              "-1.0    10081\n",
              " 2.0     2623\n",
              " 3.0      178\n",
              " 4.0       84\n",
              " 7.0       58\n",
              " 5.0       17\n",
              " 6.0        4\n",
              " 8.0        1\n",
              "dtype: int64"
            ]
          },
          "metadata": {},
          "execution_count": 59
        }
      ]
    },
    {
      "cell_type": "code",
      "source": [
        "df2.value_counts('PAYSTAT_6')"
      ],
      "metadata": {
        "id": "KAJdnybVgs2w",
        "outputId": "3e82ae70-ff2c-4924-9ce9-aefa561c125d",
        "colab": {
          "base_uri": "https://localhost:8080/"
        }
      },
      "execution_count": 60,
      "outputs": [
        {
          "output_type": "execute_result",
          "data": {
            "text/plain": [
              "PAYSTAT_6\n",
              " 0.0    16290\n",
              "-1.0    10630\n",
              " 2.0     2764\n",
              " 3.0      184\n",
              " 4.0       49\n",
              " 7.0       46\n",
              " 6.0       19\n",
              " 5.0       13\n",
              " 8.0        2\n",
              "dtype: int64"
            ]
          },
          "metadata": {},
          "execution_count": 60
        }
      ]
    },
    {
      "cell_type": "markdown",
      "source": [
        "##6.- Escala los datos, si consideras necesario\n",
        "\n",
        "##7.- Reduce las dimensiones con PCA, si consideras necesario.\n",
        "\n",
        "###7.1.- Indica la varianza de los datos explicada por cada componente seleccionado. Para actividades de exploración de los datos la varianza > 70%\n",
        "\n",
        "###7.2.-Indica la importancia de las variables en cada componente"
      ],
      "metadata": {
        "id": "tc5W-AKBiWYj"
      }
    },
    {
      "cell_type": "markdown",
      "source": [
        "Primeramente iniciamos separando los valores de entrada al modelo de los valores Y, y separando los valores que se usaran en el PCA ya que no aplica bien usarse con valores categóricos\n",
        "\n"
      ],
      "metadata": {
        "id": "XSZuDOMXitOd"
      }
    },
    {
      "cell_type": "code",
      "source": [
        "dfw = df2.copy()\n",
        "\n",
        "Y_values = dfw['Y']\n",
        "x_values = dfw.drop('Y',axis=1)\n",
        "x_pca = x_values.drop(['SEX','EDUCATION','MARRIAGE','PAYSTAT_1','PAYSTAT_2','PAYSTAT_3','PAYSTAT_4','PAYSTAT_5','PAYSTAT_6'],axis=1)\n",
        "x_pca.columns"
      ],
      "metadata": {
        "id": "POsxT7GRh-7o",
        "outputId": "3ae2aba0-5f90-4a23-e235-e582bee6429a",
        "colab": {
          "base_uri": "https://localhost:8080/"
        }
      },
      "execution_count": 61,
      "outputs": [
        {
          "output_type": "execute_result",
          "data": {
            "text/plain": [
              "Index(['AMT', 'AGE', 'BILL_1', 'BILL_2', 'BILL_3', 'BILL_4', 'BILL_5',\n",
              "       'BILL_6', 'PAY_1', 'PAY_2', 'PAY_3', 'PAY_4', 'PAY_5', 'PAY_6'],\n",
              "      dtype='object')"
            ]
          },
          "metadata": {},
          "execution_count": 61
        }
      ]
    },
    {
      "cell_type": "markdown",
      "source": [
        "Primero utilizamos el método de preprocessing.scale() para tener todas las columnas en una misma escala"
      ],
      "metadata": {
        "id": "hL3mdAc_jDAz"
      }
    },
    {
      "cell_type": "code",
      "source": [
        "prep_scale = preprocessing.scale(x_pca)"
      ],
      "metadata": {
        "id": "tsapiUekh-tg"
      },
      "execution_count": 62,
      "outputs": []
    },
    {
      "cell_type": "markdown",
      "source": [
        "###Ahora veamos el mapa de calor con las variables numericas ya escaladas"
      ],
      "metadata": {
        "id": "qfC5Jojhk1a6"
      }
    },
    {
      "cell_type": "code",
      "source": [
        "prep_scale_df =pd.DataFrame(prep_scale)\n",
        "prep_scale_df.columns =x_pca.columns"
      ],
      "metadata": {
        "id": "0bvhJRMtkgcY"
      },
      "execution_count": 63,
      "outputs": []
    },
    {
      "cell_type": "code",
      "source": [
        "corrs = prep_scale_df.corr()\n",
        "\n",
        "sns.set(rc = {'figure.figsize':(15,10)})\n",
        "sns.heatmap(corrs, vmin = -1, vmax = 1, cmap = \"BuGn\", annot= True, linewidths=0.5)"
      ],
      "metadata": {
        "id": "s4VvjCMkkq-D",
        "outputId": "af2ba173-620e-4bd4-9891-fb6c25276b2a",
        "colab": {
          "base_uri": "https://localhost:8080/",
          "height": 616
        }
      },
      "execution_count": 64,
      "outputs": [
        {
          "output_type": "execute_result",
          "data": {
            "text/plain": [
              "<matplotlib.axes._subplots.AxesSubplot at 0x7f21d225de50>"
            ]
          },
          "metadata": {},
          "execution_count": 64
        },
        {
          "output_type": "display_data",
          "data": {
            "text/plain": [
              "<Figure size 1080x720 with 2 Axes>"
            ],
            "image/png": "[encoded data removed]"
          },
          "metadata": {}
        }
      ]
    },
    {
      "cell_type": "markdown",
      "source": [
        "Seguido evaluamos la proporción covarianza entre cada variable"
      ],
      "metadata": {
        "id": "ZV_lORDjlD5p"
      }
    },
    {
      "cell_type": "code",
      "source": [
        "Variance = np.cov(prep_scale)\n",
        "Variance"
      ],
      "metadata": {
        "id": "_ct_v1RylDA0",
        "outputId": "677a2716-61ad-4fee-f772-12142035f6c0",
        "colab": {
          "base_uri": "https://localhost:8080/"
        }
      },
      "execution_count": 65,
      "outputs": [
        {
          "output_type": "execute_result",
          "data": {
            "text/plain": [
              "array([[ 0.09848279,  0.05870532,  0.02403993, ...,  0.05481865,\n",
              "         0.13464231, -0.04466356],\n",
              "       [ 0.05870532,  0.05997636,  0.01244619, ...,  0.02278058,\n",
              "         0.04635609, -0.07282591],\n",
              "       [ 0.02403993,  0.01244619,  0.02506401, ...,  0.04549382,\n",
              "         0.04644365,  0.02439614],\n",
              "       ...,\n",
              "       [ 0.05481865,  0.02278058,  0.04549382, ...,  0.21764039,\n",
              "         0.02582778,  0.06817331],\n",
              "       [ 0.13464231,  0.04635609,  0.04644365, ...,  0.02582778,\n",
              "         2.43975442,  0.04211191],\n",
              "       [-0.04466356, -0.07282591,  0.02439614, ...,  0.06817331,\n",
              "         0.04211191,  0.18433388]])"
            ]
          },
          "metadata": {},
          "execution_count": 65
        }
      ]
    },
    {
      "cell_type": "markdown",
      "source": [
        "Ahora veamos los datos de cada una"
      ],
      "metadata": {
        "id": "6sIhK028lsGZ"
      }
    },
    {
      "cell_type": "code",
      "source": [
        "total = 0\n",
        "for i in range(0,len(prep_scale[0])-1):\n",
        "  total = total + Variance[i][i]\n",
        "print('Total Variance \\t\\t\\t:', total.round(2))\n",
        "min_val = total\n",
        "minv_str = ''\n",
        "max_val = 0\n",
        "maxv_str = ''\n",
        "x_val = 0\n",
        "for i in range(0,len(prep_scale[0])-1):\n",
        "  x_val = ((Variance[i][i]/total)*100).round(2)\n",
        "  str_val = str(x_pca.columns[i])\n",
        "  if x_val > max_val:\n",
        "    max_val = x_val\n",
        "    maxv_str = x_pca.columns[i]\n",
        "  elif x_val < min_val:\n",
        "    min_val = x_val\n",
        "    minv_str = x_pca.columns[i]\n",
        "  print('Variance prop. of ' + str_val + ': ' + str(x_val) + '%' )\n",
        "\n",
        "print('Min value is: ' + str(min_val) + '% in ' + minv_str)\n",
        "print('Max value is: ' + str(max_val) + '% in ' + maxv_str)"
      ],
      "metadata": {
        "id": "FKKt-NK3ltGm",
        "outputId": "1e8b8620-3b63-4e8c-b3fa-58a045c011fa",
        "colab": {
          "base_uri": "https://localhost:8080/"
        }
      },
      "execution_count": 66,
      "outputs": [
        {
          "output_type": "stream",
          "name": "stdout",
          "text": [
            "Total Variance \t\t\t: 11.15\n",
            "Variance prop. of AMT: 0.88%\n",
            "Variance prop. of AGE: 0.54%\n",
            "Variance prop. of BILL_1: 0.22%\n",
            "Variance prop. of BILL_2: 0.52%\n",
            "Variance prop. of BILL_3: 6.54%\n",
            "Variance prop. of BILL_4: 0.74%\n",
            "Variance prop. of BILL_5: 72.25%\n",
            "Variance prop. of BILL_6: 0.86%\n",
            "Variance prop. of PAY_1: 0.33%\n",
            "Variance prop. of PAY_2: 1.32%\n",
            "Variance prop. of PAY_3: 0.61%\n",
            "Variance prop. of PAY_4: 4.68%\n",
            "Variance prop. of PAY_5: 10.53%\n",
            "Min value is: 0.22% in BILL_1\n",
            "Max value is: 72.25% in BILL_5\n"
          ]
        }
      ]
    },
    {
      "cell_type": "markdown",
      "source": [
        "### En resumen : la variable de la de mayor importancia es BILL_5 con un 72.25%, y la de menor importancia es BILL_1 con 0.22%\n",
        "\n"
      ],
      "metadata": {
        "id": "erqq_DSflCz5"
      }
    },
    {
      "cell_type": "markdown",
      "source": [
        "### Ahora utilizamos el método de PCA:\n"
      ],
      "metadata": {
        "id": "qmdzkTobm6pp"
      }
    },
    {
      "cell_type": "code",
      "source": [
        "pcs = PCA()\n",
        "pcs.fit(prep_scale) "
      ],
      "metadata": {
        "id": "HjkO_n0HnHCH",
        "outputId": "0f49cac9-4c4e-4ebc-d17d-d09a82a72da6",
        "colab": {
          "base_uri": "https://localhost:8080/"
        }
      },
      "execution_count": 67,
      "outputs": [
        {
          "output_type": "execute_result",
          "data": {
            "text/plain": [
              "PCA()"
            ]
          },
          "metadata": {},
          "execution_count": 67
        }
      ]
    },
    {
      "cell_type": "markdown",
      "source": [
        "###Ahora veamos la desviación estándar, la proporción de la variancia, y la proporción acumulativa en base los componentes principales:"
      ],
      "metadata": {
        "id": "ApTDnaS0oDoI"
      }
    },
    {
      "cell_type": "code",
      "source": [
        "pcsSummary_df = pd.DataFrame({'Standard deviation': np.sqrt(pcs.explained_variance_),\n",
        "                             'Proportion of variance': pcs.explained_variance_ratio_,\n",
        "                             'Cumulative proportion': np.cumsum(pcs.explained_variance_ratio_)\n",
        "                             })\n",
        "\n",
        "pcsSummary_df = pcsSummary_df.transpose()\n",
        "pcsSummary_df.columns = ['PC{}'.format(i) for i in range(1, len(pcsSummary_df.columns) + 1)]\n",
        "pcsSummary_df.round(4)"
      ],
      "metadata": {
        "id": "qafH51genUQP",
        "outputId": "e6b57168-012d-4743-d756-0f7fd4dc8bbe",
        "colab": {
          "base_uri": "https://localhost:8080/",
          "height": 143
        }
      },
      "execution_count": 68,
      "outputs": [
        {
          "output_type": "execute_result",
          "data": {
            "text/plain": [
              "                           PC1     PC2     PC3     PC4     PC5     PC6  \\\n",
              "Standard deviation      2.4350  1.3083  1.0223  0.9619  0.9383  0.9333   \n",
              "Proportion of variance  0.4235  0.1223  0.0746  0.0661  0.0629  0.0622   \n",
              "Cumulative proportion   0.4235  0.5458  0.6204  0.6865  0.7494  0.8116   \n",
              "\n",
              "                           PC7     PC8     PC9    PC10    PC11    PC12  \\\n",
              "Standard deviation      0.8820  0.8521  0.8412  0.5139  0.2680  0.2022   \n",
              "Proportion of variance  0.0556  0.0519  0.0505  0.0189  0.0051  0.0029   \n",
              "Cumulative proportion   0.8672  0.9190  0.9696  0.9884  0.9936  0.9965   \n",
              "\n",
              "                          PC13    PC14  \n",
              "Standard deviation      0.1605  0.1537  \n",
              "Proportion of variance  0.0018  0.0017  \n",
              "Cumulative proportion   0.9983  1.0000  "
            ],
            "text/html": [
              "\n",
              "  <div id=\"df-de288cb9-7c98-4475-86d1-e27d2c2fec12\">\n",
              "    <div class=\"colab-df-container\">\n",
              "      <div>\n",
              "<style scoped>\n",
              "    .dataframe tbody tr th:only-of-type {\n",
              "        vertical-align: middle;\n",
              "    }\n",
              "\n",
              "    .dataframe tbody tr th {\n",
              "        vertical-align: top;\n",
              "    }\n",
              "\n",
              "    .dataframe thead th {\n",
              "        text-align: right;\n",
              "    }\n",
              "</style>\n",
              "<table border=\"1\" class=\"dataframe\">\n",
              "  <thead>\n",
              "    <tr style=\"text-align: right;\">\n",
              "      <th></th>\n",
              "      <th>PC1</th>\n",
              "      <th>PC2</th>\n",
              "      <th>PC3</th>\n",
              "      <th>PC4</th>\n",
              "      <th>PC5</th>\n",
              "      <th>PC6</th>\n",
              "      <th>PC7</th>\n",
              "      <th>PC8</th>\n",
              "      <th>PC9</th>\n",
              "      <th>PC10</th>\n",
              "      <th>PC11</th>\n",
              "      <th>PC12</th>\n",
              "      <th>PC13</th>\n",
              "      <th>PC14</th>\n",
              "    </tr>\n",
              "  </thead>\n",
              "  <tbody>\n",
              "    <tr>\n",
              "      <th>Standard deviation</th>\n",
              "      <td>2.4350</td>\n",
              "      <td>1.3083</td>\n",
              "      <td>1.0223</td>\n",
              "      <td>0.9619</td>\n",
              "      <td>0.9383</td>\n",
              "      <td>0.9333</td>\n",
              "      <td>0.8820</td>\n",
              "      <td>0.8521</td>\n",
              "      <td>0.8412</td>\n",
              "      <td>0.5139</td>\n",
              "      <td>0.2680</td>\n",
              "      <td>0.2022</td>\n",
              "      <td>0.1605</td>\n",
              "      <td>0.1537</td>\n",
              "    </tr>\n",
              "    <tr>\n",
              "      <th>Proportion of variance</th>\n",
              "      <td>0.4235</td>\n",
              "      <td>0.1223</td>\n",
              "      <td>0.0746</td>\n",
              "      <td>0.0661</td>\n",
              "      <td>0.0629</td>\n",
              "      <td>0.0622</td>\n",
              "      <td>0.0556</td>\n",
              "      <td>0.0519</td>\n",
              "      <td>0.0505</td>\n",
              "      <td>0.0189</td>\n",
              "      <td>0.0051</td>\n",
              "      <td>0.0029</td>\n",
              "      <td>0.0018</td>\n",
              "      <td>0.0017</td>\n",
              "    </tr>\n",
              "    <tr>\n",
              "      <th>Cumulative proportion</th>\n",
              "      <td>0.4235</td>\n",
              "      <td>0.5458</td>\n",
              "      <td>0.6204</td>\n",
              "      <td>0.6865</td>\n",
              "      <td>0.7494</td>\n",
              "      <td>0.8116</td>\n",
              "      <td>0.8672</td>\n",
              "      <td>0.9190</td>\n",
              "      <td>0.9696</td>\n",
              "      <td>0.9884</td>\n",
              "      <td>0.9936</td>\n",
              "      <td>0.9965</td>\n",
              "      <td>0.9983</td>\n",
              "      <td>1.0000</td>\n",
              "    </tr>\n",
              "  </tbody>\n",
              "</table>\n",
              "</div>\n",
              "      <button class=\"colab-df-convert\" onclick=\"convertToInteractive('df-de288cb9-7c98-4475-86d1-e27d2c2fec12')\"\n",
              "              title=\"Convert this dataframe to an interactive table.\"\n",
              "              style=\"display:none;\">\n",
              "        \n",
              "  <svg xmlns=\"http://www.w3.org/2000/svg\" height=\"24px\"viewBox=\"0 0 24 24\"\n",
              "       width=\"24px\">\n",
              "    <path d=\"M0 0h24v24H0V0z\" fill=\"none\"/>\n",
              "    <path d=\"M18.56 5.44l.94 2.06.94-2.06 2.06-.94-2.06-.94-.94-2.06-.94 2.06-2.06.94zm-11 1L8.5 8.5l.94-2.06 2.06-.94-2.06-.94L8.5 2.5l-.94 2.06-2.06.94zm10 10l.94 2.06.94-2.06 2.06-.94-2.06-.94-.94-2.06-.94 2.06-2.06.94z\"/><path d=\"M17.41 7.96l-1.37-1.37c-.4-.4-.92-.59-1.43-.59-.52 0-1.04.2-1.43.59L10.3 9.45l-7.72 7.72c-.78.78-.78 2.05 0 2.83L4 21.41c.39.39.9.59 1.41.59.51 0 1.02-.2 1.41-.59l7.78-7.78 2.81-2.81c.8-.78.8-2.07 0-2.86zM5.41 20L4 18.59l7.72-7.72 1.47 1.35L5.41 20z\"/>\n",
              "  </svg>\n",
              "      </button>\n",
              "      \n",
              "  <style>\n",
              "    .colab-df-container {\n",
              "      display:flex;\n",
              "      flex-wrap:wrap;\n",
              "      gap: 12px;\n",
              "    }\n",
              "\n",
              "    .colab-df-convert {\n",
              "      background-color: #E8F0FE;\n",
              "      border: none;\n",
              "      border-radius: 50%;\n",
              "      cursor: pointer;\n",
              "      display: none;\n",
              "      fill: #1967D2;\n",
              "      height: 32px;\n",
              "      padding: 0 0 0 0;\n",
              "      width: 32px;\n",
              "    }\n",
              "\n",
              "    .colab-df-convert:hover {\n",
              "      background-color: #E2EBFA;\n",
              "      box-shadow: 0px 1px 2px rgba(60, 64, 67, 0.3), 0px 1px 3px 1px rgba(60, 64, 67, 0.15);\n",
              "      fill: #174EA6;\n",
              "    }\n",
              "\n",
              "    [theme=dark] .colab-df-convert {\n",
              "      background-color: #3B4455;\n",
              "      fill: #D2E3FC;\n",
              "    }\n",
              "\n",
              "    [theme=dark] .colab-df-convert:hover {\n",
              "      background-color: #434B5C;\n",
              "      box-shadow: 0px 1px 3px 1px rgba(0, 0, 0, 0.15);\n",
              "      filter: drop-shadow(0px 1px 2px rgba(0, 0, 0, 0.3));\n",
              "      fill: #FFFFFF;\n",
              "    }\n",
              "  </style>\n",
              "\n",
              "      <script>\n",
              "        const buttonEl =\n",
              "          document.querySelector('#df-de288cb9-7c98-4475-86d1-e27d2c2fec12 button.colab-df-convert');\n",
              "        buttonEl.style.display =\n",
              "          google.colab.kernel.accessAllowed ? 'block' : 'none';\n",
              "\n",
              "        async function convertToInteractive(key) {\n",
              "          const element = document.querySelector('#df-de288cb9-7c98-4475-86d1-e27d2c2fec12');\n",
              "          const dataTable =\n",
              "            await google.colab.kernel.invokeFunction('convertToInteractive',\n",
              "                                                     [key], {});\n",
              "          if (!dataTable) return;\n",
              "\n",
              "          const docLinkHtml = 'Like what you see? Visit the ' +\n",
              "            '<a target=\"_blank\" href=https://colab.research.google.com/notebooks/data_table.ipynb>data table notebook</a>'\n",
              "            + ' to learn more about interactive tables.';\n",
              "          element.innerHTML = '';\n",
              "          dataTable['output_type'] = 'display_data';\n",
              "          await google.colab.output.renderOutput(dataTable, element);\n",
              "          const docLink = document.createElement('div');\n",
              "          docLink.innerHTML = docLinkHtml;\n",
              "          element.appendChild(docLink);\n",
              "        }\n",
              "      </script>\n",
              "    </div>\n",
              "  </div>\n",
              "  "
            ]
          },
          "metadata": {},
          "execution_count": 68
        }
      ]
    },
    {
      "cell_type": "markdown",
      "source": [
        "Vemos que en base a la proporción cumulativa cuantos componentes principales son necesarios para llegar a una variabilidad arriba al 70-80% y esto es igual al 74.94% hasta el componente PC5:"
      ],
      "metadata": {
        "id": "DrqoRNE1nzQS"
      }
    },
    {
      "cell_type": "code",
      "source": [
        "pcsSummary_df.iloc[2,4].round(4)*100"
      ],
      "metadata": {
        "id": "By8nNTjGnUNd",
        "outputId": "5ad6dfb4-c30b-4ecf-ca89-cb77b37e4465",
        "colab": {
          "base_uri": "https://localhost:8080/"
        }
      },
      "execution_count": 69,
      "outputs": [
        {
          "output_type": "execute_result",
          "data": {
            "text/plain": [
              "74.94"
            ]
          },
          "metadata": {},
          "execution_count": 69
        }
      ]
    },
    {
      "cell_type": "markdown",
      "source": [
        "Quedando un 18.84% de los componentes PC6 al PC14"
      ],
      "metadata": {
        "id": "6GxFt75ZoY6O"
      }
    },
    {
      "cell_type": "code",
      "source": [
        "(1 - pcsSummary_df.iloc[2,4]).round(4)*100"
      ],
      "metadata": {
        "id": "SikxQleRnULB",
        "outputId": "16e43925-247b-4d03-f262-7ae4c9ba3561",
        "colab": {
          "base_uri": "https://localhost:8080/"
        }
      },
      "execution_count": 70,
      "outputs": [
        {
          "output_type": "execute_result",
          "data": {
            "text/plain": [
              "25.06"
            ]
          },
          "metadata": {},
          "execution_count": 70
        }
      ]
    },
    {
      "cell_type": "markdown",
      "source": [
        "### Enseguida veamos el Scree Plot:"
      ],
      "metadata": {
        "id": "ZyX481ngoxxO"
      }
    },
    {
      "cell_type": "code",
      "source": [
        "PC_components = np.arange(pcs.n_components_) + 1\n",
        "#PC_components\n",
        "\n",
        "_ = sns.set(style = 'whitegrid', \n",
        "            font_scale = 1.2\n",
        "            )\n",
        "\n",
        "fig, ax = plt.subplots(figsize=(20, 10))\n",
        "\n",
        "_ = sns.barplot(x = PC_components, \n",
        "                y = pcs.explained_variance_ratio_, \n",
        "                color = 'b'\n",
        "                )\n",
        "\n",
        "_ = sns.lineplot(x = PC_components-1, \n",
        "                 y = np.cumsum(pcs.explained_variance_ratio_), \n",
        "                 color = 'black', \n",
        "                 linestyle = '-', \n",
        "                 linewidth = 2, \n",
        "                 marker = 'o', \n",
        "                 markersize = 8\n",
        "                 )\n",
        "\n",
        "plt.title('Scree Plot')\n",
        "plt.xlabel('N-th Principal Component')\n",
        "plt.ylabel('Variance Explained')\n",
        "plt.ylim(0, 1)\n",
        "plt.show()"
      ],
      "metadata": {
        "id": "q2HaGiNvoqnp",
        "outputId": "95b79a7d-5e4f-434b-ea27-9aff6fc1d677",
        "colab": {
          "base_uri": "https://localhost:8080/",
          "height": 632
        }
      },
      "execution_count": 71,
      "outputs": [
        {
          "output_type": "display_data",
          "data": {
            "text/plain": [
              "<Figure size 1440x720 with 1 Axes>"
            ],
            "image/png": "[encoded data removed]"
          },
          "metadata": {}
        }
      ]
    },
    {
      "cell_type": "markdown",
      "source": [
        "*   El primer componente principal abarca únicamente un 42.35% de la variabilidad\n",
        "*   Es necesario abarcar hasta PC6 para llegar a un 81.16% de variabilidad\n",
        "*   Reducir el número de variables a menos de 5 significaría una pérdida de variabilidad considerable aprox del 31.35%\n",
        "*   Existe una pérdida de variación del 25.06% incluyendo 5 componentes principales\n",
        "\n"
      ],
      "metadata": {
        "id": "4FPDm4d-o9Jy"
      }
    },
    {
      "cell_type": "markdown",
      "source": [
        "### El número **mínimo de componentes principales** para el modelo son **5** (para tener al menos 70%)"
      ],
      "metadata": {
        "id": "gSNVsu-QptJp"
      }
    },
    {
      "cell_type": "markdown",
      "source": [
        "### Intepretemos los componentes principales en base alas variables originales, usando el método de .transpose() para acomodar los componentes principales en las columnas, contra los nombres de las columnas de la base de datos original y ver el impacto de cada uno."
      ],
      "metadata": {
        "id": "meyvGC6wqPO0"
      }
    },
    {
      "cell_type": "code",
      "source": [
        "pcsComponents_df = pd.DataFrame(pcs.components_.transpose(), \n",
        "                                columns=pcsSummary_df.columns,\n",
        "                                index=x_pca.columns\n",
        "                                )\n",
        "pcsComponents_df.iloc[:,:5]"
      ],
      "metadata": {
        "id": "5enqnw12nUJo",
        "outputId": "eacdaee8-4c55-47e8-f737-d9619184e491",
        "colab": {
          "base_uri": "https://localhost:8080/",
          "height": 488
        }
      },
      "execution_count": 72,
      "outputs": [
        {
          "output_type": "execute_result",
          "data": {
            "text/plain": [
              "             PC1       PC2       PC3       PC4       PC5\n",
              "AMT     0.165529  0.300661 -0.378415 -0.199345 -0.024800\n",
              "AGE     0.032734  0.071987 -0.870440  0.335521  0.028277\n",
              "BILL_1  0.372373 -0.191242 -0.032498 -0.058676 -0.035700\n",
              "BILL_2  0.382983 -0.175872 -0.001271  0.010324 -0.078062\n",
              "BILL_3  0.388063 -0.127835  0.034720  0.063193 -0.124188\n",
              "BILL_4  0.391464 -0.120511  0.033677  0.074012 -0.022010\n",
              "BILL_5  0.388207 -0.107126  0.033011  0.036893  0.120896\n",
              "BILL_6  0.380657 -0.092993  0.016897 -0.077381  0.143620\n",
              "PAY_1   0.135578  0.382611  0.172536  0.362357 -0.233257\n",
              "PAY_2   0.117018  0.408542  0.199775  0.347381 -0.204056\n",
              "PAY_3   0.128372  0.392587  0.121715  0.244395  0.255059\n",
              "PAY_4   0.117566  0.349137  0.062888 -0.092613  0.642869\n",
              "PAY_5   0.114051  0.304365 -0.060089 -0.610281  0.107047\n",
              "PAY_6   0.106611  0.322444 -0.048011 -0.366869 -0.595168"
            ],
            "text/html": [
              "\n",
              "  <div id=\"df-52da8956-974a-4ad0-995e-117531cfd1a8\">\n",
              "    <div class=\"colab-df-container\">\n",
              "      <div>\n",
              "<style scoped>\n",
              "    .dataframe tbody tr th:only-of-type {\n",
              "        vertical-align: middle;\n",
              "    }\n",
              "\n",
              "    .dataframe tbody tr th {\n",
              "        vertical-align: top;\n",
              "    }\n",
              "\n",
              "    .dataframe thead th {\n",
              "        text-align: right;\n",
              "    }\n",
              "</style>\n",
              "<table border=\"1\" class=\"dataframe\">\n",
              "  <thead>\n",
              "    <tr style=\"text-align: right;\">\n",
              "      <th></th>\n",
              "      <th>PC1</th>\n",
              "      <th>PC2</th>\n",
              "      <th>PC3</th>\n",
              "      <th>PC4</th>\n",
              "      <th>PC5</th>\n",
              "    </tr>\n",
              "  </thead>\n",
              "  <tbody>\n",
              "    <tr>\n",
              "      <th>AMT</th>\n",
              "      <td>0.165529</td>\n",
              "      <td>0.300661</td>\n",
              "      <td>-0.378415</td>\n",
              "      <td>-0.199345</td>\n",
              "      <td>-0.024800</td>\n",
              "    </tr>\n",
              "    <tr>\n",
              "      <th>AGE</th>\n",
              "      <td>0.032734</td>\n",
              "      <td>0.071987</td>\n",
              "      <td>-0.870440</td>\n",
              "      <td>0.335521</td>\n",
              "      <td>0.028277</td>\n",
              "    </tr>\n",
              "    <tr>\n",
              "      <th>BILL_1</th>\n",
              "      <td>0.372373</td>\n",
              "      <td>-0.191242</td>\n",
              "      <td>-0.032498</td>\n",
              "      <td>-0.058676</td>\n",
              "      <td>-0.035700</td>\n",
              "    </tr>\n",
              "    <tr>\n",
              "      <th>BILL_2</th>\n",
              "      <td>0.382983</td>\n",
              "      <td>-0.175872</td>\n",
              "      <td>-0.001271</td>\n",
              "      <td>0.010324</td>\n",
              "      <td>-0.078062</td>\n",
              "    </tr>\n",
              "    <tr>\n",
              "      <th>BILL_3</th>\n",
              "      <td>0.388063</td>\n",
              "      <td>-0.127835</td>\n",
              "      <td>0.034720</td>\n",
              "      <td>0.063193</td>\n",
              "      <td>-0.124188</td>\n",
              "    </tr>\n",
              "    <tr>\n",
              "      <th>BILL_4</th>\n",
              "      <td>0.391464</td>\n",
              "      <td>-0.120511</td>\n",
              "      <td>0.033677</td>\n",
              "      <td>0.074012</td>\n",
              "      <td>-0.022010</td>\n",
              "    </tr>\n",
              "    <tr>\n",
              "      <th>BILL_5</th>\n",
              "      <td>0.388207</td>\n",
              "      <td>-0.107126</td>\n",
              "      <td>0.033011</td>\n",
              "      <td>0.036893</td>\n",
              "      <td>0.120896</td>\n",
              "    </tr>\n",
              "    <tr>\n",
              "      <th>BILL_6</th>\n",
              "      <td>0.380657</td>\n",
              "      <td>-0.092993</td>\n",
              "      <td>0.016897</td>\n",
              "      <td>-0.077381</td>\n",
              "      <td>0.143620</td>\n",
              "    </tr>\n",
              "    <tr>\n",
              "      <th>PAY_1</th>\n",
              "      <td>0.135578</td>\n",
              "      <td>0.382611</td>\n",
              "      <td>0.172536</td>\n",
              "      <td>0.362357</td>\n",
              "      <td>-0.233257</td>\n",
              "    </tr>\n",
              "    <tr>\n",
              "      <th>PAY_2</th>\n",
              "      <td>0.117018</td>\n",
              "      <td>0.408542</td>\n",
              "      <td>0.199775</td>\n",
              "      <td>0.347381</td>\n",
              "      <td>-0.204056</td>\n",
              "    </tr>\n",
              "    <tr>\n",
              "      <th>PAY_3</th>\n",
              "      <td>0.128372</td>\n",
              "      <td>0.392587</td>\n",
              "      <td>0.121715</td>\n",
              "      <td>0.244395</td>\n",
              "      <td>0.255059</td>\n",
              "    </tr>\n",
              "    <tr>\n",
              "      <th>PAY_4</th>\n",
              "      <td>0.117566</td>\n",
              "      <td>0.349137</td>\n",
              "      <td>0.062888</td>\n",
              "      <td>-0.092613</td>\n",
              "      <td>0.642869</td>\n",
              "    </tr>\n",
              "    <tr>\n",
              "      <th>PAY_5</th>\n",
              "      <td>0.114051</td>\n",
              "      <td>0.304365</td>\n",
              "      <td>-0.060089</td>\n",
              "      <td>-0.610281</td>\n",
              "      <td>0.107047</td>\n",
              "    </tr>\n",
              "    <tr>\n",
              "      <th>PAY_6</th>\n",
              "      <td>0.106611</td>\n",
              "      <td>0.322444</td>\n",
              "      <td>-0.048011</td>\n",
              "      <td>-0.366869</td>\n",
              "      <td>-0.595168</td>\n",
              "    </tr>\n",
              "  </tbody>\n",
              "</table>\n",
              "</div>\n",
              "      <button class=\"colab-df-convert\" onclick=\"convertToInteractive('df-52da8956-974a-4ad0-995e-117531cfd1a8')\"\n",
              "              title=\"Convert this dataframe to an interactive table.\"\n",
              "              style=\"display:none;\">\n",
              "        \n",
              "  <svg xmlns=\"http://www.w3.org/2000/svg\" height=\"24px\"viewBox=\"0 0 24 24\"\n",
              "       width=\"24px\">\n",
              "    <path d=\"M0 0h24v24H0V0z\" fill=\"none\"/>\n",
              "    <path d=\"M18.56 5.44l.94 2.06.94-2.06 2.06-.94-2.06-.94-.94-2.06-.94 2.06-2.06.94zm-11 1L8.5 8.5l.94-2.06 2.06-.94-2.06-.94L8.5 2.5l-.94 2.06-2.06.94zm10 10l.94 2.06.94-2.06 2.06-.94-2.06-.94-.94-2.06-.94 2.06-2.06.94z\"/><path d=\"M17.41 7.96l-1.37-1.37c-.4-.4-.92-.59-1.43-.59-.52 0-1.04.2-1.43.59L10.3 9.45l-7.72 7.72c-.78.78-.78 2.05 0 2.83L4 21.41c.39.39.9.59 1.41.59.51 0 1.02-.2 1.41-.59l7.78-7.78 2.81-2.81c.8-.78.8-2.07 0-2.86zM5.41 20L4 18.59l7.72-7.72 1.47 1.35L5.41 20z\"/>\n",
              "  </svg>\n",
              "      </button>\n",
              "      \n",
              "  <style>\n",
              "    .colab-df-container {\n",
              "      display:flex;\n",
              "      flex-wrap:wrap;\n",
              "      gap: 12px;\n",
              "    }\n",
              "\n",
              "    .colab-df-convert {\n",
              "      background-color: #E8F0FE;\n",
              "      border: none;\n",
              "      border-radius: 50%;\n",
              "      cursor: pointer;\n",
              "      display: none;\n",
              "      fill: #1967D2;\n",
              "      height: 32px;\n",
              "      padding: 0 0 0 0;\n",
              "      width: 32px;\n",
              "    }\n",
              "\n",
              "    .colab-df-convert:hover {\n",
              "      background-color: #E2EBFA;\n",
              "      box-shadow: 0px 1px 2px rgba(60, 64, 67, 0.3), 0px 1px 3px 1px rgba(60, 64, 67, 0.15);\n",
              "      fill: #174EA6;\n",
              "    }\n",
              "\n",
              "    [theme=dark] .colab-df-convert {\n",
              "      background-color: #3B4455;\n",
              "      fill: #D2E3FC;\n",
              "    }\n",
              "\n",
              "    [theme=dark] .colab-df-convert:hover {\n",
              "      background-color: #434B5C;\n",
              "      box-shadow: 0px 1px 3px 1px rgba(0, 0, 0, 0.15);\n",
              "      filter: drop-shadow(0px 1px 2px rgba(0, 0, 0, 0.3));\n",
              "      fill: #FFFFFF;\n",
              "    }\n",
              "  </style>\n",
              "\n",
              "      <script>\n",
              "        const buttonEl =\n",
              "          document.querySelector('#df-52da8956-974a-4ad0-995e-117531cfd1a8 button.colab-df-convert');\n",
              "        buttonEl.style.display =\n",
              "          google.colab.kernel.accessAllowed ? 'block' : 'none';\n",
              "\n",
              "        async function convertToInteractive(key) {\n",
              "          const element = document.querySelector('#df-52da8956-974a-4ad0-995e-117531cfd1a8');\n",
              "          const dataTable =\n",
              "            await google.colab.kernel.invokeFunction('convertToInteractive',\n",
              "                                                     [key], {});\n",
              "          if (!dataTable) return;\n",
              "\n",
              "          const docLinkHtml = 'Like what you see? Visit the ' +\n",
              "            '<a target=\"_blank\" href=https://colab.research.google.com/notebooks/data_table.ipynb>data table notebook</a>'\n",
              "            + ' to learn more about interactive tables.';\n",
              "          element.innerHTML = '';\n",
              "          dataTable['output_type'] = 'display_data';\n",
              "          await google.colab.output.renderOutput(dataTable, element);\n",
              "          const docLink = document.createElement('div');\n",
              "          docLink.innerHTML = docLinkHtml;\n",
              "          element.appendChild(docLink);\n",
              "        }\n",
              "      </script>\n",
              "    </div>\n",
              "  </div>\n",
              "  "
            ]
          },
          "metadata": {},
          "execution_count": 72
        }
      ]
    },
    {
      "cell_type": "markdown",
      "source": [
        "###Ahora evaluamos las variables con el mayor valor absoluto en los coeficientes PC1 a PC5"
      ],
      "metadata": {
        "id": "wj-KpGB1qta2"
      }
    },
    {
      "cell_type": "code",
      "source": [
        "for pc in pcsComponents_df.iloc[:,:5]:\n",
        "  print('Top 3 variables con mayores coeficientes en magnitud de: ' + pc)\n",
        "  indexes_abs = pcsComponents_df[pc].abs().nlargest(3).index\n",
        "  individual_pc = pcsComponents_df[pc]\n",
        "  print(individual_pc[indexes_abs])"
      ],
      "metadata": {
        "id": "se03cGTinUFY",
        "outputId": "2e922f72-1303-46cc-a644-8e7299508c53",
        "colab": {
          "base_uri": "https://localhost:8080/"
        }
      },
      "execution_count": 73,
      "outputs": [
        {
          "output_type": "stream",
          "name": "stdout",
          "text": [
            "Top 3 variables con mayores coeficientes en magnitud de: PC1\n",
            "BILL_4    0.391464\n",
            "BILL_5    0.388207\n",
            "BILL_3    0.388063\n",
            "Name: PC1, dtype: float64\n",
            "Top 3 variables con mayores coeficientes en magnitud de: PC2\n",
            "PAY_2    0.408542\n",
            "PAY_3    0.392587\n",
            "PAY_1    0.382611\n",
            "Name: PC2, dtype: float64\n",
            "Top 3 variables con mayores coeficientes en magnitud de: PC3\n",
            "AGE     -0.870440\n",
            "AMT     -0.378415\n",
            "PAY_2    0.199775\n",
            "Name: PC3, dtype: float64\n",
            "Top 3 variables con mayores coeficientes en magnitud de: PC4\n",
            "PAY_5   -0.610281\n",
            "PAY_6   -0.366869\n",
            "PAY_1    0.362357\n",
            "Name: PC4, dtype: float64\n",
            "Top 3 variables con mayores coeficientes en magnitud de: PC5\n",
            "PAY_4    0.642869\n",
            "PAY_6   -0.595168\n",
            "PAY_3    0.255059\n",
            "Name: PC5, dtype: float64\n"
          ]
        }
      ]
    },
    {
      "cell_type": "markdown",
      "source": [
        "### Ahi podemos ver las 3 variables con mayor magnitud de cada componente principal.\n",
        "\n"
      ],
      "metadata": {
        "id": "qO7E4WZurAU7"
      }
    },
    {
      "cell_type": "markdown",
      "source": [
        "###Aqui vemos los eigen vectors:"
      ],
      "metadata": {
        "id": "tyQr2BGerpFQ"
      }
    },
    {
      "cell_type": "code",
      "source": [
        "pcs.components_.round(3)"
      ],
      "metadata": {
        "id": "2s8k66warT5Y",
        "outputId": "9c0e9b15-8978-4a8f-d6e6-771e3547aa1b",
        "colab": {
          "base_uri": "https://localhost:8080/"
        }
      },
      "execution_count": 74,
      "outputs": [
        {
          "output_type": "execute_result",
          "data": {
            "text/plain": [
              "array([[ 0.166,  0.033,  0.372,  0.383,  0.388,  0.391,  0.388,  0.381,\n",
              "         0.136,  0.117,  0.128,  0.118,  0.114,  0.107],\n",
              "       [ 0.301,  0.072, -0.191, -0.176, -0.128, -0.121, -0.107, -0.093,\n",
              "         0.383,  0.409,  0.393,  0.349,  0.304,  0.322],\n",
              "       [-0.378, -0.87 , -0.032, -0.001,  0.035,  0.034,  0.033,  0.017,\n",
              "         0.173,  0.2  ,  0.122,  0.063, -0.06 , -0.048],\n",
              "       [-0.199,  0.336, -0.059,  0.01 ,  0.063,  0.074,  0.037, -0.077,\n",
              "         0.362,  0.347,  0.244, -0.093, -0.61 , -0.367],\n",
              "       [-0.025,  0.028, -0.036, -0.078, -0.124, -0.022,  0.121,  0.144,\n",
              "        -0.233, -0.204,  0.255,  0.643,  0.107, -0.595],\n",
              "       [-0.083,  0.074, -0.046, -0.036,  0.084,  0.008, -0.08 ,  0.084,\n",
              "         0.008,  0.384, -0.073, -0.414,  0.624, -0.5  ],\n",
              "       [ 0.111, -0.078,  0.006, -0.032, -0.116,  0.122, -0.007,  0.009,\n",
              "        -0.203, -0.277,  0.786, -0.465,  0.013,  0.026],\n",
              "       [-0.062,  0.034,  0.003, -0.133,  0.093,  0.04 ,  0.05 ,  0.005,\n",
              "        -0.747,  0.577,  0.067,  0.078, -0.161,  0.191],\n",
              "       [-0.821,  0.331,  0.008,  0.017, -0.021,  0.019,  0.023,  0.063,\n",
              "         0.036, -0.121,  0.152,  0.095,  0.255,  0.312],\n",
              "       [-0.03 , -0.009,  0.566,  0.386,  0.123, -0.201, -0.418, -0.494,\n",
              "        -0.064,  0.048,  0.143,  0.128,  0.062, -0.087],\n",
              "       [-0.006,  0.001,  0.415,  0.042, -0.477, -0.531,  0.063,  0.517,\n",
              "         0.044,  0.146,  0.005, -0.109, -0.1  ,  0.026],\n",
              "       [ 0.016, -0.001, -0.435,  0.342,  0.504, -0.48 , -0.26 ,  0.336,\n",
              "        -0.066, -0.072,  0.121,  0.009, -0.068,  0.021],\n",
              "       [-0.001,  0.   , -0.176,  0.307, -0.061, -0.383,  0.725, -0.425,\n",
              "        -0.041,  0.032,  0.029, -0.08 ,  0.091, -0.01 ],\n",
              "       [ 0.003,  0.001, -0.323,  0.659, -0.532,  0.33 , -0.198,  0.057,\n",
              "        -0.083,  0.124, -0.06 ,  0.035, -0.005,  0.007]])"
            ]
          },
          "metadata": {},
          "execution_count": 74
        }
      ]
    },
    {
      "cell_type": "markdown",
      "source": [
        "###Estos son los eigen values:"
      ],
      "metadata": {
        "id": "udNqGaMRrhhj"
      }
    },
    {
      "cell_type": "code",
      "source": [
        "pcs.explained_variance_.round(3)"
      ],
      "metadata": {
        "id": "Nv3c_X3yrXyf",
        "outputId": "15528195-aa13-4d33-ef87-2df292cb0883",
        "colab": {
          "base_uri": "https://localhost:8080/"
        }
      },
      "execution_count": 75,
      "outputs": [
        {
          "output_type": "execute_result",
          "data": {
            "text/plain": [
              "array([5.929, 1.712, 1.045, 0.925, 0.88 , 0.871, 0.778, 0.726, 0.708,\n",
              "       0.264, 0.072, 0.041, 0.026, 0.024])"
            ]
          },
          "metadata": {},
          "execution_count": 75
        }
      ]
    },
    {
      "cell_type": "markdown",
      "source": [
        "Veamos los boxplot de los componentes PC1 al PC5"
      ],
      "metadata": {
        "id": "WnWJmrKKvbxL"
      }
    },
    {
      "cell_type": "code",
      "source": [
        "sns.set(rc={'figure.figsize':(18,12)})\n",
        "fig, ax =plt.subplots(2,3)\n",
        "j = 0\n",
        "k = 0\n",
        "for pc in pcsComponents_df.iloc[:,:5]:\n",
        "  sns.boxplot(x=pcsComponents_df[pc],ax=ax[k,j])\n",
        "  j = j + 1\n",
        "  if j > 2:\n",
        "    k = k + 1\n",
        "    j = 0\n",
        "plt.show()"
      ],
      "metadata": {
        "id": "l_J6-oSOuo5y",
        "outputId": "fe7f05ff-1996-4c62-db9e-74b3716cea2e",
        "colab": {
          "base_uri": "https://localhost:8080/",
          "height": 720
        }
      },
      "execution_count": 77,
      "outputs": [
        {
          "output_type": "display_data",
          "data": {
            "text/plain": [
              "<Figure size 1296x864 with 6 Axes>"
            ],
            "image/png": "[encoded data removed]"
          },
          "metadata": {}
        }
      ]
    },
    {
      "cell_type": "markdown",
      "source": [],
      "metadata": {
        "id": "lylzQOdsxqfo"
      }
    },
    {
      "cell_type": "code",
      "source": [
        "numericas=x_pca.columns\n",
        "numericas"
      ],
      "metadata": {
        "id": "Q_2ebF8Mxrqs",
        "outputId": "a6e9199a-5280-4e5f-b0c2-f981e6165a32",
        "colab": {
          "base_uri": "https://localhost:8080/"
        }
      },
      "execution_count": 78,
      "outputs": [
        {
          "output_type": "execute_result",
          "data": {
            "text/plain": [
              "Index(['AMT', 'AGE', 'BILL_1', 'BILL_2', 'BILL_3', 'BILL_4', 'BILL_5',\n",
              "       'BILL_6', 'PAY_1', 'PAY_2', 'PAY_3', 'PAY_4', 'PAY_5', 'PAY_6'],\n",
              "      dtype='object')"
            ]
          },
          "metadata": {},
          "execution_count": 78
        }
      ]
    },
    {
      "cell_type": "markdown",
      "source": [
        "##Graficas de Distribucion Variables Numericas"
      ],
      "metadata": {
        "id": "YG0Ye_351hd2"
      }
    },
    {
      "cell_type": "code",
      "source": [
        "sns.set(rc={'figure.figsize':(40,12)})\n",
        "fig, axes = plt.subplots(2, 7)\n",
        "i = 0\n",
        "for col in df2[numericas].columns:\n",
        "  plt.subplot(2, 7,i+1) \n",
        "  plt.hist(df2[col], bins=15) \n",
        "  plt.xlabel(df2[numericas].columns[i])\n",
        "  i = i + 1"
      ],
      "metadata": {
        "id": "4Xj3yLytwaxM",
        "outputId": "56d7221b-6a59-48a9-ef25-dc869b08aa9e",
        "colab": {
          "base_uri": "https://localhost:8080/",
          "height": 456
        }
      },
      "execution_count": 81,
      "outputs": [
        {
          "output_type": "display_data",
          "data": {
            "text/plain": [
              "<Figure size 2880x864 with 14 Axes>"
            ],
            "image/png": "[encoded data removed]"
          },
          "metadata": {}
        }
      ]
    },
    {
      "cell_type": "markdown",
      "source": [
        "###Variables numericas ESCALADAS"
      ],
      "metadata": {
        "id": "Mb1wA-Gz1-S4"
      }
    },
    {
      "cell_type": "code",
      "source": [
        "sns.set(rc={'figure.figsize':(40,12)})\n",
        "fig, axes = plt.subplots(2, 5)\n",
        "i = 0\n",
        "for col in x_pca[numericas].columns:\n",
        "  plt.subplot(2, 7,i+1) \n",
        "  plt.hist(x_pca[col], bins=10) \n",
        "  plt.xlabel(x_pca[numericas].columns[i])\n",
        "  i = i + 1"
      ],
      "metadata": {
        "id": "pW1qfIwD1yHL",
        "outputId": "58743c76-3b65-4e58-80f5-35750c113eb0",
        "colab": {
          "base_uri": "https://localhost:8080/",
          "height": 456
        }
      },
      "execution_count": 82,
      "outputs": [
        {
          "output_type": "display_data",
          "data": {
            "text/plain": [
              "<Figure size 2880x864 with 14 Axes>"
            ],
            "image/png": "[encoded data removed]"
          },
          "metadata": {}
        }
      ]
    },
    {
      "cell_type": "markdown",
      "source": [
        "##BOXPLOTS DE LAS VARIABLES NUMERICAS"
      ],
      "metadata": {
        "id": "UbuqWysV9YBi"
      }
    },
    {
      "cell_type": "code",
      "source": [
        "sns.set(rc={'figure.figsize':(50,30)})\n",
        "fig, axes = plt.subplots(2, 7)\n",
        "i = 0\n",
        "for col in df2[numericas].columns:\n",
        "  plt.subplot(2, 7,i+1) \n",
        "  plt.boxplot(df2[col]) \n",
        "  plt.xlabel(df2[numericas].columns[i])\n",
        "  i = i + 1"
      ],
      "metadata": {
        "id": "1lLq_pDM4i0k",
        "outputId": "facbe5c7-6d79-47d6-b84b-39c6689254f4",
        "colab": {
          "base_uri": "https://localhost:8080/",
          "height": 872
        }
      },
      "execution_count": 83,
      "outputs": [
        {
          "output_type": "display_data",
          "data": {
            "text/plain": [
              "<Figure size 3600x2160 with 14 Axes>"
            ],
            "image/png": "[encoded data removed]"
          },
          "metadata": {}
        }
      ]
    },
    {
      "cell_type": "code",
      "source": [],
      "metadata": {
        "id": "ZbPscHVACHvI"
      },
      "execution_count": null,
      "outputs": []
    },
    {
      "cell_type": "markdown",
      "source": [
        "#Graficos de categoricas"
      ],
      "metadata": {
        "id": "Wm9VnGo84c61"
      }
    },
    {
      "cell_type": "code",
      "source": [
        "categoricas=['SEX','EDUCATION','MARRIAGE','PAYSTAT_1','PAYSTAT_2','PAYSTAT_3','PAYSTAT_4','PAYSTAT_5','PAYSTAT_6']\n",
        "df3=df2[categoricas]\n",
        "df3.columns"
      ],
      "metadata": {
        "id": "qbCfUmvR2-XM",
        "outputId": "08e3f847-7cda-4c74-81cb-16f4f3ef4cae",
        "colab": {
          "base_uri": "https://localhost:8080/"
        }
      },
      "execution_count": 84,
      "outputs": [
        {
          "output_type": "execute_result",
          "data": {
            "text/plain": [
              "Index(['SEX', 'EDUCATION', 'MARRIAGE', 'PAYSTAT_1', 'PAYSTAT_2', 'PAYSTAT_3',\n",
              "       'PAYSTAT_4', 'PAYSTAT_5', 'PAYSTAT_6'],\n",
              "      dtype='object')"
            ]
          },
          "metadata": {},
          "execution_count": 84
        }
      ]
    },
    {
      "cell_type": "code",
      "source": [
        "sns.set(rc={'figure.figsize':(28,10)})\n",
        "fig, axes = plt.subplots(2, 5)\n",
        "i = 0\n",
        "for col in df3[categoricas].columns:\n",
        "  plt.subplot(2, 5,i+1) \n",
        "  plt.hist(df3[col], bins=9) \n",
        "  plt.xlabel(df3[categoricas].columns[i])\n",
        "  i = i + 1"
      ],
      "metadata": {
        "id": "Us0DgvZ82Mss",
        "outputId": "ed54f787-499c-4891-95a3-4b4fa2e3c59c",
        "colab": {
          "base_uri": "https://localhost:8080/",
          "height": 539
        }
      },
      "execution_count": 88,
      "outputs": [
        {
          "output_type": "display_data",
          "data": {
            "text/plain": [
              "<Figure size 2016x720 with 10 Axes>"
            ],
            "image/png": "[encoded data removed]"
          },
          "metadata": {}
        }
      ]
    },
    {
      "cell_type": "markdown",
      "source": [
        "##Pairplot de Variables numericas"
      ],
      "metadata": {
        "id": "l4zsaY7CB96q"
      }
    },
    {
      "cell_type": "code",
      "source": [
        "sns.pairplot(df2[numericas])\n"
      ],
      "metadata": {
        "id": "yaHigmwi4pp6",
        "outputId": "1ab2bbf2-22c4-44e2-e679-5cd70e8d9463",
        "colab": {
          "base_uri": "https://localhost:8080/",
          "height": 1000
        }
      },
      "execution_count": 94,
      "outputs": [
        {
          "output_type": "error",
          "ename": "KeyboardInterrupt",
          "evalue": "ignored",
          "traceback": [
            "\u001b[0;31m---------------------------------------------------------------------------\u001b[0m",
            "\u001b[0;31mKeyboardInterrupt\u001b[0m                         Traceback (most recent call last)",
            "\u001b[0;32m<ipython-input-94-c7a70e5d4396>\u001b[0m in \u001b[0;36m<module>\u001b[0;34m\u001b[0m\n\u001b[0;32m----> 1\u001b[0;31m \u001b[0msns\u001b[0m\u001b[0;34m.\u001b[0m\u001b[0mpairplot\u001b[0m\u001b[0;34m(\u001b[0m\u001b[0mdf2\u001b[0m\u001b[0;34m[\u001b[0m\u001b[0mnumericas\u001b[0m\u001b[0;34m]\u001b[0m\u001b[0;34m)\u001b[0m\u001b[0;34m\u001b[0m\u001b[0;34m\u001b[0m\u001b[0m\n\u001b[0m",
            "\u001b[0;32m/usr/local/lib/python3.7/dist-packages/seaborn/_decorators.py\u001b[0m in \u001b[0;36minner_f\u001b[0;34m(*args, **kwargs)\u001b[0m\n\u001b[1;32m     44\u001b[0m             )\n\u001b[1;32m     45\u001b[0m         \u001b[0mkwargs\u001b[0m\u001b[0;34m.\u001b[0m\u001b[0mupdate\u001b[0m\u001b[0;34m(\u001b[0m\u001b[0;34m{\u001b[0m\u001b[0mk\u001b[0m\u001b[0;34m:\u001b[0m \u001b[0marg\u001b[0m \u001b[0;32mfor\u001b[0m \u001b[0mk\u001b[0m\u001b[0;34m,\u001b[0m \u001b[0marg\u001b[0m \u001b[0;32min\u001b[0m \u001b[0mzip\u001b[0m\u001b[0;34m(\u001b[0m\u001b[0msig\u001b[0m\u001b[0;34m.\u001b[0m\u001b[0mparameters\u001b[0m\u001b[0;34m,\u001b[0m \u001b[0margs\u001b[0m\u001b[0;34m)\u001b[0m\u001b[0;34m}\u001b[0m\u001b[0;34m)\u001b[0m\u001b[0;34m\u001b[0m\u001b[0;34m\u001b[0m\u001b[0m\n\u001b[0;32m---> 46\u001b[0;31m         \u001b[0;32mreturn\u001b[0m \u001b[0mf\u001b[0m\u001b[0;34m(\u001b[0m\u001b[0;34m**\u001b[0m\u001b[0mkwargs\u001b[0m\u001b[0;34m)\u001b[0m\u001b[0;34m\u001b[0m\u001b[0;34m\u001b[0m\u001b[0m\n\u001b[0m\u001b[1;32m     47\u001b[0m     \u001b[0;32mreturn\u001b[0m \u001b[0minner_f\u001b[0m\u001b[0;34m\u001b[0m\u001b[0;34m\u001b[0m\u001b[0m\n\u001b[1;32m     48\u001b[0m \u001b[0;34m\u001b[0m\u001b[0m\n",
            "\u001b[0;32m/usr/local/lib/python3.7/dist-packages/seaborn/axisgrid.py\u001b[0m in \u001b[0;36mpairplot\u001b[0;34m(data, hue, hue_order, palette, vars, x_vars, y_vars, kind, diag_kind, markers, height, aspect, corner, dropna, plot_kws, diag_kws, grid_kws, size)\u001b[0m\n\u001b[1;32m   2096\u001b[0m     grid = PairGrid(data, vars=vars, x_vars=x_vars, y_vars=y_vars, hue=hue,\n\u001b[1;32m   2097\u001b[0m                     \u001b[0mhue_order\u001b[0m\u001b[0;34m=\u001b[0m\u001b[0mhue_order\u001b[0m\u001b[0;34m,\u001b[0m \u001b[0mpalette\u001b[0m\u001b[0;34m=\u001b[0m\u001b[0mpalette\u001b[0m\u001b[0;34m,\u001b[0m \u001b[0mcorner\u001b[0m\u001b[0;34m=\u001b[0m\u001b[0mcorner\u001b[0m\u001b[0;34m,\u001b[0m\u001b[0;34m\u001b[0m\u001b[0;34m\u001b[0m\u001b[0m\n\u001b[0;32m-> 2098\u001b[0;31m                     height=height, aspect=aspect, dropna=dropna, **grid_kws)\n\u001b[0m\u001b[1;32m   2099\u001b[0m \u001b[0;34m\u001b[0m\u001b[0m\n\u001b[1;32m   2100\u001b[0m     \u001b[0;31m# Add the markers here as PairGrid has figured out how many levels of the\u001b[0m\u001b[0;34m\u001b[0m\u001b[0;34m\u001b[0m\u001b[0;34m\u001b[0m\u001b[0m\n",
            "\u001b[0;32m/usr/local/lib/python3.7/dist-packages/seaborn/_decorators.py\u001b[0m in \u001b[0;36minner_f\u001b[0;34m(*args, **kwargs)\u001b[0m\n\u001b[1;32m     44\u001b[0m             )\n\u001b[1;32m     45\u001b[0m         \u001b[0mkwargs\u001b[0m\u001b[0;34m.\u001b[0m\u001b[0mupdate\u001b[0m\u001b[0;34m(\u001b[0m\u001b[0;34m{\u001b[0m\u001b[0mk\u001b[0m\u001b[0;34m:\u001b[0m \u001b[0marg\u001b[0m \u001b[0;32mfor\u001b[0m \u001b[0mk\u001b[0m\u001b[0;34m,\u001b[0m \u001b[0marg\u001b[0m \u001b[0;32min\u001b[0m \u001b[0mzip\u001b[0m\u001b[0;34m(\u001b[0m\u001b[0msig\u001b[0m\u001b[0;34m.\u001b[0m\u001b[0mparameters\u001b[0m\u001b[0;34m,\u001b[0m \u001b[0margs\u001b[0m\u001b[0;34m)\u001b[0m\u001b[0;34m}\u001b[0m\u001b[0;34m)\u001b[0m\u001b[0;34m\u001b[0m\u001b[0;34m\u001b[0m\u001b[0m\n\u001b[0;32m---> 46\u001b[0;31m         \u001b[0;32mreturn\u001b[0m \u001b[0mf\u001b[0m\u001b[0;34m(\u001b[0m\u001b[0;34m**\u001b[0m\u001b[0mkwargs\u001b[0m\u001b[0;34m)\u001b[0m\u001b[0;34m\u001b[0m\u001b[0;34m\u001b[0m\u001b[0m\n\u001b[0m\u001b[1;32m     47\u001b[0m     \u001b[0;32mreturn\u001b[0m \u001b[0minner_f\u001b[0m\u001b[0;34m\u001b[0m\u001b[0;34m\u001b[0m\u001b[0m\n\u001b[1;32m     48\u001b[0m \u001b[0;34m\u001b[0m\u001b[0m\n",
            "\u001b[0;32m/usr/local/lib/python3.7/dist-packages/seaborn/axisgrid.py\u001b[0m in \u001b[0;36m__init__\u001b[0;34m(self, data, hue, hue_order, palette, hue_kws, vars, x_vars, y_vars, corner, diag_sharey, height, aspect, layout_pad, despine, dropna, size)\u001b[0m\n\u001b[1;32m   1244\u001b[0m         axes = fig.subplots(len(y_vars), len(x_vars),\n\u001b[1;32m   1245\u001b[0m                             \u001b[0msharex\u001b[0m\u001b[0;34m=\u001b[0m\u001b[0;34m\"col\"\u001b[0m\u001b[0;34m,\u001b[0m \u001b[0msharey\u001b[0m\u001b[0;34m=\u001b[0m\u001b[0;34m\"row\"\u001b[0m\u001b[0;34m,\u001b[0m\u001b[0;34m\u001b[0m\u001b[0;34m\u001b[0m\u001b[0m\n\u001b[0;32m-> 1246\u001b[0;31m                             squeeze=False)\n\u001b[0m\u001b[1;32m   1247\u001b[0m \u001b[0;34m\u001b[0m\u001b[0m\n\u001b[1;32m   1248\u001b[0m         \u001b[0;31m# Possibly remove upper axes to make a corner grid\u001b[0m\u001b[0;34m\u001b[0m\u001b[0;34m\u001b[0m\u001b[0;34m\u001b[0m\u001b[0m\n",
            "\u001b[0;32m/usr/local/lib/python3.7/dist-packages/matplotlib/figure.py\u001b[0m in \u001b[0;36msubplots\u001b[0;34m(self, nrows, ncols, sharex, sharey, squeeze, subplot_kw, gridspec_kw)\u001b[0m\n\u001b[1;32m   1574\u001b[0m                 \u001b[0msubplot_kw\u001b[0m\u001b[0;34m[\u001b[0m\u001b[0;34m\"sharex\"\u001b[0m\u001b[0;34m]\u001b[0m \u001b[0;34m=\u001b[0m \u001b[0mshared_with\u001b[0m\u001b[0;34m[\u001b[0m\u001b[0msharex\u001b[0m\u001b[0;34m]\u001b[0m\u001b[0;34m\u001b[0m\u001b[0;34m\u001b[0m\u001b[0m\n\u001b[1;32m   1575\u001b[0m                 \u001b[0msubplot_kw\u001b[0m\u001b[0;34m[\u001b[0m\u001b[0;34m\"sharey\"\u001b[0m\u001b[0;34m]\u001b[0m \u001b[0;34m=\u001b[0m \u001b[0mshared_with\u001b[0m\u001b[0;34m[\u001b[0m\u001b[0msharey\u001b[0m\u001b[0;34m]\u001b[0m\u001b[0;34m\u001b[0m\u001b[0;34m\u001b[0m\u001b[0m\n\u001b[0;32m-> 1576\u001b[0;31m                 \u001b[0maxarr\u001b[0m\u001b[0;34m[\u001b[0m\u001b[0mrow\u001b[0m\u001b[0;34m,\u001b[0m \u001b[0mcol\u001b[0m\u001b[0;34m]\u001b[0m \u001b[0;34m=\u001b[0m \u001b[0mself\u001b[0m\u001b[0;34m.\u001b[0m\u001b[0madd_subplot\u001b[0m\u001b[0;34m(\u001b[0m\u001b[0mgs\u001b[0m\u001b[0;34m[\u001b[0m\u001b[0mrow\u001b[0m\u001b[0;34m,\u001b[0m \u001b[0mcol\u001b[0m\u001b[0;34m]\u001b[0m\u001b[0;34m,\u001b[0m \u001b[0;34m**\u001b[0m\u001b[0msubplot_kw\u001b[0m\u001b[0;34m)\u001b[0m\u001b[0;34m\u001b[0m\u001b[0;34m\u001b[0m\u001b[0m\n\u001b[0m\u001b[1;32m   1577\u001b[0m \u001b[0;34m\u001b[0m\u001b[0m\n\u001b[1;32m   1578\u001b[0m         \u001b[0;31m# turn off redundant tick labeling\u001b[0m\u001b[0;34m\u001b[0m\u001b[0;34m\u001b[0m\u001b[0;34m\u001b[0m\u001b[0m\n",
            "\u001b[0;32m/usr/local/lib/python3.7/dist-packages/matplotlib/figure.py\u001b[0m in \u001b[0;36madd_subplot\u001b[0;34m(self, *args, **kwargs)\u001b[0m\n\u001b[1;32m   1417\u001b[0m                     \u001b[0mself\u001b[0m\u001b[0;34m.\u001b[0m\u001b[0m_axstack\u001b[0m\u001b[0;34m.\u001b[0m\u001b[0mremove\u001b[0m\u001b[0;34m(\u001b[0m\u001b[0max\u001b[0m\u001b[0;34m)\u001b[0m\u001b[0;34m\u001b[0m\u001b[0;34m\u001b[0m\u001b[0m\n\u001b[1;32m   1418\u001b[0m \u001b[0;34m\u001b[0m\u001b[0m\n\u001b[0;32m-> 1419\u001b[0;31m             \u001b[0ma\u001b[0m \u001b[0;34m=\u001b[0m \u001b[0msubplot_class_factory\u001b[0m\u001b[0;34m(\u001b[0m\u001b[0mprojection_class\u001b[0m\u001b[0;34m)\u001b[0m\u001b[0;34m(\u001b[0m\u001b[0mself\u001b[0m\u001b[0;34m,\u001b[0m \u001b[0;34m*\u001b[0m\u001b[0margs\u001b[0m\u001b[0;34m,\u001b[0m \u001b[0;34m**\u001b[0m\u001b[0mkwargs\u001b[0m\u001b[0;34m)\u001b[0m\u001b[0;34m\u001b[0m\u001b[0;34m\u001b[0m\u001b[0m\n\u001b[0m\u001b[1;32m   1420\u001b[0m \u001b[0;34m\u001b[0m\u001b[0m\n\u001b[1;32m   1421\u001b[0m         \u001b[0;32mreturn\u001b[0m \u001b[0mself\u001b[0m\u001b[0;34m.\u001b[0m\u001b[0m_add_axes_internal\u001b[0m\u001b[0;34m(\u001b[0m\u001b[0mkey\u001b[0m\u001b[0;34m,\u001b[0m \u001b[0ma\u001b[0m\u001b[0;34m)\u001b[0m\u001b[0;34m\u001b[0m\u001b[0;34m\u001b[0m\u001b[0m\n",
            "\u001b[0;32m/usr/local/lib/python3.7/dist-packages/matplotlib/axes/_subplots.py\u001b[0m in \u001b[0;36m__init__\u001b[0;34m(self, fig, *args, **kwargs)\u001b[0m\n\u001b[1;32m     74\u001b[0m \u001b[0;34m\u001b[0m\u001b[0m\n\u001b[1;32m     75\u001b[0m         \u001b[0;31m# _axes_class is set in the subplot_class_factory\u001b[0m\u001b[0;34m\u001b[0m\u001b[0;34m\u001b[0m\u001b[0;34m\u001b[0m\u001b[0m\n\u001b[0;32m---> 76\u001b[0;31m         \u001b[0mself\u001b[0m\u001b[0;34m.\u001b[0m\u001b[0m_axes_class\u001b[0m\u001b[0;34m.\u001b[0m\u001b[0m__init__\u001b[0m\u001b[0;34m(\u001b[0m\u001b[0mself\u001b[0m\u001b[0;34m,\u001b[0m \u001b[0mfig\u001b[0m\u001b[0;34m,\u001b[0m \u001b[0mself\u001b[0m\u001b[0;34m.\u001b[0m\u001b[0mfigbox\u001b[0m\u001b[0;34m,\u001b[0m \u001b[0;34m**\u001b[0m\u001b[0mkwargs\u001b[0m\u001b[0;34m)\u001b[0m\u001b[0;34m\u001b[0m\u001b[0;34m\u001b[0m\u001b[0m\n\u001b[0m\u001b[1;32m     77\u001b[0m         \u001b[0;31m# add a layout box to this, for both the full axis, and the poss\u001b[0m\u001b[0;34m\u001b[0m\u001b[0;34m\u001b[0m\u001b[0;34m\u001b[0m\u001b[0m\n\u001b[1;32m     78\u001b[0m         \u001b[0;31m# of the axis.  We need both because the axes may become smaller\u001b[0m\u001b[0;34m\u001b[0m\u001b[0;34m\u001b[0m\u001b[0;34m\u001b[0m\u001b[0m\n",
            "\u001b[0;32m/usr/local/lib/python3.7/dist-packages/matplotlib/axes/_base.py\u001b[0m in \u001b[0;36m__init__\u001b[0;34m(self, fig, rect, facecolor, frameon, sharex, sharey, label, xscale, yscale, **kwargs)\u001b[0m\n\u001b[1;32m    452\u001b[0m \u001b[0;34m\u001b[0m\u001b[0m\n\u001b[1;32m    453\u001b[0m         \u001b[0mself\u001b[0m\u001b[0;34m.\u001b[0m\u001b[0m_rasterization_zorder\u001b[0m \u001b[0;34m=\u001b[0m \u001b[0;32mNone\u001b[0m\u001b[0;34m\u001b[0m\u001b[0;34m\u001b[0m\u001b[0m\n\u001b[0;32m--> 454\u001b[0;31m         \u001b[0mself\u001b[0m\u001b[0;34m.\u001b[0m\u001b[0mcla\u001b[0m\u001b[0;34m(\u001b[0m\u001b[0;34m)\u001b[0m\u001b[0;34m\u001b[0m\u001b[0;34m\u001b[0m\u001b[0m\n\u001b[0m\u001b[1;32m    455\u001b[0m \u001b[0;34m\u001b[0m\u001b[0m\n\u001b[1;32m    456\u001b[0m         \u001b[0;31m# funcs used to format x and y - fall back on major formatters\u001b[0m\u001b[0;34m\u001b[0m\u001b[0;34m\u001b[0m\u001b[0;34m\u001b[0m\u001b[0m\n",
            "\u001b[0;32m/usr/local/lib/python3.7/dist-packages/matplotlib/axes/_base.py\u001b[0m in \u001b[0;36mcla\u001b[0;34m(self)\u001b[0m\n\u001b[1;32m   1078\u001b[0m \u001b[0;34m\u001b[0m\u001b[0m\n\u001b[1;32m   1079\u001b[0m         \u001b[0mself\u001b[0m\u001b[0;34m.\u001b[0m\u001b[0mxaxis\u001b[0m\u001b[0;34m.\u001b[0m\u001b[0mset_clip_path\u001b[0m\u001b[0;34m(\u001b[0m\u001b[0mself\u001b[0m\u001b[0;34m.\u001b[0m\u001b[0mpatch\u001b[0m\u001b[0;34m)\u001b[0m\u001b[0;34m\u001b[0m\u001b[0;34m\u001b[0m\u001b[0m\n\u001b[0;32m-> 1080\u001b[0;31m         \u001b[0mself\u001b[0m\u001b[0;34m.\u001b[0m\u001b[0myaxis\u001b[0m\u001b[0;34m.\u001b[0m\u001b[0mset_clip_path\u001b[0m\u001b[0;34m(\u001b[0m\u001b[0mself\u001b[0m\u001b[0;34m.\u001b[0m\u001b[0mpatch\u001b[0m\u001b[0;34m)\u001b[0m\u001b[0;34m\u001b[0m\u001b[0;34m\u001b[0m\u001b[0m\n\u001b[0m\u001b[1;32m   1081\u001b[0m \u001b[0;34m\u001b[0m\u001b[0m\n\u001b[1;32m   1082\u001b[0m         \u001b[0mself\u001b[0m\u001b[0;34m.\u001b[0m\u001b[0m_shared_x_axes\u001b[0m\u001b[0;34m.\u001b[0m\u001b[0mclean\u001b[0m\u001b[0;34m(\u001b[0m\u001b[0;34m)\u001b[0m\u001b[0;34m\u001b[0m\u001b[0;34m\u001b[0m\u001b[0m\n",
            "\u001b[0;32m/usr/local/lib/python3.7/dist-packages/matplotlib/axis.py\u001b[0m in \u001b[0;36mset_clip_path\u001b[0;34m(self, clippath, transform)\u001b[0m\n\u001b[1;32m    967\u001b[0m     \u001b[0;32mdef\u001b[0m \u001b[0mset_clip_path\u001b[0m\u001b[0;34m(\u001b[0m\u001b[0mself\u001b[0m\u001b[0;34m,\u001b[0m \u001b[0mclippath\u001b[0m\u001b[0;34m,\u001b[0m \u001b[0mtransform\u001b[0m\u001b[0;34m=\u001b[0m\u001b[0;32mNone\u001b[0m\u001b[0;34m)\u001b[0m\u001b[0;34m:\u001b[0m\u001b[0;34m\u001b[0m\u001b[0;34m\u001b[0m\u001b[0m\n\u001b[1;32m    968\u001b[0m         \u001b[0mmartist\u001b[0m\u001b[0;34m.\u001b[0m\u001b[0mArtist\u001b[0m\u001b[0;34m.\u001b[0m\u001b[0mset_clip_path\u001b[0m\u001b[0;34m(\u001b[0m\u001b[0mself\u001b[0m\u001b[0;34m,\u001b[0m \u001b[0mclippath\u001b[0m\u001b[0;34m,\u001b[0m \u001b[0mtransform\u001b[0m\u001b[0;34m)\u001b[0m\u001b[0;34m\u001b[0m\u001b[0;34m\u001b[0m\u001b[0m\n\u001b[0;32m--> 969\u001b[0;31m         \u001b[0;32mfor\u001b[0m \u001b[0mchild\u001b[0m \u001b[0;32min\u001b[0m \u001b[0mself\u001b[0m\u001b[0;34m.\u001b[0m\u001b[0mmajorTicks\u001b[0m \u001b[0;34m+\u001b[0m \u001b[0mself\u001b[0m\u001b[0;34m.\u001b[0m\u001b[0mminorTicks\u001b[0m\u001b[0;34m:\u001b[0m\u001b[0;34m\u001b[0m\u001b[0;34m\u001b[0m\u001b[0m\n\u001b[0m\u001b[1;32m    970\u001b[0m             \u001b[0mchild\u001b[0m\u001b[0;34m.\u001b[0m\u001b[0mset_clip_path\u001b[0m\u001b[0;34m(\u001b[0m\u001b[0mclippath\u001b[0m\u001b[0;34m,\u001b[0m \u001b[0mtransform\u001b[0m\u001b[0;34m)\u001b[0m\u001b[0;34m\u001b[0m\u001b[0;34m\u001b[0m\u001b[0m\n\u001b[1;32m    971\u001b[0m         \u001b[0mself\u001b[0m\u001b[0;34m.\u001b[0m\u001b[0mstale\u001b[0m \u001b[0;34m=\u001b[0m \u001b[0;32mTrue\u001b[0m\u001b[0;34m\u001b[0m\u001b[0;34m\u001b[0m\u001b[0m\n",
            "\u001b[0;32m/usr/local/lib/python3.7/dist-packages/matplotlib/axis.py\u001b[0m in \u001b[0;36m__get__\u001b[0;34m(self, instance, cls)\u001b[0m\n\u001b[1;32m    701\u001b[0m             \u001b[0;32melse\u001b[0m\u001b[0;34m:\u001b[0m\u001b[0;34m\u001b[0m\u001b[0;34m\u001b[0m\u001b[0m\n\u001b[1;32m    702\u001b[0m                 \u001b[0minstance\u001b[0m\u001b[0;34m.\u001b[0m\u001b[0mminorTicks\u001b[0m \u001b[0;34m=\u001b[0m \u001b[0;34m[\u001b[0m\u001b[0;34m]\u001b[0m\u001b[0;34m\u001b[0m\u001b[0;34m\u001b[0m\u001b[0m\n\u001b[0;32m--> 703\u001b[0;31m                 \u001b[0mtick\u001b[0m \u001b[0;34m=\u001b[0m \u001b[0minstance\u001b[0m\u001b[0;34m.\u001b[0m\u001b[0m_get_tick\u001b[0m\u001b[0;34m(\u001b[0m\u001b[0mmajor\u001b[0m\u001b[0;34m=\u001b[0m\u001b[0;32mFalse\u001b[0m\u001b[0;34m)\u001b[0m\u001b[0;34m\u001b[0m\u001b[0;34m\u001b[0m\u001b[0m\n\u001b[0m\u001b[1;32m    704\u001b[0m                 \u001b[0minstance\u001b[0m\u001b[0;34m.\u001b[0m\u001b[0mminorTicks\u001b[0m\u001b[0;34m.\u001b[0m\u001b[0mappend\u001b[0m\u001b[0;34m(\u001b[0m\u001b[0mtick\u001b[0m\u001b[0;34m)\u001b[0m\u001b[0;34m\u001b[0m\u001b[0;34m\u001b[0m\u001b[0m\n\u001b[1;32m    705\u001b[0m                 \u001b[0;32mreturn\u001b[0m \u001b[0minstance\u001b[0m\u001b[0;34m.\u001b[0m\u001b[0mminorTicks\u001b[0m\u001b[0;34m\u001b[0m\u001b[0;34m\u001b[0m\u001b[0m\n",
            "\u001b[0;32m/usr/local/lib/python3.7/dist-packages/matplotlib/axis.py\u001b[0m in \u001b[0;36m_get_tick\u001b[0;34m(self, major)\u001b[0m\n\u001b[1;32m   2228\u001b[0m         \u001b[0;32melse\u001b[0m\u001b[0;34m:\u001b[0m\u001b[0;34m\u001b[0m\u001b[0;34m\u001b[0m\u001b[0m\n\u001b[1;32m   2229\u001b[0m             \u001b[0mtick_kw\u001b[0m \u001b[0;34m=\u001b[0m \u001b[0mself\u001b[0m\u001b[0;34m.\u001b[0m\u001b[0m_minor_tick_kw\u001b[0m\u001b[0;34m\u001b[0m\u001b[0;34m\u001b[0m\u001b[0m\n\u001b[0;32m-> 2230\u001b[0;31m         \u001b[0;32mreturn\u001b[0m \u001b[0mYTick\u001b[0m\u001b[0;34m(\u001b[0m\u001b[0mself\u001b[0m\u001b[0;34m.\u001b[0m\u001b[0maxes\u001b[0m\u001b[0;34m,\u001b[0m \u001b[0;36m0\u001b[0m\u001b[0;34m,\u001b[0m \u001b[0;34m''\u001b[0m\u001b[0;34m,\u001b[0m \u001b[0mmajor\u001b[0m\u001b[0;34m=\u001b[0m\u001b[0mmajor\u001b[0m\u001b[0;34m,\u001b[0m \u001b[0;34m**\u001b[0m\u001b[0mtick_kw\u001b[0m\u001b[0;34m)\u001b[0m\u001b[0;34m\u001b[0m\u001b[0;34m\u001b[0m\u001b[0m\n\u001b[0m\u001b[1;32m   2231\u001b[0m \u001b[0;34m\u001b[0m\u001b[0m\n\u001b[1;32m   2232\u001b[0m     \u001b[0;32mdef\u001b[0m \u001b[0m_get_label\u001b[0m\u001b[0;34m(\u001b[0m\u001b[0mself\u001b[0m\u001b[0;34m)\u001b[0m\u001b[0;34m:\u001b[0m\u001b[0;34m\u001b[0m\u001b[0;34m\u001b[0m\u001b[0m\n",
            "\u001b[0;32m/usr/local/lib/python3.7/dist-packages/matplotlib/axis.py\u001b[0m in \u001b[0;36m__init__\u001b[0;34m(self, axes, loc, label, size, width, color, tickdir, pad, labelsize, labelcolor, zorder, gridOn, tick1On, tick2On, label1On, label2On, major, labelrotation, grid_color, grid_linestyle, grid_linewidth, grid_alpha, **kw)\u001b[0m\n\u001b[1;32m    155\u001b[0m         \u001b[0mself\u001b[0m\u001b[0;34m.\u001b[0m\u001b[0mapply_tickdir\u001b[0m\u001b[0;34m(\u001b[0m\u001b[0mtickdir\u001b[0m\u001b[0;34m)\u001b[0m\u001b[0;34m\u001b[0m\u001b[0;34m\u001b[0m\u001b[0m\n\u001b[1;32m    156\u001b[0m \u001b[0;34m\u001b[0m\u001b[0m\n\u001b[0;32m--> 157\u001b[0;31m         \u001b[0mself\u001b[0m\u001b[0;34m.\u001b[0m\u001b[0mtick1line\u001b[0m \u001b[0;34m=\u001b[0m \u001b[0mself\u001b[0m\u001b[0;34m.\u001b[0m\u001b[0m_get_tick1line\u001b[0m\u001b[0;34m(\u001b[0m\u001b[0;34m)\u001b[0m\u001b[0;34m\u001b[0m\u001b[0;34m\u001b[0m\u001b[0m\n\u001b[0m\u001b[1;32m    158\u001b[0m         \u001b[0mself\u001b[0m\u001b[0;34m.\u001b[0m\u001b[0mtick2line\u001b[0m \u001b[0;34m=\u001b[0m \u001b[0mself\u001b[0m\u001b[0;34m.\u001b[0m\u001b[0m_get_tick2line\u001b[0m\u001b[0;34m(\u001b[0m\u001b[0;34m)\u001b[0m\u001b[0;34m\u001b[0m\u001b[0;34m\u001b[0m\u001b[0m\n\u001b[1;32m    159\u001b[0m         \u001b[0mself\u001b[0m\u001b[0;34m.\u001b[0m\u001b[0mgridline\u001b[0m \u001b[0;34m=\u001b[0m \u001b[0mself\u001b[0m\u001b[0;34m.\u001b[0m\u001b[0m_get_gridline\u001b[0m\u001b[0;34m(\u001b[0m\u001b[0;34m)\u001b[0m\u001b[0;34m\u001b[0m\u001b[0;34m\u001b[0m\u001b[0m\n",
            "\u001b[0;32m/usr/local/lib/python3.7/dist-packages/matplotlib/axis.py\u001b[0m in \u001b[0;36m_get_tick1line\u001b[0;34m(self)\u001b[0m\n\u001b[1;32m    582\u001b[0m                           \u001b[0mmarkersize\u001b[0m\u001b[0;34m=\u001b[0m\u001b[0mself\u001b[0m\u001b[0;34m.\u001b[0m\u001b[0m_size\u001b[0m\u001b[0;34m,\u001b[0m\u001b[0;34m\u001b[0m\u001b[0;34m\u001b[0m\u001b[0m\n\u001b[1;32m    583\u001b[0m                           \u001b[0mmarkeredgewidth\u001b[0m\u001b[0;34m=\u001b[0m\u001b[0mself\u001b[0m\u001b[0;34m.\u001b[0m\u001b[0m_width\u001b[0m\u001b[0;34m,\u001b[0m\u001b[0;34m\u001b[0m\u001b[0;34m\u001b[0m\u001b[0m\n\u001b[0;32m--> 584\u001b[0;31m                           zorder=self._zorder)\n\u001b[0m\u001b[1;32m    585\u001b[0m         \u001b[0ml\u001b[0m\u001b[0;34m.\u001b[0m\u001b[0mset_transform\u001b[0m\u001b[0;34m(\u001b[0m\u001b[0mself\u001b[0m\u001b[0;34m.\u001b[0m\u001b[0maxes\u001b[0m\u001b[0;34m.\u001b[0m\u001b[0mget_yaxis_transform\u001b[0m\u001b[0;34m(\u001b[0m\u001b[0mwhich\u001b[0m\u001b[0;34m=\u001b[0m\u001b[0;34m'tick1'\u001b[0m\u001b[0;34m)\u001b[0m\u001b[0;34m)\u001b[0m\u001b[0;34m\u001b[0m\u001b[0;34m\u001b[0m\u001b[0m\n\u001b[1;32m    586\u001b[0m         \u001b[0mself\u001b[0m\u001b[0;34m.\u001b[0m\u001b[0m_set_artist_props\u001b[0m\u001b[0;34m(\u001b[0m\u001b[0ml\u001b[0m\u001b[0;34m)\u001b[0m\u001b[0;34m\u001b[0m\u001b[0;34m\u001b[0m\u001b[0m\n",
            "\u001b[0;32m/usr/local/lib/python3.7/dist-packages/matplotlib/lines.py\u001b[0m in \u001b[0;36m__init__\u001b[0;34m(self, xdata, ydata, linewidth, linestyle, color, marker, markersize, markeredgewidth, markeredgecolor, markerfacecolor, markerfacecoloralt, fillstyle, antialiased, dash_capstyle, solid_capstyle, dash_joinstyle, solid_joinstyle, pickradius, drawstyle, markevery, **kwargs)\u001b[0m\n\u001b[1;32m    376\u001b[0m         \u001b[0mself\u001b[0m\u001b[0;34m.\u001b[0m\u001b[0m_color\u001b[0m \u001b[0;34m=\u001b[0m \u001b[0;32mNone\u001b[0m\u001b[0;34m\u001b[0m\u001b[0;34m\u001b[0m\u001b[0m\n\u001b[1;32m    377\u001b[0m         \u001b[0mself\u001b[0m\u001b[0;34m.\u001b[0m\u001b[0mset_color\u001b[0m\u001b[0;34m(\u001b[0m\u001b[0mcolor\u001b[0m\u001b[0;34m)\u001b[0m\u001b[0;34m\u001b[0m\u001b[0;34m\u001b[0m\u001b[0m\n\u001b[0;32m--> 378\u001b[0;31m         \u001b[0mself\u001b[0m\u001b[0;34m.\u001b[0m\u001b[0m_marker\u001b[0m \u001b[0;34m=\u001b[0m \u001b[0mMarkerStyle\u001b[0m\u001b[0;34m(\u001b[0m\u001b[0mmarker\u001b[0m\u001b[0;34m,\u001b[0m \u001b[0mfillstyle\u001b[0m\u001b[0;34m)\u001b[0m\u001b[0;34m\u001b[0m\u001b[0;34m\u001b[0m\u001b[0m\n\u001b[0m\u001b[1;32m    379\u001b[0m \u001b[0;34m\u001b[0m\u001b[0m\n\u001b[1;32m    380\u001b[0m         \u001b[0mself\u001b[0m\u001b[0;34m.\u001b[0m\u001b[0m_markevery\u001b[0m \u001b[0;34m=\u001b[0m \u001b[0;32mNone\u001b[0m\u001b[0;34m\u001b[0m\u001b[0;34m\u001b[0m\u001b[0m\n",
            "\u001b[0;32m/usr/local/lib/python3.7/dist-packages/matplotlib/markers.py\u001b[0m in \u001b[0;36m__init__\u001b[0;34m(self, marker, fillstyle)\u001b[0m\n\u001b[1;32m    222\u001b[0m         \"\"\"\n\u001b[1;32m    223\u001b[0m         \u001b[0mself\u001b[0m\u001b[0;34m.\u001b[0m\u001b[0m_marker_function\u001b[0m \u001b[0;34m=\u001b[0m \u001b[0;32mNone\u001b[0m\u001b[0;34m\u001b[0m\u001b[0;34m\u001b[0m\u001b[0m\n\u001b[0;32m--> 224\u001b[0;31m         \u001b[0mself\u001b[0m\u001b[0;34m.\u001b[0m\u001b[0mset_fillstyle\u001b[0m\u001b[0;34m(\u001b[0m\u001b[0mfillstyle\u001b[0m\u001b[0;34m)\u001b[0m\u001b[0;34m\u001b[0m\u001b[0;34m\u001b[0m\u001b[0m\n\u001b[0m\u001b[1;32m    225\u001b[0m         \u001b[0mself\u001b[0m\u001b[0;34m.\u001b[0m\u001b[0mset_marker\u001b[0m\u001b[0;34m(\u001b[0m\u001b[0mmarker\u001b[0m\u001b[0;34m)\u001b[0m\u001b[0;34m\u001b[0m\u001b[0;34m\u001b[0m\u001b[0m\n\u001b[1;32m    226\u001b[0m \u001b[0;34m\u001b[0m\u001b[0m\n",
            "\u001b[0;32m/usr/local/lib/python3.7/dist-packages/matplotlib/markers.py\u001b[0m in \u001b[0;36mset_fillstyle\u001b[0;34m(self, fillstyle)\u001b[0m\n\u001b[1;32m    255\u001b[0m         \u001b[0mfillstyle\u001b[0m \u001b[0;34m:\u001b[0m \u001b[0mstring\u001b[0m \u001b[0mamongst\u001b[0m \u001b[0mknown\u001b[0m \u001b[0mfillstyles\u001b[0m\u001b[0;34m\u001b[0m\u001b[0;34m\u001b[0m\u001b[0m\n\u001b[1;32m    256\u001b[0m         \"\"\"\n\u001b[0;32m--> 257\u001b[0;31m         \u001b[0;32mif\u001b[0m \u001b[0mfillstyle\u001b[0m \u001b[0;32mis\u001b[0m \u001b[0;32mNone\u001b[0m\u001b[0;34m:\u001b[0m\u001b[0;34m\u001b[0m\u001b[0;34m\u001b[0m\u001b[0m\n\u001b[0m\u001b[1;32m    258\u001b[0m             \u001b[0mfillstyle\u001b[0m \u001b[0;34m=\u001b[0m \u001b[0mrcParams\u001b[0m\u001b[0;34m[\u001b[0m\u001b[0;34m'markers.fillstyle'\u001b[0m\u001b[0;34m]\u001b[0m\u001b[0;34m\u001b[0m\u001b[0;34m\u001b[0m\u001b[0m\n\u001b[1;32m    259\u001b[0m         \u001b[0mcbook\u001b[0m\u001b[0;34m.\u001b[0m\u001b[0m_check_in_list\u001b[0m\u001b[0;34m(\u001b[0m\u001b[0mself\u001b[0m\u001b[0;34m.\u001b[0m\u001b[0mfillstyles\u001b[0m\u001b[0;34m,\u001b[0m \u001b[0mfillstyle\u001b[0m\u001b[0;34m=\u001b[0m\u001b[0mfillstyle\u001b[0m\u001b[0;34m)\u001b[0m\u001b[0;34m\u001b[0m\u001b[0;34m\u001b[0m\u001b[0m\n",
            "\u001b[0;31mKeyboardInterrupt\u001b[0m: "
          ]
        },
        {
          "output_type": "stream",
          "name": "stdout",
          "text": [
            "Error in callback <function install_repl_displayhook.<locals>.post_execute at 0x7f21eb248710> (for post_execute):\n"
          ]
        },
        {
          "output_type": "error",
          "ename": "KeyboardInterrupt",
          "evalue": "ignored",
          "traceback": [
            "\u001b[0;31m---------------------------------------------------------------------------\u001b[0m",
            "\u001b[0;31mKeyboardInterrupt\u001b[0m                         Traceback (most recent call last)",
            "\u001b[0;32m/usr/local/lib/python3.7/dist-packages/matplotlib/pyplot.py\u001b[0m in \u001b[0;36mpost_execute\u001b[0;34m()\u001b[0m\n\u001b[1;32m    107\u001b[0m             \u001b[0;32mdef\u001b[0m \u001b[0mpost_execute\u001b[0m\u001b[0;34m(\u001b[0m\u001b[0;34m)\u001b[0m\u001b[0;34m:\u001b[0m\u001b[0;34m\u001b[0m\u001b[0;34m\u001b[0m\u001b[0m\n\u001b[1;32m    108\u001b[0m                 \u001b[0;32mif\u001b[0m \u001b[0mmatplotlib\u001b[0m\u001b[0;34m.\u001b[0m\u001b[0mis_interactive\u001b[0m\u001b[0;34m(\u001b[0m\u001b[0;34m)\u001b[0m\u001b[0;34m:\u001b[0m\u001b[0;34m\u001b[0m\u001b[0;34m\u001b[0m\u001b[0m\n\u001b[0;32m--> 109\u001b[0;31m                     \u001b[0mdraw_all\u001b[0m\u001b[0;34m(\u001b[0m\u001b[0;34m)\u001b[0m\u001b[0;34m\u001b[0m\u001b[0;34m\u001b[0m\u001b[0m\n\u001b[0m\u001b[1;32m    110\u001b[0m \u001b[0;34m\u001b[0m\u001b[0m\n\u001b[1;32m    111\u001b[0m             \u001b[0;31m# IPython >= 2\u001b[0m\u001b[0;34m\u001b[0m\u001b[0;34m\u001b[0m\u001b[0;34m\u001b[0m\u001b[0m\n",
            "\u001b[0;32m/usr/local/lib/python3.7/dist-packages/matplotlib/_pylab_helpers.py\u001b[0m in \u001b[0;36mdraw_all\u001b[0;34m(cls, force)\u001b[0m\n\u001b[1;32m    125\u001b[0m         \u001b[0;32mfor\u001b[0m \u001b[0mf_mgr\u001b[0m \u001b[0;32min\u001b[0m \u001b[0mcls\u001b[0m\u001b[0;34m.\u001b[0m\u001b[0mget_all_fig_managers\u001b[0m\u001b[0;34m(\u001b[0m\u001b[0;34m)\u001b[0m\u001b[0;34m:\u001b[0m\u001b[0;34m\u001b[0m\u001b[0;34m\u001b[0m\u001b[0m\n\u001b[1;32m    126\u001b[0m             \u001b[0;32mif\u001b[0m \u001b[0mforce\u001b[0m \u001b[0;32mor\u001b[0m \u001b[0mf_mgr\u001b[0m\u001b[0;34m.\u001b[0m\u001b[0mcanvas\u001b[0m\u001b[0;34m.\u001b[0m\u001b[0mfigure\u001b[0m\u001b[0;34m.\u001b[0m\u001b[0mstale\u001b[0m\u001b[0;34m:\u001b[0m\u001b[0;34m\u001b[0m\u001b[0;34m\u001b[0m\u001b[0m\n\u001b[0;32m--> 127\u001b[0;31m                 \u001b[0mf_mgr\u001b[0m\u001b[0;34m.\u001b[0m\u001b[0mcanvas\u001b[0m\u001b[0;34m.\u001b[0m\u001b[0mdraw_idle\u001b[0m\u001b[0;34m(\u001b[0m\u001b[0;34m)\u001b[0m\u001b[0;34m\u001b[0m\u001b[0;34m\u001b[0m\u001b[0m\n\u001b[0m\u001b[1;32m    128\u001b[0m \u001b[0;34m\u001b[0m\u001b[0m\n\u001b[1;32m    129\u001b[0m \u001b[0matexit\u001b[0m\u001b[0;34m.\u001b[0m\u001b[0mregister\u001b[0m\u001b[0;34m(\u001b[0m\u001b[0mGcf\u001b[0m\u001b[0;34m.\u001b[0m\u001b[0mdestroy_all\u001b[0m\u001b[0;34m)\u001b[0m\u001b[0;34m\u001b[0m\u001b[0;34m\u001b[0m\u001b[0m\n",
            "\u001b[0;32m/usr/local/lib/python3.7/dist-packages/matplotlib/backend_bases.py\u001b[0m in \u001b[0;36mdraw_idle\u001b[0;34m(self, *args, **kwargs)\u001b[0m\n\u001b[1;32m   1945\u001b[0m         \u001b[0;32mif\u001b[0m \u001b[0;32mnot\u001b[0m \u001b[0mself\u001b[0m\u001b[0;34m.\u001b[0m\u001b[0m_is_idle_drawing\u001b[0m\u001b[0;34m:\u001b[0m\u001b[0;34m\u001b[0m\u001b[0;34m\u001b[0m\u001b[0m\n\u001b[1;32m   1946\u001b[0m             \u001b[0;32mwith\u001b[0m \u001b[0mself\u001b[0m\u001b[0;34m.\u001b[0m\u001b[0m_idle_draw_cntx\u001b[0m\u001b[0;34m(\u001b[0m\u001b[0;34m)\u001b[0m\u001b[0;34m:\u001b[0m\u001b[0;34m\u001b[0m\u001b[0;34m\u001b[0m\u001b[0m\n\u001b[0;32m-> 1947\u001b[0;31m                 \u001b[0mself\u001b[0m\u001b[0;34m.\u001b[0m\u001b[0mdraw\u001b[0m\u001b[0;34m(\u001b[0m\u001b[0;34m*\u001b[0m\u001b[0margs\u001b[0m\u001b[0;34m,\u001b[0m \u001b[0;34m**\u001b[0m\u001b[0mkwargs\u001b[0m\u001b[0;34m)\u001b[0m\u001b[0;34m\u001b[0m\u001b[0;34m\u001b[0m\u001b[0m\n\u001b[0m\u001b[1;32m   1948\u001b[0m \u001b[0;34m\u001b[0m\u001b[0m\n\u001b[1;32m   1949\u001b[0m     \u001b[0;34m@\u001b[0m\u001b[0mcbook\u001b[0m\u001b[0;34m.\u001b[0m\u001b[0mdeprecated\u001b[0m\u001b[0;34m(\u001b[0m\u001b[0;34m\"3.2\"\u001b[0m\u001b[0;34m)\u001b[0m\u001b[0;34m\u001b[0m\u001b[0;34m\u001b[0m\u001b[0m\n",
            "\u001b[0;32m/usr/local/lib/python3.7/dist-packages/matplotlib/backends/backend_agg.py\u001b[0m in \u001b[0;36mdraw\u001b[0;34m(self)\u001b[0m\n\u001b[1;32m    391\u001b[0m              (self.toolbar._wait_cursor_for_draw_cm() if self.toolbar\n\u001b[1;32m    392\u001b[0m               else nullcontext()):\n\u001b[0;32m--> 393\u001b[0;31m             \u001b[0mself\u001b[0m\u001b[0;34m.\u001b[0m\u001b[0mfigure\u001b[0m\u001b[0;34m.\u001b[0m\u001b[0mdraw\u001b[0m\u001b[0;34m(\u001b[0m\u001b[0mself\u001b[0m\u001b[0;34m.\u001b[0m\u001b[0mrenderer\u001b[0m\u001b[0;34m)\u001b[0m\u001b[0;34m\u001b[0m\u001b[0;34m\u001b[0m\u001b[0m\n\u001b[0m\u001b[1;32m    394\u001b[0m             \u001b[0;31m# A GUI class may be need to update a window using this draw, so\u001b[0m\u001b[0;34m\u001b[0m\u001b[0;34m\u001b[0m\u001b[0;34m\u001b[0m\u001b[0m\n\u001b[1;32m    395\u001b[0m             \u001b[0;31m# don't forget to call the superclass.\u001b[0m\u001b[0;34m\u001b[0m\u001b[0;34m\u001b[0m\u001b[0;34m\u001b[0m\u001b[0m\n",
            "\u001b[0;32m/usr/local/lib/python3.7/dist-packages/matplotlib/artist.py\u001b[0m in \u001b[0;36mdraw_wrapper\u001b[0;34m(artist, renderer, *args, **kwargs)\u001b[0m\n\u001b[1;32m     36\u001b[0m                 \u001b[0mrenderer\u001b[0m\u001b[0;34m.\u001b[0m\u001b[0mstart_filter\u001b[0m\u001b[0;34m(\u001b[0m\u001b[0;34m)\u001b[0m\u001b[0;34m\u001b[0m\u001b[0;34m\u001b[0m\u001b[0m\n\u001b[1;32m     37\u001b[0m \u001b[0;34m\u001b[0m\u001b[0m\n\u001b[0;32m---> 38\u001b[0;31m             \u001b[0;32mreturn\u001b[0m \u001b[0mdraw\u001b[0m\u001b[0;34m(\u001b[0m\u001b[0martist\u001b[0m\u001b[0;34m,\u001b[0m \u001b[0mrenderer\u001b[0m\u001b[0;34m,\u001b[0m \u001b[0;34m*\u001b[0m\u001b[0margs\u001b[0m\u001b[0;34m,\u001b[0m \u001b[0;34m**\u001b[0m\u001b[0mkwargs\u001b[0m\u001b[0;34m)\u001b[0m\u001b[0;34m\u001b[0m\u001b[0;34m\u001b[0m\u001b[0m\n\u001b[0m\u001b[1;32m     39\u001b[0m         \u001b[0;32mfinally\u001b[0m\u001b[0;34m:\u001b[0m\u001b[0;34m\u001b[0m\u001b[0;34m\u001b[0m\u001b[0m\n\u001b[1;32m     40\u001b[0m             \u001b[0;32mif\u001b[0m \u001b[0martist\u001b[0m\u001b[0;34m.\u001b[0m\u001b[0mget_agg_filter\u001b[0m\u001b[0;34m(\u001b[0m\u001b[0;34m)\u001b[0m \u001b[0;32mis\u001b[0m \u001b[0;32mnot\u001b[0m \u001b[0;32mNone\u001b[0m\u001b[0;34m:\u001b[0m\u001b[0;34m\u001b[0m\u001b[0;34m\u001b[0m\u001b[0m\n",
            "\u001b[0;32m/usr/local/lib/python3.7/dist-packages/matplotlib/figure.py\u001b[0m in \u001b[0;36mdraw\u001b[0;34m(self, renderer)\u001b[0m\n\u001b[1;32m   1734\u001b[0m             \u001b[0mself\u001b[0m\u001b[0;34m.\u001b[0m\u001b[0mpatch\u001b[0m\u001b[0;34m.\u001b[0m\u001b[0mdraw\u001b[0m\u001b[0;34m(\u001b[0m\u001b[0mrenderer\u001b[0m\u001b[0;34m)\u001b[0m\u001b[0;34m\u001b[0m\u001b[0;34m\u001b[0m\u001b[0m\n\u001b[1;32m   1735\u001b[0m             mimage._draw_list_compositing_images(\n\u001b[0;32m-> 1736\u001b[0;31m                 renderer, self, artists, self.suppressComposite)\n\u001b[0m\u001b[1;32m   1737\u001b[0m \u001b[0;34m\u001b[0m\u001b[0m\n\u001b[1;32m   1738\u001b[0m             \u001b[0mrenderer\u001b[0m\u001b[0;34m.\u001b[0m\u001b[0mclose_group\u001b[0m\u001b[0;34m(\u001b[0m\u001b[0;34m'figure'\u001b[0m\u001b[0;34m)\u001b[0m\u001b[0;34m\u001b[0m\u001b[0;34m\u001b[0m\u001b[0m\n",
            "\u001b[0;32m/usr/local/lib/python3.7/dist-packages/matplotlib/image.py\u001b[0m in \u001b[0;36m_draw_list_compositing_images\u001b[0;34m(renderer, parent, artists, suppress_composite)\u001b[0m\n\u001b[1;32m    135\u001b[0m     \u001b[0;32mif\u001b[0m \u001b[0mnot_composite\u001b[0m \u001b[0;32mor\u001b[0m \u001b[0;32mnot\u001b[0m \u001b[0mhas_images\u001b[0m\u001b[0;34m:\u001b[0m\u001b[0;34m\u001b[0m\u001b[0;34m\u001b[0m\u001b[0m\n\u001b[1;32m    136\u001b[0m         \u001b[0;32mfor\u001b[0m \u001b[0ma\u001b[0m \u001b[0;32min\u001b[0m \u001b[0martists\u001b[0m\u001b[0;34m:\u001b[0m\u001b[0;34m\u001b[0m\u001b[0;34m\u001b[0m\u001b[0m\n\u001b[0;32m--> 137\u001b[0;31m             \u001b[0ma\u001b[0m\u001b[0;34m.\u001b[0m\u001b[0mdraw\u001b[0m\u001b[0;34m(\u001b[0m\u001b[0mrenderer\u001b[0m\u001b[0;34m)\u001b[0m\u001b[0;34m\u001b[0m\u001b[0;34m\u001b[0m\u001b[0m\n\u001b[0m\u001b[1;32m    138\u001b[0m     \u001b[0;32melse\u001b[0m\u001b[0;34m:\u001b[0m\u001b[0;34m\u001b[0m\u001b[0;34m\u001b[0m\u001b[0m\n\u001b[1;32m    139\u001b[0m         \u001b[0;31m# Composite any adjacent images together\u001b[0m\u001b[0;34m\u001b[0m\u001b[0;34m\u001b[0m\u001b[0;34m\u001b[0m\u001b[0m\n",
            "\u001b[0;32m/usr/local/lib/python3.7/dist-packages/matplotlib/artist.py\u001b[0m in \u001b[0;36mdraw_wrapper\u001b[0;34m(artist, renderer, *args, **kwargs)\u001b[0m\n\u001b[1;32m     36\u001b[0m                 \u001b[0mrenderer\u001b[0m\u001b[0;34m.\u001b[0m\u001b[0mstart_filter\u001b[0m\u001b[0;34m(\u001b[0m\u001b[0;34m)\u001b[0m\u001b[0;34m\u001b[0m\u001b[0;34m\u001b[0m\u001b[0m\n\u001b[1;32m     37\u001b[0m \u001b[0;34m\u001b[0m\u001b[0m\n\u001b[0;32m---> 38\u001b[0;31m             \u001b[0;32mreturn\u001b[0m \u001b[0mdraw\u001b[0m\u001b[0;34m(\u001b[0m\u001b[0martist\u001b[0m\u001b[0;34m,\u001b[0m \u001b[0mrenderer\u001b[0m\u001b[0;34m,\u001b[0m \u001b[0;34m*\u001b[0m\u001b[0margs\u001b[0m\u001b[0;34m,\u001b[0m \u001b[0;34m**\u001b[0m\u001b[0mkwargs\u001b[0m\u001b[0;34m)\u001b[0m\u001b[0;34m\u001b[0m\u001b[0;34m\u001b[0m\u001b[0m\n\u001b[0m\u001b[1;32m     39\u001b[0m         \u001b[0;32mfinally\u001b[0m\u001b[0;34m:\u001b[0m\u001b[0;34m\u001b[0m\u001b[0;34m\u001b[0m\u001b[0m\n\u001b[1;32m     40\u001b[0m             \u001b[0;32mif\u001b[0m \u001b[0martist\u001b[0m\u001b[0;34m.\u001b[0m\u001b[0mget_agg_filter\u001b[0m\u001b[0;34m(\u001b[0m\u001b[0;34m)\u001b[0m \u001b[0;32mis\u001b[0m \u001b[0;32mnot\u001b[0m \u001b[0;32mNone\u001b[0m\u001b[0;34m:\u001b[0m\u001b[0;34m\u001b[0m\u001b[0;34m\u001b[0m\u001b[0m\n",
            "\u001b[0;32m/usr/local/lib/python3.7/dist-packages/matplotlib/axes/_base.py\u001b[0m in \u001b[0;36mdraw\u001b[0;34m(self, renderer, inframe)\u001b[0m\n\u001b[1;32m   2628\u001b[0m             \u001b[0mrenderer\u001b[0m\u001b[0;34m.\u001b[0m\u001b[0mstop_rasterizing\u001b[0m\u001b[0;34m(\u001b[0m\u001b[0;34m)\u001b[0m\u001b[0;34m\u001b[0m\u001b[0;34m\u001b[0m\u001b[0m\n\u001b[1;32m   2629\u001b[0m \u001b[0;34m\u001b[0m\u001b[0m\n\u001b[0;32m-> 2630\u001b[0;31m         \u001b[0mmimage\u001b[0m\u001b[0;34m.\u001b[0m\u001b[0m_draw_list_compositing_images\u001b[0m\u001b[0;34m(\u001b[0m\u001b[0mrenderer\u001b[0m\u001b[0;34m,\u001b[0m \u001b[0mself\u001b[0m\u001b[0;34m,\u001b[0m \u001b[0martists\u001b[0m\u001b[0;34m)\u001b[0m\u001b[0;34m\u001b[0m\u001b[0;34m\u001b[0m\u001b[0m\n\u001b[0m\u001b[1;32m   2631\u001b[0m \u001b[0;34m\u001b[0m\u001b[0m\n\u001b[1;32m   2632\u001b[0m         \u001b[0mrenderer\u001b[0m\u001b[0;34m.\u001b[0m\u001b[0mclose_group\u001b[0m\u001b[0;34m(\u001b[0m\u001b[0;34m'axes'\u001b[0m\u001b[0;34m)\u001b[0m\u001b[0;34m\u001b[0m\u001b[0;34m\u001b[0m\u001b[0m\n",
            "\u001b[0;32m/usr/local/lib/python3.7/dist-packages/matplotlib/image.py\u001b[0m in \u001b[0;36m_draw_list_compositing_images\u001b[0;34m(renderer, parent, artists, suppress_composite)\u001b[0m\n\u001b[1;32m    135\u001b[0m     \u001b[0;32mif\u001b[0m \u001b[0mnot_composite\u001b[0m \u001b[0;32mor\u001b[0m \u001b[0;32mnot\u001b[0m \u001b[0mhas_images\u001b[0m\u001b[0;34m:\u001b[0m\u001b[0;34m\u001b[0m\u001b[0;34m\u001b[0m\u001b[0m\n\u001b[1;32m    136\u001b[0m         \u001b[0;32mfor\u001b[0m \u001b[0ma\u001b[0m \u001b[0;32min\u001b[0m \u001b[0martists\u001b[0m\u001b[0;34m:\u001b[0m\u001b[0;34m\u001b[0m\u001b[0;34m\u001b[0m\u001b[0m\n\u001b[0;32m--> 137\u001b[0;31m             \u001b[0ma\u001b[0m\u001b[0;34m.\u001b[0m\u001b[0mdraw\u001b[0m\u001b[0;34m(\u001b[0m\u001b[0mrenderer\u001b[0m\u001b[0;34m)\u001b[0m\u001b[0;34m\u001b[0m\u001b[0;34m\u001b[0m\u001b[0m\n\u001b[0m\u001b[1;32m    138\u001b[0m     \u001b[0;32melse\u001b[0m\u001b[0;34m:\u001b[0m\u001b[0;34m\u001b[0m\u001b[0;34m\u001b[0m\u001b[0m\n\u001b[1;32m    139\u001b[0m         \u001b[0;31m# Composite any adjacent images together\u001b[0m\u001b[0;34m\u001b[0m\u001b[0;34m\u001b[0m\u001b[0;34m\u001b[0m\u001b[0m\n",
            "\u001b[0;32m/usr/local/lib/python3.7/dist-packages/matplotlib/artist.py\u001b[0m in \u001b[0;36mdraw_wrapper\u001b[0;34m(artist, renderer, *args, **kwargs)\u001b[0m\n\u001b[1;32m     36\u001b[0m                 \u001b[0mrenderer\u001b[0m\u001b[0;34m.\u001b[0m\u001b[0mstart_filter\u001b[0m\u001b[0;34m(\u001b[0m\u001b[0;34m)\u001b[0m\u001b[0;34m\u001b[0m\u001b[0;34m\u001b[0m\u001b[0m\n\u001b[1;32m     37\u001b[0m \u001b[0;34m\u001b[0m\u001b[0m\n\u001b[0;32m---> 38\u001b[0;31m             \u001b[0;32mreturn\u001b[0m \u001b[0mdraw\u001b[0m\u001b[0;34m(\u001b[0m\u001b[0martist\u001b[0m\u001b[0;34m,\u001b[0m \u001b[0mrenderer\u001b[0m\u001b[0;34m,\u001b[0m \u001b[0;34m*\u001b[0m\u001b[0margs\u001b[0m\u001b[0;34m,\u001b[0m \u001b[0;34m**\u001b[0m\u001b[0mkwargs\u001b[0m\u001b[0;34m)\u001b[0m\u001b[0;34m\u001b[0m\u001b[0;34m\u001b[0m\u001b[0m\n\u001b[0m\u001b[1;32m     39\u001b[0m         \u001b[0;32mfinally\u001b[0m\u001b[0;34m:\u001b[0m\u001b[0;34m\u001b[0m\u001b[0;34m\u001b[0m\u001b[0m\n\u001b[1;32m     40\u001b[0m             \u001b[0;32mif\u001b[0m \u001b[0martist\u001b[0m\u001b[0;34m.\u001b[0m\u001b[0mget_agg_filter\u001b[0m\u001b[0;34m(\u001b[0m\u001b[0;34m)\u001b[0m \u001b[0;32mis\u001b[0m \u001b[0;32mnot\u001b[0m \u001b[0;32mNone\u001b[0m\u001b[0;34m:\u001b[0m\u001b[0;34m\u001b[0m\u001b[0;34m\u001b[0m\u001b[0m\n",
            "\u001b[0;32m/usr/local/lib/python3.7/dist-packages/matplotlib/spines.py\u001b[0m in \u001b[0;36mdraw\u001b[0;34m(self, renderer)\u001b[0m\n\u001b[1;32m    374\u001b[0m     \u001b[0;34m@\u001b[0m\u001b[0mallow_rasterization\u001b[0m\u001b[0;34m\u001b[0m\u001b[0;34m\u001b[0m\u001b[0m\n\u001b[1;32m    375\u001b[0m     \u001b[0;32mdef\u001b[0m \u001b[0mdraw\u001b[0m\u001b[0;34m(\u001b[0m\u001b[0mself\u001b[0m\u001b[0;34m,\u001b[0m \u001b[0mrenderer\u001b[0m\u001b[0;34m)\u001b[0m\u001b[0;34m:\u001b[0m\u001b[0;34m\u001b[0m\u001b[0;34m\u001b[0m\u001b[0m\n\u001b[0;32m--> 376\u001b[0;31m         \u001b[0mself\u001b[0m\u001b[0;34m.\u001b[0m\u001b[0m_adjust_location\u001b[0m\u001b[0;34m(\u001b[0m\u001b[0;34m)\u001b[0m\u001b[0;34m\u001b[0m\u001b[0;34m\u001b[0m\u001b[0m\n\u001b[0m\u001b[1;32m    377\u001b[0m         \u001b[0mret\u001b[0m \u001b[0;34m=\u001b[0m \u001b[0msuper\u001b[0m\u001b[0;34m(\u001b[0m\u001b[0;34m)\u001b[0m\u001b[0;34m.\u001b[0m\u001b[0mdraw\u001b[0m\u001b[0;34m(\u001b[0m\u001b[0mrenderer\u001b[0m\u001b[0;34m)\u001b[0m\u001b[0;34m\u001b[0m\u001b[0;34m\u001b[0m\u001b[0m\n\u001b[1;32m    378\u001b[0m         \u001b[0mself\u001b[0m\u001b[0;34m.\u001b[0m\u001b[0mstale\u001b[0m \u001b[0;34m=\u001b[0m \u001b[0;32mFalse\u001b[0m\u001b[0;34m\u001b[0m\u001b[0;34m\u001b[0m\u001b[0m\n",
            "\u001b[0;32m/usr/local/lib/python3.7/dist-packages/matplotlib/spines.py\u001b[0m in \u001b[0;36m_adjust_location\u001b[0;34m(self)\u001b[0m\n\u001b[1;32m    274\u001b[0m                 \u001b[0mlow\u001b[0m\u001b[0;34m,\u001b[0m \u001b[0mhigh\u001b[0m \u001b[0;34m=\u001b[0m \u001b[0mself\u001b[0m\u001b[0;34m.\u001b[0m\u001b[0maxes\u001b[0m\u001b[0;34m.\u001b[0m\u001b[0mviewLim\u001b[0m\u001b[0;34m.\u001b[0m\u001b[0mintervaly\u001b[0m\u001b[0;34m\u001b[0m\u001b[0;34m\u001b[0m\u001b[0m\n\u001b[1;32m    275\u001b[0m             \u001b[0;32melif\u001b[0m \u001b[0mself\u001b[0m\u001b[0;34m.\u001b[0m\u001b[0mspine_type\u001b[0m \u001b[0;32min\u001b[0m \u001b[0;34m(\u001b[0m\u001b[0;34m'top'\u001b[0m\u001b[0;34m,\u001b[0m \u001b[0;34m'bottom'\u001b[0m\u001b[0;34m)\u001b[0m\u001b[0;34m:\u001b[0m\u001b[0;34m\u001b[0m\u001b[0;34m\u001b[0m\u001b[0m\n\u001b[0;32m--> 276\u001b[0;31m                 \u001b[0mlow\u001b[0m\u001b[0;34m,\u001b[0m \u001b[0mhigh\u001b[0m \u001b[0;34m=\u001b[0m \u001b[0mself\u001b[0m\u001b[0;34m.\u001b[0m\u001b[0maxes\u001b[0m\u001b[0;34m.\u001b[0m\u001b[0mviewLim\u001b[0m\u001b[0;34m.\u001b[0m\u001b[0mintervalx\u001b[0m\u001b[0;34m\u001b[0m\u001b[0;34m\u001b[0m\u001b[0m\n\u001b[0m\u001b[1;32m    277\u001b[0m             \u001b[0;32melse\u001b[0m\u001b[0;34m:\u001b[0m\u001b[0;34m\u001b[0m\u001b[0;34m\u001b[0m\u001b[0m\n\u001b[1;32m    278\u001b[0m                 raise ValueError('unknown spine spine_type: %s' %\n",
            "\u001b[0;32m/usr/local/lib/python3.7/dist-packages/matplotlib/axes/_base.py\u001b[0m in \u001b[0;36mviewLim\u001b[0;34m(self)\u001b[0m\n\u001b[1;32m    597\u001b[0m     \u001b[0;34m@\u001b[0m\u001b[0mproperty\u001b[0m\u001b[0;34m\u001b[0m\u001b[0;34m\u001b[0m\u001b[0m\n\u001b[1;32m    598\u001b[0m     \u001b[0;32mdef\u001b[0m \u001b[0mviewLim\u001b[0m\u001b[0;34m(\u001b[0m\u001b[0mself\u001b[0m\u001b[0;34m)\u001b[0m\u001b[0;34m:\u001b[0m\u001b[0;34m\u001b[0m\u001b[0;34m\u001b[0m\u001b[0m\n\u001b[0;32m--> 599\u001b[0;31m         \u001b[0mself\u001b[0m\u001b[0;34m.\u001b[0m\u001b[0m_unstale_viewLim\u001b[0m\u001b[0;34m(\u001b[0m\u001b[0;34m)\u001b[0m\u001b[0;34m\u001b[0m\u001b[0;34m\u001b[0m\u001b[0m\n\u001b[0m\u001b[1;32m    600\u001b[0m         \u001b[0;32mreturn\u001b[0m \u001b[0mself\u001b[0m\u001b[0;34m.\u001b[0m\u001b[0m_viewLim\u001b[0m\u001b[0;34m\u001b[0m\u001b[0;34m\u001b[0m\u001b[0m\n\u001b[1;32m    601\u001b[0m \u001b[0;34m\u001b[0m\u001b[0m\n",
            "\u001b[0;32m/usr/local/lib/python3.7/dist-packages/matplotlib/axes/_base.py\u001b[0m in \u001b[0;36m_unstale_viewLim\u001b[0;34m(self)\u001b[0m\n\u001b[1;32m    587\u001b[0m                      for ax in self._shared_x_axes.get_siblings(self))\n\u001b[1;32m    588\u001b[0m         scaley = any(ax._stale_viewlim_y\n\u001b[0;32m--> 589\u001b[0;31m                      for ax in self._shared_y_axes.get_siblings(self))\n\u001b[0m\u001b[1;32m    590\u001b[0m         \u001b[0;32mif\u001b[0m \u001b[0mscalex\u001b[0m \u001b[0;32mor\u001b[0m \u001b[0mscaley\u001b[0m\u001b[0;34m:\u001b[0m\u001b[0;34m\u001b[0m\u001b[0;34m\u001b[0m\u001b[0m\n\u001b[1;32m    591\u001b[0m             \u001b[0;32mfor\u001b[0m \u001b[0max\u001b[0m \u001b[0;32min\u001b[0m \u001b[0mself\u001b[0m\u001b[0;34m.\u001b[0m\u001b[0m_shared_x_axes\u001b[0m\u001b[0;34m.\u001b[0m\u001b[0mget_siblings\u001b[0m\u001b[0;34m(\u001b[0m\u001b[0mself\u001b[0m\u001b[0;34m)\u001b[0m\u001b[0;34m:\u001b[0m\u001b[0;34m\u001b[0m\u001b[0;34m\u001b[0m\u001b[0m\n",
            "\u001b[0;32m/usr/local/lib/python3.7/dist-packages/matplotlib/cbook/__init__.py\u001b[0m in \u001b[0;36mget_siblings\u001b[0;34m(self, a)\u001b[0m\n\u001b[1;32m    882\u001b[0m     \u001b[0;32mdef\u001b[0m \u001b[0mget_siblings\u001b[0m\u001b[0;34m(\u001b[0m\u001b[0mself\u001b[0m\u001b[0;34m,\u001b[0m \u001b[0ma\u001b[0m\u001b[0;34m)\u001b[0m\u001b[0;34m:\u001b[0m\u001b[0;34m\u001b[0m\u001b[0;34m\u001b[0m\u001b[0m\n\u001b[1;32m    883\u001b[0m         \u001b[0;34m\"\"\"Return all of the items joined with *a*, including itself.\"\"\"\u001b[0m\u001b[0;34m\u001b[0m\u001b[0;34m\u001b[0m\u001b[0m\n\u001b[0;32m--> 884\u001b[0;31m         \u001b[0mself\u001b[0m\u001b[0;34m.\u001b[0m\u001b[0mclean\u001b[0m\u001b[0;34m(\u001b[0m\u001b[0;34m)\u001b[0m\u001b[0;34m\u001b[0m\u001b[0;34m\u001b[0m\u001b[0m\n\u001b[0m\u001b[1;32m    885\u001b[0m         \u001b[0msiblings\u001b[0m \u001b[0;34m=\u001b[0m \u001b[0mself\u001b[0m\u001b[0;34m.\u001b[0m\u001b[0m_mapping\u001b[0m\u001b[0;34m.\u001b[0m\u001b[0mget\u001b[0m\u001b[0;34m(\u001b[0m\u001b[0mweakref\u001b[0m\u001b[0;34m.\u001b[0m\u001b[0mref\u001b[0m\u001b[0;34m(\u001b[0m\u001b[0ma\u001b[0m\u001b[0;34m)\u001b[0m\u001b[0;34m,\u001b[0m \u001b[0;34m[\u001b[0m\u001b[0mweakref\u001b[0m\u001b[0;34m.\u001b[0m\u001b[0mref\u001b[0m\u001b[0;34m(\u001b[0m\u001b[0ma\u001b[0m\u001b[0;34m)\u001b[0m\u001b[0;34m]\u001b[0m\u001b[0;34m)\u001b[0m\u001b[0;34m\u001b[0m\u001b[0;34m\u001b[0m\u001b[0m\n\u001b[1;32m    886\u001b[0m         \u001b[0;32mreturn\u001b[0m \u001b[0;34m[\u001b[0m\u001b[0mx\u001b[0m\u001b[0;34m(\u001b[0m\u001b[0;34m)\u001b[0m \u001b[0;32mfor\u001b[0m \u001b[0mx\u001b[0m \u001b[0;32min\u001b[0m \u001b[0msiblings\u001b[0m\u001b[0;34m]\u001b[0m\u001b[0;34m\u001b[0m\u001b[0;34m\u001b[0m\u001b[0m\n",
            "\u001b[0;32m/usr/local/lib/python3.7/dist-packages/matplotlib/cbook/__init__.py\u001b[0m in \u001b[0;36mclean\u001b[0;34m(self)\u001b[0m\n\u001b[1;32m    834\u001b[0m         \u001b[0;34m\"\"\"Clean dead weak references from the dictionary.\"\"\"\u001b[0m\u001b[0;34m\u001b[0m\u001b[0;34m\u001b[0m\u001b[0m\n\u001b[1;32m    835\u001b[0m         \u001b[0mmapping\u001b[0m \u001b[0;34m=\u001b[0m \u001b[0mself\u001b[0m\u001b[0;34m.\u001b[0m\u001b[0m_mapping\u001b[0m\u001b[0;34m\u001b[0m\u001b[0;34m\u001b[0m\u001b[0m\n\u001b[0;32m--> 836\u001b[0;31m         \u001b[0mto_drop\u001b[0m \u001b[0;34m=\u001b[0m \u001b[0;34m[\u001b[0m\u001b[0mkey\u001b[0m \u001b[0;32mfor\u001b[0m \u001b[0mkey\u001b[0m \u001b[0;32min\u001b[0m \u001b[0mmapping\u001b[0m \u001b[0;32mif\u001b[0m \u001b[0mkey\u001b[0m\u001b[0;34m(\u001b[0m\u001b[0;34m)\u001b[0m \u001b[0;32mis\u001b[0m \u001b[0;32mNone\u001b[0m\u001b[0;34m]\u001b[0m\u001b[0;34m\u001b[0m\u001b[0;34m\u001b[0m\u001b[0m\n\u001b[0m\u001b[1;32m    837\u001b[0m         \u001b[0;32mfor\u001b[0m \u001b[0mkey\u001b[0m \u001b[0;32min\u001b[0m \u001b[0mto_drop\u001b[0m\u001b[0;34m:\u001b[0m\u001b[0;34m\u001b[0m\u001b[0;34m\u001b[0m\u001b[0m\n\u001b[1;32m    838\u001b[0m             \u001b[0mval\u001b[0m \u001b[0;34m=\u001b[0m \u001b[0mmapping\u001b[0m\u001b[0;34m.\u001b[0m\u001b[0mpop\u001b[0m\u001b[0;34m(\u001b[0m\u001b[0mkey\u001b[0m\u001b[0;34m)\u001b[0m\u001b[0;34m\u001b[0m\u001b[0;34m\u001b[0m\u001b[0m\n",
            "\u001b[0;32m/usr/local/lib/python3.7/dist-packages/matplotlib/cbook/__init__.py\u001b[0m in \u001b[0;36m<listcomp>\u001b[0;34m(.0)\u001b[0m\n\u001b[1;32m    834\u001b[0m         \u001b[0;34m\"\"\"Clean dead weak references from the dictionary.\"\"\"\u001b[0m\u001b[0;34m\u001b[0m\u001b[0;34m\u001b[0m\u001b[0m\n\u001b[1;32m    835\u001b[0m         \u001b[0mmapping\u001b[0m \u001b[0;34m=\u001b[0m \u001b[0mself\u001b[0m\u001b[0;34m.\u001b[0m\u001b[0m_mapping\u001b[0m\u001b[0;34m\u001b[0m\u001b[0;34m\u001b[0m\u001b[0m\n\u001b[0;32m--> 836\u001b[0;31m         \u001b[0mto_drop\u001b[0m \u001b[0;34m=\u001b[0m \u001b[0;34m[\u001b[0m\u001b[0mkey\u001b[0m \u001b[0;32mfor\u001b[0m \u001b[0mkey\u001b[0m \u001b[0;32min\u001b[0m \u001b[0mmapping\u001b[0m \u001b[0;32mif\u001b[0m \u001b[0mkey\u001b[0m\u001b[0;34m(\u001b[0m\u001b[0;34m)\u001b[0m \u001b[0;32mis\u001b[0m \u001b[0;32mNone\u001b[0m\u001b[0;34m]\u001b[0m\u001b[0;34m\u001b[0m\u001b[0;34m\u001b[0m\u001b[0m\n\u001b[0m\u001b[1;32m    837\u001b[0m         \u001b[0;32mfor\u001b[0m \u001b[0mkey\u001b[0m \u001b[0;32min\u001b[0m \u001b[0mto_drop\u001b[0m\u001b[0;34m:\u001b[0m\u001b[0;34m\u001b[0m\u001b[0;34m\u001b[0m\u001b[0m\n\u001b[1;32m    838\u001b[0m             \u001b[0mval\u001b[0m \u001b[0;34m=\u001b[0m \u001b[0mmapping\u001b[0m\u001b[0;34m.\u001b[0m\u001b[0mpop\u001b[0m\u001b[0;34m(\u001b[0m\u001b[0mkey\u001b[0m\u001b[0;34m)\u001b[0m\u001b[0;34m\u001b[0m\u001b[0;34m\u001b[0m\u001b[0m\n",
            "\u001b[0;31mKeyboardInterrupt\u001b[0m: "
          ]
        },
        {
          "output_type": "stream",
          "name": "stdout",
          "text": [
            "Error in callback <function flush_figures at 0x7f21eb254200> (for post_execute):\n"
          ]
        },
        {
          "output_type": "error",
          "ename": "KeyboardInterrupt",
          "evalue": "ignored",
          "traceback": [
            "\u001b[0;31m---------------------------------------------------------------------------\u001b[0m",
            "\u001b[0;31mKeyboardInterrupt\u001b[0m                         Traceback (most recent call last)",
            "\u001b[0;32m/usr/local/lib/python3.7/dist-packages/ipykernel/pylab/backend_inline.py\u001b[0m in \u001b[0;36mflush_figures\u001b[0;34m()\u001b[0m\n\u001b[1;32m    119\u001b[0m         \u001b[0;31m# ignore the tracking, just draw and close all figures\u001b[0m\u001b[0;34m\u001b[0m\u001b[0;34m\u001b[0m\u001b[0;34m\u001b[0m\u001b[0m\n\u001b[1;32m    120\u001b[0m         \u001b[0;32mtry\u001b[0m\u001b[0;34m:\u001b[0m\u001b[0;34m\u001b[0m\u001b[0;34m\u001b[0m\u001b[0m\n\u001b[0;32m--> 121\u001b[0;31m             \u001b[0;32mreturn\u001b[0m \u001b[0mshow\u001b[0m\u001b[0;34m(\u001b[0m\u001b[0;32mTrue\u001b[0m\u001b[0;34m)\u001b[0m\u001b[0;34m\u001b[0m\u001b[0;34m\u001b[0m\u001b[0m\n\u001b[0m\u001b[1;32m    122\u001b[0m         \u001b[0;32mexcept\u001b[0m \u001b[0mException\u001b[0m \u001b[0;32mas\u001b[0m \u001b[0me\u001b[0m\u001b[0;34m:\u001b[0m\u001b[0;34m\u001b[0m\u001b[0;34m\u001b[0m\u001b[0m\n\u001b[1;32m    123\u001b[0m             \u001b[0;31m# safely show traceback if in IPython, else raise\u001b[0m\u001b[0;34m\u001b[0m\u001b[0;34m\u001b[0m\u001b[0;34m\u001b[0m\u001b[0m\n",
            "\u001b[0;32m/usr/local/lib/python3.7/dist-packages/ipykernel/pylab/backend_inline.py\u001b[0m in \u001b[0;36mshow\u001b[0;34m(close, block)\u001b[0m\n\u001b[1;32m     41\u001b[0m             display(\n\u001b[1;32m     42\u001b[0m                 \u001b[0mfigure_manager\u001b[0m\u001b[0;34m.\u001b[0m\u001b[0mcanvas\u001b[0m\u001b[0;34m.\u001b[0m\u001b[0mfigure\u001b[0m\u001b[0;34m,\u001b[0m\u001b[0;34m\u001b[0m\u001b[0;34m\u001b[0m\u001b[0m\n\u001b[0;32m---> 43\u001b[0;31m                 \u001b[0mmetadata\u001b[0m\u001b[0;34m=\u001b[0m\u001b[0m_fetch_figure_metadata\u001b[0m\u001b[0;34m(\u001b[0m\u001b[0mfigure_manager\u001b[0m\u001b[0;34m.\u001b[0m\u001b[0mcanvas\u001b[0m\u001b[0;34m.\u001b[0m\u001b[0mfigure\u001b[0m\u001b[0;34m)\u001b[0m\u001b[0;34m\u001b[0m\u001b[0;34m\u001b[0m\u001b[0m\n\u001b[0m\u001b[1;32m     44\u001b[0m             )\n\u001b[1;32m     45\u001b[0m     \u001b[0;32mfinally\u001b[0m\u001b[0;34m:\u001b[0m\u001b[0;34m\u001b[0m\u001b[0;34m\u001b[0m\u001b[0m\n",
            "\u001b[0;32m/usr/local/lib/python3.7/dist-packages/IPython/core/display.py\u001b[0m in \u001b[0;36mdisplay\u001b[0;34m(include, exclude, metadata, transient, display_id, *objs, **kwargs)\u001b[0m\n\u001b[1;32m    311\u001b[0m             \u001b[0mpublish_display_data\u001b[0m\u001b[0;34m(\u001b[0m\u001b[0mdata\u001b[0m\u001b[0;34m=\u001b[0m\u001b[0mobj\u001b[0m\u001b[0;34m,\u001b[0m \u001b[0mmetadata\u001b[0m\u001b[0;34m=\u001b[0m\u001b[0mmetadata\u001b[0m\u001b[0;34m,\u001b[0m \u001b[0;34m**\u001b[0m\u001b[0mkwargs\u001b[0m\u001b[0;34m)\u001b[0m\u001b[0;34m\u001b[0m\u001b[0;34m\u001b[0m\u001b[0m\n\u001b[1;32m    312\u001b[0m         \u001b[0;32melse\u001b[0m\u001b[0;34m:\u001b[0m\u001b[0;34m\u001b[0m\u001b[0;34m\u001b[0m\u001b[0m\n\u001b[0;32m--> 313\u001b[0;31m             \u001b[0mformat_dict\u001b[0m\u001b[0;34m,\u001b[0m \u001b[0mmd_dict\u001b[0m \u001b[0;34m=\u001b[0m \u001b[0mformat\u001b[0m\u001b[0;34m(\u001b[0m\u001b[0mobj\u001b[0m\u001b[0;34m,\u001b[0m \u001b[0minclude\u001b[0m\u001b[0;34m=\u001b[0m\u001b[0minclude\u001b[0m\u001b[0;34m,\u001b[0m \u001b[0mexclude\u001b[0m\u001b[0;34m=\u001b[0m\u001b[0mexclude\u001b[0m\u001b[0;34m)\u001b[0m\u001b[0;34m\u001b[0m\u001b[0;34m\u001b[0m\u001b[0m\n\u001b[0m\u001b[1;32m    314\u001b[0m             \u001b[0;32mif\u001b[0m \u001b[0;32mnot\u001b[0m \u001b[0mformat_dict\u001b[0m\u001b[0;34m:\u001b[0m\u001b[0;34m\u001b[0m\u001b[0;34m\u001b[0m\u001b[0m\n\u001b[1;32m    315\u001b[0m                 \u001b[0;31m# nothing to display (e.g. _ipython_display_ took over)\u001b[0m\u001b[0;34m\u001b[0m\u001b[0;34m\u001b[0m\u001b[0;34m\u001b[0m\u001b[0m\n",
            "\u001b[0;32m/usr/local/lib/python3.7/dist-packages/IPython/core/formatters.py\u001b[0m in \u001b[0;36mformat\u001b[0;34m(self, obj, include, exclude)\u001b[0m\n\u001b[1;32m    178\u001b[0m             \u001b[0mmd\u001b[0m \u001b[0;34m=\u001b[0m \u001b[0;32mNone\u001b[0m\u001b[0;34m\u001b[0m\u001b[0;34m\u001b[0m\u001b[0m\n\u001b[1;32m    179\u001b[0m             \u001b[0;32mtry\u001b[0m\u001b[0;34m:\u001b[0m\u001b[0;34m\u001b[0m\u001b[0;34m\u001b[0m\u001b[0m\n\u001b[0;32m--> 180\u001b[0;31m                 \u001b[0mdata\u001b[0m \u001b[0;34m=\u001b[0m \u001b[0mformatter\u001b[0m\u001b[0;34m(\u001b[0m\u001b[0mobj\u001b[0m\u001b[0;34m)\u001b[0m\u001b[0;34m\u001b[0m\u001b[0;34m\u001b[0m\u001b[0m\n\u001b[0m\u001b[1;32m    181\u001b[0m             \u001b[0;32mexcept\u001b[0m\u001b[0;34m:\u001b[0m\u001b[0;34m\u001b[0m\u001b[0;34m\u001b[0m\u001b[0m\n\u001b[1;32m    182\u001b[0m                 \u001b[0;31m# FIXME: log the exception\u001b[0m\u001b[0;34m\u001b[0m\u001b[0;34m\u001b[0m\u001b[0;34m\u001b[0m\u001b[0m\n",
            "\u001b[0;32m<decorator-gen-2>\u001b[0m in \u001b[0;36m__call__\u001b[0;34m(self, obj)\u001b[0m\n",
            "\u001b[0;32m/usr/local/lib/python3.7/dist-packages/IPython/core/formatters.py\u001b[0m in \u001b[0;36mcatch_format_error\u001b[0;34m(method, self, *args, **kwargs)\u001b[0m\n\u001b[1;32m    222\u001b[0m     \u001b[0;34m\"\"\"show traceback on failed format call\"\"\"\u001b[0m\u001b[0;34m\u001b[0m\u001b[0;34m\u001b[0m\u001b[0m\n\u001b[1;32m    223\u001b[0m     \u001b[0;32mtry\u001b[0m\u001b[0;34m:\u001b[0m\u001b[0;34m\u001b[0m\u001b[0;34m\u001b[0m\u001b[0m\n\u001b[0;32m--> 224\u001b[0;31m         \u001b[0mr\u001b[0m \u001b[0;34m=\u001b[0m \u001b[0mmethod\u001b[0m\u001b[0;34m(\u001b[0m\u001b[0mself\u001b[0m\u001b[0;34m,\u001b[0m \u001b[0;34m*\u001b[0m\u001b[0margs\u001b[0m\u001b[0;34m,\u001b[0m \u001b[0;34m**\u001b[0m\u001b[0mkwargs\u001b[0m\u001b[0;34m)\u001b[0m\u001b[0;34m\u001b[0m\u001b[0;34m\u001b[0m\u001b[0m\n\u001b[0m\u001b[1;32m    225\u001b[0m     \u001b[0;32mexcept\u001b[0m \u001b[0mNotImplementedError\u001b[0m\u001b[0;34m:\u001b[0m\u001b[0;34m\u001b[0m\u001b[0;34m\u001b[0m\u001b[0m\n\u001b[1;32m    226\u001b[0m         \u001b[0;31m# don't warn on NotImplementedErrors\u001b[0m\u001b[0;34m\u001b[0m\u001b[0;34m\u001b[0m\u001b[0;34m\u001b[0m\u001b[0m\n",
            "\u001b[0;32m/usr/local/lib/python3.7/dist-packages/IPython/core/formatters.py\u001b[0m in \u001b[0;36m__call__\u001b[0;34m(self, obj)\u001b[0m\n\u001b[1;32m    339\u001b[0m                 \u001b[0;32mpass\u001b[0m\u001b[0;34m\u001b[0m\u001b[0;34m\u001b[0m\u001b[0m\n\u001b[1;32m    340\u001b[0m             \u001b[0;32melse\u001b[0m\u001b[0;34m:\u001b[0m\u001b[0;34m\u001b[0m\u001b[0;34m\u001b[0m\u001b[0m\n\u001b[0;32m--> 341\u001b[0;31m                 \u001b[0;32mreturn\u001b[0m \u001b[0mprinter\u001b[0m\u001b[0;34m(\u001b[0m\u001b[0mobj\u001b[0m\u001b[0;34m)\u001b[0m\u001b[0;34m\u001b[0m\u001b[0;34m\u001b[0m\u001b[0m\n\u001b[0m\u001b[1;32m    342\u001b[0m             \u001b[0;31m# Finally look for special method names\u001b[0m\u001b[0;34m\u001b[0m\u001b[0;34m\u001b[0m\u001b[0;34m\u001b[0m\u001b[0m\n\u001b[1;32m    343\u001b[0m             \u001b[0mmethod\u001b[0m \u001b[0;34m=\u001b[0m \u001b[0mget_real_method\u001b[0m\u001b[0;34m(\u001b[0m\u001b[0mobj\u001b[0m\u001b[0;34m,\u001b[0m \u001b[0mself\u001b[0m\u001b[0;34m.\u001b[0m\u001b[0mprint_method\u001b[0m\u001b[0;34m)\u001b[0m\u001b[0;34m\u001b[0m\u001b[0;34m\u001b[0m\u001b[0m\n",
            "\u001b[0;32m/usr/local/lib/python3.7/dist-packages/IPython/core/pylabtools.py\u001b[0m in \u001b[0;36m<lambda>\u001b[0;34m(fig)\u001b[0m\n\u001b[1;32m    242\u001b[0m \u001b[0;34m\u001b[0m\u001b[0m\n\u001b[1;32m    243\u001b[0m     \u001b[0;32mif\u001b[0m \u001b[0;34m'png'\u001b[0m \u001b[0;32min\u001b[0m \u001b[0mformats\u001b[0m\u001b[0;34m:\u001b[0m\u001b[0;34m\u001b[0m\u001b[0;34m\u001b[0m\u001b[0m\n\u001b[0;32m--> 244\u001b[0;31m         \u001b[0mpng_formatter\u001b[0m\u001b[0;34m.\u001b[0m\u001b[0mfor_type\u001b[0m\u001b[0;34m(\u001b[0m\u001b[0mFigure\u001b[0m\u001b[0;34m,\u001b[0m \u001b[0;32mlambda\u001b[0m \u001b[0mfig\u001b[0m\u001b[0;34m:\u001b[0m \u001b[0mprint_figure\u001b[0m\u001b[0;34m(\u001b[0m\u001b[0mfig\u001b[0m\u001b[0;34m,\u001b[0m \u001b[0;34m'png'\u001b[0m\u001b[0;34m,\u001b[0m \u001b[0;34m**\u001b[0m\u001b[0mkwargs\u001b[0m\u001b[0;34m)\u001b[0m\u001b[0;34m)\u001b[0m\u001b[0;34m\u001b[0m\u001b[0;34m\u001b[0m\u001b[0m\n\u001b[0m\u001b[1;32m    245\u001b[0m     \u001b[0;32mif\u001b[0m \u001b[0;34m'retina'\u001b[0m \u001b[0;32min\u001b[0m \u001b[0mformats\u001b[0m \u001b[0;32mor\u001b[0m \u001b[0;34m'png2x'\u001b[0m \u001b[0;32min\u001b[0m \u001b[0mformats\u001b[0m\u001b[0;34m:\u001b[0m\u001b[0;34m\u001b[0m\u001b[0;34m\u001b[0m\u001b[0m\n\u001b[1;32m    246\u001b[0m         \u001b[0mpng_formatter\u001b[0m\u001b[0;34m.\u001b[0m\u001b[0mfor_type\u001b[0m\u001b[0;34m(\u001b[0m\u001b[0mFigure\u001b[0m\u001b[0;34m,\u001b[0m \u001b[0;32mlambda\u001b[0m \u001b[0mfig\u001b[0m\u001b[0;34m:\u001b[0m \u001b[0mretina_figure\u001b[0m\u001b[0;34m(\u001b[0m\u001b[0mfig\u001b[0m\u001b[0;34m,\u001b[0m \u001b[0;34m**\u001b[0m\u001b[0mkwargs\u001b[0m\u001b[0;34m)\u001b[0m\u001b[0;34m)\u001b[0m\u001b[0;34m\u001b[0m\u001b[0;34m\u001b[0m\u001b[0m\n",
            "\u001b[0;32m/usr/local/lib/python3.7/dist-packages/IPython/core/pylabtools.py\u001b[0m in \u001b[0;36mprint_figure\u001b[0;34m(fig, fmt, bbox_inches, **kwargs)\u001b[0m\n\u001b[1;32m    126\u001b[0m \u001b[0;34m\u001b[0m\u001b[0m\n\u001b[1;32m    127\u001b[0m     \u001b[0mbytes_io\u001b[0m \u001b[0;34m=\u001b[0m \u001b[0mBytesIO\u001b[0m\u001b[0;34m(\u001b[0m\u001b[0;34m)\u001b[0m\u001b[0;34m\u001b[0m\u001b[0;34m\u001b[0m\u001b[0m\n\u001b[0;32m--> 128\u001b[0;31m     \u001b[0mfig\u001b[0m\u001b[0;34m.\u001b[0m\u001b[0mcanvas\u001b[0m\u001b[0;34m.\u001b[0m\u001b[0mprint_figure\u001b[0m\u001b[0;34m(\u001b[0m\u001b[0mbytes_io\u001b[0m\u001b[0;34m,\u001b[0m \u001b[0;34m**\u001b[0m\u001b[0mkw\u001b[0m\u001b[0;34m)\u001b[0m\u001b[0;34m\u001b[0m\u001b[0;34m\u001b[0m\u001b[0m\n\u001b[0m\u001b[1;32m    129\u001b[0m     \u001b[0mdata\u001b[0m \u001b[0;34m=\u001b[0m \u001b[0mbytes_io\u001b[0m\u001b[0;34m.\u001b[0m\u001b[0mgetvalue\u001b[0m\u001b[0;34m(\u001b[0m\u001b[0;34m)\u001b[0m\u001b[0;34m\u001b[0m\u001b[0;34m\u001b[0m\u001b[0m\n\u001b[1;32m    130\u001b[0m     \u001b[0;32mif\u001b[0m \u001b[0mfmt\u001b[0m \u001b[0;34m==\u001b[0m \u001b[0;34m'svg'\u001b[0m\u001b[0;34m:\u001b[0m\u001b[0;34m\u001b[0m\u001b[0;34m\u001b[0m\u001b[0m\n",
            "\u001b[0;32m/usr/local/lib/python3.7/dist-packages/matplotlib/backend_bases.py\u001b[0m in \u001b[0;36mprint_figure\u001b[0;34m(self, filename, dpi, facecolor, edgecolor, orientation, format, bbox_inches, **kwargs)\u001b[0m\n\u001b[1;32m   2098\u001b[0m                            else suppress())\n\u001b[1;32m   2099\u001b[0m                     \u001b[0;32mwith\u001b[0m \u001b[0mctx\u001b[0m\u001b[0;34m:\u001b[0m\u001b[0;34m\u001b[0m\u001b[0;34m\u001b[0m\u001b[0m\n\u001b[0;32m-> 2100\u001b[0;31m                         \u001b[0mself\u001b[0m\u001b[0;34m.\u001b[0m\u001b[0mfigure\u001b[0m\u001b[0;34m.\u001b[0m\u001b[0mdraw\u001b[0m\u001b[0;34m(\u001b[0m\u001b[0mrenderer\u001b[0m\u001b[0;34m)\u001b[0m\u001b[0;34m\u001b[0m\u001b[0;34m\u001b[0m\u001b[0m\n\u001b[0m\u001b[1;32m   2101\u001b[0m                     \u001b[0mbbox_artists\u001b[0m \u001b[0;34m=\u001b[0m \u001b[0mkwargs\u001b[0m\u001b[0;34m.\u001b[0m\u001b[0mpop\u001b[0m\u001b[0;34m(\u001b[0m\u001b[0;34m\"bbox_extra_artists\"\u001b[0m\u001b[0;34m,\u001b[0m \u001b[0;32mNone\u001b[0m\u001b[0;34m)\u001b[0m\u001b[0;34m\u001b[0m\u001b[0;34m\u001b[0m\u001b[0m\n\u001b[1;32m   2102\u001b[0m                     bbox_inches = self.figure.get_tightbbox(renderer,\n",
            "\u001b[0;32m/usr/local/lib/python3.7/dist-packages/matplotlib/artist.py\u001b[0m in \u001b[0;36mdraw_wrapper\u001b[0;34m(artist, renderer, *args, **kwargs)\u001b[0m\n\u001b[1;32m     36\u001b[0m                 \u001b[0mrenderer\u001b[0m\u001b[0;34m.\u001b[0m\u001b[0mstart_filter\u001b[0m\u001b[0;34m(\u001b[0m\u001b[0;34m)\u001b[0m\u001b[0;34m\u001b[0m\u001b[0;34m\u001b[0m\u001b[0m\n\u001b[1;32m     37\u001b[0m \u001b[0;34m\u001b[0m\u001b[0m\n\u001b[0;32m---> 38\u001b[0;31m             \u001b[0;32mreturn\u001b[0m \u001b[0mdraw\u001b[0m\u001b[0;34m(\u001b[0m\u001b[0martist\u001b[0m\u001b[0;34m,\u001b[0m \u001b[0mrenderer\u001b[0m\u001b[0;34m,\u001b[0m \u001b[0;34m*\u001b[0m\u001b[0margs\u001b[0m\u001b[0;34m,\u001b[0m \u001b[0;34m**\u001b[0m\u001b[0mkwargs\u001b[0m\u001b[0;34m)\u001b[0m\u001b[0;34m\u001b[0m\u001b[0;34m\u001b[0m\u001b[0m\n\u001b[0m\u001b[1;32m     39\u001b[0m         \u001b[0;32mfinally\u001b[0m\u001b[0;34m:\u001b[0m\u001b[0;34m\u001b[0m\u001b[0;34m\u001b[0m\u001b[0m\n\u001b[1;32m     40\u001b[0m             \u001b[0;32mif\u001b[0m \u001b[0martist\u001b[0m\u001b[0;34m.\u001b[0m\u001b[0mget_agg_filter\u001b[0m\u001b[0;34m(\u001b[0m\u001b[0;34m)\u001b[0m \u001b[0;32mis\u001b[0m \u001b[0;32mnot\u001b[0m \u001b[0;32mNone\u001b[0m\u001b[0;34m:\u001b[0m\u001b[0;34m\u001b[0m\u001b[0;34m\u001b[0m\u001b[0m\n",
            "\u001b[0;32m/usr/local/lib/python3.7/dist-packages/matplotlib/figure.py\u001b[0m in \u001b[0;36mdraw\u001b[0;34m(self, renderer)\u001b[0m\n\u001b[1;32m   1734\u001b[0m             \u001b[0mself\u001b[0m\u001b[0;34m.\u001b[0m\u001b[0mpatch\u001b[0m\u001b[0;34m.\u001b[0m\u001b[0mdraw\u001b[0m\u001b[0;34m(\u001b[0m\u001b[0mrenderer\u001b[0m\u001b[0;34m)\u001b[0m\u001b[0;34m\u001b[0m\u001b[0;34m\u001b[0m\u001b[0m\n\u001b[1;32m   1735\u001b[0m             mimage._draw_list_compositing_images(\n\u001b[0;32m-> 1736\u001b[0;31m                 renderer, self, artists, self.suppressComposite)\n\u001b[0m\u001b[1;32m   1737\u001b[0m \u001b[0;34m\u001b[0m\u001b[0m\n\u001b[1;32m   1738\u001b[0m             \u001b[0mrenderer\u001b[0m\u001b[0;34m.\u001b[0m\u001b[0mclose_group\u001b[0m\u001b[0;34m(\u001b[0m\u001b[0;34m'figure'\u001b[0m\u001b[0;34m)\u001b[0m\u001b[0;34m\u001b[0m\u001b[0;34m\u001b[0m\u001b[0m\n",
            "\u001b[0;32m/usr/local/lib/python3.7/dist-packages/matplotlib/image.py\u001b[0m in \u001b[0;36m_draw_list_compositing_images\u001b[0;34m(renderer, parent, artists, suppress_composite)\u001b[0m\n\u001b[1;32m    135\u001b[0m     \u001b[0;32mif\u001b[0m \u001b[0mnot_composite\u001b[0m \u001b[0;32mor\u001b[0m \u001b[0;32mnot\u001b[0m \u001b[0mhas_images\u001b[0m\u001b[0;34m:\u001b[0m\u001b[0;34m\u001b[0m\u001b[0;34m\u001b[0m\u001b[0m\n\u001b[1;32m    136\u001b[0m         \u001b[0;32mfor\u001b[0m \u001b[0ma\u001b[0m \u001b[0;32min\u001b[0m \u001b[0martists\u001b[0m\u001b[0;34m:\u001b[0m\u001b[0;34m\u001b[0m\u001b[0;34m\u001b[0m\u001b[0m\n\u001b[0;32m--> 137\u001b[0;31m             \u001b[0ma\u001b[0m\u001b[0;34m.\u001b[0m\u001b[0mdraw\u001b[0m\u001b[0;34m(\u001b[0m\u001b[0mrenderer\u001b[0m\u001b[0;34m)\u001b[0m\u001b[0;34m\u001b[0m\u001b[0;34m\u001b[0m\u001b[0m\n\u001b[0m\u001b[1;32m    138\u001b[0m     \u001b[0;32melse\u001b[0m\u001b[0;34m:\u001b[0m\u001b[0;34m\u001b[0m\u001b[0;34m\u001b[0m\u001b[0m\n\u001b[1;32m    139\u001b[0m         \u001b[0;31m# Composite any adjacent images together\u001b[0m\u001b[0;34m\u001b[0m\u001b[0;34m\u001b[0m\u001b[0;34m\u001b[0m\u001b[0m\n",
            "\u001b[0;32m/usr/local/lib/python3.7/dist-packages/matplotlib/artist.py\u001b[0m in \u001b[0;36mdraw_wrapper\u001b[0;34m(artist, renderer, *args, **kwargs)\u001b[0m\n\u001b[1;32m     36\u001b[0m                 \u001b[0mrenderer\u001b[0m\u001b[0;34m.\u001b[0m\u001b[0mstart_filter\u001b[0m\u001b[0;34m(\u001b[0m\u001b[0;34m)\u001b[0m\u001b[0;34m\u001b[0m\u001b[0;34m\u001b[0m\u001b[0m\n\u001b[1;32m     37\u001b[0m \u001b[0;34m\u001b[0m\u001b[0m\n\u001b[0;32m---> 38\u001b[0;31m             \u001b[0;32mreturn\u001b[0m \u001b[0mdraw\u001b[0m\u001b[0;34m(\u001b[0m\u001b[0martist\u001b[0m\u001b[0;34m,\u001b[0m \u001b[0mrenderer\u001b[0m\u001b[0;34m,\u001b[0m \u001b[0;34m*\u001b[0m\u001b[0margs\u001b[0m\u001b[0;34m,\u001b[0m \u001b[0;34m**\u001b[0m\u001b[0mkwargs\u001b[0m\u001b[0;34m)\u001b[0m\u001b[0;34m\u001b[0m\u001b[0;34m\u001b[0m\u001b[0m\n\u001b[0m\u001b[1;32m     39\u001b[0m         \u001b[0;32mfinally\u001b[0m\u001b[0;34m:\u001b[0m\u001b[0;34m\u001b[0m\u001b[0;34m\u001b[0m\u001b[0m\n\u001b[1;32m     40\u001b[0m             \u001b[0;32mif\u001b[0m \u001b[0martist\u001b[0m\u001b[0;34m.\u001b[0m\u001b[0mget_agg_filter\u001b[0m\u001b[0;34m(\u001b[0m\u001b[0;34m)\u001b[0m \u001b[0;32mis\u001b[0m \u001b[0;32mnot\u001b[0m \u001b[0;32mNone\u001b[0m\u001b[0;34m:\u001b[0m\u001b[0;34m\u001b[0m\u001b[0;34m\u001b[0m\u001b[0m\n",
            "\u001b[0;32m/usr/local/lib/python3.7/dist-packages/matplotlib/axes/_base.py\u001b[0m in \u001b[0;36mdraw\u001b[0;34m(self, renderer, inframe)\u001b[0m\n\u001b[1;32m   2628\u001b[0m             \u001b[0mrenderer\u001b[0m\u001b[0;34m.\u001b[0m\u001b[0mstop_rasterizing\u001b[0m\u001b[0;34m(\u001b[0m\u001b[0;34m)\u001b[0m\u001b[0;34m\u001b[0m\u001b[0;34m\u001b[0m\u001b[0m\n\u001b[1;32m   2629\u001b[0m \u001b[0;34m\u001b[0m\u001b[0m\n\u001b[0;32m-> 2630\u001b[0;31m         \u001b[0mmimage\u001b[0m\u001b[0;34m.\u001b[0m\u001b[0m_draw_list_compositing_images\u001b[0m\u001b[0;34m(\u001b[0m\u001b[0mrenderer\u001b[0m\u001b[0;34m,\u001b[0m \u001b[0mself\u001b[0m\u001b[0;34m,\u001b[0m \u001b[0martists\u001b[0m\u001b[0;34m)\u001b[0m\u001b[0;34m\u001b[0m\u001b[0;34m\u001b[0m\u001b[0m\n\u001b[0m\u001b[1;32m   2631\u001b[0m \u001b[0;34m\u001b[0m\u001b[0m\n\u001b[1;32m   2632\u001b[0m         \u001b[0mrenderer\u001b[0m\u001b[0;34m.\u001b[0m\u001b[0mclose_group\u001b[0m\u001b[0;34m(\u001b[0m\u001b[0;34m'axes'\u001b[0m\u001b[0;34m)\u001b[0m\u001b[0;34m\u001b[0m\u001b[0;34m\u001b[0m\u001b[0m\n",
            "\u001b[0;32m/usr/local/lib/python3.7/dist-packages/matplotlib/image.py\u001b[0m in \u001b[0;36m_draw_list_compositing_images\u001b[0;34m(renderer, parent, artists, suppress_composite)\u001b[0m\n\u001b[1;32m    135\u001b[0m     \u001b[0;32mif\u001b[0m \u001b[0mnot_composite\u001b[0m \u001b[0;32mor\u001b[0m \u001b[0;32mnot\u001b[0m \u001b[0mhas_images\u001b[0m\u001b[0;34m:\u001b[0m\u001b[0;34m\u001b[0m\u001b[0;34m\u001b[0m\u001b[0m\n\u001b[1;32m    136\u001b[0m         \u001b[0;32mfor\u001b[0m \u001b[0ma\u001b[0m \u001b[0;32min\u001b[0m \u001b[0martists\u001b[0m\u001b[0;34m:\u001b[0m\u001b[0;34m\u001b[0m\u001b[0;34m\u001b[0m\u001b[0m\n\u001b[0;32m--> 137\u001b[0;31m             \u001b[0ma\u001b[0m\u001b[0;34m.\u001b[0m\u001b[0mdraw\u001b[0m\u001b[0;34m(\u001b[0m\u001b[0mrenderer\u001b[0m\u001b[0;34m)\u001b[0m\u001b[0;34m\u001b[0m\u001b[0;34m\u001b[0m\u001b[0m\n\u001b[0m\u001b[1;32m    138\u001b[0m     \u001b[0;32melse\u001b[0m\u001b[0;34m:\u001b[0m\u001b[0;34m\u001b[0m\u001b[0;34m\u001b[0m\u001b[0m\n\u001b[1;32m    139\u001b[0m         \u001b[0;31m# Composite any adjacent images together\u001b[0m\u001b[0;34m\u001b[0m\u001b[0;34m\u001b[0m\u001b[0;34m\u001b[0m\u001b[0m\n",
            "\u001b[0;32m/usr/local/lib/python3.7/dist-packages/matplotlib/artist.py\u001b[0m in \u001b[0;36mdraw_wrapper\u001b[0;34m(artist, renderer, *args, **kwargs)\u001b[0m\n\u001b[1;32m     36\u001b[0m                 \u001b[0mrenderer\u001b[0m\u001b[0;34m.\u001b[0m\u001b[0mstart_filter\u001b[0m\u001b[0;34m(\u001b[0m\u001b[0;34m)\u001b[0m\u001b[0;34m\u001b[0m\u001b[0;34m\u001b[0m\u001b[0m\n\u001b[1;32m     37\u001b[0m \u001b[0;34m\u001b[0m\u001b[0m\n\u001b[0;32m---> 38\u001b[0;31m             \u001b[0;32mreturn\u001b[0m \u001b[0mdraw\u001b[0m\u001b[0;34m(\u001b[0m\u001b[0martist\u001b[0m\u001b[0;34m,\u001b[0m \u001b[0mrenderer\u001b[0m\u001b[0;34m,\u001b[0m \u001b[0;34m*\u001b[0m\u001b[0margs\u001b[0m\u001b[0;34m,\u001b[0m \u001b[0;34m**\u001b[0m\u001b[0mkwargs\u001b[0m\u001b[0;34m)\u001b[0m\u001b[0;34m\u001b[0m\u001b[0;34m\u001b[0m\u001b[0m\n\u001b[0m\u001b[1;32m     39\u001b[0m         \u001b[0;32mfinally\u001b[0m\u001b[0;34m:\u001b[0m\u001b[0;34m\u001b[0m\u001b[0;34m\u001b[0m\u001b[0m\n\u001b[1;32m     40\u001b[0m             \u001b[0;32mif\u001b[0m \u001b[0martist\u001b[0m\u001b[0;34m.\u001b[0m\u001b[0mget_agg_filter\u001b[0m\u001b[0;34m(\u001b[0m\u001b[0;34m)\u001b[0m \u001b[0;32mis\u001b[0m \u001b[0;32mnot\u001b[0m \u001b[0;32mNone\u001b[0m\u001b[0;34m:\u001b[0m\u001b[0;34m\u001b[0m\u001b[0;34m\u001b[0m\u001b[0m\n",
            "\u001b[0;32m/usr/local/lib/python3.7/dist-packages/matplotlib/axis.py\u001b[0m in \u001b[0;36mdraw\u001b[0;34m(self, renderer, *args, **kwargs)\u001b[0m\n\u001b[1;32m   1225\u001b[0m         \u001b[0mrenderer\u001b[0m\u001b[0;34m.\u001b[0m\u001b[0mopen_group\u001b[0m\u001b[0;34m(\u001b[0m\u001b[0m__name__\u001b[0m\u001b[0;34m,\u001b[0m \u001b[0mgid\u001b[0m\u001b[0;34m=\u001b[0m\u001b[0mself\u001b[0m\u001b[0;34m.\u001b[0m\u001b[0mget_gid\u001b[0m\u001b[0;34m(\u001b[0m\u001b[0;34m)\u001b[0m\u001b[0;34m)\u001b[0m\u001b[0;34m\u001b[0m\u001b[0;34m\u001b[0m\u001b[0m\n\u001b[1;32m   1226\u001b[0m \u001b[0;34m\u001b[0m\u001b[0m\n\u001b[0;32m-> 1227\u001b[0;31m         \u001b[0mticks_to_draw\u001b[0m \u001b[0;34m=\u001b[0m \u001b[0mself\u001b[0m\u001b[0;34m.\u001b[0m\u001b[0m_update_ticks\u001b[0m\u001b[0;34m(\u001b[0m\u001b[0;34m)\u001b[0m\u001b[0;34m\u001b[0m\u001b[0;34m\u001b[0m\u001b[0m\n\u001b[0m\u001b[1;32m   1228\u001b[0m         ticklabelBoxes, ticklabelBoxes2 = self._get_tick_bboxes(ticks_to_draw,\n\u001b[1;32m   1229\u001b[0m                                                                 renderer)\n",
            "\u001b[0;32m/usr/local/lib/python3.7/dist-packages/matplotlib/axis.py\u001b[0m in \u001b[0;36m_update_ticks\u001b[0;34m(self)\u001b[0m\n\u001b[1;32m   1104\u001b[0m         \u001b[0mmajor_labels\u001b[0m \u001b[0;34m=\u001b[0m \u001b[0mself\u001b[0m\u001b[0;34m.\u001b[0m\u001b[0mmajor\u001b[0m\u001b[0;34m.\u001b[0m\u001b[0mformatter\u001b[0m\u001b[0;34m.\u001b[0m\u001b[0mformat_ticks\u001b[0m\u001b[0;34m(\u001b[0m\u001b[0mmajor_locs\u001b[0m\u001b[0;34m)\u001b[0m\u001b[0;34m\u001b[0m\u001b[0;34m\u001b[0m\u001b[0m\n\u001b[1;32m   1105\u001b[0m         \u001b[0mmajor_ticks\u001b[0m \u001b[0;34m=\u001b[0m \u001b[0mself\u001b[0m\u001b[0;34m.\u001b[0m\u001b[0mget_major_ticks\u001b[0m\u001b[0;34m(\u001b[0m\u001b[0mlen\u001b[0m\u001b[0;34m(\u001b[0m\u001b[0mmajor_locs\u001b[0m\u001b[0;34m)\u001b[0m\u001b[0;34m)\u001b[0m\u001b[0;34m\u001b[0m\u001b[0;34m\u001b[0m\u001b[0m\n\u001b[0;32m-> 1106\u001b[0;31m         \u001b[0mself\u001b[0m\u001b[0;34m.\u001b[0m\u001b[0mmajor\u001b[0m\u001b[0;34m.\u001b[0m\u001b[0mformatter\u001b[0m\u001b[0;34m.\u001b[0m\u001b[0mset_locs\u001b[0m\u001b[0;34m(\u001b[0m\u001b[0mmajor_locs\u001b[0m\u001b[0;34m)\u001b[0m\u001b[0;34m\u001b[0m\u001b[0;34m\u001b[0m\u001b[0m\n\u001b[0m\u001b[1;32m   1107\u001b[0m         \u001b[0;32mfor\u001b[0m \u001b[0mtick\u001b[0m\u001b[0;34m,\u001b[0m \u001b[0mloc\u001b[0m\u001b[0;34m,\u001b[0m \u001b[0mlabel\u001b[0m \u001b[0;32min\u001b[0m \u001b[0mzip\u001b[0m\u001b[0;34m(\u001b[0m\u001b[0mmajor_ticks\u001b[0m\u001b[0;34m,\u001b[0m \u001b[0mmajor_locs\u001b[0m\u001b[0;34m,\u001b[0m \u001b[0mmajor_labels\u001b[0m\u001b[0;34m)\u001b[0m\u001b[0;34m:\u001b[0m\u001b[0;34m\u001b[0m\u001b[0;34m\u001b[0m\u001b[0m\n\u001b[1;32m   1108\u001b[0m             \u001b[0mtick\u001b[0m\u001b[0;34m.\u001b[0m\u001b[0mupdate_position\u001b[0m\u001b[0;34m(\u001b[0m\u001b[0mloc\u001b[0m\u001b[0;34m)\u001b[0m\u001b[0;34m\u001b[0m\u001b[0;34m\u001b[0m\u001b[0m\n",
            "\u001b[0;32m/usr/local/lib/python3.7/dist-packages/matplotlib/ticker.py\u001b[0m in \u001b[0;36mset_locs\u001b[0;34m(self, locs)\u001b[0m\n\u001b[1;32m    677\u001b[0m         \u001b[0;32mif\u001b[0m \u001b[0mlen\u001b[0m\u001b[0;34m(\u001b[0m\u001b[0mself\u001b[0m\u001b[0;34m.\u001b[0m\u001b[0mlocs\u001b[0m\u001b[0;34m)\u001b[0m \u001b[0;34m>\u001b[0m \u001b[0;36m0\u001b[0m\u001b[0;34m:\u001b[0m\u001b[0;34m\u001b[0m\u001b[0;34m\u001b[0m\u001b[0m\n\u001b[1;32m    678\u001b[0m             \u001b[0;32mif\u001b[0m \u001b[0mself\u001b[0m\u001b[0;34m.\u001b[0m\u001b[0m_useOffset\u001b[0m\u001b[0;34m:\u001b[0m\u001b[0;34m\u001b[0m\u001b[0;34m\u001b[0m\u001b[0m\n\u001b[0;32m--> 679\u001b[0;31m                 \u001b[0mself\u001b[0m\u001b[0;34m.\u001b[0m\u001b[0m_compute_offset\u001b[0m\u001b[0;34m(\u001b[0m\u001b[0;34m)\u001b[0m\u001b[0;34m\u001b[0m\u001b[0;34m\u001b[0m\u001b[0m\n\u001b[0m\u001b[1;32m    680\u001b[0m             \u001b[0mself\u001b[0m\u001b[0;34m.\u001b[0m\u001b[0m_set_order_of_magnitude\u001b[0m\u001b[0;34m(\u001b[0m\u001b[0;34m)\u001b[0m\u001b[0;34m\u001b[0m\u001b[0;34m\u001b[0m\u001b[0m\n\u001b[1;32m    681\u001b[0m             \u001b[0mself\u001b[0m\u001b[0;34m.\u001b[0m\u001b[0m_set_format\u001b[0m\u001b[0;34m(\u001b[0m\u001b[0;34m)\u001b[0m\u001b[0;34m\u001b[0m\u001b[0;34m\u001b[0m\u001b[0m\n",
            "\u001b[0;32m/usr/local/lib/python3.7/dist-packages/matplotlib/ticker.py\u001b[0m in \u001b[0;36m_compute_offset\u001b[0;34m(self)\u001b[0m\n\u001b[1;32m    684\u001b[0m         \u001b[0mlocs\u001b[0m \u001b[0;34m=\u001b[0m \u001b[0mself\u001b[0m\u001b[0;34m.\u001b[0m\u001b[0mlocs\u001b[0m\u001b[0;34m\u001b[0m\u001b[0;34m\u001b[0m\u001b[0m\n\u001b[1;32m    685\u001b[0m         \u001b[0;31m# Restrict to visible ticks.\u001b[0m\u001b[0;34m\u001b[0m\u001b[0;34m\u001b[0m\u001b[0;34m\u001b[0m\u001b[0m\n\u001b[0;32m--> 686\u001b[0;31m         \u001b[0mvmin\u001b[0m\u001b[0;34m,\u001b[0m \u001b[0mvmax\u001b[0m \u001b[0;34m=\u001b[0m \u001b[0msorted\u001b[0m\u001b[0;34m(\u001b[0m\u001b[0mself\u001b[0m\u001b[0;34m.\u001b[0m\u001b[0maxis\u001b[0m\u001b[0;34m.\u001b[0m\u001b[0mget_view_interval\u001b[0m\u001b[0;34m(\u001b[0m\u001b[0;34m)\u001b[0m\u001b[0;34m)\u001b[0m\u001b[0;34m\u001b[0m\u001b[0;34m\u001b[0m\u001b[0m\n\u001b[0m\u001b[1;32m    687\u001b[0m         \u001b[0mlocs\u001b[0m \u001b[0;34m=\u001b[0m \u001b[0mnp\u001b[0m\u001b[0;34m.\u001b[0m\u001b[0masarray\u001b[0m\u001b[0;34m(\u001b[0m\u001b[0mlocs\u001b[0m\u001b[0;34m)\u001b[0m\u001b[0;34m\u001b[0m\u001b[0;34m\u001b[0m\u001b[0m\n\u001b[1;32m    688\u001b[0m         \u001b[0mlocs\u001b[0m \u001b[0;34m=\u001b[0m \u001b[0mlocs\u001b[0m\u001b[0;34m[\u001b[0m\u001b[0;34m(\u001b[0m\u001b[0mvmin\u001b[0m \u001b[0;34m<=\u001b[0m \u001b[0mlocs\u001b[0m\u001b[0;34m)\u001b[0m \u001b[0;34m&\u001b[0m \u001b[0;34m(\u001b[0m\u001b[0mlocs\u001b[0m \u001b[0;34m<=\u001b[0m \u001b[0mvmax\u001b[0m\u001b[0;34m)\u001b[0m\u001b[0;34m]\u001b[0m\u001b[0;34m\u001b[0m\u001b[0;34m\u001b[0m\u001b[0m\n",
            "\u001b[0;31mKeyboardInterrupt\u001b[0m: "
          ]
        }
      ]
    },
    {
      "cell_type": "code",
      "source": [
        "categoricas=['SEX','EDUCATION','MARRIAGE','PAYSTAT_1','PAYSTAT_2','PAYSTAT_3','PAYSTAT_4','PAYSTAT_5','PAYSTAT_6']\n",
        "categoricas"
      ],
      "metadata": {
        "id": "Zq9M11F-2siZ"
      },
      "execution_count": null,
      "outputs": []
    },
    {
      "cell_type": "code",
      "source": [
        "\n",
        "df3=np.log(df2[['BILL_1','BILL_2']])"
      ],
      "metadata": {
        "id": "JWSj-T7DV0T7"
      },
      "execution_count": null,
      "outputs": []
    },
    {
      "cell_type": "code",
      "source": [
        "plt.figure(figsize=(8,6))\n",
        "sns.displot(x='BILL_1',data=x_pca,palette='BuPu',height=10, aspect=4)\n",
        "plt.title(\"Distribucion de Datos originales Variable AMT\")"
      ],
      "metadata": {
        "id": "m0dvoETwPB4F"
      },
      "execution_count": null,
      "outputs": []
    }
  ]
}