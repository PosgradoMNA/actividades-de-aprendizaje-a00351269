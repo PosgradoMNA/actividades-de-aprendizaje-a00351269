{
  "metadata": {
    "kernelspec": {
      "name": "python",
      "display_name": "Pyolite",
      "language": "python"
    },
    "language_info": {
      "codemirror_mode": {
        "name": "python",
        "version": 3
      },
      "file_extension": ".py",
      "mimetype": "text/x-python",
      "name": "python",
      "nbconvert_exporter": "python",
      "pygments_lexer": "ipython3",
      "version": "3.8"
    }
  },
  "nbformat_minor": 4,
  "nbformat": 4,
  "cells": [
    {
      "cell_type": "markdown",
      "source": "<h3>LOS QUIZZES Y EJERCICIOS LOS HICE EN LAB DEL CURSO IBM</h3>\n\n<h3>Comparison Operations</h3> \n",
      "metadata": {}
    },
    {
      "cell_type": "markdown",
      "source": "Find the value of <code>i</code> that produces a <code>True</code>:\n",
      "metadata": {}
    },
    {
      "cell_type": "code",
      "source": "i=\ni!=0",
      "metadata": {
        "trusted": true
      },
      "execution_count": null,
      "outputs": []
    },
    {
      "cell_type": "markdown",
      "source": "<h3>Branching </h3> \n",
      "metadata": {}
    },
    {
      "cell_type": "markdown",
      "source": "Find the value of <code>x</code> that prints the statement <code>\"this is a\"</code>:\n",
      "metadata": {}
    },
    {
      "cell_type": "code",
      "source": "x = \nif(x=='a'):\n    print(\"this is a\")\nelse:\n    print(\"this is  not a\")",
      "metadata": {
        "trusted": true
      },
      "execution_count": null,
      "outputs": []
    },
    {
      "cell_type": "markdown",
      "source": "<h3>Logic Operators</h3> \n",
      "metadata": {}
    },
    {
      "cell_type": "markdown",
      "source": "Find the value of <code>y</code> that produces a <code>True</code> statement:\n",
      "metadata": {}
    },
    {
      "cell_type": "code",
      "source": "y=\nx=1\nx>0 and y<10",
      "metadata": {
        "trusted": true
      },
      "execution_count": null,
      "outputs": []
    }
  ]
}